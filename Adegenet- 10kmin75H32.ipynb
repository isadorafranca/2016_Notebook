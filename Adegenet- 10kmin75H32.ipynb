{
 "cells": [
  {
   "cell_type": "markdown",
   "metadata": {},
   "source": [
    "## Adegenet"
   ]
  },
  {
   "cell_type": "code",
   "execution_count": 127,
   "metadata": {
    "collapsed": false,
    "scrolled": true
   },
   "outputs": [],
   "source": [
    "library(adegenet)\n",
    "library(pegas)\n",
    "library(hierfstat)\n",
    "library(ggplot2)\n",
    "library(dplyr)\n",
    "library(reshape2)\n",
    "setwd(\"/home/ksil91/Projects/Ostrea/over10k-min75H32/\")"
   ]
  },
  {
   "cell_type": "code",
   "execution_count": 128,
   "metadata": {
    "collapsed": false
   },
   "outputs": [],
   "source": [
    "inputfile = \"o10k-min75H32-exRepu.str\"\n",
    "Sys.setenv(IN=\"o10k-min75H32-exRepu.str\")"
   ]
  },
  {
   "cell_type": "code",
   "execution_count": 129,
   "metadata": {
    "collapsed": false
   },
   "outputs": [
    {
     "data": {
      "text/html": [
       "1791"
      ],
      "text/latex": [
       "1791"
      ],
      "text/markdown": [
       "1791"
      ],
      "text/plain": [
       "[1] 1791"
      ]
     },
     "metadata": {},
     "output_type": "display_data"
    }
   ],
   "source": [
    "nloci = -2+as.numeric(system(\"awk '{print NF}' ${IN} | sort -nu | tail -n 1\", intern=TRUE))\n",
    "nloci"
   ]
  },
  {
   "cell_type": "code",
   "execution_count": 130,
   "metadata": {
    "collapsed": false
   },
   "outputs": [
    {
     "data": {
      "text/html": [
       "'425 o10k-min75H32-exRepu.str'"
      ],
      "text/latex": [
       "'425 o10k-min75H32-exRepu.str'"
      ],
      "text/markdown": [
       "'425 o10k-min75H32-exRepu.str'"
      ],
      "text/plain": [
       "[1] \"425 o10k-min75H32-exRepu.str\""
      ]
     },
     "metadata": {},
     "output_type": "display_data"
    }
   ],
   "source": [
    "system(\"wc -l ${IN}\", intern=TRUE)"
   ]
  },
  {
   "cell_type": "code",
   "execution_count": 131,
   "metadata": {
    "collapsed": false
   },
   "outputs": [
    {
     "data": {
      "text/html": [
       "212"
      ],
      "text/latex": [
       "212"
      ],
      "text/markdown": [
       "212"
      ],
      "text/plain": [
       "[1] 212"
      ]
     },
     "metadata": {},
     "output_type": "display_data"
    }
   ],
   "source": [
    "nind = 424/2\n",
    "nind"
   ]
  },
  {
   "cell_type": "code",
   "execution_count": 132,
   "metadata": {
    "collapsed": false
   },
   "outputs": [
    {
     "name": "stdout",
     "output_type": "stream",
     "text": [
      "\n",
      " Converting data from a STRUCTURE .stru file to a genind object... \n",
      "\n"
     ]
    },
    {
     "data": {
      "text/plain": [
       "/// GENIND OBJECT /////////\n",
       "\n",
       " // 212 individuals; 1,791 loci; 3,601 alleles; size: 3.8 Mb\n",
       "\n",
       " // Basic content\n",
       "   @tab:  212 x 3601 matrix of allele counts\n",
       "   @loc.n.all: number of alleles per locus (range: 1-3)\n",
       "   @loc.fac: locus factor for the 3601 columns of @tab\n",
       "   @all.names: list of allele names for each locus\n",
       "   @ploidy: ploidy of each individual  (range: 2-2)\n",
       "   @type:  codom\n",
       "   @call: read.structure(file = inputfile, n.ind = nind, n.loc = nloci, \n",
       "    onerowperind = FALSE, col.lab = 1, col.pop = 2, row.marknames = 1, \n",
       "    ask = FALSE)\n",
       "\n",
       " // Optional content\n",
       "   @pop: population of each individual (group size range: 9-16)"
      ]
     },
     "metadata": {},
     "output_type": "display_data"
    }
   ],
   "source": [
    "ind_data <- read.structure(inputfile, n.ind=nind,n.loc=nloci,onerowperind=FALSE,\n",
    "                           col.lab=1,col.pop=2,row.marknames=1, ask=FALSE)\n",
    "ind_data"
   ]
  },
  {
   "cell_type": "code",
   "execution_count": 138,
   "metadata": {
    "collapsed": false
   },
   "outputs": [
    {
     "data": {
      "text/html": [
       "<ol class=list-inline>\n",
       "\t<li>'n'</li>\n",
       "\t<li>'n.by.pop'</li>\n",
       "\t<li>'loc.n.all'</li>\n",
       "\t<li>'pop.n.all'</li>\n",
       "\t<li>'NA.perc'</li>\n",
       "\t<li>'Hobs'</li>\n",
       "\t<li>'Hexp'</li>\n",
       "</ol>\n"
      ],
      "text/latex": [
       "\\begin{enumerate*}\n",
       "\\item 'n'\n",
       "\\item 'n.by.pop'\n",
       "\\item 'loc.n.all'\n",
       "\\item 'pop.n.all'\n",
       "\\item 'NA.perc'\n",
       "\\item 'Hobs'\n",
       "\\item 'Hexp'\n",
       "\\end{enumerate*}\n"
      ],
      "text/markdown": [
       "1. 'n'\n",
       "2. 'n.by.pop'\n",
       "3. 'loc.n.all'\n",
       "4. 'pop.n.all'\n",
       "5. 'NA.perc'\n",
       "6. 'Hobs'\n",
       "7. 'Hexp'\n",
       "\n",
       "\n"
      ],
      "text/plain": [
       "[1] \"n\"         \"n.by.pop\"  \"loc.n.all\" \"pop.n.all\" \"NA.perc\"   \"Hobs\"     \n",
       "[7] \"Hexp\"     "
      ]
     },
     "metadata": {},
     "output_type": "display_data"
    }
   ],
   "source": [
    "poptable = read.table(\"structure_outputs/o10kexRepu_19pop.distruct\",header=FALSE)\n",
    "old_pops <- ind_data@pop\n",
    "new_pops = {}\n",
    "for (i in 1:length(old_pops)){\n",
    "    new_pops[i] = as.character(poptable$V2[match(old_pops[i],poptable$V1)])\n",
    "}\n",
    "pop(ind_data) <- new_pops\n",
    "sum_ind <- summary(ind_data)\n",
    "names(sum_ind)"
   ]
  },
  {
   "cell_type": "code",
   "execution_count": 140,
   "metadata": {
    "collapsed": false
   },
   "outputs": [
    {
     "data": {
      "image/png": "[encoded data removed]",
      "text/plain": [
       "Plot with title “Heterozygosity: expected-observed”"
      ]
     },
     "metadata": {},
     "output_type": "display_data"
    }
   ],
   "source": [
    "barplot(sum_ind$Hexp-sum_ind$Hobs, main = \"Heterozygosity: expected-observed\", ylab=\"Hexp-Hobs\")"
   ]
  },
  {
   "cell_type": "code",
   "execution_count": 141,
   "metadata": {
    "collapsed": false
   },
   "outputs": [
    {
     "data": {
      "text/plain": [
       "\n",
       "\tBartlett test of homogeneity of variances\n",
       "\n",
       "data:  list(sum_ind$Hexp, sum_ind$Hobs)\n",
       "Bartlett's K-squared = 54.553, df = 1, p-value = 1.513e-13\n"
      ]
     },
     "metadata": {},
     "output_type": "display_data"
    },
    {
     "data": {
      "text/plain": [
       "\n",
       "\tPaired t-test\n",
       "\n",
       "data:  sum_ind$Hexp and sum_ind$Hobs\n",
       "t = 12.816, df = 1790, p-value < 2.2e-16\n",
       "alternative hypothesis: true difference in means is greater than 0\n",
       "95 percent confidence interval:\n",
       " 0.01046427        Inf\n",
       "sample estimates:\n",
       "mean of the differences \n",
       "             0.01200597 \n"
      ]
     },
     "metadata": {},
     "output_type": "display_data"
    }
   ],
   "source": [
    "bartlett.test(list(sum_ind$Hexp,sum_ind$Hobs))\n",
    "t.test(sum_ind$Hexp,sum_ind$Hobs,pair=T,var.equal=TRUE,alter=\"greater\")"
   ]
  },
  {
   "cell_type": "markdown",
   "metadata": {},
   "source": [
    "Observed H is significantly lower than mean expected H."
   ]
  },
  {
   "cell_type": "code",
   "execution_count": 142,
   "metadata": {
    "collapsed": false
   },
   "outputs": [
    {
     "data": {
      "image/png": "[encoded data removed]",
      "text/plain": [
       "Plot with title “Sample sizes per population”"
      ]
     },
     "metadata": {},
     "output_type": "display_data"
    }
   ],
   "source": [
    "options(repr.plot.width=5,repr.plot.height=4)\n",
    "barplot(sum_ind$n.by.pop, main=\"Sample sizes per population\", ylab=\"Number of genotypes\",las=3)"
   ]
  },
  {
   "cell_type": "code",
   "execution_count": 143,
   "metadata": {
    "collapsed": false
   },
   "outputs": [
    {
     "data": {
      "text/html": [
       "24.1843388852017"
      ],
      "text/latex": [
       "24.1843388852017"
      ],
      "text/markdown": [
       "24.1843388852017"
      ],
      "text/plain": [
       "[1] 24.18434"
      ]
     },
     "metadata": {},
     "output_type": "display_data"
    }
   ],
   "source": [
    "sum_ind$NA.perc"
   ]
  },
  {
   "cell_type": "code",
   "execution_count": 144,
   "metadata": {
    "collapsed": false
   },
   "outputs": [
    {
     "name": "stdout",
     "output_type": "stream",
     "text": [
      "\n",
      " Converting data from a genind to a genpop object... \n",
      "\n",
      "...done.\n",
      "\n"
     ]
    },
    {
     "data": {
      "text/plain": [
       "/// GENPOP OBJECT /////////\n",
       "\n",
       " // 19 populations; 1,791 loci; 3,601 alleles; size: 1.1 Mb\n",
       "\n",
       " // Basic content\n",
       "   @tab:  19 x 3601 matrix of allele counts\n",
       "   @loc.n.all: number of alleles per locus (range: 1-3)\n",
       "   @loc.fac: locus factor for the 3601 columns of @tab\n",
       "   @all.names: list of allele names for each locus\n",
       "   @ploidy: ploidy of each individual  (range: 2-2)\n",
       "   @type:  codom\n",
       "   @call: genind2genpop(x = ind_data)\n",
       "\n",
       " // Optional content\n",
       "   - empty -"
      ]
     },
     "metadata": {},
     "output_type": "display_data"
    }
   ],
   "source": [
    "pop_data <- genind2genpop(ind_data)\n",
    "pop_data"
   ]
  },
  {
   "cell_type": "code",
   "execution_count": 145,
   "metadata": {
    "collapsed": false,
    "scrolled": true
   },
   "outputs": [
    {
     "data": {
      "text/html": [
       "<ol class=list-inline>\n",
       "\t<li>'n.pop'</li>\n",
       "\t<li>'loc.n.all'</li>\n",
       "\t<li>'pop.n.all'</li>\n",
       "\t<li>'NA.perc'</li>\n",
       "</ol>\n"
      ],
      "text/latex": [
       "\\begin{enumerate*}\n",
       "\\item 'n.pop'\n",
       "\\item 'loc.n.all'\n",
       "\\item 'pop.n.all'\n",
       "\\item 'NA.perc'\n",
       "\\end{enumerate*}\n"
      ],
      "text/markdown": [
       "1. 'n.pop'\n",
       "2. 'loc.n.all'\n",
       "3. 'pop.n.all'\n",
       "4. 'NA.perc'\n",
       "\n",
       "\n"
      ],
      "text/plain": [
       "[1] \"n.pop\"     \"loc.n.all\" \"pop.n.all\" \"NA.perc\"  "
      ]
     },
     "metadata": {},
     "output_type": "display_data"
    }
   ],
   "source": [
    "sum_pop <- summary(pop_data)\n",
    "names(sum_pop)"
   ]
  },
  {
   "cell_type": "code",
   "execution_count": 155,
   "metadata": {
    "collapsed": false
   },
   "outputs": [
    {
     "data": {
      "text/html": [
       "<ol class=list-inline>\n",
       "\t<li>'Victoria'</li>\n",
       "\t<li>'Klaskino'</li>\n",
       "\t<li>'Barkeley_Sound'</li>\n",
       "\t<li>'Ladysmith'</li>\n",
       "\t<li>'San_Diego'</li>\n",
       "\t<li>'SF'</li>\n",
       "\t<li>'Tomales'</li>\n",
       "\t<li>'Elkhorn_SLough'</li>\n",
       "\t<li>'Humboldt'</li>\n",
       "\t<li>'Mugu_Lagoon'</li>\n",
       "\t<li>'Conchaphila'</li>\n",
       "\t<li>'Coos'</li>\n",
       "\t<li>'Yaquina'</li>\n",
       "\t<li>'Netarts'</li>\n",
       "\t<li>'Triton_Cove'</li>\n",
       "\t<li>'Liberty_Bay'</li>\n",
       "\t<li>'Discovery_Bay'</li>\n",
       "\t<li>'North_Bay'</li>\n",
       "\t<li>'Willapa'</li>\n",
       "</ol>\n"
      ],
      "text/latex": [
       "\\begin{enumerate*}\n",
       "\\item 'Victoria'\n",
       "\\item 'Klaskino'\n",
       "\\item 'Barkeley\\_Sound'\n",
       "\\item 'Ladysmith'\n",
       "\\item 'San\\_Diego'\n",
       "\\item 'SF'\n",
       "\\item 'Tomales'\n",
       "\\item 'Elkhorn\\_SLough'\n",
       "\\item 'Humboldt'\n",
       "\\item 'Mugu\\_Lagoon'\n",
       "\\item 'Conchaphila'\n",
       "\\item 'Coos'\n",
       "\\item 'Yaquina'\n",
       "\\item 'Netarts'\n",
       "\\item 'Triton\\_Cove'\n",
       "\\item 'Liberty\\_Bay'\n",
       "\\item 'Discovery\\_Bay'\n",
       "\\item 'North\\_Bay'\n",
       "\\item 'Willapa'\n",
       "\\end{enumerate*}\n"
      ],
      "text/markdown": [
       "1. 'Victoria'\n",
       "2. 'Klaskino'\n",
       "3. 'Barkeley_Sound'\n",
       "4. 'Ladysmith'\n",
       "5. 'San_Diego'\n",
       "6. 'SF'\n",
       "7. 'Tomales'\n",
       "8. 'Elkhorn_SLough'\n",
       "9. 'Humboldt'\n",
       "10. 'Mugu_Lagoon'\n",
       "11. 'Conchaphila'\n",
       "12. 'Coos'\n",
       "13. 'Yaquina'\n",
       "14. 'Netarts'\n",
       "15. 'Triton_Cove'\n",
       "16. 'Liberty_Bay'\n",
       "17. 'Discovery_Bay'\n",
       "18. 'North_Bay'\n",
       "19. 'Willapa'\n",
       "\n",
       "\n"
      ],
      "text/plain": [
       " [1] \"Victoria\"       \"Klaskino\"       \"Barkeley_Sound\" \"Ladysmith\"     \n",
       " [5] \"San_Diego\"      \"SF\"             \"Tomales\"        \"Elkhorn_SLough\"\n",
       " [9] \"Humboldt\"       \"Mugu_Lagoon\"    \"Conchaphila\"    \"Coos\"          \n",
       "[13] \"Yaquina\"        \"Netarts\"        \"Triton_Cove\"    \"Liberty_Bay\"   \n",
       "[17] \"Discovery_Bay\"  \"North_Bay\"      \"Willapa\"       "
      ]
     },
     "metadata": {},
     "output_type": "display_data"
    },
    {
     "data": {
      "text/html": [
       "<ol class=list-inline>\n",
       "\t<li>Victoria</li>\n",
       "\t<li>Victoria</li>\n",
       "\t<li>Victoria</li>\n",
       "\t<li>Victoria</li>\n",
       "\t<li>Victoria</li>\n",
       "\t<li>Victoria</li>\n",
       "\t<li>Victoria</li>\n",
       "\t<li>Victoria</li>\n",
       "\t<li>Victoria</li>\n",
       "\t<li>Victoria</li>\n",
       "\t<li>Victoria</li>\n",
       "\t<li>Victoria</li>\n",
       "\t<li>Klaskino</li>\n",
       "\t<li>Klaskino</li>\n",
       "\t<li>Klaskino</li>\n",
       "\t<li>Klaskino</li>\n",
       "\t<li>Klaskino</li>\n",
       "\t<li>Klaskino</li>\n",
       "\t<li>Klaskino</li>\n",
       "\t<li>Klaskino</li>\n",
       "\t<li>Klaskino</li>\n",
       "\t<li>Klaskino</li>\n",
       "\t<li>Klaskino</li>\n",
       "\t<li>Klaskino</li>\n",
       "\t<li>Klaskino</li>\n",
       "\t<li>Klaskino</li>\n",
       "\t<li>Barkeley_Sound</li>\n",
       "\t<li>Barkeley_Sound</li>\n",
       "\t<li>Barkeley_Sound</li>\n",
       "\t<li>Barkeley_Sound</li>\n",
       "\t<li>Barkeley_Sound</li>\n",
       "\t<li>Barkeley_Sound</li>\n",
       "\t<li>Barkeley_Sound</li>\n",
       "\t<li>Barkeley_Sound</li>\n",
       "\t<li>Barkeley_Sound</li>\n",
       "\t<li>Barkeley_Sound</li>\n",
       "\t<li>Ladysmith</li>\n",
       "\t<li>Ladysmith</li>\n",
       "\t<li>Ladysmith</li>\n",
       "\t<li>Ladysmith</li>\n",
       "\t<li>Ladysmith</li>\n",
       "\t<li>Ladysmith</li>\n",
       "\t<li>Ladysmith</li>\n",
       "\t<li>Ladysmith</li>\n",
       "\t<li>Ladysmith</li>\n",
       "\t<li>Ladysmith</li>\n",
       "\t<li>Ladysmith</li>\n",
       "\t<li>Ladysmith</li>\n",
       "\t<li>San_Diego</li>\n",
       "\t<li>San_Diego</li>\n",
       "\t<li>San_Diego</li>\n",
       "\t<li>San_Diego</li>\n",
       "\t<li>San_Diego</li>\n",
       "\t<li>San_Diego</li>\n",
       "\t<li>San_Diego</li>\n",
       "\t<li>San_Diego</li>\n",
       "\t<li>San_Diego</li>\n",
       "\t<li>San_Diego</li>\n",
       "\t<li>San_Diego</li>\n",
       "\t<li>San_Diego</li>\n",
       "\t<li>San_Diego</li>\n",
       "\t<li>SF</li>\n",
       "\t<li>SF</li>\n",
       "\t<li>SF</li>\n",
       "\t<li>SF</li>\n",
       "\t<li>SF</li>\n",
       "\t<li>SF</li>\n",
       "\t<li>SF</li>\n",
       "\t<li>SF</li>\n",
       "\t<li>SF</li>\n",
       "\t<li>SF</li>\n",
       "\t<li>SF</li>\n",
       "\t<li>Tomales</li>\n",
       "\t<li>Tomales</li>\n",
       "\t<li>Tomales</li>\n",
       "\t<li>Tomales</li>\n",
       "\t<li>Tomales</li>\n",
       "\t<li>Tomales</li>\n",
       "\t<li>Tomales</li>\n",
       "\t<li>Tomales</li>\n",
       "\t<li>Tomales</li>\n",
       "\t<li>Tomales</li>\n",
       "\t<li>Tomales</li>\n",
       "\t<li>Elkhorn_SLough</li>\n",
       "\t<li>Elkhorn_SLough</li>\n",
       "\t<li>Elkhorn_SLough</li>\n",
       "\t<li>Elkhorn_SLough</li>\n",
       "\t<li>Elkhorn_SLough</li>\n",
       "\t<li>Elkhorn_SLough</li>\n",
       "\t<li>Elkhorn_SLough</li>\n",
       "\t<li>Elkhorn_SLough</li>\n",
       "\t<li>Elkhorn_SLough</li>\n",
       "\t<li>Elkhorn_SLough</li>\n",
       "\t<li>Elkhorn_SLough</li>\n",
       "\t<li>Humboldt</li>\n",
       "\t<li>Humboldt</li>\n",
       "\t<li>Humboldt</li>\n",
       "\t<li>Humboldt</li>\n",
       "\t<li>Humboldt</li>\n",
       "\t<li>Humboldt</li>\n",
       "\t<li>Humboldt</li>\n",
       "\t<li>Humboldt</li>\n",
       "\t<li>Humboldt</li>\n",
       "\t<li>Humboldt</li>\n",
       "\t<li>Humboldt</li>\n",
       "\t<li>Mugu_Lagoon</li>\n",
       "\t<li>Mugu_Lagoon</li>\n",
       "\t<li>Mugu_Lagoon</li>\n",
       "\t<li>Mugu_Lagoon</li>\n",
       "\t<li>Mugu_Lagoon</li>\n",
       "\t<li>Mugu_Lagoon</li>\n",
       "\t<li>Mugu_Lagoon</li>\n",
       "\t<li>Mugu_Lagoon</li>\n",
       "\t<li>Mugu_Lagoon</li>\n",
       "\t<li>Mugu_Lagoon</li>\n",
       "\t<li>Conchaphila</li>\n",
       "\t<li>Conchaphila</li>\n",
       "\t<li>Conchaphila</li>\n",
       "\t<li>Conchaphila</li>\n",
       "\t<li>Conchaphila</li>\n",
       "\t<li>Conchaphila</li>\n",
       "\t<li>Conchaphila</li>\n",
       "\t<li>Conchaphila</li>\n",
       "\t<li>Conchaphila</li>\n",
       "\t<li>Coos</li>\n",
       "\t<li>Coos</li>\n",
       "\t<li>Coos</li>\n",
       "\t<li>Coos</li>\n",
       "\t<li>Coos</li>\n",
       "\t<li>Coos</li>\n",
       "\t<li>Coos</li>\n",
       "\t<li>Coos</li>\n",
       "\t<li>Coos</li>\n",
       "\t<li>Coos</li>\n",
       "\t<li>Coos</li>\n",
       "\t<li>Yaquina</li>\n",
       "\t<li>Yaquina</li>\n",
       "\t<li>Yaquina</li>\n",
       "\t<li>Yaquina</li>\n",
       "\t<li>Yaquina</li>\n",
       "\t<li>Yaquina</li>\n",
       "\t<li>Yaquina</li>\n",
       "\t<li>Yaquina</li>\n",
       "\t<li>Yaquina</li>\n",
       "\t<li>Yaquina</li>\n",
       "\t<li>Yaquina</li>\n",
       "\t<li>Netarts</li>\n",
       "\t<li>Netarts</li>\n",
       "\t<li>Netarts</li>\n",
       "\t<li>Netarts</li>\n",
       "\t<li>Netarts</li>\n",
       "\t<li>Netarts</li>\n",
       "\t<li>Netarts</li>\n",
       "\t<li>Netarts</li>\n",
       "\t<li>Netarts</li>\n",
       "\t<li>Netarts</li>\n",
       "\t<li>Netarts</li>\n",
       "\t<li>Triton_Cove</li>\n",
       "\t<li>Triton_Cove</li>\n",
       "\t<li>Triton_Cove</li>\n",
       "\t<li>Triton_Cove</li>\n",
       "\t<li>Triton_Cove</li>\n",
       "\t<li>Triton_Cove</li>\n",
       "\t<li>Triton_Cove</li>\n",
       "\t<li>Triton_Cove</li>\n",
       "\t<li>Triton_Cove</li>\n",
       "\t<li>Triton_Cove</li>\n",
       "\t<li>Triton_Cove</li>\n",
       "\t<li>Liberty_Bay</li>\n",
       "\t<li>Liberty_Bay</li>\n",
       "\t<li>Liberty_Bay</li>\n",
       "\t<li>Liberty_Bay</li>\n",
       "\t<li>Liberty_Bay</li>\n",
       "\t<li>Liberty_Bay</li>\n",
       "\t<li>Liberty_Bay</li>\n",
       "\t<li>Liberty_Bay</li>\n",
       "\t<li>Liberty_Bay</li>\n",
       "\t<li>Discovery_Bay</li>\n",
       "\t<li>Discovery_Bay</li>\n",
       "\t<li>Discovery_Bay</li>\n",
       "\t<li>Discovery_Bay</li>\n",
       "\t<li>Discovery_Bay</li>\n",
       "\t<li>Discovery_Bay</li>\n",
       "\t<li>Discovery_Bay</li>\n",
       "\t<li>Discovery_Bay</li>\n",
       "\t<li>Discovery_Bay</li>\n",
       "\t<li>North_Bay</li>\n",
       "\t<li>North_Bay</li>\n",
       "\t<li>North_Bay</li>\n",
       "\t<li>North_Bay</li>\n",
       "\t<li>North_Bay</li>\n",
       "\t<li>North_Bay</li>\n",
       "\t<li>North_Bay</li>\n",
       "\t<li>North_Bay</li>\n",
       "\t<li>North_Bay</li>\n",
       "\t<li>North_Bay</li>\n",
       "\t<li>Willapa</li>\n",
       "\t<li>Willapa</li>\n",
       "\t<li>Willapa</li>\n",
       "\t<li>Willapa</li>\n",
       "\t<li>Willapa</li>\n",
       "\t<li>Willapa</li>\n",
       "\t<li>Willapa</li>\n",
       "\t<li>Willapa</li>\n",
       "\t<li>Willapa</li>\n",
       "\t<li>Willapa</li>\n",
       "\t<li>Willapa</li>\n",
       "\t<li>Willapa</li>\n",
       "\t<li>Willapa</li>\n",
       "\t<li>Willapa</li>\n",
       "\t<li>Willapa</li>\n",
       "\t<li>Willapa</li>\n",
       "</ol>\n"
      ],
      "text/latex": [
       "\\begin{enumerate*}\n",
       "\\item Victoria\n",
       "\\item Victoria\n",
       "\\item Victoria\n",
       "\\item Victoria\n",
       "\\item Victoria\n",
       "\\item Victoria\n",
       "\\item Victoria\n",
       "\\item Victoria\n",
       "\\item Victoria\n",
       "\\item Victoria\n",
       "\\item Victoria\n",
       "\\item Victoria\n",
       "\\item Klaskino\n",
       "\\item Klaskino\n",
       "\\item Klaskino\n",
       "\\item Klaskino\n",
       "\\item Klaskino\n",
       "\\item Klaskino\n",
       "\\item Klaskino\n",
       "\\item Klaskino\n",
       "\\item Klaskino\n",
       "\\item Klaskino\n",
       "\\item Klaskino\n",
       "\\item Klaskino\n",
       "\\item Klaskino\n",
       "\\item Klaskino\n",
       "\\item Barkeley\\_Sound\n",
       "\\item Barkeley\\_Sound\n",
       "\\item Barkeley\\_Sound\n",
       "\\item Barkeley\\_Sound\n",
       "\\item Barkeley\\_Sound\n",
       "\\item Barkeley\\_Sound\n",
       "\\item Barkeley\\_Sound\n",
       "\\item Barkeley\\_Sound\n",
       "\\item Barkeley\\_Sound\n",
       "\\item Barkeley\\_Sound\n",
       "\\item Ladysmith\n",
       "\\item Ladysmith\n",
       "\\item Ladysmith\n",
       "\\item Ladysmith\n",
       "\\item Ladysmith\n",
       "\\item Ladysmith\n",
       "\\item Ladysmith\n",
       "\\item Ladysmith\n",
       "\\item Ladysmith\n",
       "\\item Ladysmith\n",
       "\\item Ladysmith\n",
       "\\item Ladysmith\n",
       "\\item San\\_Diego\n",
       "\\item San\\_Diego\n",
       "\\item San\\_Diego\n",
       "\\item San\\_Diego\n",
       "\\item San\\_Diego\n",
       "\\item San\\_Diego\n",
       "\\item San\\_Diego\n",
       "\\item San\\_Diego\n",
       "\\item San\\_Diego\n",
       "\\item San\\_Diego\n",
       "\\item San\\_Diego\n",
       "\\item San\\_Diego\n",
       "\\item San\\_Diego\n",
       "\\item SF\n",
       "\\item SF\n",
       "\\item SF\n",
       "\\item SF\n",
       "\\item SF\n",
       "\\item SF\n",
       "\\item SF\n",
       "\\item SF\n",
       "\\item SF\n",
       "\\item SF\n",
       "\\item SF\n",
       "\\item Tomales\n",
       "\\item Tomales\n",
       "\\item Tomales\n",
       "\\item Tomales\n",
       "\\item Tomales\n",
       "\\item Tomales\n",
       "\\item Tomales\n",
       "\\item Tomales\n",
       "\\item Tomales\n",
       "\\item Tomales\n",
       "\\item Tomales\n",
       "\\item Elkhorn\\_SLough\n",
       "\\item Elkhorn\\_SLough\n",
       "\\item Elkhorn\\_SLough\n",
       "\\item Elkhorn\\_SLough\n",
       "\\item Elkhorn\\_SLough\n",
       "\\item Elkhorn\\_SLough\n",
       "\\item Elkhorn\\_SLough\n",
       "\\item Elkhorn\\_SLough\n",
       "\\item Elkhorn\\_SLough\n",
       "\\item Elkhorn\\_SLough\n",
       "\\item Elkhorn\\_SLough\n",
       "\\item Humboldt\n",
       "\\item Humboldt\n",
       "\\item Humboldt\n",
       "\\item Humboldt\n",
       "\\item Humboldt\n",
       "\\item Humboldt\n",
       "\\item Humboldt\n",
       "\\item Humboldt\n",
       "\\item Humboldt\n",
       "\\item Humboldt\n",
       "\\item Humboldt\n",
       "\\item Mugu\\_Lagoon\n",
       "\\item Mugu\\_Lagoon\n",
       "\\item Mugu\\_Lagoon\n",
       "\\item Mugu\\_Lagoon\n",
       "\\item Mugu\\_Lagoon\n",
       "\\item Mugu\\_Lagoon\n",
       "\\item Mugu\\_Lagoon\n",
       "\\item Mugu\\_Lagoon\n",
       "\\item Mugu\\_Lagoon\n",
       "\\item Mugu\\_Lagoon\n",
       "\\item Conchaphila\n",
       "\\item Conchaphila\n",
       "\\item Conchaphila\n",
       "\\item Conchaphila\n",
       "\\item Conchaphila\n",
       "\\item Conchaphila\n",
       "\\item Conchaphila\n",
       "\\item Conchaphila\n",
       "\\item Conchaphila\n",
       "\\item Coos\n",
       "\\item Coos\n",
       "\\item Coos\n",
       "\\item Coos\n",
       "\\item Coos\n",
       "\\item Coos\n",
       "\\item Coos\n",
       "\\item Coos\n",
       "\\item Coos\n",
       "\\item Coos\n",
       "\\item Coos\n",
       "\\item Yaquina\n",
       "\\item Yaquina\n",
       "\\item Yaquina\n",
       "\\item Yaquina\n",
       "\\item Yaquina\n",
       "\\item Yaquina\n",
       "\\item Yaquina\n",
       "\\item Yaquina\n",
       "\\item Yaquina\n",
       "\\item Yaquina\n",
       "\\item Yaquina\n",
       "\\item Netarts\n",
       "\\item Netarts\n",
       "\\item Netarts\n",
       "\\item Netarts\n",
       "\\item Netarts\n",
       "\\item Netarts\n",
       "\\item Netarts\n",
       "\\item Netarts\n",
       "\\item Netarts\n",
       "\\item Netarts\n",
       "\\item Netarts\n",
       "\\item Triton\\_Cove\n",
       "\\item Triton\\_Cove\n",
       "\\item Triton\\_Cove\n",
       "\\item Triton\\_Cove\n",
       "\\item Triton\\_Cove\n",
       "\\item Triton\\_Cove\n",
       "\\item Triton\\_Cove\n",
       "\\item Triton\\_Cove\n",
       "\\item Triton\\_Cove\n",
       "\\item Triton\\_Cove\n",
       "\\item Triton\\_Cove\n",
       "\\item Liberty\\_Bay\n",
       "\\item Liberty\\_Bay\n",
       "\\item Liberty\\_Bay\n",
       "\\item Liberty\\_Bay\n",
       "\\item Liberty\\_Bay\n",
       "\\item Liberty\\_Bay\n",
       "\\item Liberty\\_Bay\n",
       "\\item Liberty\\_Bay\n",
       "\\item Liberty\\_Bay\n",
       "\\item Discovery\\_Bay\n",
       "\\item Discovery\\_Bay\n",
       "\\item Discovery\\_Bay\n",
       "\\item Discovery\\_Bay\n",
       "\\item Discovery\\_Bay\n",
       "\\item Discovery\\_Bay\n",
       "\\item Discovery\\_Bay\n",
       "\\item Discovery\\_Bay\n",
       "\\item Discovery\\_Bay\n",
       "\\item North\\_Bay\n",
       "\\item North\\_Bay\n",
       "\\item North\\_Bay\n",
       "\\item North\\_Bay\n",
       "\\item North\\_Bay\n",
       "\\item North\\_Bay\n",
       "\\item North\\_Bay\n",
       "\\item North\\_Bay\n",
       "\\item North\\_Bay\n",
       "\\item North\\_Bay\n",
       "\\item Willapa\n",
       "\\item Willapa\n",
       "\\item Willapa\n",
       "\\item Willapa\n",
       "\\item Willapa\n",
       "\\item Willapa\n",
       "\\item Willapa\n",
       "\\item Willapa\n",
       "\\item Willapa\n",
       "\\item Willapa\n",
       "\\item Willapa\n",
       "\\item Willapa\n",
       "\\item Willapa\n",
       "\\item Willapa\n",
       "\\item Willapa\n",
       "\\item Willapa\n",
       "\\end{enumerate*}\n"
      ],
      "text/markdown": [
       "1. Victoria\n",
       "2. Victoria\n",
       "3. Victoria\n",
       "4. Victoria\n",
       "5. Victoria\n",
       "6. Victoria\n",
       "7. Victoria\n",
       "8. Victoria\n",
       "9. Victoria\n",
       "10. Victoria\n",
       "11. Victoria\n",
       "12. Victoria\n",
       "13. Klaskino\n",
       "14. Klaskino\n",
       "15. Klaskino\n",
       "16. Klaskino\n",
       "17. Klaskino\n",
       "18. Klaskino\n",
       "19. Klaskino\n",
       "20. Klaskino\n",
       "21. Klaskino\n",
       "22. Klaskino\n",
       "23. Klaskino\n",
       "24. Klaskino\n",
       "25. Klaskino\n",
       "26. Klaskino\n",
       "27. Barkeley_Sound\n",
       "28. Barkeley_Sound\n",
       "29. Barkeley_Sound\n",
       "30. Barkeley_Sound\n",
       "31. Barkeley_Sound\n",
       "32. Barkeley_Sound\n",
       "33. Barkeley_Sound\n",
       "34. Barkeley_Sound\n",
       "35. Barkeley_Sound\n",
       "36. Barkeley_Sound\n",
       "37. Ladysmith\n",
       "38. Ladysmith\n",
       "39. Ladysmith\n",
       "40. Ladysmith\n",
       "41. Ladysmith\n",
       "42. Ladysmith\n",
       "43. Ladysmith\n",
       "44. Ladysmith\n",
       "45. Ladysmith\n",
       "46. Ladysmith\n",
       "47. Ladysmith\n",
       "48. Ladysmith\n",
       "49. San_Diego\n",
       "50. San_Diego\n",
       "51. San_Diego\n",
       "52. San_Diego\n",
       "53. San_Diego\n",
       "54. San_Diego\n",
       "55. San_Diego\n",
       "56. San_Diego\n",
       "57. San_Diego\n",
       "58. San_Diego\n",
       "59. San_Diego\n",
       "60. San_Diego\n",
       "61. San_Diego\n",
       "62. SF\n",
       "63. SF\n",
       "64. SF\n",
       "65. SF\n",
       "66. SF\n",
       "67. SF\n",
       "68. SF\n",
       "69. SF\n",
       "70. SF\n",
       "71. SF\n",
       "72. SF\n",
       "73. Tomales\n",
       "74. Tomales\n",
       "75. Tomales\n",
       "76. Tomales\n",
       "77. Tomales\n",
       "78. Tomales\n",
       "79. Tomales\n",
       "80. Tomales\n",
       "81. Tomales\n",
       "82. Tomales\n",
       "83. Tomales\n",
       "84. Elkhorn_SLough\n",
       "85. Elkhorn_SLough\n",
       "86. Elkhorn_SLough\n",
       "87. Elkhorn_SLough\n",
       "88. Elkhorn_SLough\n",
       "89. Elkhorn_SLough\n",
       "90. Elkhorn_SLough\n",
       "91. Elkhorn_SLough\n",
       "92. Elkhorn_SLough\n",
       "93. Elkhorn_SLough\n",
       "94. Elkhorn_SLough\n",
       "95. Humboldt\n",
       "96. Humboldt\n",
       "97. Humboldt\n",
       "98. Humboldt\n",
       "99. Humboldt\n",
       "100. Humboldt\n",
       "101. Humboldt\n",
       "102. Humboldt\n",
       "103. Humboldt\n",
       "104. Humboldt\n",
       "105. Humboldt\n",
       "106. Mugu_Lagoon\n",
       "107. Mugu_Lagoon\n",
       "108. Mugu_Lagoon\n",
       "109. Mugu_Lagoon\n",
       "110. Mugu_Lagoon\n",
       "111. Mugu_Lagoon\n",
       "112. Mugu_Lagoon\n",
       "113. Mugu_Lagoon\n",
       "114. Mugu_Lagoon\n",
       "115. Mugu_Lagoon\n",
       "116. Conchaphila\n",
       "117. Conchaphila\n",
       "118. Conchaphila\n",
       "119. Conchaphila\n",
       "120. Conchaphila\n",
       "121. Conchaphila\n",
       "122. Conchaphila\n",
       "123. Conchaphila\n",
       "124. Conchaphila\n",
       "125. Coos\n",
       "126. Coos\n",
       "127. Coos\n",
       "128. Coos\n",
       "129. Coos\n",
       "130. Coos\n",
       "131. Coos\n",
       "132. Coos\n",
       "133. Coos\n",
       "134. Coos\n",
       "135. Coos\n",
       "136. Yaquina\n",
       "137. Yaquina\n",
       "138. Yaquina\n",
       "139. Yaquina\n",
       "140. Yaquina\n",
       "141. Yaquina\n",
       "142. Yaquina\n",
       "143. Yaquina\n",
       "144. Yaquina\n",
       "145. Yaquina\n",
       "146. Yaquina\n",
       "147. Netarts\n",
       "148. Netarts\n",
       "149. Netarts\n",
       "150. Netarts\n",
       "151. Netarts\n",
       "152. Netarts\n",
       "153. Netarts\n",
       "154. Netarts\n",
       "155. Netarts\n",
       "156. Netarts\n",
       "157. Netarts\n",
       "158. Triton_Cove\n",
       "159. Triton_Cove\n",
       "160. Triton_Cove\n",
       "161. Triton_Cove\n",
       "162. Triton_Cove\n",
       "163. Triton_Cove\n",
       "164. Triton_Cove\n",
       "165. Triton_Cove\n",
       "166. Triton_Cove\n",
       "167. Triton_Cove\n",
       "168. Triton_Cove\n",
       "169. Liberty_Bay\n",
       "170. Liberty_Bay\n",
       "171. Liberty_Bay\n",
       "172. Liberty_Bay\n",
       "173. Liberty_Bay\n",
       "174. Liberty_Bay\n",
       "175. Liberty_Bay\n",
       "176. Liberty_Bay\n",
       "177. Liberty_Bay\n",
       "178. Discovery_Bay\n",
       "179. Discovery_Bay\n",
       "180. Discovery_Bay\n",
       "181. Discovery_Bay\n",
       "182. Discovery_Bay\n",
       "183. Discovery_Bay\n",
       "184. Discovery_Bay\n",
       "185. Discovery_Bay\n",
       "186. Discovery_Bay\n",
       "187. North_Bay\n",
       "188. North_Bay\n",
       "189. North_Bay\n",
       "190. North_Bay\n",
       "191. North_Bay\n",
       "192. North_Bay\n",
       "193. North_Bay\n",
       "194. North_Bay\n",
       "195. North_Bay\n",
       "196. North_Bay\n",
       "197. Willapa\n",
       "198. Willapa\n",
       "199. Willapa\n",
       "200. Willapa\n",
       "201. Willapa\n",
       "202. Willapa\n",
       "203. Willapa\n",
       "204. Willapa\n",
       "205. Willapa\n",
       "206. Willapa\n",
       "207. Willapa\n",
       "208. Willapa\n",
       "209. Willapa\n",
       "210. Willapa\n",
       "211. Willapa\n",
       "212. Willapa\n",
       "\n",
       "\n"
      ],
      "text/plain": [
       "  [1] Victoria       Victoria       Victoria       Victoria       Victoria      \n",
       "  [6] Victoria       Victoria       Victoria       Victoria       Victoria      \n",
       " [11] Victoria       Victoria       Klaskino       Klaskino       Klaskino      \n",
       " [16] Klaskino       Klaskino       Klaskino       Klaskino       Klaskino      \n",
       " [21] Klaskino       Klaskino       Klaskino       Klaskino       Klaskino      \n",
       " [26] Klaskino       Barkeley_Sound Barkeley_Sound Barkeley_Sound Barkeley_Sound\n",
       " [31] Barkeley_Sound Barkeley_Sound Barkeley_Sound Barkeley_Sound Barkeley_Sound\n",
       " [36] Barkeley_Sound Ladysmith      Ladysmith      Ladysmith      Ladysmith     \n",
       " [41] Ladysmith      Ladysmith      Ladysmith      Ladysmith      Ladysmith     \n",
       " [46] Ladysmith      Ladysmith      Ladysmith      San_Diego      San_Diego     \n",
       " [51] San_Diego      San_Diego      San_Diego      San_Diego      San_Diego     \n",
       " [56] San_Diego      San_Diego      San_Diego      San_Diego      San_Diego     \n",
       " [61] San_Diego      SF             SF             SF             SF            \n",
       " [66] SF             SF             SF             SF             SF            \n",
       " [71] SF             SF             Tomales        Tomales        Tomales       \n",
       " [76] Tomales        Tomales        Tomales        Tomales        Tomales       \n",
       " [81] Tomales        Tomales        Tomales        Elkhorn_SLough Elkhorn_SLough\n",
       " [86] Elkhorn_SLough Elkhorn_SLough Elkhorn_SLough Elkhorn_SLough Elkhorn_SLough\n",
       " [91] Elkhorn_SLough Elkhorn_SLough Elkhorn_SLough Elkhorn_SLough Humboldt      \n",
       " [96] Humboldt       Humboldt       Humboldt       Humboldt       Humboldt      \n",
       "[101] Humboldt       Humboldt       Humboldt       Humboldt       Humboldt      \n",
       "[106] Mugu_Lagoon    Mugu_Lagoon    Mugu_Lagoon    Mugu_Lagoon    Mugu_Lagoon   \n",
       "[111] Mugu_Lagoon    Mugu_Lagoon    Mugu_Lagoon    Mugu_Lagoon    Mugu_Lagoon   \n",
       "[116] Conchaphila    Conchaphila    Conchaphila    Conchaphila    Conchaphila   \n",
       "[121] Conchaphila    Conchaphila    Conchaphila    Conchaphila    Coos          \n",
       "[126] Coos           Coos           Coos           Coos           Coos          \n",
       "[131] Coos           Coos           Coos           Coos           Coos          \n",
       "[136] Yaquina        Yaquina        Yaquina        Yaquina        Yaquina       \n",
       "[141] Yaquina        Yaquina        Yaquina        Yaquina        Yaquina       \n",
       "[146] Yaquina        Netarts        Netarts        Netarts        Netarts       \n",
       "[151] Netarts        Netarts        Netarts        Netarts        Netarts       \n",
       "[156] Netarts        Netarts        Triton_Cove    Triton_Cove    Triton_Cove   \n",
       "[161] Triton_Cove    Triton_Cove    Triton_Cove    Triton_Cove    Triton_Cove   \n",
       "[166] Triton_Cove    Triton_Cove    Triton_Cove    Liberty_Bay    Liberty_Bay   \n",
       "[171] Liberty_Bay    Liberty_Bay    Liberty_Bay    Liberty_Bay    Liberty_Bay   \n",
       "[176] Liberty_Bay    Liberty_Bay    Discovery_Bay  Discovery_Bay  Discovery_Bay \n",
       "[181] Discovery_Bay  Discovery_Bay  Discovery_Bay  Discovery_Bay  Discovery_Bay \n",
       "[186] Discovery_Bay  North_Bay      North_Bay      North_Bay      North_Bay     \n",
       "[191] North_Bay      North_Bay      North_Bay      North_Bay      North_Bay     \n",
       "[196] North_Bay      Willapa        Willapa        Willapa        Willapa       \n",
       "[201] Willapa        Willapa        Willapa        Willapa        Willapa       \n",
       "[206] Willapa        Willapa        Willapa        Willapa        Willapa       \n",
       "[211] Willapa        Willapa       \n",
       "19 Levels: Victoria Klaskino Barkeley_Sound Ladysmith San_Diego SF ... Willapa"
      ]
     },
     "metadata": {},
     "output_type": "display_data"
    }
   ],
   "source": [
    "popNames(pop_data) \n",
    "pop(ind_data)"
   ]
  },
  {
   "cell_type": "code",
   "execution_count": 154,
   "metadata": {
    "collapsed": false
   },
   "outputs": [
    {
     "ename": "ERROR",
     "evalue": "Error in solve.default(k, meansq): Lapack routine dgesv: system is exactly singular: U[1,1] = 0\n",
     "output_type": "error",
     "traceback": [
      "Error in solve.default(k, meansq): Lapack routine dgesv: system is exactly singular: U[1,1] = 0\nTraceback:\n",
      "1. fstat(ind_data)",
      "2. varcomp.glob(levels = data.frame(pop), loci = dat)",
      "3. rbind(res, varcomp(cbind(levels, loci[, i]), diploid)$overall)",
      "4. varcomp(cbind(levels, loci[, i]), diploid)",
      "5. apply(resp, 2, vcomp)",
      "6. FUN(newX[, i], ...)",
      "7. solve(k, meansq)",
      "8. solve.default(k, meansq)"
     ]
    }
   ],
   "source": [
    "library(\"hierfstat\")\n",
    "fstat(ind_data)"
   ]
  },
  {
   "cell_type": "code",
   "execution_count": 18,
   "metadata": {
    "collapsed": false
   },
   "outputs": [],
   "source": [
    "fst_loci <- Fst(as.loci(ind_data))"
   ]
  },
  {
   "cell_type": "code",
   "execution_count": null,
   "metadata": {
    "collapsed": true
   },
   "outputs": [],
   "source": [
    "#Gtest <- gstat.randtest(ind_data, nsim =99)\n",
    "#Gtest"
   ]
  },
  {
   "cell_type": "code",
   "execution_count": 170,
   "metadata": {
    "collapsed": false
   },
   "outputs": [
    {
     "name": "stderr",
     "output_type": "stream",
     "text": [
      "Warning message in df2genind(tab, ploidy = newPloidy, type = x[[1]]@type, sep = \"/\"):\n",
      "“entirely non-type marker(s) deleted”Warning message in df2genind(tab, ploidy = newPloidy, type = x[[1]]@type, sep = \"/\"):\n",
      "“entirely non-type marker(s) deleted”Warning message in df2genind(tab, ploidy = newPloidy, type = x[[1]]@type, sep = \"/\"):\n",
      "“entirely non-type marker(s) deleted”Warning message in df2genind(tab, ploidy = newPloidy, type = x[[1]]@type, sep = \"/\"):\n",
      "“entirely non-type marker(s) deleted”Warning message in df2genind(tab, ploidy = newPloidy, type = x[[1]]@type, sep = \"/\"):\n",
      "“entirely non-type marker(s) deleted”Warning message in df2genind(tab, ploidy = newPloidy, type = x[[1]]@type, sep = \"/\"):\n",
      "“entirely non-type marker(s) deleted”Warning message in df2genind(tab, ploidy = newPloidy, type = x[[1]]@type, sep = \"/\"):\n",
      "“entirely non-type marker(s) deleted”Warning message in df2genind(tab, ploidy = newPloidy, type = x[[1]]@type, sep = \"/\"):\n",
      "“entirely non-type marker(s) deleted”Warning message in df2genind(tab, ploidy = newPloidy, type = x[[1]]@type, sep = \"/\"):\n",
      "“entirely non-type marker(s) deleted”Warning message in df2genind(tab, ploidy = newPloidy, type = x[[1]]@type, sep = \"/\"):\n",
      "“entirely non-type marker(s) deleted”Warning message in df2genind(tab, ploidy = newPloidy, type = x[[1]]@type, sep = \"/\"):\n",
      "“entirely non-type marker(s) deleted”Warning message in df2genind(tab, ploidy = newPloidy, type = x[[1]]@type, sep = \"/\"):\n",
      "“entirely non-type marker(s) deleted”Warning message in df2genind(tab, ploidy = newPloidy, type = x[[1]]@type, sep = \"/\"):\n",
      "“entirely non-type marker(s) deleted”Warning message in df2genind(tab, ploidy = newPloidy, type = x[[1]]@type, sep = \"/\"):\n",
      "“entirely non-type marker(s) deleted”Warning message in df2genind(tab, ploidy = newPloidy, type = x[[1]]@type, sep = \"/\"):\n",
      "“entirely non-type marker(s) deleted”Warning message in df2genind(tab, ploidy = newPloidy, type = x[[1]]@type, sep = \"/\"):\n",
      "“entirely non-type marker(s) deleted”Warning message in df2genind(tab, ploidy = newPloidy, type = x[[1]]@type, sep = \"/\"):\n",
      "“entirely non-type marker(s) deleted”Warning message in df2genind(tab, ploidy = newPloidy, type = x[[1]]@type, sep = \"/\"):\n",
      "“entirely non-type marker(s) deleted”Warning message in df2genind(tab, ploidy = newPloidy, type = x[[1]]@type, sep = \"/\"):\n",
      "“entirely non-type marker(s) deleted”Warning message in df2genind(tab, ploidy = newPloidy, type = x[[1]]@type, sep = \"/\"):\n",
      "“entirely non-type marker(s) deleted”Warning message in df2genind(tab, ploidy = newPloidy, type = x[[1]]@type, sep = \"/\"):\n",
      "“entirely non-type marker(s) deleted”Warning message in df2genind(tab, ploidy = newPloidy, type = x[[1]]@type, sep = \"/\"):\n",
      "“entirely non-type marker(s) deleted”Warning message in df2genind(tab, ploidy = newPloidy, type = x[[1]]@type, sep = \"/\"):\n",
      "“entirely non-type marker(s) deleted”Warning message in df2genind(tab, ploidy = newPloidy, type = x[[1]]@type, sep = \"/\"):\n",
      "“entirely non-type marker(s) deleted”Warning message in df2genind(tab, ploidy = newPloidy, type = x[[1]]@type, sep = \"/\"):\n",
      "“entirely non-type marker(s) deleted”Warning message in df2genind(tab, ploidy = newPloidy, type = x[[1]]@type, sep = \"/\"):\n",
      "“entirely non-type marker(s) deleted”Warning message in df2genind(tab, ploidy = newPloidy, type = x[[1]]@type, sep = \"/\"):\n",
      "“entirely non-type marker(s) deleted”Warning message in df2genind(tab, ploidy = newPloidy, type = x[[1]]@type, sep = \"/\"):\n",
      "“entirely non-type marker(s) deleted”Warning message in df2genind(tab, ploidy = newPloidy, type = x[[1]]@type, sep = \"/\"):\n",
      "“entirely non-type marker(s) deleted”Warning message in df2genind(tab, ploidy = newPloidy, type = x[[1]]@type, sep = \"/\"):\n",
      "“entirely non-type marker(s) deleted”Warning message in df2genind(tab, ploidy = newPloidy, type = x[[1]]@type, sep = \"/\"):\n",
      "“entirely non-type marker(s) deleted”Warning message in df2genind(tab, ploidy = newPloidy, type = x[[1]]@type, sep = \"/\"):\n",
      "“entirely non-type marker(s) deleted”Warning message in df2genind(tab, ploidy = newPloidy, type = x[[1]]@type, sep = \"/\"):\n",
      "“entirely non-type marker(s) deleted”Warning message in df2genind(tab, ploidy = newPloidy, type = x[[1]]@type, sep = \"/\"):\n",
      "“entirely non-type marker(s) deleted”Warning message in df2genind(tab, ploidy = newPloidy, type = x[[1]]@type, sep = \"/\"):\n",
      "“entirely non-type marker(s) deleted”Warning message in df2genind(tab, ploidy = newPloidy, type = x[[1]]@type, sep = \"/\"):\n",
      "“entirely non-type marker(s) deleted”Warning message in df2genind(tab, ploidy = newPloidy, type = x[[1]]@type, sep = \"/\"):\n",
      "“entirely non-type marker(s) deleted”Warning message in df2genind(tab, ploidy = newPloidy, type = x[[1]]@type, sep = \"/\"):\n",
      "“entirely non-type marker(s) deleted”Warning message in df2genind(tab, ploidy = newPloidy, type = x[[1]]@type, sep = \"/\"):\n",
      "“entirely non-type marker(s) deleted”Warning message in df2genind(tab, ploidy = newPloidy, type = x[[1]]@type, sep = \"/\"):\n",
      "“entirely non-type marker(s) deleted”Warning message in df2genind(tab, ploidy = newPloidy, type = x[[1]]@type, sep = \"/\"):\n",
      "“entirely non-type marker(s) deleted”Warning message in df2genind(tab, ploidy = newPloidy, type = x[[1]]@type, sep = \"/\"):\n",
      "“entirely non-type marker(s) deleted”Warning message in df2genind(tab, ploidy = newPloidy, type = x[[1]]@type, sep = \"/\"):\n",
      "“entirely non-type marker(s) deleted”Warning message in df2genind(tab, ploidy = newPloidy, type = x[[1]]@type, sep = \"/\"):\n",
      "“entirely non-type marker(s) deleted”Warning message in df2genind(tab, ploidy = newPloidy, type = x[[1]]@type, sep = \"/\"):\n",
      "“entirely non-type marker(s) deleted”Warning message in df2genind(tab, ploidy = newPloidy, type = x[[1]]@type, sep = \"/\"):\n",
      "“entirely non-type marker(s) deleted”Warning message in df2genind(tab, ploidy = newPloidy, type = x[[1]]@type, sep = \"/\"):\n",
      "“entirely non-type marker(s) deleted”Warning message in df2genind(tab, ploidy = newPloidy, type = x[[1]]@type, sep = \"/\"):\n",
      "“entirely non-type marker(s) deleted”Warning message in df2genind(tab, ploidy = newPloidy, type = x[[1]]@type, sep = \"/\"):\n",
      "“entirely non-type marker(s) deleted”Warning message in df2genind(tab, ploidy = newPloidy, type = x[[1]]@type, sep = \"/\"):\n",
      "“entirely non-type marker(s) deleted”Warning message in df2genind(tab, ploidy = newPloidy, type = x[[1]]@type, sep = \"/\"):\n",
      "“entirely non-type marker(s) deleted”Warning message in df2genind(tab, ploidy = newPloidy, type = x[[1]]@type, sep = \"/\"):\n",
      "“entirely non-type marker(s) deleted”Warning message in df2genind(tab, ploidy = newPloidy, type = x[[1]]@type, sep = \"/\"):\n",
      "“entirely non-type marker(s) deleted”Warning message in df2genind(tab, ploidy = newPloidy, type = x[[1]]@type, sep = \"/\"):\n",
      "“entirely non-type marker(s) deleted”Warning message in df2genind(tab, ploidy = newPloidy, type = x[[1]]@type, sep = \"/\"):\n",
      "“entirely non-type marker(s) deleted”Warning message in df2genind(tab, ploidy = newPloidy, type = x[[1]]@type, sep = \"/\"):\n",
      "“entirely non-type marker(s) deleted”Warning message in df2genind(tab, ploidy = newPloidy, type = x[[1]]@type, sep = \"/\"):\n",
      "“entirely non-type marker(s) deleted”Warning message in df2genind(tab, ploidy = newPloidy, type = x[[1]]@type, sep = \"/\"):\n",
      "“entirely non-type marker(s) deleted”Warning message in df2genind(tab, ploidy = newPloidy, type = x[[1]]@type, sep = \"/\"):\n",
      "“entirely non-type marker(s) deleted”Warning message in df2genind(tab, ploidy = newPloidy, type = x[[1]]@type, sep = \"/\"):\n",
      "“entirely non-type marker(s) deleted”Warning message in df2genind(tab, ploidy = newPloidy, type = x[[1]]@type, sep = \"/\"):\n",
      "“entirely non-type marker(s) deleted”Warning message in df2genind(tab, ploidy = newPloidy, type = x[[1]]@type, sep = \"/\"):\n",
      "“entirely non-type marker(s) deleted”Warning message in df2genind(tab, ploidy = newPloidy, type = x[[1]]@type, sep = \"/\"):\n",
      "“entirely non-type marker(s) deleted”Warning message in df2genind(tab, ploidy = newPloidy, type = x[[1]]@type, sep = \"/\"):\n",
      "“entirely non-type marker(s) deleted”Warning message in df2genind(tab, ploidy = newPloidy, type = x[[1]]@type, sep = \"/\"):\n",
      "“entirely non-type marker(s) deleted”Warning message in df2genind(tab, ploidy = newPloidy, type = x[[1]]@type, sep = \"/\"):\n",
      "“entirely non-type marker(s) deleted”Warning message in df2genind(tab, ploidy = newPloidy, type = x[[1]]@type, sep = \"/\"):\n",
      "“entirely non-type marker(s) deleted”Warning message in df2genind(tab, ploidy = newPloidy, type = x[[1]]@type, sep = \"/\"):\n",
      "“entirely non-type marker(s) deleted”Warning message in df2genind(tab, ploidy = newPloidy, type = x[[1]]@type, sep = \"/\"):\n",
      "“entirely non-type marker(s) deleted”Warning message in df2genind(tab, ploidy = newPloidy, type = x[[1]]@type, sep = \"/\"):\n",
      "“entirely non-type marker(s) deleted”Warning message in df2genind(tab, ploidy = newPloidy, type = x[[1]]@type, sep = \"/\"):\n",
      "“entirely non-type marker(s) deleted”Warning message in df2genind(tab, ploidy = newPloidy, type = x[[1]]@type, sep = \"/\"):\n",
      "“entirely non-type marker(s) deleted”Warning message in df2genind(tab, ploidy = newPloidy, type = x[[1]]@type, sep = \"/\"):\n",
      "“entirely non-type marker(s) deleted”Warning message in df2genind(tab, ploidy = newPloidy, type = x[[1]]@type, sep = \"/\"):\n",
      "“entirely non-type marker(s) deleted”Warning message in df2genind(tab, ploidy = newPloidy, type = x[[1]]@type, sep = \"/\"):\n",
      "“entirely non-type marker(s) deleted”Warning message in df2genind(tab, ploidy = newPloidy, type = x[[1]]@type, sep = \"/\"):\n",
      "“entirely non-type marker(s) deleted”Warning message in df2genind(tab, ploidy = newPloidy, type = x[[1]]@type, sep = \"/\"):\n",
      "“entirely non-type marker(s) deleted”Warning message in df2genind(tab, ploidy = newPloidy, type = x[[1]]@type, sep = \"/\"):\n",
      "“entirely non-type marker(s) deleted”Warning message in df2genind(tab, ploidy = newPloidy, type = x[[1]]@type, sep = \"/\"):\n",
      "“entirely non-type marker(s) deleted”Warning message in df2genind(tab, ploidy = newPloidy, type = x[[1]]@type, sep = \"/\"):\n",
      "“entirely non-type marker(s) deleted”Warning message in df2genind(tab, ploidy = newPloidy, type = x[[1]]@type, sep = \"/\"):\n",
      "“entirely non-type marker(s) deleted”Warning message in df2genind(tab, ploidy = newPloidy, type = x[[1]]@type, sep = \"/\"):\n",
      "“entirely non-type marker(s) deleted”Warning message in df2genind(tab, ploidy = newPloidy, type = x[[1]]@type, sep = \"/\"):\n",
      "“entirely non-type marker(s) deleted”Warning message in df2genind(tab, ploidy = newPloidy, type = x[[1]]@type, sep = \"/\"):\n",
      "“entirely non-type marker(s) deleted”Warning message in df2genind(tab, ploidy = newPloidy, type = x[[1]]@type, sep = \"/\"):\n",
      "“entirely non-type marker(s) deleted”Warning message in df2genind(tab, ploidy = newPloidy, type = x[[1]]@type, sep = \"/\"):\n",
      "“entirely non-type marker(s) deleted”Warning message in df2genind(tab, ploidy = newPloidy, type = x[[1]]@type, sep = \"/\"):\n",
      "“entirely non-type marker(s) deleted”Warning message in df2genind(tab, ploidy = newPloidy, type = x[[1]]@type, sep = \"/\"):\n",
      "“entirely non-type marker(s) deleted”Warning message in df2genind(tab, ploidy = newPloidy, type = x[[1]]@type, sep = \"/\"):\n",
      "“entirely non-type marker(s) deleted”Warning message in df2genind(tab, ploidy = newPloidy, type = x[[1]]@type, sep = \"/\"):\n",
      "“entirely non-type marker(s) deleted”Warning message in df2genind(tab, ploidy = newPloidy, type = x[[1]]@type, sep = \"/\"):\n",
      "“entirely non-type marker(s) deleted”Warning message in df2genind(tab, ploidy = newPloidy, type = x[[1]]@type, sep = \"/\"):\n",
      "“entirely non-type marker(s) deleted”Warning message in df2genind(tab, ploidy = newPloidy, type = x[[1]]@type, sep = \"/\"):\n",
      "“entirely non-type marker(s) deleted”Warning message in df2genind(tab, ploidy = newPloidy, type = x[[1]]@type, sep = \"/\"):\n",
      "“entirely non-type marker(s) deleted”Warning message in df2genind(tab, ploidy = newPloidy, type = x[[1]]@type, sep = \"/\"):\n",
      "“entirely non-type marker(s) deleted”Warning message in df2genind(tab, ploidy = newPloidy, type = x[[1]]@type, sep = \"/\"):\n",
      "“entirely non-type marker(s) deleted”Warning message in df2genind(tab, ploidy = newPloidy, type = x[[1]]@type, sep = \"/\"):\n",
      "“entirely non-type marker(s) deleted”Warning message in df2genind(tab, ploidy = newPloidy, type = x[[1]]@type, sep = \"/\"):\n",
      "“entirely non-type marker(s) deleted”Warning message in df2genind(tab, ploidy = newPloidy, type = x[[1]]@type, sep = \"/\"):\n",
      "“entirely non-type marker(s) deleted”Warning message in df2genind(tab, ploidy = newPloidy, type = x[[1]]@type, sep = \"/\"):\n",
      "“entirely non-type marker(s) deleted”Warning message in df2genind(tab, ploidy = newPloidy, type = x[[1]]@type, sep = \"/\"):\n",
      "“entirely non-type marker(s) deleted”Warning message in df2genind(tab, ploidy = newPloidy, type = x[[1]]@type, sep = \"/\"):\n",
      "“entirely non-type marker(s) deleted”Warning message in df2genind(tab, ploidy = newPloidy, type = x[[1]]@type, sep = \"/\"):\n",
      "“entirely non-type marker(s) deleted”Warning message in df2genind(tab, ploidy = newPloidy, type = x[[1]]@type, sep = \"/\"):\n",
      "“entirely non-type marker(s) deleted”Warning message in df2genind(tab, ploidy = newPloidy, type = x[[1]]@type, sep = \"/\"):\n",
      "“entirely non-type marker(s) deleted”Warning message in df2genind(tab, ploidy = newPloidy, type = x[[1]]@type, sep = \"/\"):\n",
      "“entirely non-type marker(s) deleted”Warning message in df2genind(tab, ploidy = newPloidy, type = x[[1]]@type, sep = \"/\"):\n",
      "“entirely non-type marker(s) deleted”Warning message in df2genind(tab, ploidy = newPloidy, type = x[[1]]@type, sep = \"/\"):\n",
      "“entirely non-type marker(s) deleted”Warning message in df2genind(tab, ploidy = newPloidy, type = x[[1]]@type, sep = \"/\"):\n",
      "“entirely non-type marker(s) deleted”Warning message in df2genind(tab, ploidy = newPloidy, type = x[[1]]@type, sep = \"/\"):\n",
      "“entirely non-type marker(s) deleted”Warning message in df2genind(tab, ploidy = newPloidy, type = x[[1]]@type, sep = \"/\"):\n",
      "“entirely non-type marker(s) deleted”Warning message in df2genind(tab, ploidy = newPloidy, type = x[[1]]@type, sep = \"/\"):\n",
      "“entirely non-type marker(s) deleted”Warning message in df2genind(tab, ploidy = newPloidy, type = x[[1]]@type, sep = \"/\"):\n",
      "“entirely non-type marker(s) deleted”Warning message in df2genind(tab, ploidy = newPloidy, type = x[[1]]@type, sep = \"/\"):\n",
      "“entirely non-type marker(s) deleted”Warning message in df2genind(tab, ploidy = newPloidy, type = x[[1]]@type, sep = \"/\"):\n",
      "“entirely non-type marker(s) deleted”Warning message in df2genind(tab, ploidy = newPloidy, type = x[[1]]@type, sep = \"/\"):\n",
      "“entirely non-type marker(s) deleted”Warning message in df2genind(tab, ploidy = newPloidy, type = x[[1]]@type, sep = \"/\"):\n",
      "“entirely non-type marker(s) deleted”Warning message in df2genind(tab, ploidy = newPloidy, type = x[[1]]@type, sep = \"/\"):\n",
      "“entirely non-type marker(s) deleted”Warning message in df2genind(tab, ploidy = newPloidy, type = x[[1]]@type, sep = \"/\"):\n",
      "“entirely non-type marker(s) deleted”Warning message in df2genind(tab, ploidy = newPloidy, type = x[[1]]@type, sep = \"/\"):\n",
      "“entirely non-type marker(s) deleted”Warning message in df2genind(tab, ploidy = newPloidy, type = x[[1]]@type, sep = \"/\"):\n",
      "“entirely non-type marker(s) deleted”Warning message in df2genind(tab, ploidy = newPloidy, type = x[[1]]@type, sep = \"/\"):\n",
      "“entirely non-type marker(s) deleted”Warning message in df2genind(tab, ploidy = newPloidy, type = x[[1]]@type, sep = \"/\"):\n",
      "“entirely non-type marker(s) deleted”Warning message in df2genind(tab, ploidy = newPloidy, type = x[[1]]@type, sep = \"/\"):\n",
      "“entirely non-type marker(s) deleted”Warning message in df2genind(tab, ploidy = newPloidy, type = x[[1]]@type, sep = \"/\"):\n",
      "“entirely non-type marker(s) deleted”Warning message in df2genind(tab, ploidy = newPloidy, type = x[[1]]@type, sep = \"/\"):\n",
      "“entirely non-type marker(s) deleted”Warning message in df2genind(tab, ploidy = newPloidy, type = x[[1]]@type, sep = \"/\"):\n",
      "“entirely non-type marker(s) deleted”Warning message in df2genind(tab, ploidy = newPloidy, type = x[[1]]@type, sep = \"/\"):\n",
      "“entirely non-type marker(s) deleted”Warning message in df2genind(tab, ploidy = newPloidy, type = x[[1]]@type, sep = \"/\"):\n",
      "“entirely non-type marker(s) deleted”Warning message in df2genind(tab, ploidy = newPloidy, type = x[[1]]@type, sep = \"/\"):\n",
      "“entirely non-type marker(s) deleted”Warning message in df2genind(tab, ploidy = newPloidy, type = x[[1]]@type, sep = \"/\"):\n",
      "“entirely non-type marker(s) deleted”Warning message in df2genind(tab, ploidy = newPloidy, type = x[[1]]@type, sep = \"/\"):\n",
      "“entirely non-type marker(s) deleted”Warning message in df2genind(tab, ploidy = newPloidy, type = x[[1]]@type, sep = \"/\"):\n",
      "“entirely non-type marker(s) deleted”Warning message in df2genind(tab, ploidy = newPloidy, type = x[[1]]@type, sep = \"/\"):\n",
      "“entirely non-type marker(s) deleted”Warning message in df2genind(tab, ploidy = newPloidy, type = x[[1]]@type, sep = \"/\"):\n",
      "“entirely non-type marker(s) deleted”Warning message in df2genind(tab, ploidy = newPloidy, type = x[[1]]@type, sep = \"/\"):\n",
      "“entirely non-type marker(s) deleted”Warning message in df2genind(tab, ploidy = newPloidy, type = x[[1]]@type, sep = \"/\"):\n",
      "“entirely non-type marker(s) deleted”Warning message in df2genind(tab, ploidy = newPloidy, type = x[[1]]@type, sep = \"/\"):\n",
      "“entirely non-type marker(s) deleted”Warning message in df2genind(tab, ploidy = newPloidy, type = x[[1]]@type, sep = \"/\"):\n",
      "“entirely non-type marker(s) deleted”Warning message in df2genind(tab, ploidy = newPloidy, type = x[[1]]@type, sep = \"/\"):\n",
      "“entirely non-type marker(s) deleted”Warning message in df2genind(tab, ploidy = newPloidy, type = x[[1]]@type, sep = \"/\"):\n",
      "“entirely non-type marker(s) deleted”Warning message in df2genind(tab, ploidy = newPloidy, type = x[[1]]@type, sep = \"/\"):\n",
      "“entirely non-type marker(s) deleted”Warning message in df2genind(tab, ploidy = newPloidy, type = x[[1]]@type, sep = \"/\"):\n",
      "“entirely non-type marker(s) deleted”Warning message in df2genind(tab, ploidy = newPloidy, type = x[[1]]@type, sep = \"/\"):\n",
      "“entirely non-type marker(s) deleted”Warning message in df2genind(tab, ploidy = newPloidy, type = x[[1]]@type, sep = \"/\"):\n",
      "“entirely non-type marker(s) deleted”Warning message in df2genind(tab, ploidy = newPloidy, type = x[[1]]@type, sep = \"/\"):\n",
      "“entirely non-type marker(s) deleted”Warning message in df2genind(tab, ploidy = newPloidy, type = x[[1]]@type, sep = \"/\"):\n",
      "“entirely non-type marker(s) deleted”Warning message in df2genind(tab, ploidy = newPloidy, type = x[[1]]@type, sep = \"/\"):\n",
      "“entirely non-type marker(s) deleted”Warning message in df2genind(tab, ploidy = newPloidy, type = x[[1]]@type, sep = \"/\"):\n",
      "“entirely non-type marker(s) deleted”Warning message in df2genind(tab, ploidy = newPloidy, type = x[[1]]@type, sep = \"/\"):\n",
      "“entirely non-type marker(s) deleted”Warning message in df2genind(tab, ploidy = newPloidy, type = x[[1]]@type, sep = \"/\"):\n",
      "“entirely non-type marker(s) deleted”Warning message in df2genind(tab, ploidy = newPloidy, type = x[[1]]@type, sep = \"/\"):\n",
      "“entirely non-type marker(s) deleted”Warning message in df2genind(tab, ploidy = newPloidy, type = x[[1]]@type, sep = \"/\"):\n",
      "“entirely non-type marker(s) deleted”Warning message in df2genind(tab, ploidy = newPloidy, type = x[[1]]@type, sep = \"/\"):\n",
      "“entirely non-type marker(s) deleted”Warning message in df2genind(tab, ploidy = newPloidy, type = x[[1]]@type, sep = \"/\"):\n",
      "“entirely non-type marker(s) deleted”Warning message in df2genind(tab, ploidy = newPloidy, type = x[[1]]@type, sep = \"/\"):\n",
      "“entirely non-type marker(s) deleted”Warning message in df2genind(tab, ploidy = newPloidy, type = x[[1]]@type, sep = \"/\"):\n",
      "“entirely non-type marker(s) deleted”Warning message in df2genind(tab, ploidy = newPloidy, type = x[[1]]@type, sep = \"/\"):\n",
      "“entirely non-type marker(s) deleted”Warning message in df2genind(tab, ploidy = newPloidy, type = x[[1]]@type, sep = \"/\"):\n",
      "“entirely non-type marker(s) deleted”Warning message in df2genind(tab, ploidy = newPloidy, type = x[[1]]@type, sep = \"/\"):\n",
      "“entirely non-type marker(s) deleted”Warning message in df2genind(tab, ploidy = newPloidy, type = x[[1]]@type, sep = \"/\"):\n",
      "“entirely non-type marker(s) deleted”Warning message in df2genind(tab, ploidy = newPloidy, type = x[[1]]@type, sep = \"/\"):\n",
      "“entirely non-type marker(s) deleted”Warning message in df2genind(tab, ploidy = newPloidy, type = x[[1]]@type, sep = \"/\"):\n",
      "“entirely non-type marker(s) deleted”Warning message in df2genind(tab, ploidy = newPloidy, type = x[[1]]@type, sep = \"/\"):\n",
      "“entirely non-type marker(s) deleted”Warning message in df2genind(tab, ploidy = newPloidy, type = x[[1]]@type, sep = \"/\"):\n",
      "“entirely non-type marker(s) deleted”Warning message in df2genind(tab, ploidy = newPloidy, type = x[[1]]@type, sep = \"/\"):\n",
      "“entirely non-type marker(s) deleted”Warning message in df2genind(tab, ploidy = newPloidy, type = x[[1]]@type, sep = \"/\"):\n",
      "“entirely non-type marker(s) deleted”Warning message in df2genind(tab, ploidy = newPloidy, type = x[[1]]@type, sep = \"/\"):\n",
      "“entirely non-type marker(s) deleted”Warning message in df2genind(tab, ploidy = newPloidy, type = x[[1]]@type, sep = \"/\"):\n",
      "“entirely non-type marker(s) deleted”Warning message in df2genind(tab, ploidy = newPloidy, type = x[[1]]@type, sep = \"/\"):\n",
      "“entirely non-type marker(s) deleted”Warning message in df2genind(tab, ploidy = newPloidy, type = x[[1]]@type, sep = \"/\"):\n",
      "“entirely non-type marker(s) deleted”"
     ]
    }
   ],
   "source": [
    "#Nei FST as imlemented in hierfstat\n",
    "distFst <- pairwise.fst(ind_data)"
   ]
  },
  {
   "cell_type": "code",
   "execution_count": 169,
   "metadata": {
    "collapsed": false,
    "scrolled": true
   },
   "outputs": [
    {
     "data": {
      "text/html": [
       "<table>\n",
       "<tbody>\n",
       "\t<tr><td>0.0434360429838201</td></tr>\n",
       "\t<tr><td>0.0549599612132915</td></tr>\n",
       "\t<tr><td>0.0591487636912069</td></tr>\n",
       "\t<tr><td>0.0501046094784873</td></tr>\n",
       "\t<tr><td>0.03158665114064</td></tr>\n",
       "\t<tr><td>0.0440856759867297</td></tr>\n",
       "\t<tr><td>0.0644936576926248</td></tr>\n",
       "\t<tr><td>0.0401592868040582</td></tr>\n",
       "\t<tr><td>0.0748368938755237</td></tr>\n",
       "\t<tr><td>0.109387838770465</td></tr>\n",
       "\t<tr><td>0.0805401210684068</td></tr>\n",
       "\t<tr><td>0.0529348631224461</td></tr>\n",
       "\t<tr><td>0.0449484513642099</td></tr>\n",
       "\t<tr><td>0.0317619800273771</td></tr>\n",
       "\t<tr><td>0.0652718887932536</td></tr>\n",
       "\t<tr><td>0.0269707710627138</td></tr>\n",
       "\t<tr><td>0.0382144291378704</td></tr>\n",
       "\t<tr><td>0.0606961093273233</td></tr>\n",
       "\t<tr><td>0.0317731868449576</td></tr>\n",
       "\t<tr><td>0.00951356545627113</td></tr>\n",
       "\t<tr><td>0.0595262072579867</td></tr>\n",
       "\t<tr><td>0.0385336135084558</td></tr>\n",
       "\t<tr><td>0.0559482662865981</td></tr>\n",
       "\t<tr><td>0.0450299266764057</td></tr>\n",
       "\t<tr><td>0.038393307277364</td></tr>\n",
       "\t<tr><td>0.0658040986176024</td></tr>\n",
       "\t<tr><td>0.0952666743632594</td></tr>\n",
       "\t<tr><td>0.0418399105202739</td></tr>\n",
       "\t<tr><td>0.0479350572957649</td></tr>\n",
       "\t<tr><td>0.0467241335425203</td></tr>\n",
       "\t<tr><td>⋮</td></tr>\n",
       "\t<tr><td>0.0959149344514855</td></tr>\n",
       "\t<tr><td>0.155193919026608</td></tr>\n",
       "\t<tr><td>0.0617380722330122</td></tr>\n",
       "\t<tr><td>0.0517257655930185</td></tr>\n",
       "\t<tr><td>0.0517277658281568</td></tr>\n",
       "\t<tr><td>0.0783383153768538</td></tr>\n",
       "\t<tr><td>0.072826851902084</td></tr>\n",
       "\t<tr><td>0.0575094975137507</td></tr>\n",
       "\t<tr><td>0.0100126699454193</td></tr>\n",
       "\t<tr><td>0.0388085281218913</td></tr>\n",
       "\t<tr><td>0.0441234236020595</td></tr>\n",
       "\t<tr><td>0.0603959895158001</td></tr>\n",
       "\t<tr><td>0.0719201325549642</td></tr>\n",
       "\t<tr><td>0.0462292176591609</td></tr>\n",
       "\t<tr><td>0.0518432385966345</td></tr>\n",
       "\t<tr><td>0.0375024438222214</td></tr>\n",
       "\t<tr><td>0.0343288931969272</td></tr>\n",
       "\t<tr><td>0.0427399852770666</td></tr>\n",
       "\t<tr><td>0.0258010323927128</td></tr>\n",
       "\t<tr><td>0.0566581895439851</td></tr>\n",
       "\t<tr><td>0.0287820666630101</td></tr>\n",
       "\t<tr><td>0.00849542697698939</td></tr>\n",
       "\t<tr><td>0.00717313378246374</td></tr>\n",
       "\t<tr><td>0.0448570260242524</td></tr>\n",
       "\t<tr><td>0.0171188512100334</td></tr>\n",
       "\t<tr><td>0.00867253653148922</td></tr>\n",
       "\t<tr><td>0.0438648888241686</td></tr>\n",
       "\t<tr><td>0.0278298862020015</td></tr>\n",
       "\t<tr><td>0.0365500360593288</td></tr>\n",
       "\t<tr><td>0.0409503916851576</td></tr>\n",
       "</tbody>\n",
       "</table>\n"
      ],
      "text/latex": [
       "\\begin{tabular}{l}\n",
       "\t 0.0434360429838201\\\\\n",
       "\t 0.0549599612132915\\\\\n",
       "\t 0.0591487636912069\\\\\n",
       "\t 0.0501046094784873\\\\\n",
       "\t 0.03158665114064\\\\\n",
       "\t 0.0440856759867297\\\\\n",
       "\t 0.0644936576926248\\\\\n",
       "\t 0.0401592868040582\\\\\n",
       "\t 0.0748368938755237\\\\\n",
       "\t 0.109387838770465\\\\\n",
       "\t 0.0805401210684068\\\\\n",
       "\t 0.0529348631224461\\\\\n",
       "\t 0.0449484513642099\\\\\n",
       "\t 0.0317619800273771\\\\\n",
       "\t 0.0652718887932536\\\\\n",
       "\t 0.0269707710627138\\\\\n",
       "\t 0.0382144291378704\\\\\n",
       "\t 0.0606961093273233\\\\\n",
       "\t 0.0317731868449576\\\\\n",
       "\t 0.00951356545627113\\\\\n",
       "\t 0.0595262072579867\\\\\n",
       "\t 0.0385336135084558\\\\\n",
       "\t 0.0559482662865981\\\\\n",
       "\t 0.0450299266764057\\\\\n",
       "\t 0.038393307277364\\\\\n",
       "\t 0.0658040986176024\\\\\n",
       "\t 0.0952666743632594\\\\\n",
       "\t 0.0418399105202739\\\\\n",
       "\t 0.0479350572957649\\\\\n",
       "\t 0.0467241335425203\\\\\n",
       "\t ⋮\\\\\n",
       "\t 0.0959149344514855\\\\\n",
       "\t 0.155193919026608\\\\\n",
       "\t 0.0617380722330122\\\\\n",
       "\t 0.0517257655930185\\\\\n",
       "\t 0.0517277658281568\\\\\n",
       "\t 0.0783383153768538\\\\\n",
       "\t 0.072826851902084\\\\\n",
       "\t 0.0575094975137507\\\\\n",
       "\t 0.0100126699454193\\\\\n",
       "\t 0.0388085281218913\\\\\n",
       "\t 0.0441234236020595\\\\\n",
       "\t 0.0603959895158001\\\\\n",
       "\t 0.0719201325549642\\\\\n",
       "\t 0.0462292176591609\\\\\n",
       "\t 0.0518432385966345\\\\\n",
       "\t 0.0375024438222214\\\\\n",
       "\t 0.0343288931969272\\\\\n",
       "\t 0.0427399852770666\\\\\n",
       "\t 0.0258010323927128\\\\\n",
       "\t 0.0566581895439851\\\\\n",
       "\t 0.0287820666630101\\\\\n",
       "\t 0.00849542697698939\\\\\n",
       "\t 0.00717313378246374\\\\\n",
       "\t 0.0448570260242524\\\\\n",
       "\t 0.0171188512100334\\\\\n",
       "\t 0.00867253653148922\\\\\n",
       "\t 0.0438648888241686\\\\\n",
       "\t 0.0278298862020015\\\\\n",
       "\t 0.0365500360593288\\\\\n",
       "\t 0.0409503916851576\\\\\n",
       "\\end{tabular}\n"
      ],
      "text/markdown": [
       "1. 0.0434360429838201\n",
       "2. 0.0549599612132915\n",
       "3. 0.0591487636912069\n",
       "4. 0.0501046094784873\n",
       "5. 0.03158665114064\n",
       "6. 0.0440856759867297\n",
       "7. 0.0644936576926248\n",
       "8. 0.0401592868040582\n",
       "9. 0.0748368938755237\n",
       "10. 0.109387838770465\n",
       "11. 0.0805401210684068\n",
       "12. 0.0529348631224461\n",
       "13. 0.0449484513642099\n",
       "14. 0.0317619800273771\n",
       "15. 0.0652718887932536\n",
       "16. 0.0269707710627138\n",
       "17. 0.0382144291378704\n",
       "18. 0.0606961093273233\n",
       "19. 0.0317731868449576\n",
       "20. 0.00951356545627113\n",
       "21. 0.0595262072579867\n",
       "22. 0.0385336135084558\n",
       "23. 0.0559482662865981\n",
       "24. 0.0450299266764057\n",
       "25. 0.038393307277364\n",
       "26. 0.0658040986176024\n",
       "27. 0.0952666743632594\n",
       "28. 0.0418399105202739\n",
       "29. 0.0479350572957649\n",
       "30. 0.0467241335425203\n",
       "31. 0.0242696495349161\n",
       "32. 0.024868263822092\n",
       "33. 0.0430707095095899\n",
       "34. 0.0165208591641758\n",
       "35. 0.0432030895295379\n",
       "36. 0.0305027148294606\n",
       "37. 0.0479077345819874\n",
       "38. 0.0322856285546273\n",
       "39. 0.0675869660587691\n",
       "40. 0.048790123850004\n",
       "41. 0.0512407453087758\n",
       "42. 0.0641184145905657\n",
       "43. 0.107665512214161\n",
       "44. 0.0545666188711432\n",
       "45. 0.0626627080956843\n",
       "46. 0.0519742356457633\n",
       "47. 0.0325145242335074\n",
       "48. 0.0463448596473181\n",
       "49. 0.0749160946023383\n",
       "50. 0.0430428275890598\n",
       "51. 0.0493721772014402\n",
       "52. 0.0612269831936104\n",
       "53. 0.0650250180786694\n",
       "54. 0.0550761401650695\n",
       "55. 0.0729454653584649\n",
       "56. 0.0353456568807999\n",
       "57. 0.0964949441061404\n",
       "58. 0.127043674422902\n",
       "59. 0.0751158769632077\n",
       "60. 0.0764063316599383\n",
       "61. 0.0520730685049581\n",
       "62. 0.0204147085945796\n",
       "63. 0.0410956402636816\n",
       "64. 0.029843957038718\n",
       "65. 0.0428806889214774\n",
       "66. 0.0454685463497775\n",
       "67. 0.0374994012935217\n",
       "68. 0.0667721513130465\n",
       "69. 0.0251782762248514\n",
       "70. 0.0462606012552216\n",
       "71. 0.0141051626799887\n",
       "72. 0.0941961691371277\n",
       "73. 0.0720056823570526\n",
       "74. 0.0570461391165188\n",
       "75. 0.06882306389273\n",
       "76. 0.0554988179645799\n",
       "77. 0.0376473829297239\n",
       "78. 0.0887633520036564\n",
       "79. 0.0504025460774585\n",
       "80. 0.0984750013205905\n",
       "81. 0.0306233886615418\n",
       "82. 0.0306041561709851\n",
       "83. 0.0138012970629856\n",
       "84. 0.0619269655484043\n",
       "85. 0.103030005865421\n",
       "86. 0.053223310989336\n",
       "87. 0.0319102253384401\n",
       "88. 0.0471911055961872\n",
       "89. 0.0538456995880001\n",
       "90. 0.0455789445717232\n",
       "91. 0.0628088954613225\n",
       "92. 0.0437117759290096\n",
       "93. 0.0634484425256033\n",
       "94. 0.0550747480498906\n",
       "95. 0.0464493042492812\n",
       "96. 0.0704118430803011\n",
       "97. 0.154719895872616\n",
       "98. 0.0716154580540092\n",
       "99. 0.0507314344174449\n",
       "100. 0.0407737608588824\n",
       "101. 0.0431010779425399\n",
       "102. 0.0441948340104346\n",
       "103. 0.0843180875903717\n",
       "104. 0.0632198198995348\n",
       "105. 0.0651132850190489\n",
       "106. 0.0354731987533638\n",
       "107. 0.0283518956051033\n",
       "108. 0.0891467245513204\n",
       "109. 0.0818836340412619\n",
       "110. 0.0608881077671235\n",
       "111. 0.0603950481200758\n",
       "112. 0.0601194869631298\n",
       "113. 0.0600532332937476\n",
       "114. 0.0943748498680291\n",
       "115. 0.0567546749273365\n",
       "116. 0.0930217111156822\n",
       "117. 0.069834928337949\n",
       "118. 0.121960882963135\n",
       "119. 0.0378907080134446\n",
       "120. 0.0470281550134277\n",
       "121. 0.0413249917287547\n",
       "122. 0.0196114147833857\n",
       "123. 0.0243467728644586\n",
       "124. 0.0540931828412506\n",
       "125. 0.0198931973298224\n",
       "126. 0.0558642203021915\n",
       "127. 0.0692922310243927\n",
       "128. 0.102910947297\n",
       "129. 0.0740633899787235\n",
       "130. 0.0786959253016837\n",
       "131. 0.0739810945101484\n",
       "132. 0.0749672433056299\n",
       "133. 0.107818908429363\n",
       "134. 0.0704980811787953\n",
       "135. 0.113909383763551\n",
       "136. 0.111797050684396\n",
       "137. 0.121896747005553\n",
       "138. 0.111585173711344\n",
       "139. 0.101512508425748\n",
       "140. 0.0873352660591512\n",
       "141. 0.168740855785634\n",
       "142. 0.0959149344514855\n",
       "143. 0.155193919026608\n",
       "144. 0.0617380722330122\n",
       "145. 0.0517257655930185\n",
       "146. 0.0517277658281568\n",
       "147. 0.0783383153768538\n",
       "148. 0.072826851902084\n",
       "149. 0.0575094975137507\n",
       "150. 0.0100126699454193\n",
       "151. 0.0388085281218913\n",
       "152. 0.0441234236020595\n",
       "153. 0.0603959895158001\n",
       "154. 0.0719201325549642\n",
       "155. 0.0462292176591609\n",
       "156. 0.0518432385966345\n",
       "157. 0.0375024438222214\n",
       "158. 0.0343288931969272\n",
       "159. 0.0427399852770666\n",
       "160. 0.0258010323927128\n",
       "161. 0.0566581895439851\n",
       "162. 0.0287820666630101\n",
       "163. 0.00849542697698939\n",
       "164. 0.00717313378246374\n",
       "165. 0.0448570260242524\n",
       "166. 0.0171188512100334\n",
       "167. 0.00867253653148922\n",
       "168. 0.0438648888241686\n",
       "169. 0.0278298862020015\n",
       "170. 0.0365500360593288\n",
       "171. 0.0409503916851576\n",
       "\n",
       "\n"
      ],
      "text/plain": [
       "      [,1]                 \n",
       " [1,] \"0.0434360429838201\" \n",
       " [2,] \"0.0549599612132915\" \n",
       " [3,] \"0.0591487636912069\" \n",
       " [4,] \"0.0501046094784873\" \n",
       " [5,] \"0.03158665114064\"   \n",
       " [6,] \"0.0440856759867297\" \n",
       " [7,] \"0.0644936576926248\" \n",
       " [8,] \"0.0401592868040582\" \n",
       " [9,] \"0.0748368938755237\" \n",
       "[10,] \"0.109387838770465\"  \n",
       "[11,] \"0.0805401210684068\" \n",
       "[12,] \"0.0529348631224461\" \n",
       "[13,] \"0.0449484513642099\" \n",
       "[14,] \"0.0317619800273771\" \n",
       "[15,] \"0.0652718887932536\" \n",
       "[16,] \"0.0269707710627138\" \n",
       "[17,] \"0.0382144291378704\" \n",
       "[18,] \"0.0606961093273233\" \n",
       "[19,] \"0.0317731868449576\" \n",
       "[20,] \"0.00951356545627113\"\n",
       "[21,] \"0.0595262072579867\" \n",
       "[22,] \"0.0385336135084558\" \n",
       "[23,] \"0.0559482662865981\" \n",
       "[24,] \"0.0450299266764057\" \n",
       "[25,] \"0.038393307277364\"  \n",
       "[26,] \"0.0658040986176024\" \n",
       "[27,] \"0.0952666743632594\" \n",
       "[28,] \"0.0418399105202739\" \n",
       "[29,] \"0.0479350572957649\" \n",
       "[30,] \"0.0467241335425203\" \n",
       "[31,] \"⋮\"                  \n",
       "[32,] \"0.0959149344514855\" \n",
       "[33,] \"0.155193919026608\"  \n",
       "[34,] \"0.0617380722330122\" \n",
       "[35,] \"0.0517257655930185\" \n",
       "[36,] \"0.0517277658281568\" \n",
       "[37,] \"0.0783383153768538\" \n",
       "[38,] \"0.072826851902084\"  \n",
       "[39,] \"0.0575094975137507\" \n",
       "[40,] \"0.0100126699454193\" \n",
       "[41,] \"0.0388085281218913\" \n",
       "[42,] \"0.0441234236020595\" \n",
       "[43,] \"0.0603959895158001\" \n",
       "[44,] \"0.0719201325549642\" \n",
       "[45,] \"0.0462292176591609\" \n",
       "[46,] \"0.0518432385966345\" \n",
       "[47,] \"0.0375024438222214\" \n",
       "[48,] \"0.0343288931969272\" \n",
       "[49,] \"0.0427399852770666\" \n",
       "[50,] \"0.0258010323927128\" \n",
       "[51,] \"0.0566581895439851\" \n",
       "[52,] \"0.0287820666630101\" \n",
       "[53,] \"0.00849542697698939\"\n",
       "[54,] \"0.00717313378246374\"\n",
       "[55,] \"0.0448570260242524\" \n",
       "[56,] \"0.0171188512100334\" \n",
       "[57,] \"0.00867253653148922\"\n",
       "[58,] \"0.0438648888241686\" \n",
       "[59,] \"0.0278298862020015\" \n",
       "[60,] \"0.0365500360593288\" \n",
       "[61,] \"0.0409503916851576\" "
      ]
     },
     "metadata": {},
     "output_type": "display_data"
    }
   ],
   "source": [
    "matFst <- as.matrix(distFst, rownames.force=TRUE)\n",
    "matFst\n",
    "#distFst\n",
    "#df <- melt(as.matrix(d), varnames = c(\"row\", \"col\")\n",
    "#matFst <- matrix(matFst)\n",
    "#rownames(matFst) <- popNames(pop_data)"
   ]
  },
  {
   "cell_type": "code",
   "execution_count": 36,
   "metadata": {
    "collapsed": false,
    "scrolled": true
   },
   "outputs": [
    {
     "data": {},
     "metadata": {},
     "output_type": "display_data"
    },
    {
     "data": {
      "image/png": "[encoded data removed]",
      "text/plain": [
       "plot without title"
      ]
     },
     "metadata": {},
     "output_type": "display_data"
    }
   ],
   "source": [
    "#options(repr.plot.width=6,repr.plot.height=5)\n",
    "ggplot(data = melted, aes(Var2, Var1, fill = value))+\n",
    " geom_tile(color = \"white\")+\n",
    " scale_fill_gradient(low = \"white\", high = \"red\", \n",
    "   name=\"FST\")  + ggtitle(expression(atop(\"Pairwise FST with O.conchaphila\", atop(italic(\"N = 212, L = 1791\"), \"\"))))+\n",
    "labs( x = \"Sampling Site\", y = \"Sampling Site\") +\n",
    " theme(axis.text.x = element_text(angle = 45, vjust = 1, \n",
    "    size = 12, hjust = 1))+ coord_fixed()"
   ]
  },
  {
   "cell_type": "markdown",
   "metadata": {},
   "source": [
    "## PCA"
   ]
  },
  {
   "cell_type": "code",
   "execution_count": 172,
   "metadata": {
    "collapsed": false
   },
   "outputs": [
    {
     "data": {
      "text/html": [
       "184668"
      ],
      "text/latex": [
       "184668"
      ],
      "text/markdown": [
       "184668"
      ],
      "text/plain": [
       "[1] 184668"
      ]
     },
     "metadata": {},
     "output_type": "display_data"
    }
   ],
   "source": [
    "sum(is.na(ind_data$tab))"
   ]
  },
  {
   "cell_type": "code",
   "execution_count": 173,
   "metadata": {
    "collapsed": false
   },
   "outputs": [
    {
     "name": "stderr",
     "output_type": "stream",
     "text": [
      "Warning message in .local(x, ...):\n",
      "“Some scaling values are null.\n",
      " Corresponding alleles are removed.”"
     ]
    }
   ],
   "source": [
    "scaled <- scaleGen(ind_data, NA.method=\"mean\")"
   ]
  },
  {
   "cell_type": "code",
   "execution_count": 174,
   "metadata": {
    "collapsed": false
   },
   "outputs": [
    {
     "data": {
      "image/png": "[encoded data removed]",
      "text/plain": [
       "Plot with title “PCA eigenvalues”"
      ]
     },
     "metadata": {},
     "output_type": "display_data"
    }
   ],
   "source": [
    "pca1 <- dudi.pca(scaled,cent=FALSE,scale=FALSE,scannf=FALSE,nf=3)\n",
    "barplot(pca1$eig[1:50],main=\"PCA eigenvalues\", col=heat.colors(50))"
   ]
  },
  {
   "cell_type": "code",
   "execution_count": 186,
   "metadata": {
    "collapsed": false
   },
   "outputs": [
    {
     "data": {
      "image/png": "[encoded data removed]",
      "text/plain": [
       "plot without title"
      ]
     },
     "metadata": {},
     "output_type": "display_data"
    }
   ],
   "source": [
    "col <- funky(15)\n",
    "s.class(pca1$li, pop(ind_data),xax=1,yax=2, sub = \"PCA 1-2\",col=col, axesell=FALSE,\n",
    "cstar=0, cpoint=3, grid=FALSE)\n",
    "add.scatter.eig(pca1$eig[1:20],nf=3,xax=1,yax=2)"
   ]
  },
  {
   "cell_type": "code",
   "execution_count": 187,
   "metadata": {
    "collapsed": false,
    "scrolled": true
   },
   "outputs": [
    {
     "data": {
      "image/png": "[encoded data removed]",
      "text/plain": [
       "plot without title"
      ]
     },
     "metadata": {},
     "output_type": "display_data"
    }
   ],
   "source": [
    "col <- funky(15)\n",
    "s.class(pca1$li, pop(ind_data),xax=1,yax=3, sub = \"PCA 1-3\",col=col, axesell=FALSE,\n",
    "cstar=0, cpoint=3, grid=FALSE)\n",
    "add.scatter.eig(pca1$eig[1:20],nf=3,xax=1,yax=3)"
   ]
  },
  {
   "cell_type": "code",
   "execution_count": 188,
   "metadata": {
    "collapsed": true
   },
   "outputs": [],
   "source": [
    "inputfile = \"/home/ksil91/Projects/Ostrea/over10k-min75H32/o10k-min75H32-exRepOLu.str\"\n",
    "Sys.setenv(IN=\"/home/ksil91/Projects/Ostrea/over10k-min75H32/o10k-min75H32-exRepOLu.str\")"
   ]
  },
  {
   "cell_type": "code",
   "execution_count": 189,
   "metadata": {
    "collapsed": false
   },
   "outputs": [
    {
     "data": {
      "text/html": [
       "1791"
      ],
      "text/latex": [
       "1791"
      ],
      "text/markdown": [
       "1791"
      ],
      "text/plain": [
       "[1] 1791"
      ]
     },
     "metadata": {},
     "output_type": "display_data"
    }
   ],
   "source": [
    "nloci = -2+as.numeric(system(\"awk '{print NF}' ${IN} | sort -nu | tail -n 1\", intern=TRUE))\n",
    "nloci"
   ]
  },
  {
   "cell_type": "code",
   "execution_count": 190,
   "metadata": {
    "collapsed": false
   },
   "outputs": [
    {
     "data": {
      "text/html": [
       "'407 /home/ksil91/Projects/Ostrea/over10k-min75H32/o10k-min75H32-exRepOLu.str'"
      ],
      "text/latex": [
       "'407 /home/ksil91/Projects/Ostrea/over10k-min75H32/o10k-min75H32-exRepOLu.str'"
      ],
      "text/markdown": [
       "'407 /home/ksil91/Projects/Ostrea/over10k-min75H32/o10k-min75H32-exRepOLu.str'"
      ],
      "text/plain": [
       "[1] \"407 /home/ksil91/Projects/Ostrea/over10k-min75H32/o10k-min75H32-exRepOLu.str\""
      ]
     },
     "metadata": {},
     "output_type": "display_data"
    }
   ],
   "source": [
    "system(\"wc -l ${IN}\", intern=TRUE)"
   ]
  },
  {
   "cell_type": "code",
   "execution_count": 191,
   "metadata": {
    "collapsed": true
   },
   "outputs": [],
   "source": [
    "nind = 406/2"
   ]
  },
  {
   "cell_type": "code",
   "execution_count": 208,
   "metadata": {
    "collapsed": false
   },
   "outputs": [
    {
     "name": "stdout",
     "output_type": "stream",
     "text": [
      "\n",
      " Converting data from a STRUCTURE .stru file to a genind object... \n",
      "\n"
     ]
    },
    {
     "name": "stderr",
     "output_type": "stream",
     "text": [
      "Warning message in df2genind(X = X, pop = pop, ploidy = 2, sep = sep, ncode = ncode):\n",
      "“entirely non-type marker(s) deleted”"
     ]
    },
    {
     "data": {
      "text/plain": [
       "/// GENIND OBJECT /////////\n",
       "\n",
       " // 203 individuals; 1,790 loci; 3,265 alleles; size: 3.3 Mb\n",
       "\n",
       " // Basic content\n",
       "   @tab:  203 x 3265 matrix of allele counts\n",
       "   @loc.n.all: number of alleles per locus (range: 1-3)\n",
       "   @loc.fac: locus factor for the 3265 columns of @tab\n",
       "   @all.names: list of allele names for each locus\n",
       "   @ploidy: ploidy of each individual  (range: 2-2)\n",
       "   @type:  codom\n",
       "   @call: read.structure(file = inputfile, n.ind = nind, n.loc = nloci, \n",
       "    onerowperind = FALSE, col.lab = 1, col.pop = 2, row.marknames = 1, \n",
       "    ask = FALSE)\n",
       "\n",
       " // Optional content\n",
       "   @pop: population of each individual (group size range: 9-16)"
      ]
     },
     "metadata": {},
     "output_type": "display_data"
    }
   ],
   "source": [
    "ind_data_OL <- read.structure(inputfile, n.ind=nind,n.loc=nloci,onerowperind=FALSE,\n",
    "                           col.lab=1,col.pop=2,row.marknames=1, ask=FALSE)\n",
    "ind_data_OL"
   ]
  },
  {
   "cell_type": "code",
   "execution_count": 209,
   "metadata": {
    "collapsed": false
   },
   "outputs": [],
   "source": [
    "poptable = read.table(\"structure_outputs/o10kexRepu_OL19pop.distruct\",header=FALSE)\n",
    "old_pops <- ind_data_OL@pop\n",
    "new_pops = {}\n",
    "for (i in 1:length(old_pops)){\n",
    "    new_pops[i] = as.character(poptable$V2[match(old_pops[i],poptable$V1)])\n",
    "}\n",
    "pop(ind_data_OL) <- new_pops\n",
    "sum_ind_OL <- summary(ind_data_OL)"
   ]
  },
  {
   "cell_type": "code",
   "execution_count": 211,
   "metadata": {
    "collapsed": false
   },
   "outputs": [
    {
     "name": "stdout",
     "output_type": "stream",
     "text": [
      "\n",
      " Converting data from a genind to a genpop object... \n",
      "\n",
      "...done.\n",
      "\n"
     ]
    },
    {
     "data": {
      "text/html": [
       "<ol class=list-inline>\n",
       "\t<li>'Victoria'</li>\n",
       "\t<li>'Klaskino'</li>\n",
       "\t<li>'Barkeley_Sound'</li>\n",
       "\t<li>'Ladysmith'</li>\n",
       "\t<li>'San_Diego'</li>\n",
       "\t<li>'SF'</li>\n",
       "\t<li>'Tomales'</li>\n",
       "\t<li>'Elkhorn_SLough'</li>\n",
       "\t<li>'Humboldt'</li>\n",
       "\t<li>'Mugu_Lagoon'</li>\n",
       "\t<li>'Coos'</li>\n",
       "\t<li>'Yaquina'</li>\n",
       "\t<li>'Netarts'</li>\n",
       "\t<li>'Triton_Cove'</li>\n",
       "\t<li>'Liberty_Bay'</li>\n",
       "\t<li>'Discovery_Bay'</li>\n",
       "\t<li>'North_Bay'</li>\n",
       "</ol>\n"
      ],
      "text/latex": [
       "\\begin{enumerate*}\n",
       "\\item 'Victoria'\n",
       "\\item 'Klaskino'\n",
       "\\item 'Barkeley\\_Sound'\n",
       "\\item 'Ladysmith'\n",
       "\\item 'San\\_Diego'\n",
       "\\item 'SF'\n",
       "\\item 'Tomales'\n",
       "\\item 'Elkhorn\\_SLough'\n",
       "\\item 'Humboldt'\n",
       "\\item 'Mugu\\_Lagoon'\n",
       "\\item 'Coos'\n",
       "\\item 'Yaquina'\n",
       "\\item 'Netarts'\n",
       "\\item 'Triton\\_Cove'\n",
       "\\item 'Liberty\\_Bay'\n",
       "\\item 'Discovery\\_Bay'\n",
       "\\item 'North\\_Bay'\n",
       "\\end{enumerate*}\n"
      ],
      "text/markdown": [
       "1. 'Victoria'\n",
       "2. 'Klaskino'\n",
       "3. 'Barkeley_Sound'\n",
       "4. 'Ladysmith'\n",
       "5. 'San_Diego'\n",
       "6. 'SF'\n",
       "7. 'Tomales'\n",
       "8. 'Elkhorn_SLough'\n",
       "9. 'Humboldt'\n",
       "10. 'Mugu_Lagoon'\n",
       "11. 'Coos'\n",
       "12. 'Yaquina'\n",
       "13. 'Netarts'\n",
       "14. 'Triton_Cove'\n",
       "15. 'Liberty_Bay'\n",
       "16. 'Discovery_Bay'\n",
       "17. 'North_Bay'\n",
       "\n",
       "\n"
      ],
      "text/plain": [
       " [1] \"Victoria\"       \"Klaskino\"       \"Barkeley_Sound\" \"Ladysmith\"     \n",
       " [5] \"San_Diego\"      \"SF\"             \"Tomales\"        \"Elkhorn_SLough\"\n",
       " [9] \"Humboldt\"       \"Mugu_Lagoon\"    \"Coos\"           \"Yaquina\"       \n",
       "[13] \"Netarts\"        \"Triton_Cove\"    \"Liberty_Bay\"    \"Discovery_Bay\" \n",
       "[17] \"North_Bay\"     "
      ]
     },
     "metadata": {},
     "output_type": "display_data"
    }
   ],
   "source": [
    "pop_data_OL <- genind2genpop(ind_data_OL)\n",
    "popNames(pop_data_OL)\n",
    "sum_pop_OL <- summary(pop_data_OL)"
   ]
  },
  {
   "cell_type": "code",
   "execution_count": 212,
   "metadata": {
    "collapsed": false
   },
   "outputs": [
    {
     "name": "stderr",
     "output_type": "stream",
     "text": [
      "Warning message in .local(x, ...):\n",
      "“Some scaling values are null.\n",
      " Corresponding alleles are removed.”"
     ]
    },
    {
     "data": {
      "image/png": "[encoded data removed]",
      "text/plain": [
       "Plot with title “PCA eigenvalues”"
      ]
     },
     "metadata": {},
     "output_type": "display_data"
    }
   ],
   "source": [
    "scaled <- scaleGen(ind_data_OL, NA.method=\"mean\")\n",
    "pca1.OL <- dudi.pca(scaled,cent=FALSE,scale=FALSE,scannf=FALSE,nf=3)\n",
    "barplot(pca1.OL$eig[1:50],main=\"PCA eigenvalues\", col=heat.colors(50))"
   ]
  },
  {
   "cell_type": "code",
   "execution_count": 213,
   "metadata": {
    "collapsed": false
   },
   "outputs": [
    {
     "data": {
      "image/png": "[encoded data removed]",
      "text/plain": [
       "Plot with title “PCA w/out Conch 1-2”"
      ]
     },
     "metadata": {},
     "output_type": "display_data"
    }
   ],
   "source": [
    "col <- funky(15)\n",
    "s.class(pca1.OL$li, pop(ind_data_OL),xax=1,yax=2,col=col, axesell=FALSE,\n",
    "cstar=0, cpoint=3, grid=FALSE)\n",
    "title(\"PCA w/out Conch 1-2\")\n",
    "add.scatter.eig(pca1.OL$eig[1:20],nf=3,xax=1,yax=2)"
   ]
  },
  {
   "cell_type": "code",
   "execution_count": 214,
   "metadata": {
    "collapsed": false,
    "scrolled": false
   },
   "outputs": [
    {
     "data": {
      "image/png": "[encoded data removed]",
      "text/plain": [
       "Plot with title “PCA w/out Conch 1-3”"
      ]
     },
     "metadata": {},
     "output_type": "display_data"
    }
   ],
   "source": [
    "col <- funky(15)\n",
    "s.class(pca1.OL$li, pop(ind_data_OL),xax=1,yax=3,col=col, axesell=FALSE,\n",
    "cstar=0, cpoint=3, grid=FALSE)\n",
    "title(\"PCA w/out Conch 1-3\")\n",
    "add.scatter.eig(pca1.OL$eig[1:20],nf=3,xax=1,yax=3)"
   ]
  },
  {
   "cell_type": "code",
   "execution_count": 215,
   "metadata": {
    "collapsed": false
   },
   "outputs": [
    {
     "data": {
      "image/png": "[encoded data removed]",
      "text/plain": [
       "Plot with title “Correspondance Analysis eigenvalues”"
      ]
     },
     "metadata": {},
     "output_type": "display_data"
    }
   ],
   "source": [
    "ca1.OL <- dudi.coa(tab(pop_data_OL),scannf=FALSE,nf=3)\n",
    "barplot(ca1.OL$eig,main=\"Correspondance Analysis eigenvalues\",\n",
    "col=heat.colors(length(ca1.OL$eig)))"
   ]
  },
  {
   "cell_type": "code",
   "execution_count": 222,
   "metadata": {
    "collapsed": false
   },
   "outputs": [
    {
     "data": {
      "image/png": "[encoded data removed]",
      "text/plain": [
       "plot without title"
      ]
     },
     "metadata": {},
     "output_type": "display_data"
    }
   ],
   "source": [
    "s.label(ca1.OL$li,xax=1,yax=2,lab=popNames(pop_data_OL),csub=2)\n",
    "add.scatter.eig(ca1.OL$eig,nf=3,xax=1,yax=2,posi=\"bottomleft\")"
   ]
  },
  {
   "cell_type": "code",
   "execution_count": 224,
   "metadata": {
    "collapsed": false
   },
   "outputs": [
    {
     "data": {
      "image/png": "[encoded data removed]",
      "text/plain": [
       "plot without title"
      ]
     },
     "metadata": {},
     "output_type": "display_data"
    }
   ],
   "source": [
    "s.label(ca1.OL$li,xax=2,yax=3,lab=popNames(pop_data_OL),csub=2)\n",
    "add.scatter.eig(ca1.OL$eig,nf=3,xax=2,yax=3,posi=\"bottomleft\")"
   ]
  },
  {
   "cell_type": "code",
   "execution_count": null,
   "metadata": {
    "collapsed": true
   },
   "outputs": [],
   "source": []
  }
 ],
 "metadata": {
  "kernelspec": {
   "display_name": "R",
   "language": "R",
   "name": "ir"
  },
  "language_info": {
   "codemirror_mode": "r",
   "file_extension": ".r",
   "mimetype": "text/x-r-source",
   "name": "R",
   "pygments_lexer": "r",
   "version": "3.3.1"
  }
 },
 "nbformat": 4,
 "nbformat_minor": 0
}
