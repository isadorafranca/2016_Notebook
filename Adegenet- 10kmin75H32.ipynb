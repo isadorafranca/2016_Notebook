{
 "cells": [
  {
   "cell_type": "markdown",
   "metadata": {},
   "source": [
    "## Adegenet"
   ]
  },
  {
   "cell_type": "code",
   "execution_count": 1,
   "metadata": {
    "collapsed": false,
    "scrolled": true
   },
   "outputs": [
    {
     "name": "stderr",
     "output_type": "stream",
     "text": [
      "Loading required package: ade4\n",
      "\n",
      "   /// adegenet 2.0.1 is loaded ////////////\n",
      "\n",
      "   > overview: '?adegenet'\n",
      "   > tutorials/doc/questions: 'adegenetWeb()' \n",
      "   > bug reports/feature requests: adegenetIssues()\n",
      "\n",
      "\n",
      "Loading required package: ape\n",
      "\n",
      "Attaching package: ‘pegas’\n",
      "\n",
      "The following object is masked from ‘package:ape’:\n",
      "\n",
      "    mst\n",
      "\n",
      "The following object is masked from ‘package:ade4’:\n",
      "\n",
      "    amova\n",
      "\n",
      "\n",
      "Attaching package: ‘hierfstat’\n",
      "\n",
      "The following objects are masked from ‘package:ape’:\n",
      "\n",
      "    pcoa, varcomp\n",
      "\n",
      "The following object is masked from ‘package:adegenet’:\n",
      "\n",
      "    read.fstat\n",
      "\n",
      "\n",
      "Attaching package: ‘dplyr’\n",
      "\n",
      "The following objects are masked from ‘package:stats’:\n",
      "\n",
      "    filter, lag\n",
      "\n",
      "The following objects are masked from ‘package:base’:\n",
      "\n",
      "    intersect, setdiff, setequal, union\n",
      "\n"
     ]
    }
   ],
   "source": [
    "library(adegenet)\n",
    "library(pegas)\n",
    "library(hierfstat)\n",
    "library(ggplot2)\n",
    "library(dplyr)\n",
    "library(reshape2)\n",
    "setwd(\"/home/ksil91/Projects/Ostrea/over10k-min75H32/\")"
   ]
  },
  {
   "cell_type": "code",
   "execution_count": 2,
   "metadata": {
    "collapsed": false
   },
   "outputs": [],
   "source": [
    "inputfile = \"o10k-min75H32-exRepu.str\"\n",
    "Sys.setenv(IN=\"o10k-min75H32-exRepu.str\")"
   ]
  },
  {
   "cell_type": "code",
   "execution_count": 3,
   "metadata": {
    "collapsed": false
   },
   "outputs": [
    {
     "data": {
      "text/html": [
       "1791"
      ],
      "text/latex": [
       "1791"
      ],
      "text/markdown": [
       "1791"
      ],
      "text/plain": [
       "[1] 1791"
      ]
     },
     "metadata": {},
     "output_type": "display_data"
    }
   ],
   "source": [
    "nloci = -2+as.numeric(system(\"awk '{print NF}' ${IN} | sort -nu | tail -n 1\", intern=TRUE))\n",
    "nloci"
   ]
  },
  {
   "cell_type": "code",
   "execution_count": 4,
   "metadata": {
    "collapsed": false
   },
   "outputs": [
    {
     "data": {
      "text/html": [
       "'425 o10k-min75H32-exRepu.str'"
      ],
      "text/latex": [
       "'425 o10k-min75H32-exRepu.str'"
      ],
      "text/markdown": [
       "'425 o10k-min75H32-exRepu.str'"
      ],
      "text/plain": [
       "[1] \"425 o10k-min75H32-exRepu.str\""
      ]
     },
     "metadata": {},
     "output_type": "display_data"
    }
   ],
   "source": [
    "system(\"wc -l ${IN}\", intern=TRUE)"
   ]
  },
  {
   "cell_type": "code",
   "execution_count": 5,
   "metadata": {
    "collapsed": false
   },
   "outputs": [
    {
     "data": {
      "text/html": [
       "212"
      ],
      "text/latex": [
       "212"
      ],
      "text/markdown": [
       "212"
      ],
      "text/plain": [
       "[1] 212"
      ]
     },
     "metadata": {},
     "output_type": "display_data"
    }
   ],
   "source": [
    "nind = 424/2\n",
    "nind"
   ]
  },
  {
   "cell_type": "code",
   "execution_count": 70,
   "metadata": {
    "collapsed": false,
    "scrolled": true
   },
   "outputs": [
    {
     "name": "stdout",
     "output_type": "stream",
     "text": [
      "\n",
      " Converting data from a STRUCTURE .stru file to a genind object... \n",
      "\n"
     ]
    },
    {
     "data": {
      "text/plain": [
       "/// GENIND OBJECT /////////\n",
       "\n",
       " // 212 individuals; 1,791 loci; 3,601 alleles; size: 3.8 Mb\n",
       "\n",
       " // Basic content\n",
       "   @tab:  212 x 3601 matrix of allele counts\n",
       "   @loc.n.all: number of alleles per locus (range: 1-3)\n",
       "   @loc.fac: locus factor for the 3601 columns of @tab\n",
       "   @all.names: list of allele names for each locus\n",
       "   @ploidy: ploidy of each individual  (range: 2-2)\n",
       "   @type:  codom\n",
       "   @call: read.structure(file = inputfile, n.ind = nind, n.loc = nloci, \n",
       "    onerowperind = FALSE, col.lab = 1, col.pop = 2, row.marknames = 1, \n",
       "    ask = FALSE)\n",
       "\n",
       " // Optional content\n",
       "   @pop: population of each individual (group size range: 9-16)"
      ]
     },
     "metadata": {},
     "output_type": "display_data"
    }
   ],
   "source": [
    "ind_data <- read.structure(inputfile, n.ind=nind,n.loc=nloci,onerowperind=FALSE,\n",
    "                           col.lab=1,col.pop=2,row.marknames=1, ask=FALSE)\n",
    "ind_data"
   ]
  },
  {
   "cell_type": "code",
   "execution_count": 71,
   "metadata": {
    "collapsed": false
   },
   "outputs": [
    {
     "data": {
      "text/html": [
       "<ol class=list-inline>\n",
       "\t<li>'n'</li>\n",
       "\t<li>'n.by.pop'</li>\n",
       "\t<li>'loc.n.all'</li>\n",
       "\t<li>'pop.n.all'</li>\n",
       "\t<li>'NA.perc'</li>\n",
       "\t<li>'Hobs'</li>\n",
       "\t<li>'Hexp'</li>\n",
       "</ol>\n"
      ],
      "text/latex": [
       "\\begin{enumerate*}\n",
       "\\item 'n'\n",
       "\\item 'n.by.pop'\n",
       "\\item 'loc.n.all'\n",
       "\\item 'pop.n.all'\n",
       "\\item 'NA.perc'\n",
       "\\item 'Hobs'\n",
       "\\item 'Hexp'\n",
       "\\end{enumerate*}\n"
      ],
      "text/markdown": [
       "1. 'n'\n",
       "2. 'n.by.pop'\n",
       "3. 'loc.n.all'\n",
       "4. 'pop.n.all'\n",
       "5. 'NA.perc'\n",
       "6. 'Hobs'\n",
       "7. 'Hexp'\n",
       "\n",
       "\n"
      ],
      "text/plain": [
       "[1] \"n\"         \"n.by.pop\"  \"loc.n.all\" \"pop.n.all\" \"NA.perc\"   \"Hobs\"     \n",
       "[7] \"Hexp\"     "
      ]
     },
     "metadata": {},
     "output_type": "display_data"
    }
   ],
   "source": [
    "poptable = read.table(\"structure_outputs/o10kexRepu_19pop.distruct\",header=FALSE)\n",
    "old_pops <- ind_data@pop\n",
    "new_pops = {}\n",
    "for (i in 1:length(old_pops)){\n",
    "    new_pops[i] = as.character(poptable$V2[match(old_pops[i],poptable$V1)])\n",
    "}\n",
    "pop(ind_data) <- new_pops\n",
    "sum_ind <- summary(ind_data)\n",
    "names(sum_ind)"
   ]
  },
  {
   "cell_type": "code",
   "execution_count": 31,
   "metadata": {
    "collapsed": false
   },
   "outputs": [],
   "source": [
    "loc_cov <- propTyped(ind_data, by = \"loc\")\n",
    "ind_cov <- propTyped(ind_data, by = \"ind\")"
   ]
  },
  {
   "cell_type": "code",
   "execution_count": 48,
   "metadata": {
    "collapsed": false,
    "scrolled": false
   },
   "outputs": [
    {
     "data": {
      "text/html": [
       "<dl class=dl-horizontal>\n",
       "\t<dt>BC3_12</dt>\n",
       "\t\t<dd>0.245672808486879</dd>\n",
       "\t<dt>BC4_17</dt>\n",
       "\t\t<dd>0.242881072026801</dd>\n",
       "\t<dt>CA1_1</dt>\n",
       "\t\t<dd>0.184812953657175</dd>\n",
       "\t<dt>CA6_15</dt>\n",
       "\t\t<dd>0.175879396984925</dd>\n",
       "\t<dt>CA6_8</dt>\n",
       "\t\t<dd>0.0965940815187046</dd>\n",
       "\t<dt>Conch_1</dt>\n",
       "\t\t<dd>0.205471803461753</dd>\n",
       "\t<dt>Conch_21</dt>\n",
       "\t\t<dd>0.00781686208821887</dd>\n",
       "\t<dt>Conch_26</dt>\n",
       "\t\t<dd>0.248464544946957</dd>\n",
       "\t<dt>OR2_7</dt>\n",
       "\t\t<dd>0.248464544946957</dd>\n",
       "\t<dt>OR3_3w_7</dt>\n",
       "\t\t<dd>0.145170295924065</dd>\n",
       "\t<dt>WA13_5</dt>\n",
       "\t\t<dd>0.225572305974316</dd>\n",
       "\t<dt>WA1_8</dt>\n",
       "\t\t<dd>0.149078726968174</dd>\n",
       "</dl>\n"
      ],
      "text/latex": [
       "\\begin{description*}\n",
       "\\item[BC3\\textbackslash{}\\_12] 0.245672808486879\n",
       "\\item[BC4\\textbackslash{}\\_17] 0.242881072026801\n",
       "\\item[CA1\\textbackslash{}\\_1] 0.184812953657175\n",
       "\\item[CA6\\textbackslash{}\\_15] 0.175879396984925\n",
       "\\item[CA6\\textbackslash{}\\_8] 0.0965940815187046\n",
       "\\item[Conch\\textbackslash{}\\_1] 0.205471803461753\n",
       "\\item[Conch\\textbackslash{}\\_21] 0.00781686208821887\n",
       "\\item[Conch\\textbackslash{}\\_26] 0.248464544946957\n",
       "\\item[OR2\\textbackslash{}\\_7] 0.248464544946957\n",
       "\\item[OR3\\textbackslash{}\\_3w\\textbackslash{}\\_7] 0.145170295924065\n",
       "\\item[WA13\\textbackslash{}\\_5] 0.225572305974316\n",
       "\\item[WA1\\textbackslash{}\\_8] 0.149078726968174\n",
       "\\end{description*}\n"
      ],
      "text/markdown": [
       "BC3_12\n",
       ":   0.245672808486879BC4_17\n",
       ":   0.242881072026801CA1_1\n",
       ":   0.184812953657175CA6_15\n",
       ":   0.175879396984925CA6_8\n",
       ":   0.0965940815187046Conch_1\n",
       ":   0.205471803461753Conch_21\n",
       ":   0.00781686208821887Conch_26\n",
       ":   0.248464544946957OR2_7\n",
       ":   0.248464544946957OR3_3w_7\n",
       ":   0.145170295924065WA13_5\n",
       ":   0.225572305974316WA1_8\n",
       ":   0.149078726968174\n",
       "\n"
      ],
      "text/plain": [
       "     BC3_12      BC4_17       CA1_1      CA6_15       CA6_8     Conch_1 \n",
       "0.245672808 0.242881072 0.184812954 0.175879397 0.096594082 0.205471803 \n",
       "   Conch_21    Conch_26       OR2_7    OR3_3w_7      WA13_5       WA1_8 \n",
       "0.007816862 0.248464545 0.248464545 0.145170296 0.225572306 0.149078727 "
      ]
     },
     "metadata": {},
     "output_type": "display_data"
    }
   ],
   "source": [
    "ind_cov[which(ind_cov < 0.25)]"
   ]
  },
  {
   "cell_type": "code",
   "execution_count": 56,
   "metadata": {
    "collapsed": false
   },
   "outputs": [
    {
     "data": {
      "text/plain": [
       "/// GENIND OBJECT /////////\n",
       "\n",
       " // 200 individuals; 1,775 loci; 3,532 alleles; size: 3.5 Mb\n",
       "\n",
       " // Basic content\n",
       "   @tab:  200 x 3532 matrix of allele counts\n",
       "   @loc.n.all: number of alleles per locus (range: 1-3)\n",
       "   @loc.fac: locus factor for the 3532 columns of @tab\n",
       "   @all.names: list of allele names for each locus\n",
       "   @ploidy: ploidy of each individual  (range: 2-2)\n",
       "   @type:  codom\n",
       "   @call: .local(x = x, i = i, j = j, loc = ..1, drop = drop)\n",
       "\n",
       " // Optional content\n",
       "   @pop: population of each individual (group size range: 6-15)"
      ]
     },
     "metadata": {},
     "output_type": "display_data"
    }
   ],
   "source": [
    "ind_data_25 <- ind_data[which(ind_cov > 0.25), , drop =TRUE]\n",
    "loc_cov_25 <- propTyped(ind_data_25, by = \"loc\")\n",
    "ind_data50_25 <- ind_data_25[,loc = which(loc_cov_25 > 0.5)]\n",
    "ind_data50_25\n",
    "sum_ind50_25 <- summary(ind_data50_25)"
   ]
  },
  {
   "cell_type": "code",
   "execution_count": 35,
   "metadata": {
    "collapsed": false,
    "scrolled": true
   },
   "outputs": [
    {
     "data": {
      "text/plain": [
       "/// GENIND OBJECT /////////\n",
       "\n",
       " // 212 individuals; 1,775 loci; 3,569 alleles; size: 3.7 Mb\n",
       "\n",
       " // Basic content\n",
       "   @tab:  212 x 3569 matrix of allele counts\n",
       "   @loc.n.all: number of alleles per locus (range: 1-3)\n",
       "   @loc.fac: locus factor for the 3569 columns of @tab\n",
       "   @all.names: list of allele names for each locus\n",
       "   @ploidy: ploidy of each individual  (range: 2-2)\n",
       "   @type:  codom\n",
       "   @call: .local(x = x, i = i, j = j, loc = ..1, drop = drop)\n",
       "\n",
       " // Optional content\n",
       "   @pop: population of each individual (group size range: 9-16)"
      ]
     },
     "metadata": {},
     "output_type": "display_data"
    }
   ],
   "source": [
    "ind_data50 <- ind_data[,loc = which(loc_cov > 0.5)]\n",
    "ind_data50\n",
    "sum_ind50 <- summary(ind_data50)"
   ]
  },
  {
   "cell_type": "code",
   "execution_count": 98,
   "metadata": {
    "collapsed": false
   },
   "outputs": [
    {
     "data": {
      "text/plain": [
       "/// GENIND OBJECT /////////\n",
       "\n",
       " // 194 individuals; 1,775 loci; 3,183 alleles; size: 3.1 Mb\n",
       "\n",
       " // Basic content\n",
       "   @tab:  194 x 3183 matrix of allele counts\n",
       "   @loc.n.all: number of alleles per locus (range: 1-3)\n",
       "   @loc.fac: locus factor for the 3183 columns of @tab\n",
       "   @all.names: list of allele names for each locus\n",
       "   @ploidy: ploidy of each individual  (range: 2-2)\n",
       "   @type:  codom\n",
       "   @call: .local(x = x, i = i, j = j, drop = drop)\n",
       "\n",
       " // Optional content\n",
       "   @pop: population of each individual (group size range: 9-15)"
      ]
     },
     "metadata": {},
     "output_type": "display_data"
    }
   ],
   "source": [
    "ind_noc50_25 <- ind_data50_25[which(ind_data50_25@pop != \"Conchaphila\"), , drop=TRUE]\n",
    "ind_noc50_25"
   ]
  },
  {
   "cell_type": "code",
   "execution_count": 57,
   "metadata": {
    "collapsed": false
   },
   "outputs": [
    {
     "data": {
      "image/png": "[encoded data removed]",
      "text/plain": [
       "Plot with title “All loci: Heterozygosity: expected-observed”"
      ]
     },
     "metadata": {},
     "output_type": "display_data"
    },
    {
     "data": {
      "image/png": "[encoded data removed]",
      "text/plain": [
       "Plot with title “Loci > 50%: Heterozygosity: expected-observed”"
      ]
     },
     "metadata": {},
     "output_type": "display_data"
    },
    {
     "data": {
      "image/png": "[encoded data removed]",
      "text/plain": [
       "Plot with title “Loci > 50%, Inds > 25%: Heterozygosity: expected-observed”"
      ]
     },
     "metadata": {},
     "output_type": "display_data"
    }
   ],
   "source": [
    "barplot(sum_ind$Hexp-sum_ind$Hobs, main = \"All loci: Heterozygosity: expected-observed\", ylab=\"Hexp-Hobs\")\n",
    "barplot(sum_ind50$Hexp-sum_ind50$Hobs, main = \"Loci > 50%: Heterozygosity: expected-observed\", ylab=\"Hexp-Hobs\")\n",
    "barplot(sum_ind50_25$Hexp-sum_ind50_25$Hobs, main = \"Loci > 50%, Inds > 25%: Heterozygosity: expected-observed\", ylab=\"Hexp-Hobs\")"
   ]
  },
  {
   "cell_type": "code",
   "execution_count": 37,
   "metadata": {
    "collapsed": false
   },
   "outputs": [
    {
     "data": {
      "text/plain": [
       "\n",
       "\tBartlett test of homogeneity of variances\n",
       "\n",
       "data:  list(sum_ind50$Hexp, sum_ind50$Hobs)\n",
       "Bartlett's K-squared = 77.958, df = 1, p-value < 2.2e-16\n"
      ]
     },
     "metadata": {},
     "output_type": "display_data"
    },
    {
     "data": {
      "text/plain": [
       "\n",
       "\tPaired t-test\n",
       "\n",
       "data:  sum_ind50$Hexp and sum_ind50$Hobs\n",
       "t = 16.96, df = 1774, p-value < 2.2e-16\n",
       "alternative hypothesis: true difference in means is greater than 0\n",
       "95 percent confidence interval:\n",
       " 0.01026831        Inf\n",
       "sample estimates:\n",
       "mean of the differences \n",
       "             0.01137176 \n"
      ]
     },
     "metadata": {},
     "output_type": "display_data"
    }
   ],
   "source": [
    "bartlett.test(list(sum_ind50$Hexp,sum_ind50$Hobs))\n",
    "t.test(sum_ind50$Hexp,sum_ind50$Hobs,pair=T,var.equal=TRUE,alter=\"greater\")"
   ]
  },
  {
   "cell_type": "code",
   "execution_count": 58,
   "metadata": {
    "collapsed": false
   },
   "outputs": [
    {
     "data": {
      "text/plain": [
       "\n",
       "\tBartlett test of homogeneity of variances\n",
       "\n",
       "data:  list(sum_ind50_25$Hexp, sum_ind50_25$Hobs)\n",
       "Bartlett's K-squared = 75.993, df = 1, p-value < 2.2e-16\n"
      ]
     },
     "metadata": {},
     "output_type": "display_data"
    },
    {
     "data": {
      "text/plain": [
       "\n",
       "\tPaired t-test\n",
       "\n",
       "data:  sum_ind50_25$Hexp and sum_ind50_25$Hobs\n",
       "t = 16.697, df = 1774, p-value < 2.2e-16\n",
       "alternative hypothesis: true difference in means is greater than 0\n",
       "95 percent confidence interval:\n",
       " 0.01002067        Inf\n",
       "sample estimates:\n",
       "mean of the differences \n",
       "             0.01111633 \n"
      ]
     },
     "metadata": {},
     "output_type": "display_data"
    }
   ],
   "source": [
    "bartlett.test(list(sum_ind50_25$Hexp,sum_ind50_25$Hobs))\n",
    "t.test(sum_ind50_25$Hexp,sum_ind50_25$Hobs,pair=T,var.equal=TRUE,alter=\"greater\")"
   ]
  },
  {
   "cell_type": "markdown",
   "metadata": {},
   "source": [
    "Observed H is significantly lower than mean expected H."
   ]
  },
  {
   "cell_type": "code",
   "execution_count": 75,
   "metadata": {
    "collapsed": false
   },
   "outputs": [
    {
     "data": {
      "image/png": "[encoded data removed]",
      "text/plain": [
       "Plot with title “Sample sizes per population, 50_25”"
      ]
     },
     "metadata": {},
     "output_type": "display_data"
    }
   ],
   "source": [
    "options(repr.plot.width=5,repr.plot.height=4)\n",
    "barplot(sum_ind50_25$n.by.pop, main=\"Sample sizes per population, 50_25\", ylab=\"Number of genotypes\",las=3)"
   ]
  },
  {
   "cell_type": "code",
   "execution_count": 76,
   "metadata": {
    "collapsed": false
   },
   "outputs": [
    {
     "data": {
      "text/html": [
       "24.1843388852017"
      ],
      "text/latex": [
       "24.1843388852017"
      ],
      "text/markdown": [
       "24.1843388852017"
      ],
      "text/plain": [
       "[1] 24.18434"
      ]
     },
     "metadata": {},
     "output_type": "display_data"
    },
    {
     "data": {
      "text/html": [
       "23.5947382407653"
      ],
      "text/latex": [
       "23.5947382407653"
      ],
      "text/markdown": [
       "23.5947382407653"
      ],
      "text/plain": [
       "[1] 23.59474"
      ]
     },
     "metadata": {},
     "output_type": "display_data"
    },
    {
     "data": {
      "text/html": [
       "20.1067605633803"
      ],
      "text/latex": [
       "20.1067605633803"
      ],
      "text/markdown": [
       "20.1067605633803"
      ],
      "text/plain": [
       "[1] 20.10676"
      ]
     },
     "metadata": {},
     "output_type": "display_data"
    }
   ],
   "source": [
    "sum_ind$NA.perc\n",
    "sum_ind50$NA.perc\n",
    "sum_ind50_25$NA.perc"
   ]
  },
  {
   "cell_type": "code",
   "execution_count": 79,
   "metadata": {
    "collapsed": false
   },
   "outputs": [
    {
     "name": "stdout",
     "output_type": "stream",
     "text": [
      "\n",
      " Converting data from a genind to a genpop object... \n",
      "\n",
      "...done.\n",
      "\n"
     ]
    },
    {
     "data": {
      "text/plain": [
       "/// GENPOP OBJECT /////////\n",
       "\n",
       " // 19 populations; 1,791 loci; 3,601 alleles; size: 1.1 Mb\n",
       "\n",
       " // Basic content\n",
       "   @tab:  19 x 3601 matrix of allele counts\n",
       "   @loc.n.all: number of alleles per locus (range: 1-3)\n",
       "   @loc.fac: locus factor for the 3601 columns of @tab\n",
       "   @all.names: list of allele names for each locus\n",
       "   @ploidy: ploidy of each individual  (range: 2-2)\n",
       "   @type:  codom\n",
       "   @call: genind2genpop(x = ind_data)\n",
       "\n",
       " // Optional content\n",
       "   - empty -"
      ]
     },
     "metadata": {},
     "output_type": "display_data"
    }
   ],
   "source": [
    "pop_data <- genind2genpop(ind_data)\n",
    "pop_data"
   ]
  },
  {
   "cell_type": "code",
   "execution_count": 80,
   "metadata": {
    "collapsed": false
   },
   "outputs": [
    {
     "name": "stdout",
     "output_type": "stream",
     "text": [
      "\n",
      " Converting data from a genind to a genpop object... \n",
      "\n",
      "...done.\n",
      "\n"
     ]
    }
   ],
   "source": [
    "pop_data50_25 <- genind2genpop(ind_data50_25)"
   ]
  },
  {
   "cell_type": "code",
   "execution_count": 82,
   "metadata": {
    "collapsed": false,
    "scrolled": true
   },
   "outputs": [
    {
     "data": {
      "text/html": [
       "<ol class=list-inline>\n",
       "\t<li>'n.pop'</li>\n",
       "\t<li>'loc.n.all'</li>\n",
       "\t<li>'pop.n.all'</li>\n",
       "\t<li>'NA.perc'</li>\n",
       "</ol>\n"
      ],
      "text/latex": [
       "\\begin{enumerate*}\n",
       "\\item 'n.pop'\n",
       "\\item 'loc.n.all'\n",
       "\\item 'pop.n.all'\n",
       "\\item 'NA.perc'\n",
       "\\end{enumerate*}\n"
      ],
      "text/markdown": [
       "1. 'n.pop'\n",
       "2. 'loc.n.all'\n",
       "3. 'pop.n.all'\n",
       "4. 'NA.perc'\n",
       "\n",
       "\n"
      ],
      "text/plain": [
       "[1] \"n.pop\"     \"loc.n.all\" \"pop.n.all\" \"NA.perc\"  "
      ]
     },
     "metadata": {},
     "output_type": "display_data"
    }
   ],
   "source": [
    "sum_pop <- summary(pop_data)\n",
    "sum_pop50_25 <- summary(pop_data50_25)\n",
    "names(sum_pop)"
   ]
  },
  {
   "cell_type": "code",
   "execution_count": 83,
   "metadata": {
    "collapsed": false
   },
   "outputs": [
    {
     "data": {
      "text/html": [
       "<ol class=list-inline>\n",
       "\t<li>'Victoria'</li>\n",
       "\t<li>'Klaskino'</li>\n",
       "\t<li>'Barkeley_Sound'</li>\n",
       "\t<li>'Ladysmith'</li>\n",
       "\t<li>'San_Diego'</li>\n",
       "\t<li>'SF'</li>\n",
       "\t<li>'Tomales'</li>\n",
       "\t<li>'Elkhorn_SLough'</li>\n",
       "\t<li>'Humboldt'</li>\n",
       "\t<li>'Mugu_Lagoon'</li>\n",
       "\t<li>'Conchaphila'</li>\n",
       "\t<li>'Coos'</li>\n",
       "\t<li>'Yaquina'</li>\n",
       "\t<li>'Netarts'</li>\n",
       "\t<li>'Triton_Cove'</li>\n",
       "\t<li>'Liberty_Bay'</li>\n",
       "\t<li>'Discovery_Bay'</li>\n",
       "\t<li>'North_Bay'</li>\n",
       "\t<li>'Willapa'</li>\n",
       "</ol>\n"
      ],
      "text/latex": [
       "\\begin{enumerate*}\n",
       "\\item 'Victoria'\n",
       "\\item 'Klaskino'\n",
       "\\item 'Barkeley\\_Sound'\n",
       "\\item 'Ladysmith'\n",
       "\\item 'San\\_Diego'\n",
       "\\item 'SF'\n",
       "\\item 'Tomales'\n",
       "\\item 'Elkhorn\\_SLough'\n",
       "\\item 'Humboldt'\n",
       "\\item 'Mugu\\_Lagoon'\n",
       "\\item 'Conchaphila'\n",
       "\\item 'Coos'\n",
       "\\item 'Yaquina'\n",
       "\\item 'Netarts'\n",
       "\\item 'Triton\\_Cove'\n",
       "\\item 'Liberty\\_Bay'\n",
       "\\item 'Discovery\\_Bay'\n",
       "\\item 'North\\_Bay'\n",
       "\\item 'Willapa'\n",
       "\\end{enumerate*}\n"
      ],
      "text/markdown": [
       "1. 'Victoria'\n",
       "2. 'Klaskino'\n",
       "3. 'Barkeley_Sound'\n",
       "4. 'Ladysmith'\n",
       "5. 'San_Diego'\n",
       "6. 'SF'\n",
       "7. 'Tomales'\n",
       "8. 'Elkhorn_SLough'\n",
       "9. 'Humboldt'\n",
       "10. 'Mugu_Lagoon'\n",
       "11. 'Conchaphila'\n",
       "12. 'Coos'\n",
       "13. 'Yaquina'\n",
       "14. 'Netarts'\n",
       "15. 'Triton_Cove'\n",
       "16. 'Liberty_Bay'\n",
       "17. 'Discovery_Bay'\n",
       "18. 'North_Bay'\n",
       "19. 'Willapa'\n",
       "\n",
       "\n"
      ],
      "text/plain": [
       " [1] \"Victoria\"       \"Klaskino\"       \"Barkeley_Sound\" \"Ladysmith\"     \n",
       " [5] \"San_Diego\"      \"SF\"             \"Tomales\"        \"Elkhorn_SLough\"\n",
       " [9] \"Humboldt\"       \"Mugu_Lagoon\"    \"Conchaphila\"    \"Coos\"          \n",
       "[13] \"Yaquina\"        \"Netarts\"        \"Triton_Cove\"    \"Liberty_Bay\"   \n",
       "[17] \"Discovery_Bay\"  \"North_Bay\"      \"Willapa\"       "
      ]
     },
     "metadata": {},
     "output_type": "display_data"
    }
   ],
   "source": [
    "popNames(pop_data) "
   ]
  },
  {
   "cell_type": "code",
   "execution_count": 85,
   "metadata": {
    "collapsed": false
   },
   "outputs": [
    {
     "data": {
      "text/html": [
       "<table>\n",
       "<thead><tr><th></th><th scope=col>pop</th><th scope=col>Ind</th></tr></thead>\n",
       "<tbody>\n",
       "\t<tr><th scope=row>Total</th><td>0.1082965</td><td>0.2000208</td></tr>\n",
       "\t<tr><th scope=row>pop</th><td>0.0000000</td><td>0.1028641</td></tr>\n",
       "</tbody>\n",
       "</table>\n"
      ],
      "text/latex": [
       "\\begin{tabular}{r|ll}\n",
       "  & pop & Ind\\\\\n",
       "\\hline\n",
       "\tTotal & 0.1082965 & 0.2000208\\\\\n",
       "\tpop & 0.0000000 & 0.1028641\\\\\n",
       "\\end{tabular}\n"
      ],
      "text/markdown": [
       "1. 0.108296502820935\n",
       "2. 0\n",
       "3. 0.200020819053784\n",
       "4. 0.102864143207941\n",
       "\n",
       "\n"
      ],
      "text/plain": [
       "            pop       Ind\n",
       "Total 0.1082965 0.2000208\n",
       "pop   0.0000000 0.1028641"
      ]
     },
     "metadata": {},
     "output_type": "display_data"
    }
   ],
   "source": [
    "library(\"hierfstat\")\n",
    "fstat(ind_data50_25)"
   ]
  },
  {
   "cell_type": "code",
   "execution_count": 86,
   "metadata": {
    "collapsed": false
   },
   "outputs": [],
   "source": [
    "fst_loci50_25 <- Fst(as.loci(ind_data50_25))"
   ]
  },
  {
   "cell_type": "code",
   "execution_count": null,
   "metadata": {
    "collapsed": true
   },
   "outputs": [],
   "source": []
  },
  {
   "cell_type": "code",
   "execution_count": null,
   "metadata": {
    "collapsed": true
   },
   "outputs": [],
   "source": [
    "#Gtest <- gstat.randtest(ind_data, nsim =99)\n",
    "#Gtest"
   ]
  },
  {
   "cell_type": "code",
   "execution_count": 170,
   "metadata": {
    "collapsed": false
   },
   "outputs": [
    {
     "name": "stderr",
     "output_type": "stream",
     "text": [
      "Warning message in df2genind(tab, ploidy = newPloidy, type = x[[1]]@type, sep = \"/\"):\n",
      "“entirely non-type marker(s) deleted”Warning message in df2genind(tab, ploidy = newPloidy, type = x[[1]]@type, sep = \"/\"):\n",
      "“entirely non-type marker(s) deleted”Warning message in df2genind(tab, ploidy = newPloidy, type = x[[1]]@type, sep = \"/\"):\n",
      "“entirely non-type marker(s) deleted”Warning message in df2genind(tab, ploidy = newPloidy, type = x[[1]]@type, sep = \"/\"):\n",
      "“entirely non-type marker(s) deleted”Warning message in df2genind(tab, ploidy = newPloidy, type = x[[1]]@type, sep = \"/\"):\n",
      "“entirely non-type marker(s) deleted”Warning message in df2genind(tab, ploidy = newPloidy, type = x[[1]]@type, sep = \"/\"):\n",
      "“entirely non-type marker(s) deleted”Warning message in df2genind(tab, ploidy = newPloidy, type = x[[1]]@type, sep = \"/\"):\n",
      "“entirely non-type marker(s) deleted”Warning message in df2genind(tab, ploidy = newPloidy, type = x[[1]]@type, sep = \"/\"):\n",
      "“entirely non-type marker(s) deleted”Warning message in df2genind(tab, ploidy = newPloidy, type = x[[1]]@type, sep = \"/\"):\n",
      "“entirely non-type marker(s) deleted”Warning message in df2genind(tab, ploidy = newPloidy, type = x[[1]]@type, sep = \"/\"):\n",
      "“entirely non-type marker(s) deleted”Warning message in df2genind(tab, ploidy = newPloidy, type = x[[1]]@type, sep = \"/\"):\n",
      "“entirely non-type marker(s) deleted”Warning message in df2genind(tab, ploidy = newPloidy, type = x[[1]]@type, sep = \"/\"):\n",
      "“entirely non-type marker(s) deleted”Warning message in df2genind(tab, ploidy = newPloidy, type = x[[1]]@type, sep = \"/\"):\n",
      "“entirely non-type marker(s) deleted”Warning message in df2genind(tab, ploidy = newPloidy, type = x[[1]]@type, sep = \"/\"):\n",
      "“entirely non-type marker(s) deleted”Warning message in df2genind(tab, ploidy = newPloidy, type = x[[1]]@type, sep = \"/\"):\n",
      "“entirely non-type marker(s) deleted”Warning message in df2genind(tab, ploidy = newPloidy, type = x[[1]]@type, sep = \"/\"):\n",
      "“entirely non-type marker(s) deleted”Warning message in df2genind(tab, ploidy = newPloidy, type = x[[1]]@type, sep = \"/\"):\n",
      "“entirely non-type marker(s) deleted”Warning message in df2genind(tab, ploidy = newPloidy, type = x[[1]]@type, sep = \"/\"):\n",
      "“entirely non-type marker(s) deleted”Warning message in df2genind(tab, ploidy = newPloidy, type = x[[1]]@type, sep = \"/\"):\n",
      "“entirely non-type marker(s) deleted”Warning message in df2genind(tab, ploidy = newPloidy, type = x[[1]]@type, sep = \"/\"):\n",
      "“entirely non-type marker(s) deleted”Warning message in df2genind(tab, ploidy = newPloidy, type = x[[1]]@type, sep = \"/\"):\n",
      "“entirely non-type marker(s) deleted”Warning message in df2genind(tab, ploidy = newPloidy, type = x[[1]]@type, sep = \"/\"):\n",
      "“entirely non-type marker(s) deleted”Warning message in df2genind(tab, ploidy = newPloidy, type = x[[1]]@type, sep = \"/\"):\n",
      "“entirely non-type marker(s) deleted”Warning message in df2genind(tab, ploidy = newPloidy, type = x[[1]]@type, sep = \"/\"):\n",
      "“entirely non-type marker(s) deleted”Warning message in df2genind(tab, ploidy = newPloidy, type = x[[1]]@type, sep = \"/\"):\n",
      "“entirely non-type marker(s) deleted”Warning message in df2genind(tab, ploidy = newPloidy, type = x[[1]]@type, sep = \"/\"):\n",
      "“entirely non-type marker(s) deleted”Warning message in df2genind(tab, ploidy = newPloidy, type = x[[1]]@type, sep = \"/\"):\n",
      "“entirely non-type marker(s) deleted”Warning message in df2genind(tab, ploidy = newPloidy, type = x[[1]]@type, sep = \"/\"):\n",
      "“entirely non-type marker(s) deleted”Warning message in df2genind(tab, ploidy = newPloidy, type = x[[1]]@type, sep = \"/\"):\n",
      "“entirely non-type marker(s) deleted”Warning message in df2genind(tab, ploidy = newPloidy, type = x[[1]]@type, sep = \"/\"):\n",
      "“entirely non-type marker(s) deleted”Warning message in df2genind(tab, ploidy = newPloidy, type = x[[1]]@type, sep = \"/\"):\n",
      "“entirely non-type marker(s) deleted”Warning message in df2genind(tab, ploidy = newPloidy, type = x[[1]]@type, sep = \"/\"):\n",
      "“entirely non-type marker(s) deleted”Warning message in df2genind(tab, ploidy = newPloidy, type = x[[1]]@type, sep = \"/\"):\n",
      "“entirely non-type marker(s) deleted”Warning message in df2genind(tab, ploidy = newPloidy, type = x[[1]]@type, sep = \"/\"):\n",
      "“entirely non-type marker(s) deleted”Warning message in df2genind(tab, ploidy = newPloidy, type = x[[1]]@type, sep = \"/\"):\n",
      "“entirely non-type marker(s) deleted”Warning message in df2genind(tab, ploidy = newPloidy, type = x[[1]]@type, sep = \"/\"):\n",
      "“entirely non-type marker(s) deleted”Warning message in df2genind(tab, ploidy = newPloidy, type = x[[1]]@type, sep = \"/\"):\n",
      "“entirely non-type marker(s) deleted”Warning message in df2genind(tab, ploidy = newPloidy, type = x[[1]]@type, sep = \"/\"):\n",
      "“entirely non-type marker(s) deleted”Warning message in df2genind(tab, ploidy = newPloidy, type = x[[1]]@type, sep = \"/\"):\n",
      "“entirely non-type marker(s) deleted”Warning message in df2genind(tab, ploidy = newPloidy, type = x[[1]]@type, sep = \"/\"):\n",
      "“entirely non-type marker(s) deleted”Warning message in df2genind(tab, ploidy = newPloidy, type = x[[1]]@type, sep = \"/\"):\n",
      "“entirely non-type marker(s) deleted”Warning message in df2genind(tab, ploidy = newPloidy, type = x[[1]]@type, sep = \"/\"):\n",
      "“entirely non-type marker(s) deleted”Warning message in df2genind(tab, ploidy = newPloidy, type = x[[1]]@type, sep = \"/\"):\n",
      "“entirely non-type marker(s) deleted”Warning message in df2genind(tab, ploidy = newPloidy, type = x[[1]]@type, sep = \"/\"):\n",
      "“entirely non-type marker(s) deleted”Warning message in df2genind(tab, ploidy = newPloidy, type = x[[1]]@type, sep = \"/\"):\n",
      "“entirely non-type marker(s) deleted”Warning message in df2genind(tab, ploidy = newPloidy, type = x[[1]]@type, sep = \"/\"):\n",
      "“entirely non-type marker(s) deleted”Warning message in df2genind(tab, ploidy = newPloidy, type = x[[1]]@type, sep = \"/\"):\n",
      "“entirely non-type marker(s) deleted”Warning message in df2genind(tab, ploidy = newPloidy, type = x[[1]]@type, sep = \"/\"):\n",
      "“entirely non-type marker(s) deleted”Warning message in df2genind(tab, ploidy = newPloidy, type = x[[1]]@type, sep = \"/\"):\n",
      "“entirely non-type marker(s) deleted”Warning message in df2genind(tab, ploidy = newPloidy, type = x[[1]]@type, sep = \"/\"):\n",
      "“entirely non-type marker(s) deleted”Warning message in df2genind(tab, ploidy = newPloidy, type = x[[1]]@type, sep = \"/\"):\n",
      "“entirely non-type marker(s) deleted”Warning message in df2genind(tab, ploidy = newPloidy, type = x[[1]]@type, sep = \"/\"):\n",
      "“entirely non-type marker(s) deleted”Warning message in df2genind(tab, ploidy = newPloidy, type = x[[1]]@type, sep = \"/\"):\n",
      "“entirely non-type marker(s) deleted”Warning message in df2genind(tab, ploidy = newPloidy, type = x[[1]]@type, sep = \"/\"):\n",
      "“entirely non-type marker(s) deleted”Warning message in df2genind(tab, ploidy = newPloidy, type = x[[1]]@type, sep = \"/\"):\n",
      "“entirely non-type marker(s) deleted”Warning message in df2genind(tab, ploidy = newPloidy, type = x[[1]]@type, sep = \"/\"):\n",
      "“entirely non-type marker(s) deleted”Warning message in df2genind(tab, ploidy = newPloidy, type = x[[1]]@type, sep = \"/\"):\n",
      "“entirely non-type marker(s) deleted”Warning message in df2genind(tab, ploidy = newPloidy, type = x[[1]]@type, sep = \"/\"):\n",
      "“entirely non-type marker(s) deleted”Warning message in df2genind(tab, ploidy = newPloidy, type = x[[1]]@type, sep = \"/\"):\n",
      "“entirely non-type marker(s) deleted”Warning message in df2genind(tab, ploidy = newPloidy, type = x[[1]]@type, sep = \"/\"):\n",
      "“entirely non-type marker(s) deleted”Warning message in df2genind(tab, ploidy = newPloidy, type = x[[1]]@type, sep = \"/\"):\n",
      "“entirely non-type marker(s) deleted”Warning message in df2genind(tab, ploidy = newPloidy, type = x[[1]]@type, sep = \"/\"):\n",
      "“entirely non-type marker(s) deleted”Warning message in df2genind(tab, ploidy = newPloidy, type = x[[1]]@type, sep = \"/\"):\n",
      "“entirely non-type marker(s) deleted”Warning message in df2genind(tab, ploidy = newPloidy, type = x[[1]]@type, sep = \"/\"):\n",
      "“entirely non-type marker(s) deleted”Warning message in df2genind(tab, ploidy = newPloidy, type = x[[1]]@type, sep = \"/\"):\n",
      "“entirely non-type marker(s) deleted”Warning message in df2genind(tab, ploidy = newPloidy, type = x[[1]]@type, sep = \"/\"):\n",
      "“entirely non-type marker(s) deleted”Warning message in df2genind(tab, ploidy = newPloidy, type = x[[1]]@type, sep = \"/\"):\n",
      "“entirely non-type marker(s) deleted”Warning message in df2genind(tab, ploidy = newPloidy, type = x[[1]]@type, sep = \"/\"):\n",
      "“entirely non-type marker(s) deleted”Warning message in df2genind(tab, ploidy = newPloidy, type = x[[1]]@type, sep = \"/\"):\n",
      "“entirely non-type marker(s) deleted”Warning message in df2genind(tab, ploidy = newPloidy, type = x[[1]]@type, sep = \"/\"):\n",
      "“entirely non-type marker(s) deleted”Warning message in df2genind(tab, ploidy = newPloidy, type = x[[1]]@type, sep = \"/\"):\n",
      "“entirely non-type marker(s) deleted”Warning message in df2genind(tab, ploidy = newPloidy, type = x[[1]]@type, sep = \"/\"):\n",
      "“entirely non-type marker(s) deleted”Warning message in df2genind(tab, ploidy = newPloidy, type = x[[1]]@type, sep = \"/\"):\n",
      "“entirely non-type marker(s) deleted”Warning message in df2genind(tab, ploidy = newPloidy, type = x[[1]]@type, sep = \"/\"):\n",
      "“entirely non-type marker(s) deleted”Warning message in df2genind(tab, ploidy = newPloidy, type = x[[1]]@type, sep = \"/\"):\n",
      "“entirely non-type marker(s) deleted”Warning message in df2genind(tab, ploidy = newPloidy, type = x[[1]]@type, sep = \"/\"):\n",
      "“entirely non-type marker(s) deleted”Warning message in df2genind(tab, ploidy = newPloidy, type = x[[1]]@type, sep = \"/\"):\n",
      "“entirely non-type marker(s) deleted”Warning message in df2genind(tab, ploidy = newPloidy, type = x[[1]]@type, sep = \"/\"):\n",
      "“entirely non-type marker(s) deleted”Warning message in df2genind(tab, ploidy = newPloidy, type = x[[1]]@type, sep = \"/\"):\n",
      "“entirely non-type marker(s) deleted”Warning message in df2genind(tab, ploidy = newPloidy, type = x[[1]]@type, sep = \"/\"):\n",
      "“entirely non-type marker(s) deleted”Warning message in df2genind(tab, ploidy = newPloidy, type = x[[1]]@type, sep = \"/\"):\n",
      "“entirely non-type marker(s) deleted”Warning message in df2genind(tab, ploidy = newPloidy, type = x[[1]]@type, sep = \"/\"):\n",
      "“entirely non-type marker(s) deleted”Warning message in df2genind(tab, ploidy = newPloidy, type = x[[1]]@type, sep = \"/\"):\n",
      "“entirely non-type marker(s) deleted”Warning message in df2genind(tab, ploidy = newPloidy, type = x[[1]]@type, sep = \"/\"):\n",
      "“entirely non-type marker(s) deleted”Warning message in df2genind(tab, ploidy = newPloidy, type = x[[1]]@type, sep = \"/\"):\n",
      "“entirely non-type marker(s) deleted”Warning message in df2genind(tab, ploidy = newPloidy, type = x[[1]]@type, sep = \"/\"):\n",
      "“entirely non-type marker(s) deleted”Warning message in df2genind(tab, ploidy = newPloidy, type = x[[1]]@type, sep = \"/\"):\n",
      "“entirely non-type marker(s) deleted”Warning message in df2genind(tab, ploidy = newPloidy, type = x[[1]]@type, sep = \"/\"):\n",
      "“entirely non-type marker(s) deleted”Warning message in df2genind(tab, ploidy = newPloidy, type = x[[1]]@type, sep = \"/\"):\n",
      "“entirely non-type marker(s) deleted”Warning message in df2genind(tab, ploidy = newPloidy, type = x[[1]]@type, sep = \"/\"):\n",
      "“entirely non-type marker(s) deleted”Warning message in df2genind(tab, ploidy = newPloidy, type = x[[1]]@type, sep = \"/\"):\n",
      "“entirely non-type marker(s) deleted”Warning message in df2genind(tab, ploidy = newPloidy, type = x[[1]]@type, sep = \"/\"):\n",
      "“entirely non-type marker(s) deleted”Warning message in df2genind(tab, ploidy = newPloidy, type = x[[1]]@type, sep = \"/\"):\n",
      "“entirely non-type marker(s) deleted”Warning message in df2genind(tab, ploidy = newPloidy, type = x[[1]]@type, sep = \"/\"):\n",
      "“entirely non-type marker(s) deleted”Warning message in df2genind(tab, ploidy = newPloidy, type = x[[1]]@type, sep = \"/\"):\n",
      "“entirely non-type marker(s) deleted”Warning message in df2genind(tab, ploidy = newPloidy, type = x[[1]]@type, sep = \"/\"):\n",
      "“entirely non-type marker(s) deleted”Warning message in df2genind(tab, ploidy = newPloidy, type = x[[1]]@type, sep = \"/\"):\n",
      "“entirely non-type marker(s) deleted”Warning message in df2genind(tab, ploidy = newPloidy, type = x[[1]]@type, sep = \"/\"):\n",
      "“entirely non-type marker(s) deleted”Warning message in df2genind(tab, ploidy = newPloidy, type = x[[1]]@type, sep = \"/\"):\n",
      "“entirely non-type marker(s) deleted”Warning message in df2genind(tab, ploidy = newPloidy, type = x[[1]]@type, sep = \"/\"):\n",
      "“entirely non-type marker(s) deleted”Warning message in df2genind(tab, ploidy = newPloidy, type = x[[1]]@type, sep = \"/\"):\n",
      "“entirely non-type marker(s) deleted”Warning message in df2genind(tab, ploidy = newPloidy, type = x[[1]]@type, sep = \"/\"):\n",
      "“entirely non-type marker(s) deleted”Warning message in df2genind(tab, ploidy = newPloidy, type = x[[1]]@type, sep = \"/\"):\n",
      "“entirely non-type marker(s) deleted”Warning message in df2genind(tab, ploidy = newPloidy, type = x[[1]]@type, sep = \"/\"):\n",
      "“entirely non-type marker(s) deleted”Warning message in df2genind(tab, ploidy = newPloidy, type = x[[1]]@type, sep = \"/\"):\n",
      "“entirely non-type marker(s) deleted”Warning message in df2genind(tab, ploidy = newPloidy, type = x[[1]]@type, sep = \"/\"):\n",
      "“entirely non-type marker(s) deleted”Warning message in df2genind(tab, ploidy = newPloidy, type = x[[1]]@type, sep = \"/\"):\n",
      "“entirely non-type marker(s) deleted”Warning message in df2genind(tab, ploidy = newPloidy, type = x[[1]]@type, sep = \"/\"):\n",
      "“entirely non-type marker(s) deleted”Warning message in df2genind(tab, ploidy = newPloidy, type = x[[1]]@type, sep = \"/\"):\n",
      "“entirely non-type marker(s) deleted”Warning message in df2genind(tab, ploidy = newPloidy, type = x[[1]]@type, sep = \"/\"):\n",
      "“entirely non-type marker(s) deleted”Warning message in df2genind(tab, ploidy = newPloidy, type = x[[1]]@type, sep = \"/\"):\n",
      "“entirely non-type marker(s) deleted”Warning message in df2genind(tab, ploidy = newPloidy, type = x[[1]]@type, sep = \"/\"):\n",
      "“entirely non-type marker(s) deleted”Warning message in df2genind(tab, ploidy = newPloidy, type = x[[1]]@type, sep = \"/\"):\n",
      "“entirely non-type marker(s) deleted”Warning message in df2genind(tab, ploidy = newPloidy, type = x[[1]]@type, sep = \"/\"):\n",
      "“entirely non-type marker(s) deleted”Warning message in df2genind(tab, ploidy = newPloidy, type = x[[1]]@type, sep = \"/\"):\n",
      "“entirely non-type marker(s) deleted”Warning message in df2genind(tab, ploidy = newPloidy, type = x[[1]]@type, sep = \"/\"):\n",
      "“entirely non-type marker(s) deleted”Warning message in df2genind(tab, ploidy = newPloidy, type = x[[1]]@type, sep = \"/\"):\n",
      "“entirely non-type marker(s) deleted”Warning message in df2genind(tab, ploidy = newPloidy, type = x[[1]]@type, sep = \"/\"):\n",
      "“entirely non-type marker(s) deleted”Warning message in df2genind(tab, ploidy = newPloidy, type = x[[1]]@type, sep = \"/\"):\n",
      "“entirely non-type marker(s) deleted”Warning message in df2genind(tab, ploidy = newPloidy, type = x[[1]]@type, sep = \"/\"):\n",
      "“entirely non-type marker(s) deleted”Warning message in df2genind(tab, ploidy = newPloidy, type = x[[1]]@type, sep = \"/\"):\n",
      "“entirely non-type marker(s) deleted”Warning message in df2genind(tab, ploidy = newPloidy, type = x[[1]]@type, sep = \"/\"):\n",
      "“entirely non-type marker(s) deleted”Warning message in df2genind(tab, ploidy = newPloidy, type = x[[1]]@type, sep = \"/\"):\n",
      "“entirely non-type marker(s) deleted”Warning message in df2genind(tab, ploidy = newPloidy, type = x[[1]]@type, sep = \"/\"):\n",
      "“entirely non-type marker(s) deleted”Warning message in df2genind(tab, ploidy = newPloidy, type = x[[1]]@type, sep = \"/\"):\n",
      "“entirely non-type marker(s) deleted”Warning message in df2genind(tab, ploidy = newPloidy, type = x[[1]]@type, sep = \"/\"):\n",
      "“entirely non-type marker(s) deleted”Warning message in df2genind(tab, ploidy = newPloidy, type = x[[1]]@type, sep = \"/\"):\n",
      "“entirely non-type marker(s) deleted”Warning message in df2genind(tab, ploidy = newPloidy, type = x[[1]]@type, sep = \"/\"):\n",
      "“entirely non-type marker(s) deleted”Warning message in df2genind(tab, ploidy = newPloidy, type = x[[1]]@type, sep = \"/\"):\n",
      "“entirely non-type marker(s) deleted”Warning message in df2genind(tab, ploidy = newPloidy, type = x[[1]]@type, sep = \"/\"):\n",
      "“entirely non-type marker(s) deleted”Warning message in df2genind(tab, ploidy = newPloidy, type = x[[1]]@type, sep = \"/\"):\n",
      "“entirely non-type marker(s) deleted”Warning message in df2genind(tab, ploidy = newPloidy, type = x[[1]]@type, sep = \"/\"):\n",
      "“entirely non-type marker(s) deleted”Warning message in df2genind(tab, ploidy = newPloidy, type = x[[1]]@type, sep = \"/\"):\n",
      "“entirely non-type marker(s) deleted”Warning message in df2genind(tab, ploidy = newPloidy, type = x[[1]]@type, sep = \"/\"):\n",
      "“entirely non-type marker(s) deleted”Warning message in df2genind(tab, ploidy = newPloidy, type = x[[1]]@type, sep = \"/\"):\n",
      "“entirely non-type marker(s) deleted”Warning message in df2genind(tab, ploidy = newPloidy, type = x[[1]]@type, sep = \"/\"):\n",
      "“entirely non-type marker(s) deleted”Warning message in df2genind(tab, ploidy = newPloidy, type = x[[1]]@type, sep = \"/\"):\n",
      "“entirely non-type marker(s) deleted”Warning message in df2genind(tab, ploidy = newPloidy, type = x[[1]]@type, sep = \"/\"):\n",
      "“entirely non-type marker(s) deleted”Warning message in df2genind(tab, ploidy = newPloidy, type = x[[1]]@type, sep = \"/\"):\n",
      "“entirely non-type marker(s) deleted”Warning message in df2genind(tab, ploidy = newPloidy, type = x[[1]]@type, sep = \"/\"):\n",
      "“entirely non-type marker(s) deleted”Warning message in df2genind(tab, ploidy = newPloidy, type = x[[1]]@type, sep = \"/\"):\n",
      "“entirely non-type marker(s) deleted”Warning message in df2genind(tab, ploidy = newPloidy, type = x[[1]]@type, sep = \"/\"):\n",
      "“entirely non-type marker(s) deleted”Warning message in df2genind(tab, ploidy = newPloidy, type = x[[1]]@type, sep = \"/\"):\n",
      "“entirely non-type marker(s) deleted”Warning message in df2genind(tab, ploidy = newPloidy, type = x[[1]]@type, sep = \"/\"):\n",
      "“entirely non-type marker(s) deleted”Warning message in df2genind(tab, ploidy = newPloidy, type = x[[1]]@type, sep = \"/\"):\n",
      "“entirely non-type marker(s) deleted”Warning message in df2genind(tab, ploidy = newPloidy, type = x[[1]]@type, sep = \"/\"):\n",
      "“entirely non-type marker(s) deleted”Warning message in df2genind(tab, ploidy = newPloidy, type = x[[1]]@type, sep = \"/\"):\n",
      "“entirely non-type marker(s) deleted”Warning message in df2genind(tab, ploidy = newPloidy, type = x[[1]]@type, sep = \"/\"):\n",
      "“entirely non-type marker(s) deleted”Warning message in df2genind(tab, ploidy = newPloidy, type = x[[1]]@type, sep = \"/\"):\n",
      "“entirely non-type marker(s) deleted”Warning message in df2genind(tab, ploidy = newPloidy, type = x[[1]]@type, sep = \"/\"):\n",
      "“entirely non-type marker(s) deleted”Warning message in df2genind(tab, ploidy = newPloidy, type = x[[1]]@type, sep = \"/\"):\n",
      "“entirely non-type marker(s) deleted”Warning message in df2genind(tab, ploidy = newPloidy, type = x[[1]]@type, sep = \"/\"):\n",
      "“entirely non-type marker(s) deleted”Warning message in df2genind(tab, ploidy = newPloidy, type = x[[1]]@type, sep = \"/\"):\n",
      "“entirely non-type marker(s) deleted”Warning message in df2genind(tab, ploidy = newPloidy, type = x[[1]]@type, sep = \"/\"):\n",
      "“entirely non-type marker(s) deleted”Warning message in df2genind(tab, ploidy = newPloidy, type = x[[1]]@type, sep = \"/\"):\n",
      "“entirely non-type marker(s) deleted”Warning message in df2genind(tab, ploidy = newPloidy, type = x[[1]]@type, sep = \"/\"):\n",
      "“entirely non-type marker(s) deleted”Warning message in df2genind(tab, ploidy = newPloidy, type = x[[1]]@type, sep = \"/\"):\n",
      "“entirely non-type marker(s) deleted”Warning message in df2genind(tab, ploidy = newPloidy, type = x[[1]]@type, sep = \"/\"):\n",
      "“entirely non-type marker(s) deleted”Warning message in df2genind(tab, ploidy = newPloidy, type = x[[1]]@type, sep = \"/\"):\n",
      "“entirely non-type marker(s) deleted”Warning message in df2genind(tab, ploidy = newPloidy, type = x[[1]]@type, sep = \"/\"):\n",
      "“entirely non-type marker(s) deleted”Warning message in df2genind(tab, ploidy = newPloidy, type = x[[1]]@type, sep = \"/\"):\n",
      "“entirely non-type marker(s) deleted”Warning message in df2genind(tab, ploidy = newPloidy, type = x[[1]]@type, sep = \"/\"):\n",
      "“entirely non-type marker(s) deleted”Warning message in df2genind(tab, ploidy = newPloidy, type = x[[1]]@type, sep = \"/\"):\n",
      "“entirely non-type marker(s) deleted”Warning message in df2genind(tab, ploidy = newPloidy, type = x[[1]]@type, sep = \"/\"):\n",
      "“entirely non-type marker(s) deleted”Warning message in df2genind(tab, ploidy = newPloidy, type = x[[1]]@type, sep = \"/\"):\n",
      "“entirely non-type marker(s) deleted”Warning message in df2genind(tab, ploidy = newPloidy, type = x[[1]]@type, sep = \"/\"):\n",
      "“entirely non-type marker(s) deleted”Warning message in df2genind(tab, ploidy = newPloidy, type = x[[1]]@type, sep = \"/\"):\n",
      "“entirely non-type marker(s) deleted”Warning message in df2genind(tab, ploidy = newPloidy, type = x[[1]]@type, sep = \"/\"):\n",
      "“entirely non-type marker(s) deleted”Warning message in df2genind(tab, ploidy = newPloidy, type = x[[1]]@type, sep = \"/\"):\n",
      "“entirely non-type marker(s) deleted”Warning message in df2genind(tab, ploidy = newPloidy, type = x[[1]]@type, sep = \"/\"):\n",
      "“entirely non-type marker(s) deleted”Warning message in df2genind(tab, ploidy = newPloidy, type = x[[1]]@type, sep = \"/\"):\n",
      "“entirely non-type marker(s) deleted”"
     ]
    }
   ],
   "source": [
    "#Nei FST as imlemented in hierfstat\n",
    "distFst <- pairwise.fst(ind_data50_25)"
   ]
  },
  {
   "cell_type": "code",
   "execution_count": 230,
   "metadata": {
    "collapsed": false,
    "scrolled": true
   },
   "outputs": [
    {
     "data": {
      "text/html": [
       "<table>\n",
       "<thead><tr><th></th><th scope=col>Victoria</th><th scope=col>Klaskino</th><th scope=col>Barkeley_Sound</th><th scope=col>Ladysmith</th><th scope=col>San_Diego</th><th scope=col>SF</th><th scope=col>Tomales</th><th scope=col>Elkhorn_SLough</th><th scope=col>Humboldt</th><th scope=col>Mugu_Lagoon</th><th scope=col>Conchaphila</th><th scope=col>Coos</th><th scope=col>Yaquina</th><th scope=col>Netarts</th><th scope=col>Triton_Cove</th><th scope=col>Liberty_Bay</th><th scope=col>Discovery_Bay</th><th scope=col>North_Bay</th><th scope=col>Willapa</th></tr></thead>\n",
       "<tbody>\n",
       "\t<tr><th scope=row>Victoria</th><td>0.00000000</td><td>0.04343604</td><td>0.05495996</td><td>0.05914876</td><td>0.05010461</td><td>0.03158665</td><td>0.04408568</td><td>0.06449366</td><td>0.04015929</td><td>0.07483689</td><td>0.10938784</td><td>0.08054012</td><td>0.05293486</td><td>0.04494845</td><td>0.03176198</td><td>0.06527189</td><td>0.02697077</td><td>0.03821443</td><td>0.06069611</td></tr>\n",
       "\t<tr><th scope=row>Klaskino</th><td>0.043436043</td><td>0.000000000</td><td>0.031773187</td><td>0.009513565</td><td>0.059526207</td><td>0.038533614</td><td>0.055948266</td><td>0.045029927</td><td>0.038393307</td><td>0.065804099</td><td>0.095266674</td><td>0.041839911</td><td>0.047935057</td><td>0.046724134</td><td>0.024269650</td><td>0.024868264</td><td>0.043070710</td><td>0.016520859</td><td>0.043203090</td></tr>\n",
       "\t<tr><th scope=row>Barkeley_Sound</th><td>0.05495996</td><td>0.03177319</td><td>0.00000000</td><td>0.03050271</td><td>0.04790773</td><td>0.03228563</td><td>0.06758697</td><td>0.04879012</td><td>0.05124075</td><td>0.06411841</td><td>0.10766551</td><td>0.05456662</td><td>0.06266271</td><td>0.05197424</td><td>0.03251452</td><td>0.04634486</td><td>0.07491609</td><td>0.04304283</td><td>0.04937218</td></tr>\n",
       "\t<tr><th scope=row>Ladysmith</th><td>0.059148764</td><td>0.009513565</td><td>0.030502715</td><td>0.000000000</td><td>0.061226983</td><td>0.065025018</td><td>0.055076140</td><td>0.072945465</td><td>0.035345657</td><td>0.096494944</td><td>0.127043674</td><td>0.075115877</td><td>0.076406332</td><td>0.052073069</td><td>0.020414709</td><td>0.041095640</td><td>0.029843957</td><td>0.042880689</td><td>0.045468546</td></tr>\n",
       "\t<tr><th scope=row>San_Diego</th><td>0.05010461</td><td>0.05952621</td><td>0.04790773</td><td>0.06122698</td><td>0.00000000</td><td>0.03749940</td><td>0.06677215</td><td>0.02517828</td><td>0.04626060</td><td>0.01410516</td><td>0.09419617</td><td>0.07200568</td><td>0.05704614</td><td>0.06882306</td><td>0.05549882</td><td>0.03764738</td><td>0.08876335</td><td>0.05040255</td><td>0.09847500</td></tr>\n",
       "\t<tr><th scope=row>SF</th><td>0.03158665</td><td>0.03853361</td><td>0.03228563</td><td>0.06502502</td><td>0.03749940</td><td>0.00000000</td><td>0.03062339</td><td>0.03060416</td><td>0.01380130</td><td>0.06192697</td><td>0.10303001</td><td>0.05322331</td><td>0.03191023</td><td>0.04719111</td><td>0.05384570</td><td>0.04557894</td><td>0.06280890</td><td>0.04371178</td><td>0.06344844</td></tr>\n",
       "\t<tr><th scope=row>Tomales</th><td>0.04408568</td><td>0.05594827</td><td>0.06758697</td><td>0.05507614</td><td>0.06677215</td><td>0.03062339</td><td>0.00000000</td><td>0.05507475</td><td>0.04644930</td><td>0.07041184</td><td>0.15471990</td><td>0.07161546</td><td>0.05073143</td><td>0.04077376</td><td>0.04310108</td><td>0.04419483</td><td>0.08431809</td><td>0.06321982</td><td>0.06511329</td></tr>\n",
       "\t<tr><th scope=row>Elkhorn_SLough</th><td>0.06449366</td><td>0.04502993</td><td>0.04879012</td><td>0.07294547</td><td>0.02517828</td><td>0.03060416</td><td>0.05507475</td><td>0.00000000</td><td>0.03547320</td><td>0.02835190</td><td>0.08914672</td><td>0.08188363</td><td>0.06088811</td><td>0.06039505</td><td>0.06011949</td><td>0.06005323</td><td>0.09437485</td><td>0.05675467</td><td>0.09302171</td></tr>\n",
       "\t<tr><th scope=row>Humboldt</th><td>0.04015929</td><td>0.03839331</td><td>0.05124075</td><td>0.03534566</td><td>0.04626060</td><td>0.01380130</td><td>0.04644930</td><td>0.03547320</td><td>0.00000000</td><td>0.06983493</td><td>0.12196088</td><td>0.03789071</td><td>0.04702816</td><td>0.04132499</td><td>0.01961141</td><td>0.02434677</td><td>0.05409318</td><td>0.01989320</td><td>0.05586422</td></tr>\n",
       "\t<tr><th scope=row>Mugu_Lagoon</th><td>0.07483689</td><td>0.06580410</td><td>0.06411841</td><td>0.09649494</td><td>0.01410516</td><td>0.06192697</td><td>0.07041184</td><td>0.02835190</td><td>0.06983493</td><td>0.00000000</td><td>0.06929223</td><td>0.10291095</td><td>0.07406339</td><td>0.07869593</td><td>0.07398109</td><td>0.07496724</td><td>0.10781891</td><td>0.07049808</td><td>0.11390938</td></tr>\n",
       "\t<tr><th scope=row>Conchaphila</th><td>0.10938784</td><td>0.09526667</td><td>0.10766551</td><td>0.12704367</td><td>0.09419617</td><td>0.10303001</td><td>0.15471990</td><td>0.08914672</td><td>0.12196088</td><td>0.06929223</td><td>0.00000000</td><td>0.11179705</td><td>0.12189675</td><td>0.11158517</td><td>0.10151251</td><td>0.08733527</td><td>0.16874086</td><td>0.09591493</td><td>0.15519392</td></tr>\n",
       "\t<tr><th scope=row>Coos</th><td>0.08054012</td><td>0.04183991</td><td>0.05456662</td><td>0.07511588</td><td>0.07200568</td><td>0.05322331</td><td>0.07161546</td><td>0.08188363</td><td>0.03789071</td><td>0.10291095</td><td>0.11179705</td><td>0.00000000</td><td>0.06173807</td><td>0.05172577</td><td>0.05172777</td><td>0.07833832</td><td>0.07282685</td><td>0.05750950</td><td>0.01001267</td></tr>\n",
       "\t<tr><th scope=row>Yaquina</th><td>0.05293486</td><td>0.04793506</td><td>0.06266271</td><td>0.07640633</td><td>0.05704614</td><td>0.03191023</td><td>0.05073143</td><td>0.06088811</td><td>0.04702816</td><td>0.07406339</td><td>0.12189675</td><td>0.06173807</td><td>0.00000000</td><td>0.03880853</td><td>0.04412342</td><td>0.06039599</td><td>0.07192013</td><td>0.04622922</td><td>0.05184324</td></tr>\n",
       "\t<tr><th scope=row>Netarts</th><td>0.04494845</td><td>0.04672413</td><td>0.05197424</td><td>0.05207307</td><td>0.06882306</td><td>0.04719111</td><td>0.04077376</td><td>0.06039505</td><td>0.04132499</td><td>0.07869593</td><td>0.11158517</td><td>0.05172577</td><td>0.03880853</td><td>0.00000000</td><td>0.03750244</td><td>0.03432889</td><td>0.04273999</td><td>0.02580103</td><td>0.05665819</td></tr>\n",
       "\t<tr><th scope=row>Triton_Cove</th><td>0.031761980</td><td>0.024269650</td><td>0.032514524</td><td>0.020414709</td><td>0.055498818</td><td>0.053845700</td><td>0.043101078</td><td>0.060119487</td><td>0.019611415</td><td>0.073981095</td><td>0.101512508</td><td>0.051727766</td><td>0.044123424</td><td>0.037502444</td><td>0.000000000</td><td>0.028782067</td><td>0.008495427</td><td>0.007173134</td><td>0.044857026</td></tr>\n",
       "\t<tr><th scope=row>Liberty_Bay</th><td>0.065271889</td><td>0.024868264</td><td>0.046344860</td><td>0.041095640</td><td>0.037647383</td><td>0.045578945</td><td>0.044194834</td><td>0.060053233</td><td>0.024346773</td><td>0.074967243</td><td>0.087335266</td><td>0.078338315</td><td>0.060395990</td><td>0.034328893</td><td>0.028782067</td><td>0.000000000</td><td>0.017118851</td><td>0.008672537</td><td>0.043864889</td></tr>\n",
       "\t<tr><th scope=row>Discovery_Bay</th><td>0.026970771</td><td>0.043070710</td><td>0.074916095</td><td>0.029843957</td><td>0.088763352</td><td>0.062808895</td><td>0.084318088</td><td>0.094374850</td><td>0.054093183</td><td>0.107818908</td><td>0.168740856</td><td>0.072826852</td><td>0.071920133</td><td>0.042739985</td><td>0.008495427</td><td>0.017118851</td><td>0.000000000</td><td>0.027829886</td><td>0.036550036</td></tr>\n",
       "\t<tr><th scope=row>North_Bay</th><td>0.038214429</td><td>0.016520859</td><td>0.043042828</td><td>0.042880689</td><td>0.050402546</td><td>0.043711776</td><td>0.063219820</td><td>0.056754675</td><td>0.019893197</td><td>0.070498081</td><td>0.095914934</td><td>0.057509498</td><td>0.046229218</td><td>0.025801032</td><td>0.007173134</td><td>0.008672537</td><td>0.027829886</td><td>0.000000000</td><td>0.040950392</td></tr>\n",
       "\t<tr><th scope=row>Willapa</th><td>0.06069611</td><td>0.04320309</td><td>0.04937218</td><td>0.04546855</td><td>0.09847500</td><td>0.06344844</td><td>0.06511329</td><td>0.09302171</td><td>0.05586422</td><td>0.11390938</td><td>0.15519392</td><td>0.01001267</td><td>0.05184324</td><td>0.05665819</td><td>0.04485703</td><td>0.04386489</td><td>0.03655004</td><td>0.04095039</td><td>0.00000000</td></tr>\n",
       "</tbody>\n",
       "</table>\n"
      ],
      "text/latex": [
       "\\begin{tabular}{r|lllllllllllllllllll}\n",
       "  & Victoria & Klaskino & Barkeley\\_Sound & Ladysmith & San\\_Diego & SF & Tomales & Elkhorn\\_SLough & Humboldt & Mugu\\_Lagoon & Conchaphila & Coos & Yaquina & Netarts & Triton\\_Cove & Liberty\\_Bay & Discovery\\_Bay & North\\_Bay & Willapa\\\\\n",
       "\\hline\n",
       "\tVictoria & 0.00000000 & 0.04343604 & 0.05495996 & 0.05914876 & 0.05010461 & 0.03158665 & 0.04408568 & 0.06449366 & 0.04015929 & 0.07483689 & 0.10938784 & 0.08054012 & 0.05293486 & 0.04494845 & 0.03176198 & 0.06527189 & 0.02697077 & 0.03821443 & 0.06069611\\\\\n",
       "\tKlaskino & 0.043436043 & 0.000000000 & 0.031773187 & 0.009513565 & 0.059526207 & 0.038533614 & 0.055948266 & 0.045029927 & 0.038393307 & 0.065804099 & 0.095266674 & 0.041839911 & 0.047935057 & 0.046724134 & 0.024269650 & 0.024868264 & 0.043070710 & 0.016520859 & 0.043203090\\\\\n",
       "\tBarkeley\\_Sound & 0.05495996 & 0.03177319 & 0.00000000 & 0.03050271 & 0.04790773 & 0.03228563 & 0.06758697 & 0.04879012 & 0.05124075 & 0.06411841 & 0.10766551 & 0.05456662 & 0.06266271 & 0.05197424 & 0.03251452 & 0.04634486 & 0.07491609 & 0.04304283 & 0.04937218\\\\\n",
       "\tLadysmith & 0.059148764 & 0.009513565 & 0.030502715 & 0.000000000 & 0.061226983 & 0.065025018 & 0.055076140 & 0.072945465 & 0.035345657 & 0.096494944 & 0.127043674 & 0.075115877 & 0.076406332 & 0.052073069 & 0.020414709 & 0.041095640 & 0.029843957 & 0.042880689 & 0.045468546\\\\\n",
       "\tSan\\_Diego & 0.05010461 & 0.05952621 & 0.04790773 & 0.06122698 & 0.00000000 & 0.03749940 & 0.06677215 & 0.02517828 & 0.04626060 & 0.01410516 & 0.09419617 & 0.07200568 & 0.05704614 & 0.06882306 & 0.05549882 & 0.03764738 & 0.08876335 & 0.05040255 & 0.09847500\\\\\n",
       "\tSF & 0.03158665 & 0.03853361 & 0.03228563 & 0.06502502 & 0.03749940 & 0.00000000 & 0.03062339 & 0.03060416 & 0.01380130 & 0.06192697 & 0.10303001 & 0.05322331 & 0.03191023 & 0.04719111 & 0.05384570 & 0.04557894 & 0.06280890 & 0.04371178 & 0.06344844\\\\\n",
       "\tTomales & 0.04408568 & 0.05594827 & 0.06758697 & 0.05507614 & 0.06677215 & 0.03062339 & 0.00000000 & 0.05507475 & 0.04644930 & 0.07041184 & 0.15471990 & 0.07161546 & 0.05073143 & 0.04077376 & 0.04310108 & 0.04419483 & 0.08431809 & 0.06321982 & 0.06511329\\\\\n",
       "\tElkhorn\\_SLough & 0.06449366 & 0.04502993 & 0.04879012 & 0.07294547 & 0.02517828 & 0.03060416 & 0.05507475 & 0.00000000 & 0.03547320 & 0.02835190 & 0.08914672 & 0.08188363 & 0.06088811 & 0.06039505 & 0.06011949 & 0.06005323 & 0.09437485 & 0.05675467 & 0.09302171\\\\\n",
       "\tHumboldt & 0.04015929 & 0.03839331 & 0.05124075 & 0.03534566 & 0.04626060 & 0.01380130 & 0.04644930 & 0.03547320 & 0.00000000 & 0.06983493 & 0.12196088 & 0.03789071 & 0.04702816 & 0.04132499 & 0.01961141 & 0.02434677 & 0.05409318 & 0.01989320 & 0.05586422\\\\\n",
       "\tMugu\\_Lagoon & 0.07483689 & 0.06580410 & 0.06411841 & 0.09649494 & 0.01410516 & 0.06192697 & 0.07041184 & 0.02835190 & 0.06983493 & 0.00000000 & 0.06929223 & 0.10291095 & 0.07406339 & 0.07869593 & 0.07398109 & 0.07496724 & 0.10781891 & 0.07049808 & 0.11390938\\\\\n",
       "\tConchaphila & 0.10938784 & 0.09526667 & 0.10766551 & 0.12704367 & 0.09419617 & 0.10303001 & 0.15471990 & 0.08914672 & 0.12196088 & 0.06929223 & 0.00000000 & 0.11179705 & 0.12189675 & 0.11158517 & 0.10151251 & 0.08733527 & 0.16874086 & 0.09591493 & 0.15519392\\\\\n",
       "\tCoos & 0.08054012 & 0.04183991 & 0.05456662 & 0.07511588 & 0.07200568 & 0.05322331 & 0.07161546 & 0.08188363 & 0.03789071 & 0.10291095 & 0.11179705 & 0.00000000 & 0.06173807 & 0.05172577 & 0.05172777 & 0.07833832 & 0.07282685 & 0.05750950 & 0.01001267\\\\\n",
       "\tYaquina & 0.05293486 & 0.04793506 & 0.06266271 & 0.07640633 & 0.05704614 & 0.03191023 & 0.05073143 & 0.06088811 & 0.04702816 & 0.07406339 & 0.12189675 & 0.06173807 & 0.00000000 & 0.03880853 & 0.04412342 & 0.06039599 & 0.07192013 & 0.04622922 & 0.05184324\\\\\n",
       "\tNetarts & 0.04494845 & 0.04672413 & 0.05197424 & 0.05207307 & 0.06882306 & 0.04719111 & 0.04077376 & 0.06039505 & 0.04132499 & 0.07869593 & 0.11158517 & 0.05172577 & 0.03880853 & 0.00000000 & 0.03750244 & 0.03432889 & 0.04273999 & 0.02580103 & 0.05665819\\\\\n",
       "\tTriton\\_Cove & 0.031761980 & 0.024269650 & 0.032514524 & 0.020414709 & 0.055498818 & 0.053845700 & 0.043101078 & 0.060119487 & 0.019611415 & 0.073981095 & 0.101512508 & 0.051727766 & 0.044123424 & 0.037502444 & 0.000000000 & 0.028782067 & 0.008495427 & 0.007173134 & 0.044857026\\\\\n",
       "\tLiberty\\_Bay & 0.065271889 & 0.024868264 & 0.046344860 & 0.041095640 & 0.037647383 & 0.045578945 & 0.044194834 & 0.060053233 & 0.024346773 & 0.074967243 & 0.087335266 & 0.078338315 & 0.060395990 & 0.034328893 & 0.028782067 & 0.000000000 & 0.017118851 & 0.008672537 & 0.043864889\\\\\n",
       "\tDiscovery\\_Bay & 0.026970771 & 0.043070710 & 0.074916095 & 0.029843957 & 0.088763352 & 0.062808895 & 0.084318088 & 0.094374850 & 0.054093183 & 0.107818908 & 0.168740856 & 0.072826852 & 0.071920133 & 0.042739985 & 0.008495427 & 0.017118851 & 0.000000000 & 0.027829886 & 0.036550036\\\\\n",
       "\tNorth\\_Bay & 0.038214429 & 0.016520859 & 0.043042828 & 0.042880689 & 0.050402546 & 0.043711776 & 0.063219820 & 0.056754675 & 0.019893197 & 0.070498081 & 0.095914934 & 0.057509498 & 0.046229218 & 0.025801032 & 0.007173134 & 0.008672537 & 0.027829886 & 0.000000000 & 0.040950392\\\\\n",
       "\tWillapa & 0.06069611 & 0.04320309 & 0.04937218 & 0.04546855 & 0.09847500 & 0.06344844 & 0.06511329 & 0.09302171 & 0.05586422 & 0.11390938 & 0.15519392 & 0.01001267 & 0.05184324 & 0.05665819 & 0.04485703 & 0.04386489 & 0.03655004 & 0.04095039 & 0.00000000\\\\\n",
       "\\end{tabular}\n"
      ],
      "text/markdown": [
       "1. 0\n",
       "2. 0.0434360429838201\n",
       "3. 0.0549599612132915\n",
       "4. 0.0591487636912069\n",
       "5. 0.0501046094784873\n",
       "6. 0.03158665114064\n",
       "7. 0.0440856759867297\n",
       "8. 0.0644936576926248\n",
       "9. 0.0401592868040582\n",
       "10. 0.0748368938755237\n",
       "11. 0.109387838770465\n",
       "12. 0.0805401210684068\n",
       "13. 0.0529348631224461\n",
       "14. 0.0449484513642099\n",
       "15. 0.0317619800273771\n",
       "16. 0.0652718887932536\n",
       "17. 0.0269707710627138\n",
       "18. 0.0382144291378704\n",
       "19. 0.0606961093273233\n",
       "20. 0.0434360429838201\n",
       "21. 0\n",
       "22. 0.0317731868449576\n",
       "23. 0.00951356545627113\n",
       "24. 0.0595262072579867\n",
       "25. 0.0385336135084558\n",
       "26. 0.0559482662865981\n",
       "27. 0.0450299266764057\n",
       "28. 0.038393307277364\n",
       "29. 0.0658040986176024\n",
       "30. 0.0952666743632594\n",
       "31. 0.0418399105202739\n",
       "32. 0.0479350572957649\n",
       "33. 0.0467241335425203\n",
       "34. 0.0242696495349161\n",
       "35. 0.024868263822092\n",
       "36. 0.0430707095095899\n",
       "37. 0.0165208591641758\n",
       "38. 0.0432030895295379\n",
       "39. 0.0549599612132915\n",
       "40. 0.0317731868449576\n",
       "41. 0\n",
       "42. 0.0305027148294606\n",
       "43. 0.0479077345819874\n",
       "44. 0.0322856285546273\n",
       "45. 0.0675869660587691\n",
       "46. 0.048790123850004\n",
       "47. 0.0512407453087758\n",
       "48. 0.0641184145905657\n",
       "49. 0.107665512214161\n",
       "50. 0.0545666188711432\n",
       "51. 0.0626627080956843\n",
       "52. 0.0519742356457633\n",
       "53. 0.0325145242335074\n",
       "54. 0.0463448596473181\n",
       "55. 0.0749160946023383\n",
       "56. 0.0430428275890598\n",
       "57. 0.0493721772014402\n",
       "58. 0.0591487636912069\n",
       "59. 0.00951356545627113\n",
       "60. 0.0305027148294606\n",
       "61. 0\n",
       "62. 0.0612269831936104\n",
       "63. 0.0650250180786694\n",
       "64. 0.0550761401650695\n",
       "65. 0.0729454653584649\n",
       "66. 0.0353456568807999\n",
       "67. 0.0964949441061404\n",
       "68. 0.127043674422902\n",
       "69. 0.0751158769632077\n",
       "70. 0.0764063316599383\n",
       "71. 0.0520730685049581\n",
       "72. 0.0204147085945796\n",
       "73. 0.0410956402636816\n",
       "74. 0.029843957038718\n",
       "75. 0.0428806889214774\n",
       "76. 0.0454685463497775\n",
       "77. 0.0501046094784873\n",
       "78. 0.0595262072579867\n",
       "79. 0.0479077345819874\n",
       "80. 0.0612269831936104\n",
       "81. 0\n",
       "82. 0.0374994012935217\n",
       "83. 0.0667721513130465\n",
       "84. 0.0251782762248514\n",
       "85. 0.0462606012552216\n",
       "86. 0.0141051626799887\n",
       "87. 0.0941961691371277\n",
       "88. 0.0720056823570526\n",
       "89. 0.0570461391165188\n",
       "90. 0.06882306389273\n",
       "91. 0.0554988179645799\n",
       "92. 0.0376473829297239\n",
       "93. 0.0887633520036564\n",
       "94. 0.0504025460774585\n",
       "95. 0.0984750013205905\n",
       "96. 0.03158665114064\n",
       "97. 0.0385336135084558\n",
       "98. 0.0322856285546273\n",
       "99. 0.0650250180786694\n",
       "100. 0.0374994012935217\n",
       "101. 0\n",
       "102. 0.0306233886615418\n",
       "103. 0.0306041561709851\n",
       "104. 0.0138012970629856\n",
       "105. 0.0619269655484043\n",
       "106. 0.103030005865421\n",
       "107. 0.053223310989336\n",
       "108. 0.0319102253384401\n",
       "109. 0.0471911055961872\n",
       "110. 0.0538456995880001\n",
       "111. 0.0455789445717232\n",
       "112. 0.0628088954613225\n",
       "113. 0.0437117759290096\n",
       "114. 0.0634484425256033\n",
       "115. 0.0440856759867297\n",
       "116. 0.0559482662865981\n",
       "117. 0.0675869660587691\n",
       "118. 0.0550761401650695\n",
       "119. 0.0667721513130465\n",
       "120. 0.0306233886615418\n",
       "121. 0\n",
       "122. 0.0550747480498906\n",
       "123. 0.0464493042492812\n",
       "124. 0.0704118430803011\n",
       "125. 0.154719895872616\n",
       "126. 0.0716154580540092\n",
       "127. 0.0507314344174449\n",
       "128. 0.0407737608588824\n",
       "129. 0.0431010779425399\n",
       "130. 0.0441948340104346\n",
       "131. 0.0843180875903717\n",
       "132. 0.0632198198995348\n",
       "133. 0.0651132850190489\n",
       "134. 0.0644936576926248\n",
       "135. 0.0450299266764057\n",
       "136. 0.048790123850004\n",
       "137. 0.0729454653584649\n",
       "138. 0.0251782762248514\n",
       "139. 0.0306041561709851\n",
       "140. 0.0550747480498906\n",
       "141. 0\n",
       "142. 0.0354731987533638\n",
       "143. 0.0283518956051033\n",
       "144. 0.0891467245513204\n",
       "145. 0.0818836340412619\n",
       "146. 0.0608881077671235\n",
       "147. 0.0603950481200758\n",
       "148. 0.0601194869631298\n",
       "149. 0.0600532332937476\n",
       "150. 0.0943748498680291\n",
       "151. 0.0567546749273365\n",
       "152. 0.0930217111156822\n",
       "153. 0.0401592868040582\n",
       "154. 0.038393307277364\n",
       "155. 0.0512407453087758\n",
       "156. 0.0353456568807999\n",
       "157. 0.0462606012552216\n",
       "158. 0.0138012970629856\n",
       "159. 0.0464493042492812\n",
       "160. 0.0354731987533638\n",
       "161. 0\n",
       "162. 0.069834928337949\n",
       "163. 0.121960882963135\n",
       "164. 0.0378907080134446\n",
       "165. 0.0470281550134277\n",
       "166. 0.0413249917287547\n",
       "167. 0.0196114147833857\n",
       "168. 0.0243467728644586\n",
       "169. 0.0540931828412506\n",
       "170. 0.0198931973298224\n",
       "171. 0.0558642203021915\n",
       "172. 0.0748368938755237\n",
       "173. 0.0658040986176024\n",
       "174. 0.0641184145905657\n",
       "175. 0.0964949441061404\n",
       "176. 0.0141051626799887\n",
       "177. 0.0619269655484043\n",
       "178. 0.0704118430803011\n",
       "179. 0.0283518956051033\n",
       "180. 0.069834928337949\n",
       "181. 0\n",
       "182. 0.0692922310243927\n",
       "183. 0.102910947297\n",
       "184. 0.0740633899787235\n",
       "185. 0.0786959253016837\n",
       "186. 0.0739810945101484\n",
       "187. 0.0749672433056299\n",
       "188. 0.107818908429363\n",
       "189. 0.0704980811787953\n",
       "190. 0.113909383763551\n",
       "191. 0.109387838770465\n",
       "192. 0.0952666743632594\n",
       "193. 0.107665512214161\n",
       "194. 0.127043674422902\n",
       "195. 0.0941961691371277\n",
       "196. 0.103030005865421\n",
       "197. 0.154719895872616\n",
       "198. 0.0891467245513204\n",
       "199. 0.121960882963135\n",
       "200. 0.0692922310243927\n",
       "201. 0\n",
       "202. 0.111797050684396\n",
       "203. 0.121896747005553\n",
       "204. 0.111585173711344\n",
       "205. 0.101512508425748\n",
       "206. 0.0873352660591512\n",
       "207. 0.168740855785634\n",
       "208. 0.0959149344514855\n",
       "209. 0.155193919026608\n",
       "210. 0.0805401210684068\n",
       "211. 0.0418399105202739\n",
       "212. 0.0545666188711432\n",
       "213. 0.0751158769632077\n",
       "214. 0.0720056823570526\n",
       "215. 0.053223310989336\n",
       "216. 0.0716154580540092\n",
       "217. 0.0818836340412619\n",
       "218. 0.0378907080134446\n",
       "219. 0.102910947297\n",
       "220. 0.111797050684396\n",
       "221. 0\n",
       "222. 0.0617380722330122\n",
       "223. 0.0517257655930185\n",
       "224. 0.0517277658281568\n",
       "225. 0.0783383153768538\n",
       "226. 0.072826851902084\n",
       "227. 0.0575094975137507\n",
       "228. 0.0100126699454193\n",
       "229. 0.0529348631224461\n",
       "230. 0.0479350572957649\n",
       "231. 0.0626627080956843\n",
       "232. 0.0764063316599383\n",
       "233. 0.0570461391165188\n",
       "234. 0.0319102253384401\n",
       "235. 0.0507314344174449\n",
       "236. 0.0608881077671235\n",
       "237. 0.0470281550134277\n",
       "238. 0.0740633899787235\n",
       "239. 0.121896747005553\n",
       "240. 0.0617380722330122\n",
       "241. 0\n",
       "242. 0.0388085281218913\n",
       "243. 0.0441234236020595\n",
       "244. 0.0603959895158001\n",
       "245. 0.0719201325549642\n",
       "246. 0.0462292176591609\n",
       "247. 0.0518432385966345\n",
       "248. 0.0449484513642099\n",
       "249. 0.0467241335425203\n",
       "250. 0.0519742356457633\n",
       "251. 0.0520730685049581\n",
       "252. 0.06882306389273\n",
       "253. 0.0471911055961872\n",
       "254. 0.0407737608588824\n",
       "255. 0.0603950481200758\n",
       "256. 0.0413249917287547\n",
       "257. 0.0786959253016837\n",
       "258. 0.111585173711344\n",
       "259. 0.0517257655930185\n",
       "260. 0.0388085281218913\n",
       "261. 0\n",
       "262. 0.0375024438222214\n",
       "263. 0.0343288931969272\n",
       "264. 0.0427399852770666\n",
       "265. 0.0258010323927128\n",
       "266. 0.0566581895439851\n",
       "267. 0.0317619800273771\n",
       "268. 0.0242696495349161\n",
       "269. 0.0325145242335074\n",
       "270. 0.0204147085945796\n",
       "271. 0.0554988179645799\n",
       "272. 0.0538456995880001\n",
       "273. 0.0431010779425399\n",
       "274. 0.0601194869631298\n",
       "275. 0.0196114147833857\n",
       "276. 0.0739810945101484\n",
       "277. 0.101512508425748\n",
       "278. 0.0517277658281568\n",
       "279. 0.0441234236020595\n",
       "280. 0.0375024438222214\n",
       "281. 0\n",
       "282. 0.0287820666630101\n",
       "283. 0.00849542697698939\n",
       "284. 0.00717313378246374\n",
       "285. 0.0448570260242524\n",
       "286. 0.0652718887932536\n",
       "287. 0.024868263822092\n",
       "288. 0.0463448596473181\n",
       "289. 0.0410956402636816\n",
       "290. 0.0376473829297239\n",
       "291. 0.0455789445717232\n",
       "292. 0.0441948340104346\n",
       "293. 0.0600532332937476\n",
       "294. 0.0243467728644586\n",
       "295. 0.0749672433056299\n",
       "296. 0.0873352660591512\n",
       "297. 0.0783383153768538\n",
       "298. 0.0603959895158001\n",
       "299. 0.0343288931969272\n",
       "300. 0.0287820666630101\n",
       "301. 0\n",
       "302. 0.0171188512100334\n",
       "303. 0.00867253653148922\n",
       "304. 0.0438648888241686\n",
       "305. 0.0269707710627138\n",
       "306. 0.0430707095095899\n",
       "307. 0.0749160946023383\n",
       "308. 0.029843957038718\n",
       "309. 0.0887633520036564\n",
       "310. 0.0628088954613225\n",
       "311. 0.0843180875903717\n",
       "312. 0.0943748498680291\n",
       "313. 0.0540931828412506\n",
       "314. 0.107818908429363\n",
       "315. 0.168740855785634\n",
       "316. 0.072826851902084\n",
       "317. 0.0719201325549642\n",
       "318. 0.0427399852770666\n",
       "319. 0.00849542697698939\n",
       "320. 0.0171188512100334\n",
       "321. 0\n",
       "322. 0.0278298862020015\n",
       "323. 0.0365500360593288\n",
       "324. 0.0382144291378704\n",
       "325. 0.0165208591641758\n",
       "326. 0.0430428275890598\n",
       "327. 0.0428806889214774\n",
       "328. 0.0504025460774585\n",
       "329. 0.0437117759290096\n",
       "330. 0.0632198198995348\n",
       "331. 0.0567546749273365\n",
       "332. 0.0198931973298224\n",
       "333. 0.0704980811787953\n",
       "334. 0.0959149344514855\n",
       "335. 0.0575094975137507\n",
       "336. 0.0462292176591609\n",
       "337. 0.0258010323927128\n",
       "338. 0.00717313378246374\n",
       "339. 0.00867253653148922\n",
       "340. 0.0278298862020015\n",
       "341. 0\n",
       "342. 0.0409503916851576\n",
       "343. 0.0606961093273233\n",
       "344. 0.0432030895295379\n",
       "345. 0.0493721772014402\n",
       "346. 0.0454685463497775\n",
       "347. 0.0984750013205905\n",
       "348. 0.0634484425256033\n",
       "349. 0.0651132850190489\n",
       "350. 0.0930217111156822\n",
       "351. 0.0558642203021915\n",
       "352. 0.113909383763551\n",
       "353. 0.155193919026608\n",
       "354. 0.0100126699454193\n",
       "355. 0.0518432385966345\n",
       "356. 0.0566581895439851\n",
       "357. 0.0448570260242524\n",
       "358. 0.0438648888241686\n",
       "359. 0.0365500360593288\n",
       "360. 0.0409503916851576\n",
       "361. 0\n",
       "\n",
       "\n"
      ],
      "text/plain": [
       "                 Victoria    Klaskino Barkeley_Sound   Ladysmith  San_Diego\n",
       "Victoria       0.00000000 0.043436043     0.05495996 0.059148764 0.05010461\n",
       "Klaskino       0.04343604 0.000000000     0.03177319 0.009513565 0.05952621\n",
       "Barkeley_Sound 0.05495996 0.031773187     0.00000000 0.030502715 0.04790773\n",
       "Ladysmith      0.05914876 0.009513565     0.03050271 0.000000000 0.06122698\n",
       "San_Diego      0.05010461 0.059526207     0.04790773 0.061226983 0.00000000\n",
       "SF             0.03158665 0.038533614     0.03228563 0.065025018 0.03749940\n",
       "Tomales        0.04408568 0.055948266     0.06758697 0.055076140 0.06677215\n",
       "Elkhorn_SLough 0.06449366 0.045029927     0.04879012 0.072945465 0.02517828\n",
       "Humboldt       0.04015929 0.038393307     0.05124075 0.035345657 0.04626060\n",
       "Mugu_Lagoon    0.07483689 0.065804099     0.06411841 0.096494944 0.01410516\n",
       "Conchaphila    0.10938784 0.095266674     0.10766551 0.127043674 0.09419617\n",
       "Coos           0.08054012 0.041839911     0.05456662 0.075115877 0.07200568\n",
       "Yaquina        0.05293486 0.047935057     0.06266271 0.076406332 0.05704614\n",
       "Netarts        0.04494845 0.046724134     0.05197424 0.052073069 0.06882306\n",
       "Triton_Cove    0.03176198 0.024269650     0.03251452 0.020414709 0.05549882\n",
       "Liberty_Bay    0.06527189 0.024868264     0.04634486 0.041095640 0.03764738\n",
       "Discovery_Bay  0.02697077 0.043070710     0.07491609 0.029843957 0.08876335\n",
       "North_Bay      0.03821443 0.016520859     0.04304283 0.042880689 0.05040255\n",
       "Willapa        0.06069611 0.043203090     0.04937218 0.045468546 0.09847500\n",
       "                       SF    Tomales Elkhorn_SLough   Humboldt Mugu_Lagoon\n",
       "Victoria       0.03158665 0.04408568     0.06449366 0.04015929  0.07483689\n",
       "Klaskino       0.03853361 0.05594827     0.04502993 0.03839331  0.06580410\n",
       "Barkeley_Sound 0.03228563 0.06758697     0.04879012 0.05124075  0.06411841\n",
       "Ladysmith      0.06502502 0.05507614     0.07294547 0.03534566  0.09649494\n",
       "San_Diego      0.03749940 0.06677215     0.02517828 0.04626060  0.01410516\n",
       "SF             0.00000000 0.03062339     0.03060416 0.01380130  0.06192697\n",
       "Tomales        0.03062339 0.00000000     0.05507475 0.04644930  0.07041184\n",
       "Elkhorn_SLough 0.03060416 0.05507475     0.00000000 0.03547320  0.02835190\n",
       "Humboldt       0.01380130 0.04644930     0.03547320 0.00000000  0.06983493\n",
       "Mugu_Lagoon    0.06192697 0.07041184     0.02835190 0.06983493  0.00000000\n",
       "Conchaphila    0.10303001 0.15471990     0.08914672 0.12196088  0.06929223\n",
       "Coos           0.05322331 0.07161546     0.08188363 0.03789071  0.10291095\n",
       "Yaquina        0.03191023 0.05073143     0.06088811 0.04702816  0.07406339\n",
       "Netarts        0.04719111 0.04077376     0.06039505 0.04132499  0.07869593\n",
       "Triton_Cove    0.05384570 0.04310108     0.06011949 0.01961141  0.07398109\n",
       "Liberty_Bay    0.04557894 0.04419483     0.06005323 0.02434677  0.07496724\n",
       "Discovery_Bay  0.06280890 0.08431809     0.09437485 0.05409318  0.10781891\n",
       "North_Bay      0.04371178 0.06321982     0.05675467 0.01989320  0.07049808\n",
       "Willapa        0.06344844 0.06511329     0.09302171 0.05586422  0.11390938\n",
       "               Conchaphila       Coos    Yaquina    Netarts Triton_Cove\n",
       "Victoria        0.10938784 0.08054012 0.05293486 0.04494845 0.031761980\n",
       "Klaskino        0.09526667 0.04183991 0.04793506 0.04672413 0.024269650\n",
       "Barkeley_Sound  0.10766551 0.05456662 0.06266271 0.05197424 0.032514524\n",
       "Ladysmith       0.12704367 0.07511588 0.07640633 0.05207307 0.020414709\n",
       "San_Diego       0.09419617 0.07200568 0.05704614 0.06882306 0.055498818\n",
       "SF              0.10303001 0.05322331 0.03191023 0.04719111 0.053845700\n",
       "Tomales         0.15471990 0.07161546 0.05073143 0.04077376 0.043101078\n",
       "Elkhorn_SLough  0.08914672 0.08188363 0.06088811 0.06039505 0.060119487\n",
       "Humboldt        0.12196088 0.03789071 0.04702816 0.04132499 0.019611415\n",
       "Mugu_Lagoon     0.06929223 0.10291095 0.07406339 0.07869593 0.073981095\n",
       "Conchaphila     0.00000000 0.11179705 0.12189675 0.11158517 0.101512508\n",
       "Coos            0.11179705 0.00000000 0.06173807 0.05172577 0.051727766\n",
       "Yaquina         0.12189675 0.06173807 0.00000000 0.03880853 0.044123424\n",
       "Netarts         0.11158517 0.05172577 0.03880853 0.00000000 0.037502444\n",
       "Triton_Cove     0.10151251 0.05172777 0.04412342 0.03750244 0.000000000\n",
       "Liberty_Bay     0.08733527 0.07833832 0.06039599 0.03432889 0.028782067\n",
       "Discovery_Bay   0.16874086 0.07282685 0.07192013 0.04273999 0.008495427\n",
       "North_Bay       0.09591493 0.05750950 0.04622922 0.02580103 0.007173134\n",
       "Willapa         0.15519392 0.01001267 0.05184324 0.05665819 0.044857026\n",
       "               Liberty_Bay Discovery_Bay   North_Bay    Willapa\n",
       "Victoria       0.065271889   0.026970771 0.038214429 0.06069611\n",
       "Klaskino       0.024868264   0.043070710 0.016520859 0.04320309\n",
       "Barkeley_Sound 0.046344860   0.074916095 0.043042828 0.04937218\n",
       "Ladysmith      0.041095640   0.029843957 0.042880689 0.04546855\n",
       "San_Diego      0.037647383   0.088763352 0.050402546 0.09847500\n",
       "SF             0.045578945   0.062808895 0.043711776 0.06344844\n",
       "Tomales        0.044194834   0.084318088 0.063219820 0.06511329\n",
       "Elkhorn_SLough 0.060053233   0.094374850 0.056754675 0.09302171\n",
       "Humboldt       0.024346773   0.054093183 0.019893197 0.05586422\n",
       "Mugu_Lagoon    0.074967243   0.107818908 0.070498081 0.11390938\n",
       "Conchaphila    0.087335266   0.168740856 0.095914934 0.15519392\n",
       "Coos           0.078338315   0.072826852 0.057509498 0.01001267\n",
       "Yaquina        0.060395990   0.071920133 0.046229218 0.05184324\n",
       "Netarts        0.034328893   0.042739985 0.025801032 0.05665819\n",
       "Triton_Cove    0.028782067   0.008495427 0.007173134 0.04485703\n",
       "Liberty_Bay    0.000000000   0.017118851 0.008672537 0.04386489\n",
       "Discovery_Bay  0.017118851   0.000000000 0.027829886 0.03655004\n",
       "North_Bay      0.008672537   0.027829886 0.000000000 0.04095039\n",
       "Willapa        0.043864889   0.036550036 0.040950392 0.00000000"
      ]
     },
     "metadata": {},
     "output_type": "display_data"
    },
    {
     "data": {
      "text/html": [
       "<table>\n",
       "<thead><tr><th></th><th scope=col>Var1</th><th scope=col>Var2</th><th scope=col>value</th></tr></thead>\n",
       "<tbody>\n",
       "\t<tr><th scope=row>1</th><td>Victoria</td><td>Victoria</td><td>0       </td></tr>\n",
       "\t<tr><th scope=row>2</th><td>Klaskino          </td><td>Victoria          </td><td>0.0434360429838201</td></tr>\n",
       "\t<tr><th scope=row>3</th><td>Barkeley_Sound    </td><td>Victoria          </td><td>0.0549599612132915</td></tr>\n",
       "\t<tr><th scope=row>4</th><td>Ladysmith         </td><td>Victoria          </td><td>0.0591487636912069</td></tr>\n",
       "\t<tr><th scope=row>5</th><td>San_Diego         </td><td>Victoria          </td><td>0.0501046094784873</td></tr>\n",
       "\t<tr><th scope=row>6</th><td>SF              </td><td>Victoria        </td><td>0.03158665114064</td></tr>\n",
       "\t<tr><th scope=row>7</th><td>Tomales           </td><td>Victoria          </td><td>0.0440856759867297</td></tr>\n",
       "\t<tr><th scope=row>8</th><td>Elkhorn_SLough    </td><td>Victoria          </td><td>0.0644936576926248</td></tr>\n",
       "\t<tr><th scope=row>9</th><td>Humboldt          </td><td>Victoria          </td><td>0.0401592868040582</td></tr>\n",
       "\t<tr><th scope=row>10</th><td>Mugu_Lagoon       </td><td>Victoria          </td><td>0.0748368938755237</td></tr>\n",
       "\t<tr><th scope=row>11</th><td>Conchaphila      </td><td>Victoria         </td><td>0.109387838770465</td></tr>\n",
       "\t<tr><th scope=row>12</th><td>Coos              </td><td>Victoria          </td><td>0.0805401210684068</td></tr>\n",
       "\t<tr><th scope=row>13</th><td>Yaquina           </td><td>Victoria          </td><td>0.0529348631224461</td></tr>\n",
       "\t<tr><th scope=row>14</th><td>Netarts           </td><td>Victoria          </td><td>0.0449484513642099</td></tr>\n",
       "\t<tr><th scope=row>15</th><td>Triton_Cove       </td><td>Victoria          </td><td>0.0317619800273771</td></tr>\n",
       "\t<tr><th scope=row>16</th><td>Liberty_Bay       </td><td>Victoria          </td><td>0.0652718887932536</td></tr>\n",
       "\t<tr><th scope=row>17</th><td>Discovery_Bay     </td><td>Victoria          </td><td>0.0269707710627138</td></tr>\n",
       "\t<tr><th scope=row>18</th><td>North_Bay         </td><td>Victoria          </td><td>0.0382144291378704</td></tr>\n",
       "\t<tr><th scope=row>19</th><td>Willapa           </td><td>Victoria          </td><td>0.0606961093273233</td></tr>\n",
       "\t<tr><th scope=row>20</th><td>Victoria          </td><td>Klaskino          </td><td>0.0434360429838201</td></tr>\n",
       "\t<tr><th scope=row>21</th><td>Klaskino</td><td>Klaskino</td><td>0       </td></tr>\n",
       "\t<tr><th scope=row>22</th><td>Barkeley_Sound    </td><td>Klaskino          </td><td>0.0317731868449576</td></tr>\n",
       "\t<tr><th scope=row>23</th><td>Ladysmith          </td><td>Klaskino           </td><td>0.00951356545627113</td></tr>\n",
       "\t<tr><th scope=row>24</th><td>San_Diego         </td><td>Klaskino          </td><td>0.0595262072579867</td></tr>\n",
       "\t<tr><th scope=row>25</th><td>SF                </td><td>Klaskino          </td><td>0.0385336135084558</td></tr>\n",
       "\t<tr><th scope=row>26</th><td>Tomales           </td><td>Klaskino          </td><td>0.0559482662865981</td></tr>\n",
       "\t<tr><th scope=row>27</th><td>Elkhorn_SLough    </td><td>Klaskino          </td><td>0.0450299266764057</td></tr>\n",
       "\t<tr><th scope=row>28</th><td>Humboldt         </td><td>Klaskino         </td><td>0.038393307277364</td></tr>\n",
       "\t<tr><th scope=row>29</th><td>Mugu_Lagoon       </td><td>Klaskino          </td><td>0.0658040986176024</td></tr>\n",
       "\t<tr><th scope=row>30</th><td>Conchaphila       </td><td>Klaskino          </td><td>0.0952666743632594</td></tr>\n",
       "\t<tr><th scope=row>⋮</th><td>⋮</td><td>⋮</td><td>⋮</td></tr>\n",
       "\t<tr><th scope=row>332</th><td>Humboldt          </td><td>North_Bay         </td><td>0.0198931973298224</td></tr>\n",
       "\t<tr><th scope=row>333</th><td>Mugu_Lagoon       </td><td>North_Bay         </td><td>0.0704980811787953</td></tr>\n",
       "\t<tr><th scope=row>334</th><td>Conchaphila       </td><td>North_Bay         </td><td>0.0959149344514855</td></tr>\n",
       "\t<tr><th scope=row>335</th><td>Coos              </td><td>North_Bay         </td><td>0.0575094975137507</td></tr>\n",
       "\t<tr><th scope=row>336</th><td>Yaquina           </td><td>North_Bay         </td><td>0.0462292176591609</td></tr>\n",
       "\t<tr><th scope=row>337</th><td>Netarts           </td><td>North_Bay         </td><td>0.0258010323927128</td></tr>\n",
       "\t<tr><th scope=row>338</th><td>Triton_Cove        </td><td>North_Bay          </td><td>0.00717313378246374</td></tr>\n",
       "\t<tr><th scope=row>339</th><td>Liberty_Bay        </td><td>North_Bay          </td><td>0.00867253653148922</td></tr>\n",
       "\t<tr><th scope=row>340</th><td>Discovery_Bay     </td><td>North_Bay         </td><td>0.0278298862020015</td></tr>\n",
       "\t<tr><th scope=row>341</th><td>North_Bay</td><td>North_Bay</td><td>0        </td></tr>\n",
       "\t<tr><th scope=row>342</th><td>Willapa           </td><td>North_Bay         </td><td>0.0409503916851576</td></tr>\n",
       "\t<tr><th scope=row>343</th><td>Victoria          </td><td>Willapa           </td><td>0.0606961093273233</td></tr>\n",
       "\t<tr><th scope=row>344</th><td>Klaskino          </td><td>Willapa           </td><td>0.0432030895295379</td></tr>\n",
       "\t<tr><th scope=row>345</th><td>Barkeley_Sound    </td><td>Willapa           </td><td>0.0493721772014402</td></tr>\n",
       "\t<tr><th scope=row>346</th><td>Ladysmith         </td><td>Willapa           </td><td>0.0454685463497775</td></tr>\n",
       "\t<tr><th scope=row>347</th><td>San_Diego         </td><td>Willapa           </td><td>0.0984750013205905</td></tr>\n",
       "\t<tr><th scope=row>348</th><td>SF                </td><td>Willapa           </td><td>0.0634484425256033</td></tr>\n",
       "\t<tr><th scope=row>349</th><td>Tomales           </td><td>Willapa           </td><td>0.0651132850190489</td></tr>\n",
       "\t<tr><th scope=row>350</th><td>Elkhorn_SLough    </td><td>Willapa           </td><td>0.0930217111156822</td></tr>\n",
       "\t<tr><th scope=row>351</th><td>Humboldt          </td><td>Willapa           </td><td>0.0558642203021915</td></tr>\n",
       "\t<tr><th scope=row>352</th><td>Mugu_Lagoon      </td><td>Willapa          </td><td>0.113909383763551</td></tr>\n",
       "\t<tr><th scope=row>353</th><td>Conchaphila      </td><td>Willapa          </td><td>0.155193919026608</td></tr>\n",
       "\t<tr><th scope=row>354</th><td>Coos              </td><td>Willapa           </td><td>0.0100126699454193</td></tr>\n",
       "\t<tr><th scope=row>355</th><td>Yaquina           </td><td>Willapa           </td><td>0.0518432385966345</td></tr>\n",
       "\t<tr><th scope=row>356</th><td>Netarts           </td><td>Willapa           </td><td>0.0566581895439851</td></tr>\n",
       "\t<tr><th scope=row>357</th><td>Triton_Cove       </td><td>Willapa           </td><td>0.0448570260242524</td></tr>\n",
       "\t<tr><th scope=row>358</th><td>Liberty_Bay       </td><td>Willapa           </td><td>0.0438648888241686</td></tr>\n",
       "\t<tr><th scope=row>359</th><td>Discovery_Bay     </td><td>Willapa           </td><td>0.0365500360593288</td></tr>\n",
       "\t<tr><th scope=row>360</th><td>North_Bay         </td><td>Willapa           </td><td>0.0409503916851576</td></tr>\n",
       "\t<tr><th scope=row>361</th><td>Willapa</td><td>Willapa</td><td>0      </td></tr>\n",
       "</tbody>\n",
       "</table>\n"
      ],
      "text/latex": [
       "\\begin{tabular}{r|lll}\n",
       "  & Var1 & Var2 & value\\\\\n",
       "\\hline\n",
       "\t1 & Victoria & Victoria & 0       \\\\\n",
       "\t2 & Klaskino           & Victoria           & 0.0434360429838201\\\\\n",
       "\t3 & Barkeley\\_Sound   & Victoria           & 0.0549599612132915\\\\\n",
       "\t4 & Ladysmith          & Victoria           & 0.0591487636912069\\\\\n",
       "\t5 & San\\_Diego        & Victoria           & 0.0501046094784873\\\\\n",
       "\t6 & SF               & Victoria         & 0.03158665114064\\\\\n",
       "\t7 & Tomales            & Victoria           & 0.0440856759867297\\\\\n",
       "\t8 & Elkhorn\\_SLough   & Victoria           & 0.0644936576926248\\\\\n",
       "\t9 & Humboldt           & Victoria           & 0.0401592868040582\\\\\n",
       "\t10 & Mugu\\_Lagoon      & Victoria           & 0.0748368938755237\\\\\n",
       "\t11 & Conchaphila       & Victoria          & 0.109387838770465\\\\\n",
       "\t12 & Coos               & Victoria           & 0.0805401210684068\\\\\n",
       "\t13 & Yaquina            & Victoria           & 0.0529348631224461\\\\\n",
       "\t14 & Netarts            & Victoria           & 0.0449484513642099\\\\\n",
       "\t15 & Triton\\_Cove      & Victoria           & 0.0317619800273771\\\\\n",
       "\t16 & Liberty\\_Bay      & Victoria           & 0.0652718887932536\\\\\n",
       "\t17 & Discovery\\_Bay    & Victoria           & 0.0269707710627138\\\\\n",
       "\t18 & North\\_Bay        & Victoria           & 0.0382144291378704\\\\\n",
       "\t19 & Willapa            & Victoria           & 0.0606961093273233\\\\\n",
       "\t20 & Victoria           & Klaskino           & 0.0434360429838201\\\\\n",
       "\t21 & Klaskino & Klaskino & 0       \\\\\n",
       "\t22 & Barkeley\\_Sound   & Klaskino           & 0.0317731868449576\\\\\n",
       "\t23 & Ladysmith           & Klaskino            & 0.00951356545627113\\\\\n",
       "\t24 & San\\_Diego        & Klaskino           & 0.0595262072579867\\\\\n",
       "\t25 & SF                 & Klaskino           & 0.0385336135084558\\\\\n",
       "\t26 & Tomales            & Klaskino           & 0.0559482662865981\\\\\n",
       "\t27 & Elkhorn\\_SLough   & Klaskino           & 0.0450299266764057\\\\\n",
       "\t28 & Humboldt          & Klaskino          & 0.038393307277364\\\\\n",
       "\t29 & Mugu\\_Lagoon      & Klaskino           & 0.0658040986176024\\\\\n",
       "\t30 & Conchaphila        & Klaskino           & 0.0952666743632594\\\\\n",
       "\t⋮ & ⋮ & ⋮ & ⋮\\\\\n",
       "\t332 & Humboldt           & North\\_Bay        & 0.0198931973298224\\\\\n",
       "\t333 & Mugu\\_Lagoon      & North\\_Bay        & 0.0704980811787953\\\\\n",
       "\t334 & Conchaphila        & North\\_Bay        & 0.0959149344514855\\\\\n",
       "\t335 & Coos               & North\\_Bay        & 0.0575094975137507\\\\\n",
       "\t336 & Yaquina            & North\\_Bay        & 0.0462292176591609\\\\\n",
       "\t337 & Netarts            & North\\_Bay        & 0.0258010323927128\\\\\n",
       "\t338 & Triton\\_Cove       & North\\_Bay         & 0.00717313378246374\\\\\n",
       "\t339 & Liberty\\_Bay       & North\\_Bay         & 0.00867253653148922\\\\\n",
       "\t340 & Discovery\\_Bay    & North\\_Bay        & 0.0278298862020015\\\\\n",
       "\t341 & North\\_Bay & North\\_Bay & 0          \\\\\n",
       "\t342 & Willapa            & North\\_Bay        & 0.0409503916851576\\\\\n",
       "\t343 & Victoria           & Willapa            & 0.0606961093273233\\\\\n",
       "\t344 & Klaskino           & Willapa            & 0.0432030895295379\\\\\n",
       "\t345 & Barkeley\\_Sound   & Willapa            & 0.0493721772014402\\\\\n",
       "\t346 & Ladysmith          & Willapa            & 0.0454685463497775\\\\\n",
       "\t347 & San\\_Diego        & Willapa            & 0.0984750013205905\\\\\n",
       "\t348 & SF                 & Willapa            & 0.0634484425256033\\\\\n",
       "\t349 & Tomales            & Willapa            & 0.0651132850190489\\\\\n",
       "\t350 & Elkhorn\\_SLough   & Willapa            & 0.0930217111156822\\\\\n",
       "\t351 & Humboldt           & Willapa            & 0.0558642203021915\\\\\n",
       "\t352 & Mugu\\_Lagoon     & Willapa           & 0.113909383763551\\\\\n",
       "\t353 & Conchaphila       & Willapa           & 0.155193919026608\\\\\n",
       "\t354 & Coos               & Willapa            & 0.0100126699454193\\\\\n",
       "\t355 & Yaquina            & Willapa            & 0.0518432385966345\\\\\n",
       "\t356 & Netarts            & Willapa            & 0.0566581895439851\\\\\n",
       "\t357 & Triton\\_Cove      & Willapa            & 0.0448570260242524\\\\\n",
       "\t358 & Liberty\\_Bay      & Willapa            & 0.0438648888241686\\\\\n",
       "\t359 & Discovery\\_Bay    & Willapa            & 0.0365500360593288\\\\\n",
       "\t360 & North\\_Bay        & Willapa            & 0.0409503916851576\\\\\n",
       "\t361 & Willapa & Willapa & 0      \\\\\n",
       "\\end{tabular}\n"
      ],
      "text/plain": [
       "              Var1      Var2               value\n",
       "1         Victoria  Victoria                   0\n",
       "2         Klaskino  Victoria  0.0434360429838201\n",
       "3   Barkeley_Sound  Victoria  0.0549599612132915\n",
       "4        Ladysmith  Victoria  0.0591487636912069\n",
       "5        San_Diego  Victoria  0.0501046094784873\n",
       "6               SF  Victoria    0.03158665114064\n",
       "7          Tomales  Victoria  0.0440856759867297\n",
       "8   Elkhorn_SLough  Victoria  0.0644936576926248\n",
       "9         Humboldt  Victoria  0.0401592868040582\n",
       "10     Mugu_Lagoon  Victoria  0.0748368938755237\n",
       "11     Conchaphila  Victoria   0.109387838770465\n",
       "12            Coos  Victoria  0.0805401210684068\n",
       "13         Yaquina  Victoria  0.0529348631224461\n",
       "14         Netarts  Victoria  0.0449484513642099\n",
       "15     Triton_Cove  Victoria  0.0317619800273771\n",
       "16     Liberty_Bay  Victoria  0.0652718887932536\n",
       "17   Discovery_Bay  Victoria  0.0269707710627138\n",
       "18       North_Bay  Victoria  0.0382144291378704\n",
       "19         Willapa  Victoria  0.0606961093273233\n",
       "20        Victoria  Klaskino  0.0434360429838201\n",
       "21        Klaskino  Klaskino                   0\n",
       "22  Barkeley_Sound  Klaskino  0.0317731868449576\n",
       "23       Ladysmith  Klaskino 0.00951356545627113\n",
       "24       San_Diego  Klaskino  0.0595262072579867\n",
       "25              SF  Klaskino  0.0385336135084558\n",
       "26         Tomales  Klaskino  0.0559482662865981\n",
       "27  Elkhorn_SLough  Klaskino  0.0450299266764057\n",
       "28        Humboldt  Klaskino   0.038393307277364\n",
       "29     Mugu_Lagoon  Klaskino  0.0658040986176024\n",
       "30     Conchaphila  Klaskino  0.0952666743632594\n",
       "⋮                ⋮         ⋮                   ⋮\n",
       "332       Humboldt North_Bay  0.0198931973298224\n",
       "333    Mugu_Lagoon North_Bay  0.0704980811787953\n",
       "334    Conchaphila North_Bay  0.0959149344514855\n",
       "335           Coos North_Bay  0.0575094975137507\n",
       "336        Yaquina North_Bay  0.0462292176591609\n",
       "337        Netarts North_Bay  0.0258010323927128\n",
       "338    Triton_Cove North_Bay 0.00717313378246374\n",
       "339    Liberty_Bay North_Bay 0.00867253653148922\n",
       "340  Discovery_Bay North_Bay  0.0278298862020015\n",
       "341      North_Bay North_Bay                   0\n",
       "342        Willapa North_Bay  0.0409503916851576\n",
       "343       Victoria   Willapa  0.0606961093273233\n",
       "344       Klaskino   Willapa  0.0432030895295379\n",
       "345 Barkeley_Sound   Willapa  0.0493721772014402\n",
       "346      Ladysmith   Willapa  0.0454685463497775\n",
       "347      San_Diego   Willapa  0.0984750013205905\n",
       "348             SF   Willapa  0.0634484425256033\n",
       "349        Tomales   Willapa  0.0651132850190489\n",
       "350 Elkhorn_SLough   Willapa  0.0930217111156822\n",
       "351       Humboldt   Willapa  0.0558642203021915\n",
       "352    Mugu_Lagoon   Willapa   0.113909383763551\n",
       "353    Conchaphila   Willapa   0.155193919026608\n",
       "354           Coos   Willapa  0.0100126699454193\n",
       "355        Yaquina   Willapa  0.0518432385966345\n",
       "356        Netarts   Willapa  0.0566581895439851\n",
       "357    Triton_Cove   Willapa  0.0448570260242524\n",
       "358    Liberty_Bay   Willapa  0.0438648888241686\n",
       "359  Discovery_Bay   Willapa  0.0365500360593288\n",
       "360      North_Bay   Willapa  0.0409503916851576\n",
       "361        Willapa   Willapa                   0"
      ]
     },
     "metadata": {},
     "output_type": "display_data"
    }
   ],
   "source": [
    "matFst <- as.matrix(distFst, rownames.force=TRUE)\n",
    "rownames(matFst) <- popNames(pop_data)\n",
    "colnames(matFst) <- popNames(pop_data)\n",
    "matFst[]\n",
    "melted <- melt(matFst, na.rm =TRUE)\n",
    "melted"
   ]
  },
  {
   "cell_type": "code",
   "execution_count": 234,
   "metadata": {
    "collapsed": false,
    "scrolled": true
   },
   "outputs": [
    {
     "data": {},
     "metadata": {},
     "output_type": "display_data"
    },
    {
     "data": {
      "image/png": "[encoded data removed]",
      "text/plain": [
       "plot without title"
      ]
     },
     "metadata": {},
     "output_type": "display_data"
    }
   ],
   "source": [
    "options(repr.plot.width=7,repr.plot.height=6)\n",
    "ggplot(data = melted, aes(Var2, Var1, fill = value))+\n",
    " geom_tile(color = \"white\")+\n",
    " scale_fill_gradient(low = \"white\", high = \"red\", \n",
    "   name=\"FST\")  + ggtitle(expression(atop(\"Pairwise FST with O.conchaphila\", atop(italic(\"N = 212, L = 1791\"), \"\"))))+\n",
    "labs( x = \"Sampling Site\", y = \"Sampling Site\") +\n",
    " theme(axis.text.x = element_text(angle = 45, vjust = 1, \n",
    "    size = 12, hjust = 1))+ coord_fixed()\n"
   ]
  },
  {
   "cell_type": "markdown",
   "metadata": {},
   "source": [
    "## PCA"
   ]
  },
  {
   "cell_type": "code",
   "execution_count": 87,
   "metadata": {
    "collapsed": false
   },
   "outputs": [
    {
     "data": {
      "text/html": [
       "142122"
      ],
      "text/latex": [
       "142122"
      ],
      "text/markdown": [
       "142122"
      ],
      "text/plain": [
       "[1] 142122"
      ]
     },
     "metadata": {},
     "output_type": "display_data"
    }
   ],
   "source": [
    "sum(is.na(ind_data50_25$tab))"
   ]
  },
  {
   "cell_type": "code",
   "execution_count": 88,
   "metadata": {
    "collapsed": false
   },
   "outputs": [
    {
     "name": "stderr",
     "output_type": "stream",
     "text": [
      "Warning message in .local(x, ...):\n",
      "“Some scaling values are null.\n",
      " Corresponding alleles are removed.”"
     ]
    }
   ],
   "source": [
    "scaled50_25 <- scaleGen(ind_data50_25, NA.method=\"mean\")"
   ]
  },
  {
   "cell_type": "code",
   "execution_count": 89,
   "metadata": {
    "collapsed": false
   },
   "outputs": [
    {
     "data": {
      "image/png": "[encoded data removed]",
      "text/plain": [
       "Plot with title “PCA eigenvalues”"
      ]
     },
     "metadata": {},
     "output_type": "display_data"
    }
   ],
   "source": [
    "pca1 <- dudi.pca(scaled50_25,cent=FALSE,scale=FALSE,scannf=FALSE,nf=3)\n",
    "barplot(pca1$eig[1:50],main=\"PCA eigenvalues\", col=heat.colors(50))"
   ]
  },
  {
   "cell_type": "code",
   "execution_count": 91,
   "metadata": {
    "collapsed": false
   },
   "outputs": [
    {
     "data": {
      "image/png": "[encoded data removed]",
      "text/plain": [
       "plot without title"
      ]
     },
     "metadata": {},
     "output_type": "display_data"
    }
   ],
   "source": [
    "col <- funky(15)\n",
    "s.class(pca1$li, pop(ind_data50_25),xax=1,yax=2, sub = \"PCA 1-2\",col=col, axesell=FALSE,\n",
    "cstar=0, cpoint=3, grid=FALSE)\n",
    "add.scatter.eig(pca1$eig[1:20],nf=3,xax=1,yax=2)"
   ]
  },
  {
   "cell_type": "code",
   "execution_count": 92,
   "metadata": {
    "collapsed": false,
    "scrolled": true
   },
   "outputs": [
    {
     "data": {
      "image/png": "[encoded data removed]",
      "text/plain": [
       "plot without title"
      ]
     },
     "metadata": {},
     "output_type": "display_data"
    }
   ],
   "source": [
    "col <- funky(15)\n",
    "s.class(pca1$li, pop(ind_data50_25),xax=1,yax=3, sub = \"PCA 1-3\",col=col, axesell=FALSE,\n",
    "cstar=0, cpoint=3, grid=FALSE)\n",
    "add.scatter.eig(pca1$eig[1:20],nf=3,xax=1,yax=3)"
   ]
  },
  {
   "cell_type": "code",
   "execution_count": 116,
   "metadata": {
    "collapsed": false
   },
   "outputs": [
    {
     "data": {
      "text/html": [
       "194"
      ],
      "text/latex": [
       "194"
      ],
      "text/markdown": [
       "194"
      ],
      "text/plain": [
       "[1] 194"
      ]
     },
     "metadata": {},
     "output_type": "display_data"
    }
   ],
   "source": [
    "noc50_25pops <- pop(ind_noc50_25)\n",
    "length(noc50_25pops)"
   ]
  },
  {
   "cell_type": "code",
   "execution_count": 139,
   "metadata": {
    "collapsed": false
   },
   "outputs": [],
   "source": [
    "NSpops_noc50_25 <- factor(c(rep(\"North\",46),rep(\"South\",95),rep(\"North\",38),rep(\"South\",15)))\n",
    "NSpops_noc50_25ex <- factor(c(rep(\"North\",45),rep(\"South\",95),rep(\"North\",38),rep(\"South\",15)))"
   ]
  },
  {
   "cell_type": "code",
   "execution_count": 151,
   "metadata": {
    "collapsed": false
   },
   "outputs": [
    {
     "name": "stderr",
     "output_type": "stream",
     "text": [
      "Warning message in .local(x, ...):\n",
      "“Some scaling values are null.\n",
      " Corresponding alleles are removed.”"
     ]
    },
    {
     "data": {
      "image/png": "[encoded data removed]",
      "text/plain": [
       "Plot with title “PCA eigenvalues”"
      ]
     },
     "metadata": {},
     "output_type": "display_data"
    }
   ],
   "source": [
    "scalednoc50_25 <- scaleGen(ind_noc50_25, NA.method=\"mean\")\n",
    "pcanoc <- dudi.pca(scalednoc50_25,cent=FALSE,scale=FALSE,scannf=FALSE,nf=5)\n",
    "barplot(pcanoc$eig[1:50],main=\"PCA eigenvalues\", col=heat.colors(50))"
   ]
  },
  {
   "cell_type": "code",
   "execution_count": 152,
   "metadata": {
    "collapsed": false
   },
   "outputs": [
    {
     "data": {
      "image/png": "[encoded data removed]",
      "text/plain": [
       "Plot with title “PCA of microbov dataset\n",
       "axes 1-2”"
      ]
     },
     "metadata": {},
     "output_type": "display_data"
    }
   ],
   "source": [
    "s.label(pcanoc$li)\n",
    "title(\"PCA of microbov dataset\\naxes 1-2\")\n",
    "add.scatter.eig(pcanoc$eig[1:20], 3,1,2, \"topleft\")"
   ]
  },
  {
   "cell_type": "code",
   "execution_count": 154,
   "metadata": {
    "collapsed": false
   },
   "outputs": [
    {
     "data": {
      "image/png": "[encoded data removed]",
      "text/plain": [
       "plot without title"
      ]
     },
     "metadata": {},
     "output_type": "display_data"
    }
   ],
   "source": [
    "s.label(pcanoc$li,xax=1,yax=3)\n",
    "add.scatter.eig(pcanoc$eig[1:20], 3,1,3, \"topleft\")"
   ]
  },
  {
   "cell_type": "markdown",
   "metadata": {},
   "source": [
    "Excluding BC3_17 for now: possibly mislabeled? Should check barcode file for Run 2."
   ]
  },
  {
   "cell_type": "code",
   "execution_count": 142,
   "metadata": {
    "collapsed": false
   },
   "outputs": [
    {
     "data": {
      "text/plain": [
       "/// GENIND OBJECT /////////\n",
       "\n",
       " // 193 individuals; 1,775 loci; 3,171 alleles; size: 3.1 Mb\n",
       "\n",
       " // Basic content\n",
       "   @tab:  193 x 3171 matrix of allele counts\n",
       "   @loc.n.all: number of alleles per locus (range: 1-3)\n",
       "   @loc.fac: locus factor for the 3171 columns of @tab\n",
       "   @all.names: list of allele names for each locus\n",
       "   @ploidy: ploidy of each individual  (range: 2-2)\n",
       "   @type:  codom\n",
       "   @call: .local(x = x, i = i, j = j, drop = drop)\n",
       "\n",
       " // Optional content\n",
       "   @pop: population of each individual (group size range: 8-15)"
      ]
     },
     "metadata": {},
     "output_type": "display_data"
    }
   ],
   "source": [
    "ind_noc50_25ex <- ind_noc50_25[which(indNames(ind_noc50_25) != \"BC3_17\"),, drop=TRUE]\n",
    "ind_noc50_25ex"
   ]
  },
  {
   "cell_type": "code",
   "execution_count": 143,
   "metadata": {
    "collapsed": false
   },
   "outputs": [
    {
     "name": "stderr",
     "output_type": "stream",
     "text": [
      "Warning message in .local(x, ...):\n",
      "“Some scaling values are null.\n",
      " Corresponding alleles are removed.”"
     ]
    },
    {
     "data": {
      "image/png": "[encoded data removed]",
      "text/plain": [
       "Plot with title “PCA eigenvalues”"
      ]
     },
     "metadata": {},
     "output_type": "display_data"
    }
   ],
   "source": [
    "scalednoc50_25ex <- scaleGen(ind_noc50_25ex, NA.method=\"mean\")\n",
    "pcanocex <- dudi.pca(scalednoc50_25ex,cent=FALSE,scale=FALSE,scannf=FALSE,nf=5)\n",
    "barplot(pcanocex$eig[1:50],main=\"PCA eigenvalues\", col=heat.colors(50))"
   ]
  },
  {
   "cell_type": "code",
   "execution_count": 138,
   "metadata": {
    "collapsed": false
   },
   "outputs": [
    {
     "data": {
      "image/png": "[encoded data removed]",
      "text/plain": [
       "plot without title"
      ]
     },
     "metadata": {},
     "output_type": "display_data"
    }
   ],
   "source": [
    "col <- funky(15)\n",
    "s.class(pcanocex$li, pop(ind_noc50_25ex),xax=1,yax=2, sub = \"PCA 1-2\",col=col, axesell=FALSE,\n",
    "cstar=0, cpoint=3, grid=FALSE)\n",
    "add.scatter.eig(pcanocex$eig[1:20],nf=3,xax=1,yax=2,\"topleft\")"
   ]
  },
  {
   "cell_type": "code",
   "execution_count": 155,
   "metadata": {
    "collapsed": false
   },
   "outputs": [
    {
     "data": {
      "image/png": "[encoded data removed]",
      "text/plain": [
       "plot without title"
      ]
     },
     "metadata": {},
     "output_type": "display_data"
    }
   ],
   "source": [
    "col <- funky(15)\n",
    "s.class(pcanocex$li, pop(ind_noc50_25ex),xax=1,yax=3, sub = \"PCA 1-3\",col=col, axesell=FALSE,\n",
    "cstar=0, cpoint=3, grid=FALSE)\n",
    "add.scatter.eig(pcanocex$eig[1:20],nf=3,xax=1,yax=3,\"topleft\")"
   ]
  },
  {
   "cell_type": "code",
   "execution_count": 158,
   "metadata": {
    "collapsed": false
   },
   "outputs": [
    {
     "data": {
      "image/png": "[encoded data removed]",
      "text/plain": [
       "plot without title"
      ]
     },
     "metadata": {},
     "output_type": "display_data"
    }
   ],
   "source": [
    "col <- funky(15)\n",
    "s.class(pcanocex$li, pop(ind_noc50_25ex),xax=1,yax=4, sub = \"PCA 2-3\",col=col, axesell=FALSE,\n",
    "cstar=0, cpoint=3, grid=FALSE)\n",
    "add.scatter.eig(pcanocex$eig[1:20],nf=3,xax=2,yax=3,\"topleft\")"
   ]
  },
  {
   "cell_type": "code",
   "execution_count": null,
   "metadata": {
    "collapsed": false
   },
   "outputs": [],
   "source": []
  },
  {
   "cell_type": "code",
   "execution_count": null,
   "metadata": {
    "collapsed": false
   },
   "outputs": [],
   "source": []
  },
  {
   "cell_type": "code",
   "execution_count": 99,
   "metadata": {
    "collapsed": true
   },
   "outputs": [],
   "source": [
    "inputfile = \"/home/ksil91/Projects/Ostrea/over10k-min75H32/o10k-min75H32-exRepOLu.str\"\n",
    "Sys.setenv(IN=\"/home/ksil91/Projects/Ostrea/over10k-min75H32/o10k-min75H32-exRepOLu.str\")"
   ]
  },
  {
   "cell_type": "code",
   "execution_count": 100,
   "metadata": {
    "collapsed": false
   },
   "outputs": [
    {
     "data": {
      "text/html": [
       "1791"
      ],
      "text/latex": [
       "1791"
      ],
      "text/markdown": [
       "1791"
      ],
      "text/plain": [
       "[1] 1791"
      ]
     },
     "metadata": {},
     "output_type": "display_data"
    }
   ],
   "source": [
    "nloci = -2+as.numeric(system(\"awk '{print NF}' ${IN} | sort -nu | tail -n 1\", intern=TRUE))\n",
    "nloci"
   ]
  },
  {
   "cell_type": "code",
   "execution_count": 101,
   "metadata": {
    "collapsed": false
   },
   "outputs": [
    {
     "data": {
      "text/html": [
       "'407 /home/ksil91/Projects/Ostrea/over10k-min75H32/o10k-min75H32-exRepOLu.str'"
      ],
      "text/latex": [
       "'407 /home/ksil91/Projects/Ostrea/over10k-min75H32/o10k-min75H32-exRepOLu.str'"
      ],
      "text/markdown": [
       "'407 /home/ksil91/Projects/Ostrea/over10k-min75H32/o10k-min75H32-exRepOLu.str'"
      ],
      "text/plain": [
       "[1] \"407 /home/ksil91/Projects/Ostrea/over10k-min75H32/o10k-min75H32-exRepOLu.str\""
      ]
     },
     "metadata": {},
     "output_type": "display_data"
    }
   ],
   "source": [
    "system(\"wc -l ${IN}\", intern=TRUE)"
   ]
  },
  {
   "cell_type": "code",
   "execution_count": 102,
   "metadata": {
    "collapsed": true
   },
   "outputs": [],
   "source": [
    "nind = 406/2"
   ]
  },
  {
   "cell_type": "code",
   "execution_count": 104,
   "metadata": {
    "collapsed": false
   },
   "outputs": [
    {
     "name": "stdout",
     "output_type": "stream",
     "text": [
      "\n",
      " Converting data from a STRUCTURE .stru file to a genind object... \n",
      "\n"
     ]
    },
    {
     "name": "stderr",
     "output_type": "stream",
     "text": [
      "Warning message in df2genind(X = X, pop = pop, ploidy = 2, sep = sep, ncode = ncode):\n",
      "“entirely non-type marker(s) deleted”"
     ]
    },
    {
     "data": {
      "text/plain": [
       "/// GENIND OBJECT /////////\n",
       "\n",
       " // 203 individuals; 1,790 loci; 3,265 alleles; size: 3.3 Mb\n",
       "\n",
       " // Basic content\n",
       "   @tab:  203 x 3265 matrix of allele counts\n",
       "   @loc.n.all: number of alleles per locus (range: 1-3)\n",
       "   @loc.fac: locus factor for the 3265 columns of @tab\n",
       "   @all.names: list of allele names for each locus\n",
       "   @ploidy: ploidy of each individual  (range: 2-2)\n",
       "   @type:  codom\n",
       "   @call: read.structure(file = inputfile, n.ind = nind, n.loc = nloci, \n",
       "    onerowperind = FALSE, col.lab = 1, col.pop = 2, row.marknames = 1, \n",
       "    ask = FALSE)\n",
       "\n",
       " // Optional content\n",
       "   @pop: population of each individual (group size range: 9-16)"
      ]
     },
     "metadata": {},
     "output_type": "display_data"
    }
   ],
   "source": [
    "ind_data_OL <- read.structure(inputfile, n.ind=nind,n.loc=nloci,onerowperind=FALSE,\n",
    "                           col.lab=1,col.pop=2,row.marknames=1, ask=FALSE)\n",
    "ind_data_OL"
   ]
  },
  {
   "cell_type": "code",
   "execution_count": 105,
   "metadata": {
    "collapsed": false
   },
   "outputs": [],
   "source": [
    "poptable = read.table(\"structure_outputs/o10kexRepu_OL19pop.distruct\",header=FALSE)\n",
    "old_pops <- ind_data_OL@pop\n",
    "new_pops = {}\n",
    "for (i in 1:length(old_pops)){\n",
    "    new_pops[i] = as.character(poptable$V2[match(old_pops[i],poptable$V1)])\n",
    "}\n",
    "pop(ind_data_OL) <- new_pops\n",
    "sum_ind_OL <- summary(ind_data_OL)"
   ]
  },
  {
   "cell_type": "code",
   "execution_count": 106,
   "metadata": {
    "collapsed": false
   },
   "outputs": [
    {
     "name": "stdout",
     "output_type": "stream",
     "text": [
      "\n",
      " Converting data from a genind to a genpop object... \n",
      "\n",
      "...done.\n",
      "\n"
     ]
    },
    {
     "data": {
      "text/html": [
       "<ol class=list-inline>\n",
       "\t<li>'Victoria'</li>\n",
       "\t<li>'Klaskino'</li>\n",
       "\t<li>'Barkeley_Sound'</li>\n",
       "\t<li>'Ladysmith'</li>\n",
       "\t<li>'San_Diego'</li>\n",
       "\t<li>'SF'</li>\n",
       "\t<li>'Tomales'</li>\n",
       "\t<li>'Elkhorn_SLough'</li>\n",
       "\t<li>'Humboldt'</li>\n",
       "\t<li>'Mugu_Lagoon'</li>\n",
       "\t<li>'Coos'</li>\n",
       "\t<li>'Yaquina'</li>\n",
       "\t<li>'Netarts'</li>\n",
       "\t<li>'Triton_Cove'</li>\n",
       "\t<li>'Liberty_Bay'</li>\n",
       "\t<li>'Discovery_Bay'</li>\n",
       "\t<li>'North_Bay'</li>\n",
       "</ol>\n"
      ],
      "text/latex": [
       "\\begin{enumerate*}\n",
       "\\item 'Victoria'\n",
       "\\item 'Klaskino'\n",
       "\\item 'Barkeley\\_Sound'\n",
       "\\item 'Ladysmith'\n",
       "\\item 'San\\_Diego'\n",
       "\\item 'SF'\n",
       "\\item 'Tomales'\n",
       "\\item 'Elkhorn\\_SLough'\n",
       "\\item 'Humboldt'\n",
       "\\item 'Mugu\\_Lagoon'\n",
       "\\item 'Coos'\n",
       "\\item 'Yaquina'\n",
       "\\item 'Netarts'\n",
       "\\item 'Triton\\_Cove'\n",
       "\\item 'Liberty\\_Bay'\n",
       "\\item 'Discovery\\_Bay'\n",
       "\\item 'North\\_Bay'\n",
       "\\end{enumerate*}\n"
      ],
      "text/markdown": [
       "1. 'Victoria'\n",
       "2. 'Klaskino'\n",
       "3. 'Barkeley_Sound'\n",
       "4. 'Ladysmith'\n",
       "5. 'San_Diego'\n",
       "6. 'SF'\n",
       "7. 'Tomales'\n",
       "8. 'Elkhorn_SLough'\n",
       "9. 'Humboldt'\n",
       "10. 'Mugu_Lagoon'\n",
       "11. 'Coos'\n",
       "12. 'Yaquina'\n",
       "13. 'Netarts'\n",
       "14. 'Triton_Cove'\n",
       "15. 'Liberty_Bay'\n",
       "16. 'Discovery_Bay'\n",
       "17. 'North_Bay'\n",
       "\n",
       "\n"
      ],
      "text/plain": [
       " [1] \"Victoria\"       \"Klaskino\"       \"Barkeley_Sound\" \"Ladysmith\"     \n",
       " [5] \"San_Diego\"      \"SF\"             \"Tomales\"        \"Elkhorn_SLough\"\n",
       " [9] \"Humboldt\"       \"Mugu_Lagoon\"    \"Coos\"           \"Yaquina\"       \n",
       "[13] \"Netarts\"        \"Triton_Cove\"    \"Liberty_Bay\"    \"Discovery_Bay\" \n",
       "[17] \"North_Bay\"     "
      ]
     },
     "metadata": {},
     "output_type": "display_data"
    }
   ],
   "source": [
    "pop_data_OL <- genind2genpop(ind_data_OL)\n",
    "popNames(pop_data_OL)\n",
    "sum_pop_OL <- summary(pop_data_OL)"
   ]
  },
  {
   "cell_type": "code",
   "execution_count": null,
   "metadata": {
    "collapsed": true
   },
   "outputs": [],
   "source": []
  },
  {
   "cell_type": "code",
   "execution_count": 212,
   "metadata": {
    "collapsed": false
   },
   "outputs": [
    {
     "name": "stderr",
     "output_type": "stream",
     "text": [
      "Warning message in .local(x, ...):\n",
      "“Some scaling values are null.\n",
      " Corresponding alleles are removed.”"
     ]
    },
    {
     "data": {
      "image/png": "[encoded data removed]",
      "text/plain": [
       "Plot with title “PCA eigenvalues”"
      ]
     },
     "metadata": {},
     "output_type": "display_data"
    }
   ],
   "source": [
    "scaled <- scaleGen(ind_data_OL, NA.method=\"mean\")\n",
    "pca1.OL <- dudi.pca(scaled,cent=FALSE,scale=FALSE,scannf=FALSE,nf=3)\n",
    "barplot(pca1.OL$eig[1:50],main=\"PCA eigenvalues\", col=heat.colors(50))"
   ]
  },
  {
   "cell_type": "code",
   "execution_count": 213,
   "metadata": {
    "collapsed": false
   },
   "outputs": [
    {
     "data": {
      "image/png": "[encoded data removed]",
      "text/plain": [
       "Plot with title “PCA w/out Conch 1-2”"
      ]
     },
     "metadata": {},
     "output_type": "display_data"
    }
   ],
   "source": [
    "col <- funky(15)\n",
    "s.class(pca1.OL$li, pop(ind_data_OL),xax=1,yax=2,col=col, axesell=FALSE,\n",
    "cstar=0, cpoint=3, grid=FALSE)\n",
    "title(\"PCA w/out Conch 1-2\")\n",
    "add.scatter.eig(pca1.OL$eig[1:20],nf=3,xax=1,yax=2)"
   ]
  },
  {
   "cell_type": "code",
   "execution_count": 214,
   "metadata": {
    "collapsed": false,
    "scrolled": false
   },
   "outputs": [
    {
     "data": {
      "image/png": "[encoded data removed]",
      "text/plain": [
       "Plot with title “PCA w/out Conch 1-3”"
      ]
     },
     "metadata": {},
     "output_type": "display_data"
    }
   ],
   "source": [
    "col <- funky(15)\n",
    "s.class(pca1.OL$li, pop(ind_data_OL),xax=1,yax=3,col=col, axesell=FALSE,\n",
    "cstar=0, cpoint=3, grid=FALSE)\n",
    "title(\"PCA w/out Conch 1-3\")\n",
    "add.scatter.eig(pca1.OL$eig[1:20],nf=3,xax=1,yax=3)"
   ]
  },
  {
   "cell_type": "code",
   "execution_count": 215,
   "metadata": {
    "collapsed": false
   },
   "outputs": [
    {
     "data": {
      "image/png": "[encoded data removed]",
      "text/plain": [
       "Plot with title “Correspondance Analysis eigenvalues”"
      ]
     },
     "metadata": {},
     "output_type": "display_data"
    }
   ],
   "source": [
    "ca1.OL <- dudi.coa(tab(pop_data_OL),scannf=FALSE,nf=3)\n",
    "barplot(ca1.OL$eig,main=\"Correspondance Analysis eigenvalues\",\n",
    "col=heat.colors(length(ca1.OL$eig)))"
   ]
  },
  {
   "cell_type": "code",
   "execution_count": 222,
   "metadata": {
    "collapsed": false
   },
   "outputs": [
    {
     "data": {
      "image/png": "[encoded data removed]",
      "text/plain": [
       "plot without title"
      ]
     },
     "metadata": {},
     "output_type": "display_data"
    }
   ],
   "source": [
    "s.label(ca1.OL$li,xax=1,yax=2,lab=popNames(pop_data_OL),csub=2)\n",
    "add.scatter.eig(ca1.OL$eig,nf=3,xax=1,yax=2,posi=\"bottomleft\")"
   ]
  },
  {
   "cell_type": "code",
   "execution_count": 224,
   "metadata": {
    "collapsed": false
   },
   "outputs": [
    {
     "data": {
      "image/png": "[encoded data removed]",
      "text/plain": [
       "plot without title"
      ]
     },
     "metadata": {},
     "output_type": "display_data"
    }
   ],
   "source": [
    "s.label(ca1.OL$li,xax=2,yax=3,lab=popNames(pop_data_OL),csub=2)\n",
    "add.scatter.eig(ca1.OL$eig,nf=3,xax=2,yax=3,posi=\"bottomleft\")"
   ]
  },
  {
   "cell_type": "code",
   "execution_count": null,
   "metadata": {
    "collapsed": true
   },
   "outputs": [],
   "source": []
  }
 ],
 "metadata": {
  "kernelspec": {
   "display_name": "R",
   "language": "R",
   "name": "ir"
  },
  "language_info": {
   "codemirror_mode": "r",
   "file_extension": ".r",
   "mimetype": "text/x-r-source",
   "name": "R",
   "pygments_lexer": "r",
   "version": "3.3.1"
  }
 },
 "nbformat": 4,
 "nbformat_minor": 0
}
