{
 "cells": [
  {
   "cell_type": "code",
   "execution_count": 3,
   "metadata": {
    "collapsed": false
   },
   "outputs": [
    {
     "name": "stdout",
     "output_type": "stream",
     "text": [
      "The rpy2.ipython extension is already loaded. To reload it, use:\n",
      "  %reload_ext rpy2.ipython\n"
     ]
    }
   ],
   "source": [
    "%load_ext rpy2.ipython"
   ]
  },
  {
   "cell_type": "code",
   "execution_count": 5,
   "metadata": {
    "collapsed": false
   },
   "outputs": [],
   "source": [
    "%%R \n",
    "library(\"adegenet\")\n",
    "setwd(\"/home/ksil91/Projects/Ostrea/over10k-min75H32/\")"
   ]
  },
  {
   "cell_type": "markdown",
   "metadata": {},
   "source": [
    "[EEMS structure](https://github.com/dipetkov/eems/tree/master/str2diffs)"
   ]
  },
  {
   "cell_type": "code",
   "execution_count": null,
   "metadata": {
    "collapsed": true
   },
   "outputs": [],
   "source": [
    "%%R\n",
    "raw <- read.table(\"ov\")\n",
    "colnames(raw) <- c(\"indiv\", \"label\", \"pop\", paste0(\"snp\", 1:6))\n",
    "raw"
   ]
  },
  {
   "cell_type": "code",
   "execution_count": 43,
   "metadata": {
    "collapsed": false
   },
   "outputs": [],
   "source": [
    "import sys\n",
    "new_path = '/home/ksil91/Projects/Methods/EEMS/eems-master/pipeline'\n",
    "if new_path not in sys.path:\n",
    "    sys.path.append(new_path)"
   ]
  },
  {
   "cell_type": "code",
   "execution_count": 45,
   "metadata": {
    "collapsed": false
   },
   "outputs": [
    {
     "name": "stdout",
     "output_type": "stream",
     "text": [
      "/home/ksil91/Projects/Ostrea/EEMS\n"
     ]
    }
   ],
   "source": [
    "%cd ~/Projects/Ostrea/EEMS/"
   ]
  },
  {
   "cell_type": "code",
   "execution_count": 46,
   "metadata": {
    "collapsed": false
   },
   "outputs": [
    {
     "name": "stdout",
     "output_type": "stream",
     "text": [
      "The autoreload extension is already loaded. To reload it, use:\n",
      "  %reload_ext autoreload\n"
     ]
    }
   ],
   "source": [
    "%matplotlib inline\n",
    "%load_ext autoreload\n",
    "%autoreload 2\n",
    "\n",
    "from __future__ import print_function\n",
    "\n",
    "import pandas as pd\n",
    "import numpy as np\n",
    "import os, sys\n",
    "import matplotlib.pyplot as plt\n",
    "pd.set_option( 'display.max_rows', 4 )"
   ]
  },
  {
   "cell_type": "code",
   "execution_count": 3,
   "metadata": {
    "collapsed": false,
    "scrolled": true
   },
   "outputs": [
    {
     "name": "stdout",
     "output_type": "stream",
     "text": [
      "PLINK v1.90b3.34 64-bit (15 Mar 2016)      https://www.cog-genomics.org/plink2\n",
      "(C) 2005-2016 Shaun Purcell, Christopher Chang   GNU General Public License v3\n",
      "Logging to alm100nocbest.log.\n",
      "Options in effect:\n",
      "  --file alm100nocbest\n",
      "  --make-bed\n",
      "  --out alm100nocbest\n",
      "\n",
      "7923 MB RAM detected; reserving 3961 MB for main workspace.\n",
      "Scanning .ped file... 0%\b\b1%\b\b1%\b\b2%\b\b2%\b\b3%\b\b3%\b\b4%\b\b5%\b\b5%\b\b6%\b\b6%\b\b7%\b\b7%\b\b8%\b\b8%\b\b9%\b\b10%\b\b\b10%\b\b\b11%\b\b\b11%\b\b\b12%\b\b\b12%\b\b\b13%\b\b\b14%\b\b\b14%\b\b\b15%\b\b\b15%\b\b\b16%\b\b\b16%\b\b\b17%\b\b\b17%\b\b\b18%\b\b\b19%\b\b\b19%\b\b\b20%\b\b\b20%\b\b\b21%\b\b\b21%\b\b\b22%\b\b\b23%\b\b\b23%\b\b\b24%\b\b\b24%\b\b\b25%\b\b\b25%\b\b\b26%\b\b\b26%\b\b\b27%\b\b\b28%\b\b\b28%\b\b\b29%\b\b\b29%\b\b\b30%\b\b\b30%\b\b\b31%\b\b\b32%\b\b\b32%\b\b\b33%\b\b\b33%\b\b\b34%\b\b\b34%\b\b\b35%\b\b\b35%\b\b\b36%\b\b\b37%\b\b\b37%\b\b\b38%\b\b\b38%\b\b\b39%\b\b\b39%\b\b\b40%\b\b\b41%\b\b\b41%\b\b\b42%\b\b\b42%\b\b\b43%\b\b\b43%\b\b\b44%\b\b\b44%\b\b\b45%\b\b\b46%\b\b\b46%\b\b\b47%\b\b\b47%\b\b\b48%\b\b\b48%\b\b\b49%\b\b\b49%\b\b\b50%\b\b\b51%\b\b\b51%\b\b\b52%\b\b\b52%\b\b\b53%\b\b\b53%\b\b\b54%\b\b\b55%\b\b\b55%\b\b\b56%\b\b\b56%\b\b\b57%\b\b\b57%\b\b\b58%\b\b\b58%\b\b\b59%\b\b\b60%\b\b\b60%\b\b\b61%\b\b\b61%\b\b\b62%\b\b\b62%\b\b\b63%\b\b\b64%\b\b\b64%\b\b\b65%\b\b\b65%\b\b\b66%\b\b\b66%\b\b\b67%\b\b\b67%\b\b\b68%\b\b\b69%\b\b\b69%\b\b\b70%\b\b\b70%\b\b\b71%\b\b\b71%\b\b\b72%\b\b\b73%\b\b\b73%\b\b\b74%\b\b\b74%\b\b\b75%\b\b\b75%\b\b\b76%\b\b\b76%\b\b\b77%\b\b\b78%\b\b\b78%\b\b\b79%\b\b\b79%\b\b\b80%\b\b\b80%\b\b\b81%\b\b\b82%\b\b\b82%\b\b\b83%\b\b\b83%\b\b\b84%\b\b\b84%\b\b\b85%\b\b\b85%\b\b\b86%\b\b\b87%\b\b\b87%\b\b\b88%\b\b\b88%\b\b\b89%\b\b\b89%\b\b\b90%\b\b\b91%\b\b\b91%\b\b\b92%\b\b\b92%\b\b\b93%\b\b\b93%\b\b\b94%\b\b\b94%\b\b\b95%\b\b\b96%\b\b\b96%\b\b\b97%\b\b\b97%\b\b\b98%\b\b\b98%\b\b\b99%\b\b\b100%\r",
      ".ped scan complete (for binary autoconversion).\n",
      "Performing single-pass .bed write (3075 variants, 178 people).\n",
      "0%\b\b1%\b\b2%\b\b3%\b\b4%\b\b5%\b\b6%\b\b7%\b\b8%\b\b9%\b\b10%\b\b\b11%\b\b\b12%\b\b\b13%\b\b\b14%\b\b\b15%\b\b\b16%\b\b\b17%\b\b\b18%\b\b\b19%\b\b\b20%\b\b\b21%\b\b\b22%\b\b\b23%\b\b\b24%\b\b\b25%\b\b\b26%\b\b\b27%\b\b\b28%\b\b\b29%\b\b\b30%\b\b\b31%\b\b\b32%\b\b\b33%\b\b\b34%\b\b\b35%\b\b\b36%\b\b\b37%\b\b\b38%\b\b\b39%\b\b\b40%\b\b\b41%\b\b\b42%\b\b\b43%\b\b\b44%\b\b\b45%\b\b\b46%\b\b\b47%\b\b\b48%\b\b\b49%\b\b\b50%\b\b\b51%\b\b\b52%\b\b\b53%\b\b\b54%\b\b\b55%\b\b\b56%\b\b\b57%\b\b\b58%\b\b\b59%\b\b\b60%\b\b\b61%\b\b\b62%\b\b\b63%\b\b\b64%\b\b\b65%\b\b\b66%\b\b\b67%\b\b\b68%\b\b\b69%\b\b\b70%\b\b\b71%\b\b\b72%\b\b\b73%\b\b\b74%\b\b\b75%\b\b\b76%\b\b\b77%\b\b\b78%\b\b\b79%\b\b\b80%\b\b\b81%\b\b\b82%\b\b\b83%\b\b\b84%\b\b\b85%\b\b\b86%\b\b\b87%\b\b\b88%\b\b\b89%\b\b\b90%\b\b\b91%\b\b\b92%\b\b\b93%\b\b\b94%\r",
      "--file: alm100nocbest-temporary.bed + alm100nocbest-temporary.bim +\n",
      "alm100nocbest-temporary.fam written.\n",
      "3075 variants loaded from .bim file.\n",
      "178 people (0 males, 0 females, 178 ambiguous) loaded from .fam.\n",
      "Ambiguous sex IDs written to alm100nocbest.nosex .\n",
      "Using 1 thread (no multithreaded calculations invoked).\n",
      "Before main variant filters, 178 founders and 0 nonfounders present.\n",
      "Calculating allele frequencies... 0%\b\b1%\b\b2%\b\b3%\b\b4%\b\b5%\b\b6%\b\b7%\b\b8%\b\b9%\b\b10%\b\b\b11%\b\b\b12%\b\b\b13%\b\b\b14%\b\b\b15%\b\b\b16%\b\b\b17%\b\b\b18%\b\b\b19%\b\b\b20%\b\b\b21%\b\b\b22%\b\b\b23%\b\b\b24%\b\b\b25%\b\b\b26%\b\b\b27%\b\b\b28%\b\b\b29%\b\b\b30%\b\b\b31%\b\b\b32%\b\b\b33%\b\b\b34%\b\b\b35%\b\b\b36%\b\b\b37%\b\b\b38%\b\b\b39%\b\b\b40%\b\b\b41%\b\b\b42%\b\b\b43%\b\b\b44%\b\b\b45%\b\b\b46%\b\b\b47%\b\b\b48%\b\b\b49%\b\b\b50%\b\b\b51%\b\b\b52%\b\b\b53%\b\b\b54%\b\b\b55%\b\b\b56%\b\b\b57%\b\b\b58%\b\b\b59%\b\b\b60%\b\b\b61%\b\b\b62%\b\b\b63%\b\b\b64%\b\b\b65%\b\b\b66%\b\b\b67%\b\b\b68%\b\b\b69%\b\b\b70%\b\b\b71%\b\b\b72%\b\b\b73%\b\b\b74%\b\b\b75%\b\b\b76%\b\b\b77%\b\b\b78%\b\b\b79%\b\b\b80%\b\b\b81%\b\b\b82%\b\b\b83%\b\b\b84%\b\b\b85%\b\b\b86%\b\b\b87%\b\b\b88%\b\b\b89%\b\b\b90%\b\b\b91%\b\b\b92%\b\b\b93%\b\b\b94%\b\b\b95%\b\b\b96%\b\b\b97%\b\b\b98%\b\b\b99%\b\b\b\b done.\n",
      "Total genotyping rate is 0.630544.\n",
      "3075 variants and 178 people pass filters and QC.\n",
      "Note: No phenotypes present.\n",
      "--make-bed to alm100nocbest.bed + alm100nocbest.bim + alm100nocbest.fam ...\n",
      "0%\b\b1%\b\b2%\b\b3%\b\b4%\b\b5%\b\b6%\b\b7%\b\b8%\b\b9%\b\b10%\b\b\b11%\b\b\b12%\b\b\b13%\b\b\b14%\b\b\b15%\b\b\b16%\b\b\b17%\b\b\b18%\b\b\b19%\b\b\b20%\b\b\b21%\b\b\b22%\b\b\b23%\b\b\b24%\b\b\b25%\b\b\b26%\b\b\b27%\b\b\b28%\b\b\b29%\b\b\b30%\b\b\b31%\b\b\b32%\b\b\b33%\b\b\b34%\b\b\b35%\b\b\b36%\b\b\b37%\b\b\b38%\b\b\b39%\b\b\b40%\b\b\b41%\b\b\b42%\b\b\b43%\b\b\b44%\b\b\b45%\b\b\b46%\b\b\b47%\b\b\b48%\b\b\b49%\b\b\b50%\b\b\b51%\b\b\b52%\b\b\b53%\b\b\b54%\b\b\b55%\b\b\b56%\b\b\b57%\b\b\b58%\b\b\b59%\b\b\b60%\b\b\b61%\b\b\b62%\b\b\b63%\b\b\b64%\b\b\b65%\b\b\b66%\b\b\b67%\b\b\b68%\b\b\b69%\b\b\b70%\b\b\b71%\b\b\b72%\b\b\b73%\b\b\b74%\b\b\b75%\b\b\b76%\b\b\b77%\b\b\b78%\b\b\b79%\b\b\b80%\b\b\b81%\b\b\b82%\b\b\b83%\b\b\b84%\b\b\b85%\b\b\b86%\b\b\b87%\b\b\b88%\b\b\b89%\b\b\b90%\b\b\b91%\b\b\b92%\b\b\b93%\b\b\b94%\b\b\b95%\b\b\b96%\b\b\b97%\b\b\b98%\b\b\b99%\b\b\bdone.\n"
     ]
    },
    {
     "name": "stderr",
     "output_type": "stream",
     "text": [
      "Warning: Variant 1687 triallelic; setting rarest alleles missing.\n",
      "Warning: Variant 1745 triallelic; setting rarest alleles missing.\n",
      "Warning: Variant 1844 triallelic; setting rarest alleles missing.\n",
      "Warning: Variant 2110 triallelic; setting rarest alleles missing.\n"
     ]
    }
   ],
   "source": [
    "%%sh\n",
    "plink --file alm100nocbest --make-bed --out alm100nocbest"
   ]
  },
  {
   "cell_type": "code",
   "execution_count": 52,
   "metadata": {
    "collapsed": false,
    "scrolled": false
   },
   "outputs": [
    {
     "name": "stdout",
     "output_type": "stream",
     "text": [
      "Set the number of OpenMP threads to 1\n",
      "\n",
      "Compute the average genetic differences according to: \n",
      "  Dij = (1/|Mtot|) sum_{m in Mtot} (z*_{im} - z*_{jm})^2\n",
      "  where Mtot is the set of all SNPs and\n",
      "  z*_{im} = z_{im} if sample i is called at marker m\n",
      "          = zbar_m (the average genotype at m) otherwise\n",
      "\n"
     ]
    },
    {
     "name": "stderr",
     "output_type": "stream",
     "text": [
      "[Data::getsize] Error opening plink files alm100nocbest.[bed/bim/fam]\n"
     ]
    }
   ],
   "source": [
    "%%sh\n",
    "/home/ksil91/Projects/Methods/EEMS/eems-master/bed2diffs/src/bed2diffs_v2 --bfile alm100nocbest"
   ]
  },
  {
   "cell_type": "code",
   "execution_count": 48,
   "metadata": {
    "collapsed": false
   },
   "outputs": [],
   "source": [
    "%run ~/Projects/Methods/Scripts/getSampleLoc.py OstreaPhylogeographySamplesSheet1.csv bestnoc_ed.samples nocbest.coord "
   ]
  },
  {
   "cell_type": "code",
   "execution_count": 51,
   "metadata": {
    "collapsed": false,
    "scrolled": true
   },
   "outputs": [
    {
     "ename": "ImportError",
     "evalue": "No module named descartes",
     "output_type": "error",
     "traceback": [
      "\u001b[1;31m---------------------------------------------------------------------------\u001b[0m",
      "\u001b[1;31mImportError\u001b[0m                               Traceback (most recent call last)",
      "\u001b[1;32m<ipython-input-51-0e8779231c82>\u001b[0m in \u001b[0;36m<module>\u001b[1;34m()\u001b[0m\n\u001b[1;32m----> 1\u001b[1;33m \u001b[1;32mfrom\u001b[0m \u001b[0mpipeline\u001b[0m\u001b[1;33m.\u001b[0m\u001b[0mparameters\u001b[0m \u001b[1;32mimport\u001b[0m \u001b[0mParameters\u001b[0m\u001b[1;33m\u001b[0m\u001b[0m\n\u001b[0m\u001b[0;32m      2\u001b[0m \u001b[1;32mfrom\u001b[0m \u001b[0mpipeline\u001b[0m\u001b[1;33m.\u001b[0m\u001b[0mload\u001b[0m \u001b[1;32mimport\u001b[0m \u001b[0mload_location_file\u001b[0m\u001b[1;33m,\u001b[0m \u001b[0mload_sample_file\u001b[0m\u001b[1;33m\u001b[0m\u001b[0m\n\u001b[0;32m      3\u001b[0m \u001b[1;32mfrom\u001b[0m \u001b[0mpipeline\u001b[0m\u001b[1;33m.\u001b[0m\u001b[0mpolygon\u001b[0m \u001b[1;32mimport\u001b[0m \u001b[0mfilter_individuals_based_on_location\u001b[0m\u001b[1;33m,\u001b[0m \u001b[0mget_polygon\u001b[0m\u001b[1;33m,\u001b[0m \u001b[0mwrite_all_files\u001b[0m\u001b[1;33m,\u001b[0m \u001b[0mrun_all\u001b[0m\u001b[1;33m\u001b[0m\u001b[0m\n",
      "\u001b[1;32m/home/ksil91/Projects/Methods/EEMS/eems-master/pipeline/pipeline/__init__.py\u001b[0m in \u001b[0;36m<module>\u001b[1;34m()\u001b[0m\n\u001b[0;32m      1\u001b[0m \u001b[1;32mfrom\u001b[0m \u001b[0mparameters\u001b[0m \u001b[1;32mimport\u001b[0m \u001b[0mParameters\u001b[0m\u001b[1;33m\u001b[0m\u001b[0m\n\u001b[0;32m      2\u001b[0m \u001b[1;32mfrom\u001b[0m \u001b[0mload\u001b[0m \u001b[1;32mimport\u001b[0m \u001b[0mload_location_file\u001b[0m\u001b[1;33m,\u001b[0m \u001b[0mload_sample_file\u001b[0m\u001b[1;33m\u001b[0m\u001b[0m\n\u001b[1;32m----> 3\u001b[1;33m \u001b[1;32mfrom\u001b[0m \u001b[0mpolygon\u001b[0m \u001b[1;32mimport\u001b[0m \u001b[0mget_eems_area\u001b[0m\u001b[1;33m\u001b[0m\u001b[0m\n\u001b[0m\u001b[0;32m      4\u001b[0m \u001b[1;32mfrom\u001b[0m \u001b[0meems\u001b[0m \u001b[1;32mimport\u001b[0m \u001b[0mwrite_all_files\u001b[0m\u001b[1;33m,\u001b[0m \u001b[0mrun_all\u001b[0m\u001b[1;33m,\u001b[0m \u001b[0mfilter_data\u001b[0m\u001b[1;33m\u001b[0m\u001b[0m\n\u001b[0;32m      5\u001b[0m \u001b[1;33m\u001b[0m\u001b[0m\n",
      "\u001b[1;32m/home/ksil91/Projects/Methods/EEMS/eems-master/pipeline/pipeline/polygon.py\u001b[0m in \u001b[0;36m<module>\u001b[1;34m()\u001b[0m\n\u001b[0;32m      4\u001b[0m \u001b[1;32mimport\u001b[0m \u001b[0mnumpy\u001b[0m \u001b[1;32mas\u001b[0m \u001b[0mnp\u001b[0m\u001b[1;33m\u001b[0m\u001b[0m\n\u001b[0;32m      5\u001b[0m \u001b[1;32mfrom\u001b[0m \u001b[0mload\u001b[0m \u001b[1;32mimport\u001b[0m \u001b[0mwrap_america\u001b[0m\u001b[1;33m\u001b[0m\u001b[0m\n\u001b[1;32m----> 6\u001b[1;33m \u001b[1;32mfrom\u001b[0m \u001b[0mgeoloc2\u001b[0m \u001b[1;32mimport\u001b[0m \u001b[0mload_countries\u001b[0m\u001b[1;33m\u001b[0m\u001b[0m\n\u001b[0m\u001b[0;32m      7\u001b[0m \u001b[1;32mfrom\u001b[0m \u001b[0mmpl_toolkits\u001b[0m\u001b[1;33m.\u001b[0m\u001b[0mbasemap\u001b[0m \u001b[1;32mimport\u001b[0m \u001b[0mBasemap\u001b[0m\u001b[1;33m\u001b[0m\u001b[0m\n\u001b[0;32m      8\u001b[0m \u001b[1;33m\u001b[0m\u001b[0m\n",
      "\u001b[1;32m/home/ksil91/Projects/Methods/EEMS/eems-master/pipeline/pipeline/geoloc2.py\u001b[0m in \u001b[0;36m<module>\u001b[1;34m()\u001b[0m\n\u001b[0;32m      2\u001b[0m \u001b[1;32mfrom\u001b[0m \u001b[0mshapely\u001b[0m\u001b[1;33m.\u001b[0m\u001b[0mgeometry\u001b[0m \u001b[1;32mimport\u001b[0m \u001b[0mshape\u001b[0m\u001b[1;33m,\u001b[0m \u001b[0mMultiPolygon\u001b[0m\u001b[1;33m\u001b[0m\u001b[0m\n\u001b[0;32m      3\u001b[0m \u001b[1;32mfrom\u001b[0m \u001b[0mshapely\u001b[0m\u001b[1;33m.\u001b[0m\u001b[0maffinity\u001b[0m \u001b[1;32mimport\u001b[0m \u001b[0mtranslate\u001b[0m\u001b[1;33m\u001b[0m\u001b[0m\n\u001b[1;32m----> 4\u001b[1;33m \u001b[1;32mimport\u001b[0m \u001b[0mdescartes\u001b[0m\u001b[1;33m\u001b[0m\u001b[0m\n\u001b[0m\u001b[0;32m      5\u001b[0m \u001b[1;32mimport\u001b[0m \u001b[0mmatplotlib\u001b[0m\u001b[1;33m.\u001b[0m\u001b[0mpyplot\u001b[0m \u001b[1;32mas\u001b[0m \u001b[0mplt\u001b[0m\u001b[1;33m\u001b[0m\u001b[0m\n\u001b[0;32m      6\u001b[0m \u001b[1;32mimport\u001b[0m \u001b[0mshapely\u001b[0m\u001b[1;33m.\u001b[0m\u001b[0mops\u001b[0m \u001b[1;32mas\u001b[0m \u001b[0mops\u001b[0m\u001b[1;33m\u001b[0m\u001b[0m\n",
      "\u001b[1;31mImportError\u001b[0m: No module named descartes"
     ]
    }
   ],
   "source": [
    "from pipeline.parameters import Parameters\n",
    "from pipeline.load import load_location_file, load_sample_file\n",
    "from pipeline.polygon import filter_individuals_based_on_location, get_polygon, write_all_files, run_all"
   ]
  },
  {
   "cell_type": "code",
   "execution_count": null,
   "metadata": {
    "collapsed": true
   },
   "outputs": [],
   "source": []
  }
 ],
 "metadata": {
  "kernelspec": {
   "display_name": "Python 2",
   "language": "python",
   "name": "python2"
  },
  "language_info": {
   "codemirror_mode": {
    "name": "ipython",
    "version": 2
   },
   "file_extension": ".py",
   "mimetype": "text/x-python",
   "name": "python",
   "nbconvert_exporter": "python",
   "pygments_lexer": "ipython2",
   "version": "2.7.12"
  }
 },
 "nbformat": 4,
 "nbformat_minor": 0
}
