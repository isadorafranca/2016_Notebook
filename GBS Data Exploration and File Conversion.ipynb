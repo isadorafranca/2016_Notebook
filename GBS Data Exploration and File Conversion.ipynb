{
 "cells": [
  {
   "cell_type": "markdown",
   "metadata": {},
   "source": [
    "## Converting ipyrad .u.str output for adegenet "
   ]
  },
  {
   "cell_type": "markdown",
   "metadata": {},
   "source": [
    "You need 3 files: the .u.str file from ipyrad, a file listing the population of each sample, and a file listing an integer for each population. Based on the format of my sample names (Population_ID), I created the Sample-Population file with a simple python script that takes in any of the stats output from Steps 2-6.You could also just manually make a file with a column of sample ids and a column of corresponding Population IDs."
   ]
  },
  {
   "cell_type": "code",
   "execution_count": null,
   "metadata": {
    "collapsed": false
   },
   "outputs": [],
   "source": [
    "# %load /home/ksil91/Projects/Ostrea/makePopFile.py\n",
    "##create population file for ipyrad. Can be used with ipyrad stats files from steps 2-6.\n",
    "\n",
    "import sys\n",
    "\n",
    "def makePopFile(infile, outfile):\n",
    "    IN = open(infile, \"r\")\n",
    "    OUT = open(outfile, \"w\")\n",
    "    for line in IN:\n",
    "        sampleID = line.split()[0]\n",
    "        popID = sampleID.split(\"_\")[0]\n",
    "        OUT.write(sampleID + \" \"+popID+\"\\n\")\n",
    "    IN.close()\n",
    "    OUT.close()\n",
    "\n",
    "\n",
    "def main(argv):\n",
    "    #get arguments from command line\n",
    "    inf = argv[1]\n",
    "    outf = argv[2]\n",
    "    makePopFile(inf,outf)\n",
    "\n",
    "if __name__ == \"__main__\":\n",
    "    status = main(sys.argv)\n",
    "    sys.exit(status)\n",
    "\n"
   ]
  },
  {
   "cell_type": "markdown",
   "metadata": {},
   "source": [
    "File should look like this, with sample id 1st, a space or tab, then the population id:"
   ]
  },
  {
   "cell_type": "code",
   "execution_count": 35,
   "metadata": {
    "collapsed": false
   },
   "outputs": [],
   "source": [
    "DIR = \"/home/ksil91/Projects/Ostrea/\""
   ]
  },
  {
   "cell_type": "code",
   "execution_count": 54,
   "metadata": {
    "collapsed": false
   },
   "outputs": [
    {
     "name": "stdout",
     "output_type": "stream",
     "text": [
      "clusters_total clusters\r\n",
      "BC1_1 BC1\r\n",
      "BC1_10w_6 BC1\r\n",
      "BC1_11 BC1\r\n",
      "BC1_12 BC1\r\n",
      "BC1_19 BC1\r\n",
      "BC1_2 BC1\r\n",
      "BC1_20 BC1\r\n",
      "BC1_22 BC1\r\n",
      "BC1_5 BC1\r\n"
     ]
    }
   ],
   "source": [
    "!head /home/ksil91/Projects/Ostrea/over10k_popfile.txt"
   ]
  },
  {
   "cell_type": "markdown",
   "metadata": {},
   "source": [
    "It's ok if you have some extra stuff on there for my subsequent code."
   ]
  },
  {
   "cell_type": "markdown",
   "metadata": {},
   "source": [
    "For .str files, you need to code the population as an integer. For this, I created a file with the Population ID string, the desired integer, and then optional columns of other info, like the full name of the population or GPS coordinates. This file can then be played around with to create different groupings of populations."
   ]
  },
  {
   "cell_type": "code",
   "execution_count": 55,
   "metadata": {
    "collapsed": false
   },
   "outputs": [
    {
     "name": "stdout",
     "output_type": "stream",
     "text": [
      "BC1 4 Victoria\r\n",
      "BC2 1 Klaskino\r\n",
      "BC3 2 Barkeley_Sound\r\n",
      "BC4 3 Ladysmith\r\n",
      "WA12 5 Discovery_Bay\r\n",
      "WA11 6 Liberty_Bay\r\n",
      "WA13 7 North_Bay\r\n",
      "WA10 8 Triton_Cove\r\n",
      "WA1 9 North_Willapa\r\n",
      "WA9 9 South_Willpa\r\n"
     ]
    }
   ],
   "source": [
    "!head /home/ksil91/Projects/Ostrea/Pop2Int.txt"
   ]
  },
  {
   "cell_type": "markdown",
   "metadata": {},
   "source": [
    "Then I made a script to add a column of integers to the .str ipyrad output corresponding to the population of each sample. This file can be used in the actual Structure program."
   ]
  },
  {
   "cell_type": "code",
   "execution_count": null,
   "metadata": {
    "collapsed": true
   },
   "outputs": [],
   "source": [
    "# %load /home/ksil91/Projects/Ostrea/AddPopsStr.py\n",
    "import sys\n",
    "\n",
    "def addPops(str_infile, popfile, outfile, pop2int):\n",
    "    IN = open(str_infile, \"r\")\n",
    "    OUT = open(outfile, \"w\")\n",
    "    pops = open(popfile, \"r\")\n",
    "    pop2int = open(pop2int, \"r\")\n",
    "    popdict = {}\n",
    "    pop2intdict = {}\n",
    "    for line in pop2int:\n",
    "        popID = line.split()[0]\n",
    "        intID = line.strip().split()[1]\n",
    "        pop2intdict[popID] = intID\n",
    "    for line in pops:\n",
    "        sampleID = line.split()[0]\n",
    "        popID = line.strip().split()[1]\n",
    "        popdict[sampleID] = popID\n",
    "    for line in IN:\n",
    "        linelist = line.split()\n",
    "        intID = pop2intdict[popdict[linelist[0]]]\n",
    "        linelist.insert(1, intID)\n",
    "        print >> OUT, \"\\t\".join(str(e) for e in linelist)\n",
    "    IN.close()\n",
    "    OUT.close()\n",
    "    pops.close()\n",
    "    pop2int.close()\n",
    "\n",
    "def main(argv):\n",
    "    #get arguments from command line\n",
    "    inf = argv[1]\n",
    "    outf = argv[2]\n",
    "    popf = argv[3]\n",
    "    pop2int = argv[4]\n",
    "    addPops(inf,popf, outf, pop2int)\n",
    "\n",
    "if __name__ == \"__main__\":\n",
    "    status = main(sys.argv)\n",
    "    sys.exit(status)\n",
    "\n"
   ]
  },
  {
   "cell_type": "code",
   "execution_count": 14,
   "metadata": {
    "collapsed": false
   },
   "outputs": [
    {
     "name": "stdout",
     "output_type": "stream",
     "text": [
      "BC1_1\t4\t3\t0\n",
      "BC1_1\t4\t3\t0\n",
      "BC1_10w_6\t4\t3\t0\n",
      "BC1_10w_6\t4\t3\t0\n",
      "BC1_11\t4\t3\t0\n",
      "BC1_11\t4\t3\t0\n",
      "BC1_12\t4\t3\t0\n",
      "BC1_12\t4\t3\t0\n",
      "BC1_19\t4\t-9\t0\n",
      "BC1_19\t4\t-9\t0\n"
     ]
    }
   ],
   "source": [
    "%%sh\n",
    "head /home/ksil91/Projects/Ostrea/over10k-BCWA-min75H25.u.str | cut -f 1-4"
   ]
  },
  {
   "cell_type": "markdown",
   "metadata": {},
   "source": [
    "Population BC1 is given an integer identifation "
   ]
  },
  {
   "cell_type": "markdown",
   "metadata": {},
   "source": [
    "Adegenet will take strings as population identifiers, so I made a copy of the .str file with the 3rd column of my Pop2Int.txt file instead of the integers. To be able to load into adegenet, you also have to rename the .u.str file to be .stru."
   ]
  },
  {
   "cell_type": "code",
   "execution_count": 102,
   "metadata": {
    "collapsed": false
   },
   "outputs": [],
   "source": [
    "def addPopNames(str_infile, popfile, outfile, pop2int):\n",
    "    IN = open(str_infile, \"r\")\n",
    "    OUT = open(outfile, \"w\")\n",
    "    pops = open(popfile, \"r\")\n",
    "    pop2int = open(pop2int, \"r\")\n",
    "    popdict = {}\n",
    "    pop2namedict = {}\n",
    "    for line in pop2int:\n",
    "        popID = line.split()[0]\n",
    "        nameID = line.strip().split()[2]\n",
    "        pop2namedict[popID] = nameID\n",
    "    for line in pops:\n",
    "        sampleID = line.split()[0]\n",
    "        popID = line.strip().split()[1]\n",
    "        popdict[sampleID] = popID\n",
    "    for line in IN:\n",
    "        linelist = line.split()\n",
    "        intID = pop2namedict[popdict[linelist[0]]]\n",
    "        linelist.insert(1, intID)\n",
    "        print >> OUT, \"\\t\".join(str(e) for e in linelist)\n",
    "    IN.close()\n",
    "    OUT.close()\n",
    "    pops.close()\n",
    "    pop2int.close()\n",
    "\n",
    "addPopNames(\"/home/ksil91/Projects/Ostrea/over10k-min50H32.u.str\",\"/home/ksil91/Projects/Ostrea/over10k_popfile.txt\",\\\n",
    "            \"/home/ksil91/Projects/Ostrea/over10k-min50H32popnames_u.stru\", \"/home/ksil91/Projects/Ostrea/Pop2Int.txt\")"
   ]
  },
  {
   "cell_type": "code",
   "execution_count": 103,
   "metadata": {
    "collapsed": false,
    "scrolled": true
   },
   "outputs": [
    {
     "name": "stdout",
     "output_type": "stream",
     "text": [
      "BC1_1\tVictoria\t3\t-9\t1\t3\t-9\r\n",
      "BC1_1\tVictoria\t3\t-9\t1\t3\t-9\r\n",
      "BC1_10w_6\tVictoria\t3\t3\t1\t3\t2\r\n",
      "BC1_10w_6\tVictoria\t3\t3\t1\t3\t2\r\n",
      "BC1_11\tVictoria\t3\t-9\t1\t-9\t-9\r\n",
      "BC1_11\tVictoria\t3\t-9\t1\t-9\t-9\r\n",
      "BC1_12\tVictoria\t3\t3\t-9\t-9\t2\r\n",
      "BC1_12\tVictoria\t3\t3\t-9\t-9\t2\r\n",
      "BC1_19\tVictoria\t3\t-9\t-9\t-9\t-9\r\n",
      "BC1_19\tVictoria\t3\t-9\t-9\t-9\t-9\r\n"
     ]
    }
   ],
   "source": [
    "!head /home/ksil91/Projects/Ostrea/over10k-min50H32popnames_u.stru | cut -f 1-7\n"
   ]
  },
  {
   "cell_type": "code",
   "execution_count": 1,
   "metadata": {
    "collapsed": false
   },
   "outputs": [
    {
     "name": "stdout",
     "output_type": "stream",
     "text": [
      "/home/ksil91/Projects/Ostrea\n"
     ]
    }
   ],
   "source": [
    "%cd ~/Projects/Ostrea/"
   ]
  },
  {
   "cell_type": "code",
   "execution_count": 11,
   "metadata": {
    "collapsed": false
   },
   "outputs": [],
   "source": [
    "%load_ext rpy2.ipython"
   ]
  },
  {
   "cell_type": "markdown",
   "metadata": {},
   "source": [
    "After adding population info to the .str file, convert into Eigensoft format (.geno/.ind/.snp) files with PGDSpider2. Make sure you set the name for your .ind file and .snp file in PGDSpider settings! (*should figure out how to do on command line*) Afterwards, edit the .ind file to reflect the names you want for populations and PGDSpider gives them weird long names."
   ]
  },
  {
   "cell_type": "code",
   "execution_count": 5,
   "metadata": {
    "collapsed": false
   },
   "outputs": [
    {
     "name": "stdout",
     "output_type": "stream",
     "text": [
      "BC1_1_Victoria\tU\tVictoria\n",
      "BC1_10w_6_Victoria\tU\tVictoria\n",
      "BC1_11_Victoria\tU\tVictoria\n",
      "BC1_12_Victoria\tU\tVictoria\n",
      "BC1_19_Victoria\tU\tVictoria\n",
      "BC1_2_Victoria\tU\tVictoria\n",
      "BC1_20_Victoria\tU\tVictoria\n",
      "BC1_22_Victoria\tU\tVictoria\n",
      "BC1_5_Victoria\tU\tVictoria\n",
      "BC1_7_Victoria\tU\tVictoria\n"
     ]
    }
   ],
   "source": [
    "%%sh\n",
    "##My edited .ind file\n",
    "head over10k-min75H32u.ind"
   ]
  },
  {
   "cell_type": "code",
   "execution_count": null,
   "metadata": {
    "collapsed": false
   },
   "outputs": [],
   "source": [
    "# %load splitGenoPops.py\n",
    "##Creates a new .geno and .ind file for each pair combination of populations. This is to be used for Fst and Pi scripts.\n",
    "\n",
    "import sys\n",
    "from itertools import combinations\n",
    "\n",
    "\n",
    "def getPopList(popfile):\n",
    "    pop = open(popfile, \"r\")\n",
    "    poplist = []\n",
    "    samplelist = []\n",
    "    for line in pop:\n",
    "        sampleID, U, popID = line.strip().split()\n",
    "        poplist.append(popID)\n",
    "        samplelist.append(sampleID)\n",
    "    pop.close()\n",
    "    return(poplist,samplelist)\n",
    "\n",
    "def makeNewGeno(suf,pop12,poplist,samplelist):\n",
    "    IN = open(suf+\".geno\",\"r\")\n",
    "    OUT = open(suf+\"_\"+pop12[0]+\"_\"+pop12[1]+\".geno\",\"w\")\n",
    "    indfile = open(suf+\"_\"+pop12[0]+\"_\"+pop12[1]+\".ind\",\"w\")\n",
    "    for line in IN:\n",
    "        genos = list(line.strip())\n",
    "        for i in range(0,len(genos)):\n",
    "            if poplist[i] in pop12:\n",
    "                OUT.write(genos[i])\n",
    "        OUT.write(\"\\n\")\n",
    "    for i in range(0,len(samplelist)):\n",
    "        if poplist[i] == pop12[0]:\n",
    "            indfile.write(samplelist[i]+\"    0\\n\")\n",
    "        elif poplist[i] == pop12[1]:\n",
    "            indfile.write(samplelist[i]+\"    1\\n\")\n",
    "    IN.close()\n",
    "    OUT.close()\n",
    "    indfile.close()\n",
    "\n",
    "\n",
    "def main(argv):\n",
    "    #get arguments from command line\n",
    "    suf = argv[1]\n",
    "    popfile = argv[2]\n",
    "    poplist,samplelist = getPopList(popfile)\n",
    "    popset = set(poplist)\n",
    "    for c in combinations(popset,2):\n",
    "        makeNewGeno(suf,c,poplist,samplelist)\n",
    "    \n",
    "\n",
    "if __name__ == \"__main__\":\n",
    "    status = main(sys.argv)\n",
    "    sys.exit(status)\n",
    "\n"
   ]
  },
  {
   "cell_type": "code",
   "execution_count": 31,
   "metadata": {
    "collapsed": false
   },
   "outputs": [],
   "source": [
    "%run splitGenoPops.py over10k-min50H32u over10k-min50H32u.ind"
   ]
  },
  {
   "cell_type": "code",
   "execution_count": 25,
   "metadata": {
    "collapsed": false
   },
   "outputs": [
    {
     "name": "stdout",
     "output_type": "stream",
     "text": [
      "over10k-min75H32u_Barkeley_Sound_Conchaphila.geno\r\n",
      "over10k-min75H32u_Barkeley_Sound_Conchaphila.ind\r\n",
      "over10k-min75H32u_Barkeley_Sound_Discovery_Bay.geno\r\n",
      "over10k-min75H32u_Barkeley_Sound_Discovery_Bay.ind\r\n",
      "over10k-min75H32u_Barkeley_Sound_Elkhorn_SLough.geno\r\n",
      "over10k-min75H32u_Barkeley_Sound_Elkhorn_SLough.ind\r\n",
      "over10k-min75H32u_Barkeley_Sound_Humboldt.geno\r\n",
      "over10k-min75H32u_Barkeley_Sound_Humboldt.ind\r\n",
      "over10k-min75H32u_Barkeley_Sound_Klaskino.geno\r\n",
      "over10k-min75H32u_Barkeley_Sound_Klaskino.ind\r\n",
      "over10k-min75H32u_Barkeley_Sound_Ladysmith.geno\r\n",
      "over10k-min75H32u_Barkeley_Sound_Ladysmith.ind\r\n",
      "over10k-min75H32u_Barkeley_Sound_Liberty_Bay.geno\r\n",
      "over10k-min75H32u_Barkeley_Sound_Liberty_Bay.ind\r\n",
      "over10k-min75H32u_Barkeley_Sound_Mugu_Lagoon.geno\r\n",
      "over10k-min75H32u_Barkeley_Sound_Mugu_Lagoon.ind\r\n",
      "over10k-min75H32u_Barkeley_Sound_North_Bay.geno\r\n",
      "over10k-min75H32u_Barkeley_Sound_North_Bay.ind\r\n",
      "over10k-min75H32u_Barkeley_Sound_San_Diego.geno\r\n",
      "over10k-min75H32u_Barkeley_Sound_San_Diego.ind\r\n",
      "over10k-min75H32u_Barkeley_Sound_SF.geno\r\n",
      "over10k-min75H32u_Barkeley_Sound_SF.ind\r\n",
      "over10k-min75H32u_Barkeley_Sound_Tomales.geno\r\n",
      "over10k-min75H32u_Barkeley_Sound_Tomales.ind\r\n",
      "over10k-min75H32u_Barkeley_Sound_Triton_Cove.geno\r\n",
      "over10k-min75H32u_Barkeley_Sound_Triton_Cove.ind\r\n",
      "over10k-min75H32u_Barkeley_Sound_Victoria.geno\r\n",
      "over10k-min75H32u_Barkeley_Sound_Victoria.ind\r\n",
      "over10k-min75H32u_Barkeley_Sound_Willapa.geno\r\n",
      "over10k-min75H32u_Barkeley_Sound_Willapa.ind\r\n",
      "over10k-min75H32u_Conchaphila_Discovery_Bay.geno\r\n",
      "over10k-min75H32u_Conchaphila_Discovery_Bay.ind\r\n",
      "over10k-min75H32u_Conchaphila_Elkhorn_SLough.geno\r\n",
      "over10k-min75H32u_Conchaphila_Elkhorn_SLough.ind\r\n",
      "over10k-min75H32u_Conchaphila_Humboldt.geno\r\n",
      "over10k-min75H32u_Conchaphila_Humboldt.ind\r\n",
      "over10k-min75H32u_Conchaphila_Klaskino.geno\r\n",
      "over10k-min75H32u_Conchaphila_Klaskino.ind\r\n",
      "over10k-min75H32u_Conchaphila_North_Bay.geno\r\n",
      "over10k-min75H32u_Conchaphila_North_Bay.ind\r\n",
      "over10k-min75H32u_Conchaphila_San_Diego.geno\r\n",
      "over10k-min75H32u_Conchaphila_San_Diego.ind\r\n",
      "over10k-min75H32u_Conchaphila_SF.geno\r\n",
      "over10k-min75H32u_Conchaphila_SF.ind\r\n",
      "over10k-min75H32u_Conchaphila_Tomales.geno\r\n",
      "over10k-min75H32u_Conchaphila_Tomales.ind\r\n",
      "over10k-min75H32u_Conchaphila_Triton_Cove.geno\r\n",
      "over10k-min75H32u_Conchaphila_Triton_Cove.ind\r\n",
      "over10k-min75H32u_Conchaphila_Victoria.geno\r\n",
      "over10k-min75H32u_Conchaphila_Victoria.ind\r\n",
      "over10k-min75H32u_Conchaphila_Willapa.geno\r\n",
      "over10k-min75H32u_Conchaphila_Willapa.ind\r\n",
      "over10k-min75H32u_Coos_Barkeley_Sound.geno\r\n",
      "over10k-min75H32u_Coos_Barkeley_Sound.ind\r\n",
      "over10k-min75H32u_Coos_Conchaphila.geno\r\n",
      "over10k-min75H32u_Coos_Conchaphila.ind\r\n",
      "over10k-min75H32u_Coos_Discovery_Bay.geno\r\n",
      "over10k-min75H32u_Coos_Discovery_Bay.ind\r\n",
      "over10k-min75H32u_Coos_Elkhorn_SLough.geno\r\n",
      "over10k-min75H32u_Coos_Elkhorn_SLough.ind\r\n",
      "over10k-min75H32u_Coos_Humboldt.geno\r\n",
      "over10k-min75H32u_Coos_Humboldt.ind\r\n",
      "over10k-min75H32u_Coos_Klaskino.geno\r\n",
      "over10k-min75H32u_Coos_Klaskino.ind\r\n",
      "over10k-min75H32u_Coos_Ladysmith.geno\r\n",
      "over10k-min75H32u_Coos_Ladysmith.ind\r\n",
      "over10k-min75H32u_Coos_Liberty_Bay.geno\r\n",
      "over10k-min75H32u_Coos_Liberty_Bay.ind\r\n",
      "over10k-min75H32u_Coos_Mugu_Lagoon.geno\r\n",
      "over10k-min75H32u_Coos_Mugu_Lagoon.ind\r\n",
      "over10k-min75H32u_Coos_Netarts.geno\r\n",
      "over10k-min75H32u_Coos_Netarts.ind\r\n",
      "over10k-min75H32u_Coos_North_Bay.geno\r\n",
      "over10k-min75H32u_Coos_North_Bay.ind\r\n",
      "over10k-min75H32u_Coos_San_Diego.geno\r\n",
      "over10k-min75H32u_Coos_San_Diego.ind\r\n",
      "over10k-min75H32u_Coos_SF.geno\r\n",
      "over10k-min75H32u_Coos_SF.ind\r\n",
      "over10k-min75H32u_Coos_Tomales.geno\r\n",
      "over10k-min75H32u_Coos_Tomales.ind\r\n",
      "over10k-min75H32u_Coos_Triton_Cove.geno\r\n",
      "over10k-min75H32u_Coos_Triton_Cove.ind\r\n",
      "over10k-min75H32u_Coos_Victoria.geno\r\n",
      "over10k-min75H32u_Coos_Victoria.ind\r\n",
      "over10k-min75H32u_Coos_Willapa.geno\r\n",
      "over10k-min75H32u_Coos_Willapa.ind\r\n",
      "over10k-min75H32u_Coos_Yaquina.geno\r\n",
      "over10k-min75H32u_Coos_Yaquina.ind\r\n",
      "over10k-min75H32u_Discovery_Bay_Elkhorn_SLough.geno\r\n",
      "over10k-min75H32u_Discovery_Bay_Elkhorn_SLough.ind\r\n",
      "over10k-min75H32u_Discovery_Bay_Humboldt.geno\r\n",
      "over10k-min75H32u_Discovery_Bay_Humboldt.ind\r\n",
      "over10k-min75H32u_Discovery_Bay_Klaskino.geno\r\n",
      "over10k-min75H32u_Discovery_Bay_Klaskino.ind\r\n",
      "over10k-min75H32u_Discovery_Bay_North_Bay.geno\r\n",
      "over10k-min75H32u_Discovery_Bay_North_Bay.ind\r\n",
      "over10k-min75H32u_Discovery_Bay_San_Diego.geno\r\n",
      "over10k-min75H32u_Discovery_Bay_San_Diego.ind\r\n",
      "over10k-min75H32u_Discovery_Bay_SF.geno\r\n",
      "over10k-min75H32u_Discovery_Bay_SF.ind\r\n",
      "over10k-min75H32u_Discovery_Bay_Tomales.geno\r\n",
      "over10k-min75H32u_Discovery_Bay_Tomales.ind\r\n",
      "over10k-min75H32u_Discovery_Bay_Triton_Cove.geno\r\n",
      "over10k-min75H32u_Discovery_Bay_Triton_Cove.ind\r\n",
      "over10k-min75H32u_Discovery_Bay_Victoria.geno\r\n",
      "over10k-min75H32u_Discovery_Bay_Victoria.ind\r\n",
      "over10k-min75H32u_Discovery_Bay_Willapa.geno\r\n",
      "over10k-min75H32u_Discovery_Bay_Willapa.ind\r\n",
      "over10k-min75H32u_Elkhorn_SLough_Humboldt.geno\r\n",
      "over10k-min75H32u_Elkhorn_SLough_Humboldt.ind\r\n",
      "over10k-min75H32u_Elkhorn_SLough_San_Diego.geno\r\n",
      "over10k-min75H32u_Elkhorn_SLough_San_Diego.ind\r\n",
      "over10k-min75H32u_Elkhorn_SLough_SF.geno\r\n",
      "over10k-min75H32u_Elkhorn_SLough_SF.ind\r\n",
      "over10k-min75H32u.geno\r\n",
      "over10k-min75H32u.ind\r\n",
      "over10k-min75H32u.ind~\r\n",
      "over10k-min75H32u_Klaskino_Elkhorn_SLough.geno\r\n",
      "over10k-min75H32u_Klaskino_Elkhorn_SLough.ind\r\n",
      "over10k-min75H32u_Klaskino_Humboldt.geno\r\n",
      "over10k-min75H32u_Klaskino_Humboldt.ind\r\n",
      "over10k-min75H32u_Klaskino_North_Bay.geno\r\n",
      "over10k-min75H32u_Klaskino_North_Bay.ind\r\n",
      "over10k-min75H32u_Klaskino_San_Diego.geno\r\n",
      "over10k-min75H32u_Klaskino_San_Diego.ind\r\n",
      "over10k-min75H32u_Klaskino_SF.geno\r\n",
      "over10k-min75H32u_Klaskino_SF.ind\r\n",
      "over10k-min75H32u_Klaskino_Tomales.geno\r\n",
      "over10k-min75H32u_Klaskino_Tomales.ind\r\n",
      "over10k-min75H32u_Klaskino_Triton_Cove.geno\r\n",
      "over10k-min75H32u_Klaskino_Triton_Cove.ind\r\n",
      "over10k-min75H32u_Klaskino_Willapa.geno\r\n",
      "over10k-min75H32u_Klaskino_Willapa.ind\r\n",
      "over10k-min75H32u_Ladysmith_Conchaphila.geno\r\n",
      "over10k-min75H32u_Ladysmith_Conchaphila.ind\r\n",
      "over10k-min75H32u_Ladysmith_Discovery_Bay.geno\r\n",
      "over10k-min75H32u_Ladysmith_Discovery_Bay.ind\r\n",
      "over10k-min75H32u_Ladysmith_Elkhorn_SLough.geno\r\n",
      "over10k-min75H32u_Ladysmith_Elkhorn_SLough.ind\r\n",
      "over10k-min75H32u_Ladysmith_Humboldt.geno\r\n",
      "over10k-min75H32u_Ladysmith_Humboldt.ind\r\n",
      "over10k-min75H32u_Ladysmith_Klaskino.geno\r\n",
      "over10k-min75H32u_Ladysmith_Klaskino.ind\r\n",
      "over10k-min75H32u_Ladysmith_North_Bay.geno\r\n",
      "over10k-min75H32u_Ladysmith_North_Bay.ind\r\n",
      "over10k-min75H32u_Ladysmith_San_Diego.geno\r\n",
      "over10k-min75H32u_Ladysmith_San_Diego.ind\r\n",
      "over10k-min75H32u_Ladysmith_SF.geno\r\n",
      "over10k-min75H32u_Ladysmith_SF.ind\r\n",
      "over10k-min75H32u_Ladysmith_Tomales.geno\r\n",
      "over10k-min75H32u_Ladysmith_Tomales.ind\r\n",
      "over10k-min75H32u_Ladysmith_Triton_Cove.geno\r\n",
      "over10k-min75H32u_Ladysmith_Triton_Cove.ind\r\n",
      "over10k-min75H32u_Ladysmith_Victoria.geno\r\n",
      "over10k-min75H32u_Ladysmith_Victoria.ind\r\n",
      "over10k-min75H32u_Ladysmith_Willapa.geno\r\n",
      "over10k-min75H32u_Ladysmith_Willapa.ind\r\n",
      "over10k-min75H32u_Liberty_Bay_Conchaphila.geno\r\n",
      "over10k-min75H32u_Liberty_Bay_Conchaphila.ind\r\n",
      "over10k-min75H32u_Liberty_Bay_Discovery_Bay.geno\r\n",
      "over10k-min75H32u_Liberty_Bay_Discovery_Bay.ind\r\n",
      "over10k-min75H32u_Liberty_Bay_Elkhorn_SLough.geno\r\n",
      "over10k-min75H32u_Liberty_Bay_Elkhorn_SLough.ind\r\n",
      "over10k-min75H32u_Liberty_Bay_Humboldt.geno\r\n",
      "over10k-min75H32u_Liberty_Bay_Humboldt.ind\r\n",
      "over10k-min75H32u_Liberty_Bay_Klaskino.geno\r\n",
      "over10k-min75H32u_Liberty_Bay_Klaskino.ind\r\n",
      "over10k-min75H32u_Liberty_Bay_Ladysmith.geno\r\n",
      "over10k-min75H32u_Liberty_Bay_Ladysmith.ind\r\n",
      "over10k-min75H32u_Liberty_Bay_North_Bay.geno\r\n",
      "over10k-min75H32u_Liberty_Bay_North_Bay.ind\r\n",
      "over10k-min75H32u_Liberty_Bay_San_Diego.geno\r\n",
      "over10k-min75H32u_Liberty_Bay_San_Diego.ind\r\n",
      "over10k-min75H32u_Liberty_Bay_SF.geno\r\n",
      "over10k-min75H32u_Liberty_Bay_SF.ind\r\n",
      "over10k-min75H32u_Liberty_Bay_Tomales.geno\r\n",
      "over10k-min75H32u_Liberty_Bay_Tomales.ind\r\n",
      "over10k-min75H32u_Liberty_Bay_Triton_Cove.geno\r\n",
      "over10k-min75H32u_Liberty_Bay_Triton_Cove.ind\r\n",
      "over10k-min75H32u_Liberty_Bay_Victoria.geno\r\n",
      "over10k-min75H32u_Liberty_Bay_Victoria.ind\r\n",
      "over10k-min75H32u_Liberty_Bay_Willapa.geno\r\n",
      "over10k-min75H32u_Liberty_Bay_Willapa.ind\r\n",
      "over10k-min75H32u_Mugu_Lagoon_Conchaphila.geno\r\n",
      "over10k-min75H32u_Mugu_Lagoon_Conchaphila.ind\r\n",
      "over10k-min75H32u_Mugu_Lagoon_Discovery_Bay.geno\r\n",
      "over10k-min75H32u_Mugu_Lagoon_Discovery_Bay.ind\r\n",
      "over10k-min75H32u_Mugu_Lagoon_Elkhorn_SLough.geno\r\n",
      "over10k-min75H32u_Mugu_Lagoon_Elkhorn_SLough.ind\r\n",
      "over10k-min75H32u_Mugu_Lagoon_Humboldt.geno\r\n",
      "over10k-min75H32u_Mugu_Lagoon_Humboldt.ind\r\n",
      "over10k-min75H32u_Mugu_Lagoon_Klaskino.geno\r\n",
      "over10k-min75H32u_Mugu_Lagoon_Klaskino.ind\r\n",
      "over10k-min75H32u_Mugu_Lagoon_Ladysmith.geno\r\n",
      "over10k-min75H32u_Mugu_Lagoon_Ladysmith.ind\r\n",
      "over10k-min75H32u_Mugu_Lagoon_Liberty_Bay.geno\r\n",
      "over10k-min75H32u_Mugu_Lagoon_Liberty_Bay.ind\r\n",
      "over10k-min75H32u_Mugu_Lagoon_North_Bay.geno\r\n",
      "over10k-min75H32u_Mugu_Lagoon_North_Bay.ind\r\n",
      "over10k-min75H32u_Mugu_Lagoon_San_Diego.geno\r\n",
      "over10k-min75H32u_Mugu_Lagoon_San_Diego.ind\r\n",
      "over10k-min75H32u_Mugu_Lagoon_SF.geno\r\n",
      "over10k-min75H32u_Mugu_Lagoon_SF.ind\r\n",
      "over10k-min75H32u_Mugu_Lagoon_Tomales.geno\r\n",
      "over10k-min75H32u_Mugu_Lagoon_Tomales.ind\r\n",
      "over10k-min75H32u_Mugu_Lagoon_Triton_Cove.geno\r\n",
      "over10k-min75H32u_Mugu_Lagoon_Triton_Cove.ind\r\n",
      "over10k-min75H32u_Mugu_Lagoon_Victoria.geno\r\n",
      "over10k-min75H32u_Mugu_Lagoon_Victoria.ind\r\n",
      "over10k-min75H32u_Mugu_Lagoon_Willapa.geno\r\n",
      "over10k-min75H32u_Mugu_Lagoon_Willapa.ind\r\n",
      "over10k-min75H32u_Netarts_Barkeley_Sound.geno\r\n",
      "over10k-min75H32u_Netarts_Barkeley_Sound.ind\r\n",
      "over10k-min75H32u_Netarts_Conchaphila.geno\r\n",
      "over10k-min75H32u_Netarts_Conchaphila.ind\r\n",
      "over10k-min75H32u_Netarts_Discovery_Bay.geno\r\n",
      "over10k-min75H32u_Netarts_Discovery_Bay.ind\r\n",
      "over10k-min75H32u_Netarts_Elkhorn_SLough.geno\r\n",
      "over10k-min75H32u_Netarts_Elkhorn_SLough.ind\r\n",
      "over10k-min75H32u_Netarts_Humboldt.geno\r\n",
      "over10k-min75H32u_Netarts_Humboldt.ind\r\n",
      "over10k-min75H32u_Netarts_Klaskino.geno\r\n",
      "over10k-min75H32u_Netarts_Klaskino.ind\r\n",
      "over10k-min75H32u_Netarts_Ladysmith.geno\r\n",
      "over10k-min75H32u_Netarts_Ladysmith.ind\r\n",
      "over10k-min75H32u_Netarts_Liberty_Bay.geno\r\n",
      "over10k-min75H32u_Netarts_Liberty_Bay.ind\r\n",
      "over10k-min75H32u_Netarts_Mugu_Lagoon.geno\r\n",
      "over10k-min75H32u_Netarts_Mugu_Lagoon.ind\r\n",
      "over10k-min75H32u_Netarts_North_Bay.geno\r\n",
      "over10k-min75H32u_Netarts_North_Bay.ind\r\n",
      "over10k-min75H32u_Netarts_San_Diego.geno\r\n",
      "over10k-min75H32u_Netarts_San_Diego.ind\r\n",
      "over10k-min75H32u_Netarts_SF.geno\r\n",
      "over10k-min75H32u_Netarts_SF.ind\r\n",
      "over10k-min75H32u_Netarts_Tomales.geno\r\n",
      "over10k-min75H32u_Netarts_Tomales.ind\r\n",
      "over10k-min75H32u_Netarts_Triton_Cove.geno\r\n",
      "over10k-min75H32u_Netarts_Triton_Cove.ind\r\n",
      "over10k-min75H32u_Netarts_Victoria.geno\r\n",
      "over10k-min75H32u_Netarts_Victoria.ind\r\n",
      "over10k-min75H32u_Netarts_Willapa.geno\r\n",
      "over10k-min75H32u_Netarts_Willapa.ind\r\n",
      "over10k-min75H32u_North_Bay_Elkhorn_SLough.geno\r\n",
      "over10k-min75H32u_North_Bay_Elkhorn_SLough.ind\r\n",
      "over10k-min75H32u_North_Bay_Humboldt.geno\r\n",
      "over10k-min75H32u_North_Bay_Humboldt.ind\r\n",
      "over10k-min75H32u_North_Bay_San_Diego.geno\r\n",
      "over10k-min75H32u_North_Bay_San_Diego.ind\r\n",
      "over10k-min75H32u_North_Bay_SF.geno\r\n",
      "over10k-min75H32u_North_Bay_SF.ind\r\n",
      "over10k-min75H32u_San_Diego_Humboldt.geno\r\n",
      "over10k-min75H32u_San_Diego_Humboldt.ind\r\n",
      "over10k-min75H32u_SF_Humboldt.geno\r\n",
      "over10k-min75H32u_SF_Humboldt.ind\r\n",
      "over10k-min75H32u_SF_San_Diego.geno\r\n",
      "over10k-min75H32u_SF_San_Diego.ind\r\n",
      "over10k-min75H32u_Tomales_Elkhorn_SLough.geno\r\n",
      "over10k-min75H32u_Tomales_Elkhorn_SLough.ind\r\n",
      "over10k-min75H32u_Tomales_Humboldt.geno\r\n",
      "over10k-min75H32u_Tomales_Humboldt.ind\r\n",
      "over10k-min75H32u_Tomales_North_Bay.geno\r\n",
      "over10k-min75H32u_Tomales_North_Bay.ind\r\n",
      "over10k-min75H32u_Tomales_San_Diego.geno\r\n",
      "over10k-min75H32u_Tomales_San_Diego.ind\r\n",
      "over10k-min75H32u_Tomales_SF.geno\r\n",
      "over10k-min75H32u_Tomales_SF.ind\r\n",
      "over10k-min75H32u_Tomales_Triton_Cove.geno\r\n",
      "over10k-min75H32u_Tomales_Triton_Cove.ind\r\n",
      "over10k-min75H32u_Tomales_Willapa.geno\r\n",
      "over10k-min75H32u_Tomales_Willapa.ind\r\n",
      "over10k-min75H32u_Triton_Cove_Elkhorn_SLough.geno\r\n",
      "over10k-min75H32u_Triton_Cove_Elkhorn_SLough.ind\r\n",
      "over10k-min75H32u_Triton_Cove_Humboldt.geno\r\n",
      "over10k-min75H32u_Triton_Cove_Humboldt.ind\r\n",
      "over10k-min75H32u_Triton_Cove_North_Bay.geno\r\n",
      "over10k-min75H32u_Triton_Cove_North_Bay.ind\r\n",
      "over10k-min75H32u_Triton_Cove_San_Diego.geno\r\n",
      "over10k-min75H32u_Triton_Cove_San_Diego.ind\r\n",
      "over10k-min75H32u_Triton_Cove_SF.geno\r\n",
      "over10k-min75H32u_Triton_Cove_SF.ind\r\n",
      "over10k-min75H32u_Triton_Cove_Willapa.geno\r\n",
      "over10k-min75H32u_Triton_Cove_Willapa.ind\r\n",
      "over10k-min75H32u_Victoria_Elkhorn_SLough.geno\r\n",
      "over10k-min75H32u_Victoria_Elkhorn_SLough.ind\r\n",
      "over10k-min75H32u_Victoria_Humboldt.geno\r\n",
      "over10k-min75H32u_Victoria_Humboldt.ind\r\n",
      "over10k-min75H32u_Victoria_Klaskino.geno\r\n",
      "over10k-min75H32u_Victoria_Klaskino.ind\r\n",
      "over10k-min75H32u_Victoria_North_Bay.geno\r\n",
      "over10k-min75H32u_Victoria_North_Bay.ind\r\n",
      "over10k-min75H32u_Victoria_San_Diego.geno\r\n",
      "over10k-min75H32u_Victoria_San_Diego.ind\r\n",
      "over10k-min75H32u_Victoria_SF.geno\r\n",
      "over10k-min75H32u_Victoria_SF.ind\r\n",
      "over10k-min75H32u_Victoria_Tomales.geno\r\n",
      "over10k-min75H32u_Victoria_Tomales.ind\r\n",
      "over10k-min75H32u_Victoria_Triton_Cove.geno\r\n",
      "over10k-min75H32u_Victoria_Triton_Cove.ind\r\n",
      "over10k-min75H32u_Victoria_Willapa.geno\r\n",
      "over10k-min75H32u_Victoria_Willapa.ind\r\n",
      "over10k-min75H32u_Willapa_Elkhorn_SLough.geno\r\n",
      "over10k-min75H32u_Willapa_Elkhorn_SLough.ind\r\n",
      "over10k-min75H32u_Willapa_Humboldt.geno\r\n",
      "over10k-min75H32u_Willapa_Humboldt.ind\r\n",
      "over10k-min75H32u_Willapa_North_Bay.geno\r\n",
      "over10k-min75H32u_Willapa_North_Bay.ind\r\n",
      "over10k-min75H32u_Willapa_San_Diego.geno\r\n",
      "over10k-min75H32u_Willapa_San_Diego.ind\r\n",
      "over10k-min75H32u_Willapa_SF.geno\r\n",
      "over10k-min75H32u_Willapa_SF.ind\r\n",
      "over10k-min75H32u_Yaquina_Barkeley_Sound.geno\r\n",
      "over10k-min75H32u_Yaquina_Barkeley_Sound.ind\r\n",
      "over10k-min75H32u_Yaquina_Conchaphila.geno\r\n",
      "over10k-min75H32u_Yaquina_Conchaphila.ind\r\n",
      "over10k-min75H32u_Yaquina_Discovery_Bay.geno\r\n",
      "over10k-min75H32u_Yaquina_Discovery_Bay.ind\r\n",
      "over10k-min75H32u_Yaquina_Elkhorn_SLough.geno\r\n",
      "over10k-min75H32u_Yaquina_Elkhorn_SLough.ind\r\n",
      "over10k-min75H32u_Yaquina_Humboldt.geno\r\n",
      "over10k-min75H32u_Yaquina_Humboldt.ind\r\n",
      "over10k-min75H32u_Yaquina_Klaskino.geno\r\n",
      "over10k-min75H32u_Yaquina_Klaskino.ind\r\n",
      "over10k-min75H32u_Yaquina_Ladysmith.geno\r\n",
      "over10k-min75H32u_Yaquina_Ladysmith.ind\r\n",
      "over10k-min75H32u_Yaquina_Liberty_Bay.geno\r\n",
      "over10k-min75H32u_Yaquina_Liberty_Bay.ind\r\n",
      "over10k-min75H32u_Yaquina_Mugu_Lagoon.geno\r\n",
      "over10k-min75H32u_Yaquina_Mugu_Lagoon.ind\r\n",
      "over10k-min75H32u_Yaquina_Netarts.geno\r\n",
      "over10k-min75H32u_Yaquina_Netarts.ind\r\n",
      "over10k-min75H32u_Yaquina_North_Bay.geno\r\n",
      "over10k-min75H32u_Yaquina_North_Bay.ind\r\n",
      "over10k-min75H32u_Yaquina_San_Diego.geno\r\n",
      "over10k-min75H32u_Yaquina_San_Diego.ind\r\n",
      "over10k-min75H32u_Yaquina_SF.geno\r\n",
      "over10k-min75H32u_Yaquina_SF.ind\r\n",
      "over10k-min75H32u_Yaquina_Tomales.geno\r\n",
      "over10k-min75H32u_Yaquina_Tomales.ind\r\n",
      "over10k-min75H32u_Yaquina_Triton_Cove.geno\r\n",
      "over10k-min75H32u_Yaquina_Triton_Cove.ind\r\n",
      "over10k-min75H32u_Yaquina_Victoria.geno\r\n",
      "over10k-min75H32u_Yaquina_Victoria.ind\r\n",
      "over10k-min75H32u_Yaquina_Willapa.geno\r\n",
      "over10k-min75H32u_Yaquina_Willapa.ind\r\n"
     ]
    }
   ],
   "source": [
    "%ls over10k-min75H32u*"
   ]
  },
  {
   "cell_type": "markdown",
   "metadata": {},
   "source": [
    "## Using R to investigate pairwise FST and nucleotide diversity  \n",
    "Code adapted slightly from [Max Winston's scripts](https://github.com/mewinsto/Fst)  \n",
    "This is just exploring one pair of populations. Will write up another notebook with looking at overall Fst and PCA in Adegenet."
   ]
  },
  {
   "cell_type": "code",
   "execution_count": 15,
   "metadata": {
    "collapsed": false
   },
   "outputs": [],
   "source": [
    "%%R\n",
    "## Read in .geno file\n",
    "geno_data = scan(\"over10k-min75H32u_Barkeley_Sound_Conchaphila.geno\",what = \"character\")\n",
    "L = length(geno_data)\n",
    "S = nchar(geno_data[[1]])\n",
    "geno_matrix = matrix(data = NA, nrow = S, ncol = L)\n",
    "for (i in 1:L){\n",
    "    genostring = strsplit(geno_data[[i]], split=\"\")\n",
    "    for (j in 1:S){\n",
    "        geno_matrix[j,i] = as.numeric(genostring[[1]][j])\n",
    "    }\n",
    "}\n",
    "geno_matrix[geno_matrix == 9] = NA\n",
    "\n",
    "##Read in .ind file in order to get population assignment for genotypes.\n",
    "testpop = read.table(\"over10k-min75H32u_Barkeley_Sound_Conchaphila.ind\",header=FALSE)\n",
    "test_vector = testpop$V2\n",
    "\n",
    "test_sub = {}\n",
    "for (i in 1:S){\n",
    "    if (test_vector[i] == 1){\n",
    "        test_sub = c(test_sub,i)\n",
    "    }\n",
    "}\n",
    "## Creates a null vector, where individuals are randomly assigned to the 2 populations.\n",
    "null_vector = sample(c(rep(1,sum(test_vector)),rep(0,S-sum(test_vector))),size=S)\n",
    "null_sub = {}\n",
    "for (i in 1:S){\n",
    "    if (null_vector[i] == 1){\n",
    "        null_sub = c(null_sub,i)\n",
    "    }\n",
    "}"
   ]
  },
  {
   "cell_type": "code",
   "execution_count": 13,
   "metadata": {
    "collapsed": false
   },
   "outputs": [
    {
     "data": {
      "text/plain": [
       "[1] 1791\n"
      ]
     },
     "metadata": {},
     "output_type": "display_data"
    }
   ],
   "source": [
    "%%R\n",
    "L"
   ]
  },
  {
   "cell_type": "code",
   "execution_count": 14,
   "metadata": {
    "collapsed": false
   },
   "outputs": [],
   "source": [
    "%%R\n",
    "##THIS MODULE CALCULATES PI (NUCLEOTIDE DIVERSITY) FOR EACH LOCUS AND WRITES TO A FILE\n",
    "## Note that this is pi when considering individuals from just 2 populations. Will need to adapt to get pi from \n",
    "## entire dataset.\n",
    "pi = {}\n",
    "for (i in 1:L){\n",
    "    locus = {}\n",
    "    locus = geno_matrix[,i]\n",
    "    locus = locus[!is.na(locus)]\n",
    "    if(length(locus) >= 2){\n",
    "        locus_sum = 0\n",
    "        for (j in 2:length(locus)){\n",
    "            jcount = j - 1\n",
    "            for (k in 1:jcount){\n",
    "                diff = 0\n",
    "                diff = abs(locus[j]-locus[k])\n",
    "                locus_sum = locus_sum + diff\n",
    "            }\n",
    "        }\n",
    "        locus_sum = (2*locus_sum)/(length(locus)^2) \n",
    "        pi[i] = locus_sum\n",
    "    }\n",
    "    else{\n",
    "        pi[i] = NA\n",
    "    }\n",
    "}\n",
    "\n",
    "write(pi,file=\"over10k-min75H32u_Barkeley_Sound_Conchaphila.pi\",ncol = 1)"
   ]
  },
  {
   "cell_type": "code",
   "execution_count": 52,
   "metadata": {
    "collapsed": true
   },
   "outputs": [],
   "source": [
    "%%R\n",
    "##THIS MODULE CALCULATES FREQUENCIES AND FST FOR TEST\n",
    "#Counts and mean frequencies of alleles\n",
    "geno_means = vector(mode = \"numeric\", length = L)\n",
    "geno_cover = vector(mode = \"numeric\", length = L)\n",
    "geno_cover_p1 = vector(mode = \"numeric\", length = length(test_sub))\n",
    "geno_cover_p2 = vector(mode = \"numeric\", length = L - length(test_sub))\n",
    "for (i in 1:L){\n",
    "    geno_means[i] = mean(geno_matrix[,i],na.rm=TRUE)/2\n",
    "}\n",
    "for (i in 1:L){\n",
    "    geno_cover[i] = sum(!is.na(geno_matrix[,i]))\n",
    "    geno_cover_p1[i] = sum(!is.na(geno_matrix[test_sub,i]))\n",
    "    geno_cover_p2[i] = sum(!is.na(geno_matrix[-test_sub,i]))\n",
    "}\n",
    "\n",
    "#Use test_sub to look at Fst values\n",
    "pop_1 = {}\n",
    "pop_2 = {}\n",
    "pop_mean = {}\n",
    "FST = {}\n",
    "for (i in 1:L){\n",
    "    pop_1[i] = mean(geno_matrix[test_sub,i],na.rm=TRUE)/2\n",
    "    pop_2[i] = mean(geno_matrix[-test_sub,i],na.rm=TRUE)/2\n",
    "    #  pop_mean[i] = (pop_1[i] + pop_2[i])/2\n",
    "    FST[i] = (geno_cover_p1[i]*(abs(geno_means[i] - pop_1[i])^2) + geno_cover_p2[i]*abs(geno_means[i] - pop_2[i])^2)/(geno_cover[i]*geno_means[i]*(1 - geno_means[i]))\n",
    "}\n",
    "\n",
    "FST = abs(FST)\n",
    "\n",
    "##WRITE FST TO FILE\n",
    "write(FST,file=\"over10k-min75H32u_Barkeley_Sound_Conchaphila.fst\",ncolumns=1)\n",
    "write(geno_cover,file=\"over10k-min75H32u_Barkeley_Sound_Conchaphila.geno_cover\",ncolumns=1)"
   ]
  },
  {
   "cell_type": "code",
   "execution_count": 53,
   "metadata": {
    "collapsed": true
   },
   "outputs": [],
   "source": [
    "%%R\n",
    "##THIS MODULE CALCULATES FREQUENCIES AND FST FOR NULL\n",
    "#Counts and mean frequencies of alleles\n",
    "geno_cover_p1_N = vector(mode = \"numeric\", length = length(null_sub))\n",
    "geno_cover_p2_N = vector(mode = \"numeric\", length = L - length(null_sub))\n",
    "\n",
    "for (i in 1:L){\n",
    "    geno_cover[i] = sum(!is.na(geno_matrix[,i]))\n",
    "    geno_cover_p1_N[i] = sum(!is.na(geno_matrix[null_sub,i]))\n",
    "    geno_cover_p2_N[i] = sum(!is.na(geno_matrix[-null_sub,i]))\n",
    "}\n",
    "\n",
    "#Use null_sub to look at Fst values\n",
    "pop_1_N = {}\n",
    "pop_2_N = {}\n",
    "pop_mean = {}\n",
    "FST_N = {}\n",
    "for (i in 1:L){\n",
    "    pop_1_N[i] = mean(geno_matrix[null_sub,i],na.rm=TRUE)/2\n",
    "    pop_2_N[i] = mean(geno_matrix[-null_sub,i],na.rm=TRUE)/2\n",
    "    #  pop_mean[i] = (pop_1[i] + pop_2[i])/2\n",
    "    FST_N[i] = (geno_cover_p1_N[i]*(abs(geno_means[i] - pop_1_N[i])^2) + geno_cover_p2_N[i]*abs(geno_means[i] - pop_2_N[i])^2)/(geno_cover[i]*geno_means[i]*(1 - geno_means[i]))\n",
    "}\n",
    "\n",
    "FST_N = abs(FST_N)\n",
    "\n",
    "#WRITE FST TO FILE\n",
    "write(FST_N,file=\"over10k-min75H32u_Barkeley_Sound_Conchaphila.fst_null\",ncolumns=1)"
   ]
  },
  {
   "cell_type": "code",
   "execution_count": 16,
   "metadata": {
    "collapsed": false
   },
   "outputs": [],
   "source": [
    "%%R\n",
    "##THIS MODULE CALCULATES major allele frequency (AF) FOR EACH LOCUS\n",
    "af = {}\n",
    "for (i in 1:L){\n",
    "    L_maf = sum(!is.na(geno_matrix[,i]))\n",
    "    L_sum = sum(geno_matrix[,i],na.rm=TRUE)\n",
    "    af[i] = L_sum/(2*L_maf)\n",
    "}\n",
    "\n",
    "#Converts AF to minor allele frequency (MAF)\n",
    "maf = {}\n",
    "for (i in 1:L){\n",
    "    if (!is.na(af[i])){\n",
    "        if (af[i] > 0.5){\n",
    "            maf[i] = 1 - af[i]\n",
    "        } else{\n",
    "            maf[i] = af[i]\n",
    "        }\n",
    "    }\n",
    "}\n",
    "\n",
    "#WRITE MAF and AF TO FILE\n",
    "write(maf,file=\"over10k-min75H32u_Barkeley_Sound_Conchaphila.maf\", ncolumns=1)\n",
    "write(af, file=\"over10k-min75H32u_Barkeley_Sound_Conchaphila.af\", ncolumns=1)"
   ]
  },
  {
   "cell_type": "code",
   "execution_count": 61,
   "metadata": {
    "collapsed": true
   },
   "outputs": [],
   "source": [
    "%%R\n",
    "##THIS MODULE CALCULATES H-W EQUILIBRIUM FOR EACH LOCUS\n",
    "HW_chi = {}\n",
    "for (i in 1:L){\n",
    "    L_maf = sum(!is.na(geno_matrix[,i]))\n",
    "    p = af[i]\n",
    "    q = 1 - p\n",
    "    exp_pp = L_maf*(p^2)\n",
    "    exp_pq = L_maf*(2*p*q)\n",
    "    exp_qq = L_maf*(q^2)\n",
    "    act_pp = sum(geno_matrix[,i] == 2,na.rm=TRUE)\n",
    "    act_pq = sum(geno_matrix[,i] == 1,na.rm=TRUE)\n",
    "    act_qq = sum(geno_matrix[,i] == 0,na.rm=TRUE)\n",
    "    HW_chi[i] = ((act_pp - exp_pp)^2/exp_pp) + ((act_pq - exp_pq)^2/exp_pq) + ((act_qq - exp_qq)^2/exp_qq)\n",
    "}\n",
    "#WRITE HARDY-WEINBERG CHI-SQUARED STAT (CAN DERIVE p-values FROM THIS)\n",
    "write(HW_chi,file=\"over10k-min75H32u_Barkeley_Sound_Conchaphila.HW\",ncolumns=1)"
   ]
  },
  {
   "cell_type": "code",
   "execution_count": 62,
   "metadata": {
    "collapsed": true
   },
   "outputs": [],
   "source": [
    "%%R\n",
    "#NUMBER OF INDIVIDUALS WITH SNP (FOR REMOVING SINGLETONS)\n",
    "allele_class = {}\n",
    "for (i in 1:L){\n",
    "    allele_class[i] = maf[i]*geno_cover[i]\n",
    "}\n",
    "\n",
    "write(allele_class,file=\"over10k-min75H32u_Barkeley_Sound_Conchaphila.AC\",ncolumns=1)"
   ]
  },
  {
   "cell_type": "code",
   "execution_count": 17,
   "metadata": {
    "collapsed": false
   },
   "outputs": [],
   "source": [
    "%%R \n",
    "## Create matricx with all data\n",
    "library(ggplot2)\n",
    "pi = read.table(\"over10k-min75H32u_Barkeley_Sound_Conchaphila.pi\")\n",
    "f_null = read.table(\"over10k-min75H32u_Barkeley_Sound_Conchaphila.fst_null\")\n",
    "f_test = read.table(\"over10k-min75H32u_Barkeley_Sound_Conchaphila.fst\")\n",
    "cover_test = read.table(\"over10k-min75H32u_Barkeley_Sound_Conchaphila.geno_cover\") \n",
    "af = read.table(\"over10k-min75H32u_Barkeley_Sound_Conchaphila.af\")\n",
    "HW_chi = read.table(\"over10k-min75H32u_Barkeley_Sound_Conchaphila.HW\")\n",
    "allele_class = read.table(\"over10k-min75H32u_Barkeley_Sound_Conchaphila.AC\")\n",
    "\n",
    "FST_data = cbind(f_null,f_test,cover_test,pi,af,HW_chi,allele_class)\n",
    "names(FST_data) = c(\"F_null\",\"F_test\",\"Cover\",\"Pi\",\"AF\",\"HW\",\"AC\")"
   ]
  },
  {
   "cell_type": "code",
   "execution_count": 67,
   "metadata": {
    "collapsed": true
   },
   "outputs": [],
   "source": [
    "%%R\n",
    "##SUBSETS FST DATA INTO COVERAGE GROUPS\n",
    "for (i in min(cover_test):max(cover_test)){\n",
    "    name = paste(\"FST_data_cover_\",i, sep = \"\")\n",
    "    assign(name,subset(FST_data, cover_test == i))\n",
    "}\n",
    "#SUBSETS FST DATA INTO GROUPS WITH FST = 1.0\n",
    "FST_data_HT = subset(FST_data, F_test == 1.0)\n",
    "FST_data_HN = subset(FST_data, F_null == 1.0)\n",
    "\n",
    "#SUBSETS FST DATA INTO GROUPS WITH FST < 0.1\n",
    "FST_data_LT = subset(FST_data, F_test < 0.1)\n",
    "FST_data_LN = subset(FST_data, F_null < 0.1)\n",
    "\n",
    "#SUBSETS FST DATA INTO GROUPS WITH Pi > 0.8\n",
    "Hi_Pi = subset(FST_data, Pi > 0.8)\n",
    "Lo_Pi = subset(FST_data, Pi < 0.2)\n",
    "\n",
    "Pi_cat = cut(FST_data$Pi,breaks=10)\n",
    "\n",
    "#SUBSETS FST DATA TO EXCLUDE SINGLETONS (AC == 1)\n",
    "FST_data_AC = subset(FST_data, allele_class > 1)\n",
    "FST_data_AC_HT = subset(FST_data_AC, F_test == 1)"
   ]
  },
  {
   "cell_type": "code",
   "execution_count": 77,
   "metadata": {
    "collapsed": false
   },
   "outputs": [
    {
     "data": {
      "image/png": "[encoded data removed]"
     },
     "metadata": {},
     "output_type": "display_data"
    },
    {
     "data": {
      "image/png": "[encoded data removed]"
     },
     "metadata": {},
     "output_type": "display_data"
    }
   ],
   "source": [
    "%%R\n",
    "#Plot densities of these values\n",
    "plot(density(FST_data$Pi,bw=0.01, na.rm=TRUE),xlim=c(0,1),main=\"Distribution of Major Allele Frequencies across Loci\", xlab=\"Major Allele Frequency\", sub=\"Species\")\n",
    "plot(density(FST_data$Cover,bw=0.5),xlim=c(4,16),main=\"Density Distribution of Individuals per Locus: \", xlab=\"Number of Individuals (Max = )\",sub=\"N = , bw = \")\n"
   ]
  },
  {
   "cell_type": "code",
   "execution_count": 78,
   "metadata": {
    "collapsed": false
   },
   "outputs": [
    {
     "data": {
      "image/png": "[encoded data removed]"
     },
     "metadata": {},
     "output_type": "display_data"
    },
    {
     "data": {
      "image/png": "[encoded data removed]"
     },
     "metadata": {},
     "output_type": "display_data"
    }
   ],
   "source": [
    "%%R\n",
    "##PLOT FST AGAINST GENO_COVER\n",
    "plot(density(FST_data$F_test,na.rm=TRUE,bw=.004),ylim=c(0,60),main=\"Density Distribution for Fst Values:  (G)\",xlab=\"Fst Values\", sub = \"N =    bw = \")\n",
    "lines(density(FST_data$F_null,na.rm=TRUE,bw=.004),col=2)\n",
    "\n",
    "plot(FST_data$F_test,FST_data$Cover,col=2,main=\"Fst for all Loci by Number of Samples\",xlab=\"Fst\",ylab=\"Number of Individuals with Locus \",sub=\"Black = Null, Red = \")\n",
    "points(FST_data$F_null,FST_data$Cover)"
   ]
  },
  {
   "cell_type": "code",
   "execution_count": 80,
   "metadata": {
    "collapsed": false
   },
   "outputs": [
    {
     "data": {
      "image/png": "[encoded data removed]"
     },
     "metadata": {},
     "output_type": "display_data"
    },
    {
     "data": {
      "image/png": "[encoded data removed]"
     },
     "metadata": {},
     "output_type": "display_data"
    }
   ],
   "source": [
    "%%R\n",
    "#PLOTS NUCLEOTIDE DIVERSITY FOR HIGH VS. LOW FST LOCI\n",
    "plot(density(FST_data_LT$Pi),main=\"High vs. Low Fst Loci Nucleotide Diversity Distributions ()\",xlim = c(0,1), xlab=\"Pi (Normalized)\",sub=\"Black = Low (Fst < 0.1) [N = ] -- Red = High (Fst = 1.0) [N = ]\")\n",
    "lines(density(FST_data_HT$Pi),col=2)\n",
    "\n",
    "plot(density(FST_data_HN$Cover,bw=1),xlim=c(0,161))\n",
    "lines(density(FST_data_HT$Cover),col=2)"
   ]
  },
  {
   "cell_type": "code",
   "execution_count": 18,
   "metadata": {
    "collapsed": false
   },
   "outputs": [
    {
     "name": "stdout",
     "output_type": "stream",
     "text": [
      "\n",
      "Error in ggplot(Hi_Pi, aes(x = Cover, y = F_test)) : \n",
      "  object 'Hi_Pi' not found\n"
     ]
    },
    {
     "name": "stderr",
     "output_type": "stream",
     "text": [
      "/home/ksil91/anaconda2/lib/python2.7/site-packages/rpy2/robjects/functions.py:106: UserWarning: Error in ggplot(Hi_Pi, aes(x = Cover, y = F_test)) : \n",
      "  object 'Hi_Pi' not found\n",
      "\n",
      "  res = super(Function, self).__call__(*new_args, **new_kwargs)\n"
     ]
    }
   ],
   "source": [
    "%%R\n",
    "##Plots LOW DIVERSITY AND HIGH DIVERSITY LOCI\n",
    "# Can't get this to work just yet...\n",
    "HP = ggplot(Hi_Pi, aes(x = Cover, y = F_test))\n",
    "HP + geom_point(alpha = 0.05) + ggtitle(expression(atop(\"Fst and Individual Coverage for High Nucleotide Diversity Loci (>0.8)\", atop(italic(\" (N = , L = )\", \"\")))))\n"
   ]
  },
  {
   "cell_type": "code",
   "execution_count": 90,
   "metadata": {
    "collapsed": false
   },
   "outputs": [
    {
     "data": {
      "image/png": "[encoded data removed]"
     },
     "metadata": {},
     "output_type": "display_data"
    }
   ],
   "source": [
    "%%R\n",
    "HPlow = ggplot(Lo_Pi, aes(x = Cover, y = F_test), na.rm=TRUE)\n",
    "HPlow + geom_point(alpha = 0.05) + ggtitle(expression(atop(\"Fst and Individual Coverage for Low Nucleotide Diversity Loci (<0.2)\", atop(italic(\" (N = , L = )\", \"\")))))\n"
   ]
  },
  {
   "cell_type": "code",
   "execution_count": 91,
   "metadata": {
    "collapsed": false
   },
   "outputs": [
    {
     "data": {
      "image/png": "[encoded data removed]"
     },
     "metadata": {},
     "output_type": "display_data"
    }
   ],
   "source": [
    "%%R\n",
    "##PLOTS DENSITY DISTRIBUTION OF NUCLEOTIDE DIVERSITY FOR FST == 1.0\n",
    "TOP_DENS = ggplot(FST_data_HT, aes(x = Pi))\n",
    "TOP_DENS + geom_density(fill = \"black\") + ggtitle(expression(atop(\"Fst Distributions for Nucleotide Diversity Classes\", atop(italic(\"E. burchellii & E. lucanoides (N = 85, L = 40,722)\", \"\"))))) + labs(x = \"Nucleotide Diversity\", y = \"Density\")\n"
   ]
  },
  {
   "cell_type": "code",
   "execution_count": 96,
   "metadata": {
    "collapsed": false
   },
   "outputs": [
    {
     "data": {
      "image/png": "[encoded data removed]"
     },
     "metadata": {},
     "output_type": "display_data"
    }
   ],
   "source": [
    "%%R\n",
    "##GGPLOT NUCLEOTIDE DIVERSITY CLASSES AGAINST FST FOR NULL AND TEST\n",
    "p = ggplot(FST_data, aes(factor(Pi_cat), F_null))\n",
    "\n",
    "#p + geom_violin() + ggtitle(expression(atop(\"Fst Distributions for Nucleotide Diversity Classes\",\n",
    "#atop(italic(\"E. burchellii (N = 75, L = 168,518)\", \"\"))))) + \n",
    "#labs(x = \"Nucleotide Diversity Class\", y = \"Fst Value\")\n",
    "\n",
    "p + geom_boxplot() + ggtitle(expression(atop(\"Fst Distributions for Nucleotide Diversity Classes: Null Hypothesis\", \n",
    "atop(italic(\"E. lucanoides (N = 15, L = 63,087\", \"\"))))) + labs(x = \"Nucleotide Diversity Class\", y = \"Fst Value\")\n"
   ]
  },
  {
   "cell_type": "code",
   "execution_count": 97,
   "metadata": {
    "collapsed": false
   },
   "outputs": [
    {
     "data": {
      "image/png": "[encoded data removed]"
     },
     "metadata": {},
     "output_type": "display_data"
    }
   ],
   "source": [
    "%%R\n",
    "#Plots Pi against Coverage of Individuals\n",
    "plot(FST_data$Cover,FST_data$Pi)"
   ]
  },
  {
   "cell_type": "code",
   "execution_count": null,
   "metadata": {
    "collapsed": true
   },
   "outputs": [],
   "source": [
    "%%R\n",
    "path = \"/home/ksil91/Projects/Ostrea/\"\n",
    "out.file<-\"\"\n",
    "file.names <- dir(path, pattern =\".fst\")\n",
    "for(i in 1:length(file.names)){\n",
    "  fst <- read.table(file.names[i],header=FALSE, sep=\";\", stringsAsFactors=FALSE)\n",
    "  out.file <- rbind(out.file, file)\n",
    "}\n",
    " write.table(out.file, file = \"cand_Brazil.txt\",sep=\";\", \n",
    "             row.names = FALSE, qmethod = \"double\",fileEncoding=\"windows-1252\")\n"
   ]
  }
 ],
 "metadata": {
  "kernelspec": {
   "display_name": "Python 2",
   "language": "python",
   "name": "python2"
  },
  "language_info": {
   "codemirror_mode": {
    "name": "ipython",
    "version": 2
   },
   "file_extension": ".py",
   "mimetype": "text/x-python",
   "name": "python",
   "nbconvert_exporter": "python",
   "pygments_lexer": "ipython2",
   "version": "2.7.12"
  }
 },
 "nbformat": 4,
 "nbformat_minor": 0
}
