{
 "cells": [
  {
   "cell_type": "markdown",
   "metadata": {},
   "source": [
    "## Filtering .vcf file from ipyrad  \n",
    "Taking the .vcf file from version 5.1 of ipyrad and filtering. This new VCF file will then be converted to a .geno file and .str file for Structure, Adegenet, and custom pairwise FST scripts. "
   ]
  },
  {
   "cell_type": "code",
   "execution_count": 1,
   "metadata": {
    "collapsed": false
   },
   "outputs": [
    {
     "name": "stdout",
     "output_type": "stream",
     "text": [
      "/home/ksil91/Projects/Ostrea/exRun1\n"
     ]
    }
   ],
   "source": [
    "%cd ~/Projects/Ostrea/exRun1/"
   ]
  },
  {
   "cell_type": "markdown",
   "metadata": {},
   "source": [
    "Weird artifact ath the end of .vcf file from ipyrad and at random other sections of file. Reported to developers. For now, I'll just remove the end and handle the internal errors with subset snp script."
   ]
  },
  {
   "cell_type": "code",
   "execution_count": 24,
   "metadata": {
    "collapsed": false
   },
   "outputs": [
    {
     "name": "stdout",
     "output_type": "stream",
     "text": [
      "388156\t1\t.\tT\tG\t13\tPASS\tNS=44;DP=650\tGT:DP:CATG\t0/0:11:0,0,11,0\n",
      "388156\t75\t.\tA\tG\t13\tPASS\tNS=92;DP=2430\tGT:DP:CATG\t0/0:20:0,20,0,0\n",
      "388156\t76\t.\tA\tG\t13\tPASS\tNS=92;DP=2430\tGT:DP:CATG\t0/0:20:0,20,0,0\n",
      "388156\t87\t.\tG\tA\t13\tPASS\tNS=92;DP=2452\tGT:DP:CATG\t0/1:20:0,7,0,13\n",
      "388156\t97\t.\tT\tC\t13\tPASS\tNS=79;DP=1460\tGT:DP:CATG\t0/0:9:0,0,9,0\n",
      "388156\t111\t.\tT\tA\t13\tPASS\tNS=79;DP=1129\tGT:DP:CATG\t0/0:9:1,0,8,0\n",
      "388156\t123\t.\tT\tC\t13\tPASS\tNS=79;DP=1129\tGT:DP:CATG\t0/0:9:0,0,9,0\n",
      "388156\t124\t.\tA\tG\t13\tPASS\tNS=78;DP=1123\tGT:DP:CATG\t0/0:9:0,9,0,0\n",
      "388156\t126\t.\tA\tG\t13\tPASS\tNS=78;DP=1123\tGT:DP:CATG\t0/0:9:0,9,0,0\n",
      "388156\t130\t.\tA\tG\t13\tPASS\tNS=47;DP=650\tGT:DP:CATG\t./.:0:0,0,0,0\n",
      "0\t0\t.\t\t\t13\tPASS\t\tGT:DP:CATG\t\n",
      "0\t0\t.\t\t\t13\tPASS\t\tGT:DP:CATG\t\n",
      "0\t0\t.\t\t\t13\tPASS\t\tGT:DP:CATG\t\n",
      "0\t0\t.\t\t\t13\tPASS\t\tGT:DP:CATG\t\n",
      "0\t0\t.\t\t\t13\tPASS\t\tGT:DP:CATG\t\n",
      "0\t0\t.\t\t\t13\tPASS\t\tGT:DP:CATG\t\n",
      "0\t0\t.\t\t\t13\tPASS\t\tGT:DP:CATG\t\n",
      "0\t0\t.\t\t\t13\tPASS\t\tGT:DP:CATG\t\n",
      "0\t0\t.\t\t\t13\tPASS\t\tGT:DP:CATG\t\n",
      "0\t0\t.\t\t\t13\tPASS\t\tGT:DP:CATG\t\n",
      "178011 exRun1-o5k2-m80H1_outfiles/exRun1-o5k2-m80H1.vcf\n"
     ]
    }
   ],
   "source": [
    "%%sh\n",
    "tail exRun1-o5k2-m80H1_outfiles/exRun1-o5k2-m80H1.vcf -n 240 | head -n 20 | cut -f 1-10\n",
    "wc -l exRun1-o5k2-m80H1_outfiles/exRun1-o5k2-m80H1.vcf"
   ]
  },
  {
   "cell_type": "code",
   "execution_count": 26,
   "metadata": {
    "collapsed": false
   },
   "outputs": [],
   "source": [
    "%%sh\n",
    "head -n 177781 exRun1-o5k2-m80H1_outfiles/exRun1-o5k2-m80H1.vcf > exRun1-o5k2-m80H1_outfiles/exRun1-o5k2-m80H1-corr.vcf"
   ]
  },
  {
   "cell_type": "markdown",
   "metadata": {},
   "source": [
    "Removing replicates listed in file exR1-o5k2-reps.txt, excluding nonpolymorphic sites and sites with < 50% coverage across all individuals."
   ]
  },
  {
   "cell_type": "code",
   "execution_count": 45,
   "metadata": {
    "collapsed": false
   },
   "outputs": [
    {
     "name": "stderr",
     "output_type": "stream",
     "text": [
      "\n",
      "VCFtools - 0.1.15\n",
      "(C) Adam Auton and Anthony Marcketta 2009\n",
      "\n",
      "Parameters as interpreted:\n",
      "\t--vcf exRun1-o5k2-m80H1_outfiles/exRun1-o5k2-m80H1-corr.vcf\n",
      "\t--exclude exR1-o5k2-reps.txt\n",
      "\t--recode-INFO-all\n",
      "\t--min-alleles 2\n",
      "\t--max-missing 0.5\n",
      "\t--out exR1o5k2-m80H1-exRep\n",
      "\t--recode\n",
      "\n",
      "Excluding individuals in 'exclude' list\n",
      "After filtering, kept 152 out of 163 Individuals\n",
      "Outputting VCF file...\n",
      "After filtering, kept 165894 out of a possible 177770 Sites\n",
      "Run Time = 39.00 seconds\n"
     ]
    }
   ],
   "source": [
    "%%sh\n",
    "vcftools --vcf exRun1-o5k2-m80H1_outfiles/exRun1-o5k2-m80H1-corr.vcf --recode --recode-INFO-all --remove \\\n",
    "exR1-o5k2-reps.txt --min-alleles 2 --max-missing 0.5 --out exR1o5k2-m80H1-exRep"
   ]
  },
  {
   "cell_type": "markdown",
   "metadata": {},
   "source": [
    "Return a file with proportion of missingness for each individual."
   ]
  },
  {
   "cell_type": "code",
   "execution_count": 47,
   "metadata": {
    "collapsed": false
   },
   "outputs": [
    {
     "name": "stderr",
     "output_type": "stream",
     "text": [
      "\n",
      "VCFtools - 0.1.15\n",
      "(C) Adam Auton and Anthony Marcketta 2009\n",
      "\n",
      "Parameters as interpreted:\n",
      "\t--vcf exR1o5k2-m80H1-exRep.recode.vcf\n",
      "\t--missing-indv\n",
      "\t--out exR1o5k2-m80H1-exRep\n",
      "\n",
      "After filtering, kept 152 out of 152 Individuals\n",
      "Outputting Individual Missingness\n",
      "After filtering, kept 165894 out of a possible 165894 Sites\n",
      "Run Time = 4.00 seconds\n"
     ]
    }
   ],
   "source": [
    "%%sh\n",
    "vcftools --vcf exR1o5k2-m80H1-exRep.recode.vcf --missing-indv --out exR1o5k2-m80H1-exRep"
   ]
  },
  {
   "cell_type": "code",
   "execution_count": 48,
   "metadata": {
    "collapsed": false
   },
   "outputs": [
    {
     "name": "stdout",
     "output_type": "stream",
     "text": [
      "INDV\tN_DATA\tN_GENOTYPES_FILTERED\tN_MISS\tF_MISS\n",
      "BC1_10w_6\t165894\t0\t11111\t0.0669765\n",
      "BC1_12\t165894\t0\t73097\t0.440625\n",
      "BC1_19\t165894\t0\t100988\t0.60875\n",
      "BC1_20\t165894\t0\t15711\t0.0947051\n",
      "BC1_22\t165894\t0\t8628\t0.0520091\n",
      "BC1_7\t165894\t0\t40738\t0.245566\n",
      "BC1_8\t165894\t0\t26445\t0.159409\n",
      "BC1_9B\t165894\t0\t25673\t0.154755\n",
      "BC2_10\t165894\t0\t18341\t0.110559\n",
      "BC2_11\t165894\t0\t68579\t0.41339\n",
      "BC2_12\t165894\t0\t7921\t0.0477474\n",
      "BC2_13\t165894\t0\t17304\t0.104308\n",
      "BC2_16\t165894\t0\t6673\t0.0402245\n",
      "BC2_17\t165894\t0\t8728\t0.0526119\n",
      "BC2_18\t165894\t0\t9929\t0.0598515\n",
      "BC2_3w_7\t165894\t0\t76123\t0.458865\n",
      "BC2_7\t165894\t0\t7145\t0.0430697\n",
      "BC2_9\t165894\t0\t87502\t0.527457\n",
      "BC3_16\t165894\t0\t43818\t0.264133\n",
      "BC3_17\t165894\t0\t54775\t0.330181\n",
      "BC3_18\t165894\t0\t61425\t0.370267\n",
      "BC3_20\t165894\t0\t6685\t0.0402968\n",
      "BC3_3B_6\t165894\t0\t13788\t0.0831133\n",
      "BC4_12\t165894\t0\t13205\t0.079599\n",
      "BC4_13w_7\t165894\t0\t60478\t0.364558\n",
      "BC4_14\t165894\t0\t120359\t0.725517\n",
      "BC4_15\t165894\t0\t29457\t0.177565\n",
      "BC4_19B_6\t165894\t0\t11460\t0.0690803\n",
      "BC4_2\t165894\t0\t57262\t0.345172\n",
      "BC4_4w_6\t165894\t0\t113282\t0.682858\n",
      "CA1_15\t165894\t0\t9739\t0.0587062\n",
      "CA1_16w_6\t165894\t0\t38953\t0.234807\n",
      "CA1_18\t165894\t0\t131766\t0.794278\n",
      "CA1_19w_6\t165894\t0\t11191\t0.0674587\n",
      "CA1_2\t165894\t0\t21149\t0.127485\n",
      "CA1_22\t165894\t0\t30342\t0.1829\n",
      "CA1_4\t165894\t0\t64959\t0.391569\n",
      "CA1_5\t165894\t0\t93744\t0.565084\n",
      "CA1_9\t165894\t0\t83725\t0.50469\n",
      "CA2_10\t165894\t0\t34876\t0.210231\n",
      "CA2_11\t165894\t0\t109079\t0.657522\n",
      "CA2_12\t165894\t0\t8072\t0.0486576\n",
      "CA2_8\t165894\t0\t49313\t0.297256\n",
      "CA2_9\t165894\t0\t119627\t0.721105\n",
      "CA3_6\t165894\t0\t55966\t0.33736\n",
      "CA3_7\t165894\t0\t8191\t0.0493749\n",
      "CA4_1\t165894\t0\t32302\t0.194715\n",
      "CA4_15\t165894\t0\t98754\t0.595284\n",
      "CA4_16\t165894\t0\t89475\t0.53935\n",
      "CA4_2\t165894\t0\t113135\t0.681972\n",
      "CA4_20\t165894\t0\t19428\t0.117111\n",
      "CA4_7\t165894\t0\t126839\t0.764579\n",
      "CA4_9B\t165894\t0\t32285\t0.194612\n",
      "CA5_10_6\t165894\t0\t14237\t0.0858199\n",
      "CA5_11A\t165894\t0\t11926\t0.0718893\n",
      "CA5_12\t165894\t0\t94310\t0.568496\n",
      "CA5_13b\t165894\t0\t22010\t0.132675\n",
      "CA5_14\t165894\t0\t51348\t0.309523\n",
      "CA5_15c\t165894\t0\t13283\t0.0800692\n",
      "CA5_7w_6\t165894\t0\t34080\t0.205432\n",
      "CA6_12B_6\t165894\t0\t20377\t0.122831\n",
      "CA6_14B_7\t165894\t0\t65503\t0.394849\n",
      "CA6_16\t165894\t0\t57592\t0.347161\n",
      "CA6_17\t165894\t0\t114321\t0.689121\n",
      "CA6_18\t165894\t0\t11125\t0.0670609\n",
      "CA7_10\t165894\t0\t9943\t0.0599359\n",
      "CA7_11\t165894\t0\t10210\t0.0615453\n",
      "CA7_12\t165894\t0\t12386\t0.0746621\n",
      "CA7_13\t165894\t0\t60004\t0.361701\n",
      "CA7_15B_6\t165894\t0\t11239\t0.0677481\n",
      "CA7_2w_6\t165894\t0\t10768\t0.0649089\n",
      "CA7_9\t165894\t0\t66374\t0.400099\n",
      "Conch_1\t165894\t0\t129273\t0.779251\n",
      "Conch_10\t165894\t0\t125641\t0.757357\n",
      "Conch_11\t165894\t0\t157252\t0.947906\n",
      "Conch_16\t165894\t0\t28350\t0.170892\n",
      "Conch_20\t165894\t0\t18559\t0.111873\n",
      "Conch_21\t165894\t0\t165271\t0.996245\n",
      "Conch_23\t165894\t0\t156137\t0.941185\n",
      "Conch_26\t165894\t0\t131086\t0.790179\n",
      "Conch_3\t165894\t0\t47146\t0.284194\n",
      "Conch_4\t165894\t0\t30626\t0.184612\n",
      "Conch_7\t165894\t0\t165214\t0.995901\n",
      "Conch_8\t165894\t0\t164923\t0.994147\n",
      "Conch_9\t165894\t0\t52183\t0.314556\n",
      "OR1_1B_6\t165894\t0\t18191\t0.109654\n",
      "OR1_2\t165894\t0\t8268\t0.0498391\n",
      "OR1_3\t165894\t0\t113530\t0.684353\n",
      "OR1_4\t165894\t0\t66891\t0.403215\n",
      "OR1_5\t165894\t0\t80578\t0.48572\n",
      "OR1_7w_6\t165894\t0\t6293\t0.0379339\n",
      "OR1_8w_7\t165894\t0\t112217\t0.676438\n",
      "OR2_10\t165894\t0\t121680\t0.73348\n",
      "OR2_11w_7\t165894\t0\t14092\t0.0849458\n",
      "OR2_19\t165894\t0\t125641\t0.757357\n",
      "OR2_1w_7\t165894\t0\t19434\t0.117147\n",
      "OR2_20\t165894\t0\t6841\t0.0412372\n",
      "OR2_2w_6\t165894\t0\t7760\t0.0467769\n",
      "OR2_4\t165894\t0\t27013\t0.162833\n",
      "OR2_9\t165894\t0\t22334\t0.134628\n",
      "OR3_1\t165894\t0\t35804\t0.215825\n",
      "OR3_13\t165894\t0\t18953\t0.114248\n",
      "OR3_15\t165894\t0\t61531\t0.370906\n",
      "OR3_17\t165894\t0\t56105\t0.338198\n",
      "OR3_18\t165894\t0\t61125\t0.368458\n",
      "OR3_20\t165894\t0\t16595\t0.100034\n",
      "OR3_5B_6\t165894\t0\t8668\t0.0522502\n",
      "OR3_7\t165894\t0\t18788\t0.113253\n",
      "WA10_10\t165894\t0\t7521\t0.0453362\n",
      "WA10_11B_7\t165894\t0\t35314\t0.212871\n",
      "WA10_12\t165894\t0\t118218\t0.712612\n",
      "WA10_14B_6\t165894\t0\t16443\t0.0991175\n",
      "WA10_15\t165894\t0\t93343\t0.562667\n",
      "WA10_16\t165894\t0\t15491\t0.0933789\n",
      "WA10_18\t165894\t0\t11718\t0.0706355\n",
      "WA10_1w_6\t165894\t0\t43340\t0.261251\n",
      "WA10_5w_7\t165894\t0\t97067\t0.585115\n",
      "WA11_10\t165894\t0\t14332\t0.0863925\n",
      "WA11_13\t165894\t0\t82447\t0.496986\n",
      "WA11_17B_6\t165894\t0\t26530\t0.159921\n",
      "WA11_20\t165894\t0\t76567\t0.461542\n",
      "WA11_22\t165894\t0\t22040\t0.132856\n",
      "WA11_3\t165894\t0\t55943\t0.337221\n",
      "WA11_4\t165894\t0\t11359\t0.0684714\n",
      "WA11_7\t165894\t0\t69309\t0.417791\n",
      "WA11_9B_7\t165894\t0\t8553\t0.051557\n",
      "WA12_11\t165894\t0\t9597\t0.0578502\n",
      "WA12_14\t165894\t0\t30212\t0.182116\n",
      "WA12_15\t165894\t0\t127503\t0.768581\n",
      "WA12_16\t165894\t0\t30296\t0.182623\n",
      "WA12_2B_6\t165894\t0\t110743\t0.667553\n",
      "WA12_8\t165894\t0\t90806\t0.547374\n",
      "WA13_11\t165894\t0\t105647\t0.636834\n",
      "WA13_13\t165894\t0\t11518\t0.0694299\n",
      "WA13_15\t165894\t0\t7960\t0.0479824\n",
      "WA13_16\t165894\t0\t8075\t0.0486757\n",
      "WA13_19\t165894\t0\t41480\t0.250039\n",
      "WA13_3\t165894\t0\t34669\t0.208983\n",
      "WA13_5\t165894\t0\t131415\t0.792162\n",
      "WA13_6\t165894\t0\t19660\t0.118509\n",
      "WA1_10\t165894\t0\t122339\t0.737453\n",
      "WA1_11w_6\t165894\t0\t62861\t0.378923\n",
      "WA1_12\t165894\t0\t129340\t0.779654\n",
      "WA1_14\t165894\t0\t10432\t0.0628835\n",
      "WA1_16\t165894\t0\t115933\t0.698838\n",
      "WA1_1w_6\t165894\t0\t9635\t0.0580793\n",
      "WA1_3w_7\t165894\t0\t83170\t0.501344\n",
      "WA9_10\t165894\t0\t14205\t0.085627\n",
      "WA9_12\t165894\t0\t16128\t0.0972187\n",
      "WA9_2\t165894\t0\t56287\t0.339295\n",
      "WA9_5B_7\t165894\t0\t122366\t0.737616\n",
      "WA9_8\t165894\t0\t38355\t0.231202\n"
     ]
    }
   ],
   "source": [
    "%%sh\n",
    "cat exR1o5k2-m80H1-exRep.imiss"
   ]
  },
  {
   "cell_type": "code",
   "execution_count": 56,
   "metadata": {
    "collapsed": false
   },
   "outputs": [
    {
     "data": {
      "text/plain": [
       "'/home/ksil91/anaconda2/bin/python'"
      ]
     },
     "execution_count": 56,
     "metadata": {},
     "output_type": "execute_result"
    }
   ],
   "source": [
    "import sys\n",
    "sys.executable"
   ]
  },
  {
   "cell_type": "code",
   "execution_count": 57,
   "metadata": {
    "collapsed": false
   },
   "outputs": [
    {
     "ename": "ImportError",
     "evalue": "No module named numpy",
     "output_type": "error",
     "traceback": [
      "\u001b[1;31m---------------------------------------------------------------------------\u001b[0m",
      "\u001b[1;31mImportError\u001b[0m                               Traceback (most recent call last)",
      "\u001b[1;32m<ipython-input-57-4ee716103900>\u001b[0m in \u001b[0;36m<module>\u001b[1;34m()\u001b[0m\n\u001b[1;32m----> 1\u001b[1;33m \u001b[1;32mimport\u001b[0m \u001b[0mnumpy\u001b[0m \u001b[1;32mas\u001b[0m \u001b[0mnp\u001b[0m\u001b[1;33m\u001b[0m\u001b[0m\n\u001b[0m",
      "\u001b[1;31mImportError\u001b[0m: No module named numpy"
     ]
    }
   ],
   "source": [
    "import numpy as np"
   ]
  },
  {
   "cell_type": "markdown",
   "metadata": {
    "collapsed": true
   },
   "source": [
    "Filter out loci with minor allele count less than 1 to exclude singletons that may be due to sequencing error."
   ]
  },
  {
   "cell_type": "code",
   "execution_count": 30,
   "metadata": {
    "collapsed": false
   },
   "outputs": [
    {
     "name": "stderr",
     "output_type": "stream",
     "text": [
      "\n",
      "VCFtools - 0.1.15\n",
      "(C) Adam Auton and Anthony Marcketta 2009\n",
      "\n",
      "Parameters as interpreted:\n",
      "\t--vcf exR1o5k2-m80H1-exRep.recode.vcf\n",
      "\t--recode-INFO-all\n",
      "\t--mac 1\n",
      "\t--min-alleles 2\n",
      "\t--out exR1o5k2-m80H1-exRep-mac1\n",
      "\t--recode\n",
      "\n",
      "After filtering, kept 152 out of 152 Individuals\n",
      "Outputting VCF file...\n",
      "After filtering, kept 133356 out of a possible 165894 Sites\n",
      "Run Time = 29.00 seconds\n"
     ]
    }
   ],
   "source": [
    "%%sh\n",
    "vcftools --vcf exR1o5k2-m80H1-exRep.recode.vcf --recode --recode-INFO-all --mac 1 --min-alleles 2 --out exR1o5k2-m80H1-exRep-mac1"
   ]
  },
  {
   "cell_type": "code",
   "execution_count": 42,
   "metadata": {
    "collapsed": false
   },
   "outputs": [],
   "source": [
    "## Code to subset one SNP per GBS locus from a VCF file. Chooses the SNP\n",
    "## with the highest sample coverage. If there is a tie, chooses the 1st SNP in the loci. (may change to random)\n",
    "## May be specific to VCF format output from ipyrad.\n",
    "\n",
    "def subsetSNPs(inputfile,outputfile):\n",
    "    import linecache\n",
    "    locidict = {}\n",
    "    lineNum = []\n",
    "    IN = open(inputfile, \"r\")\n",
    "    OUT = open(outputfile, \"w\")\n",
    "\n",
    "    n = 1\n",
    "    for line in IN:\n",
    "        if \"#\" not in line:\n",
    "            linelist = line.split()\n",
    "            loci = int(linelist[0])\n",
    "            #if statement to handle weird section of ipyrad .vcf\n",
    "            if loci != 0:\n",
    "            #Column 7 is INFO column of VCF file\n",
    "                NS = float(linelist[7].split(\";\")[0].split(\"=\")[1])\n",
    "                if loci not in locidict.keys():\n",
    "                    locidict[loci] = [NS,n]\n",
    "                else:\n",
    "                    if locidict[loci][0] < NS:\n",
    "                        locidict[loci] = [NS,n]\n",
    "        else:\n",
    "            OUT.write(line)\n",
    "        n += 1\n",
    "    IN.close()\n",
    "    print(\"Total SNPS: \"+str(n)+\"\\nUnlinked SNPs: \"+str(len(locidict.keys())))\n",
    "\n",
    "    for locus in sorted(locidict.keys()):\n",
    "        line = linecache.getline(inputfile, locidict[locus][1])\n",
    "        OUT.write(line)\n",
    "    OUT.close()\n"
   ]
  },
  {
   "cell_type": "code",
   "execution_count": 40,
   "metadata": {
    "collapsed": false
   },
   "outputs": [
    {
     "name": "stdout",
     "output_type": "stream",
     "text": [
      "Total SNPS: 133368\n",
      "Unlinked SNPs: 22897\n"
     ]
    }
   ],
   "source": [
    "infile = \"exR1o5k2-m80H1-exRep-mac1.recode.vcf\"\n",
    "outfile = \"exR1o5k2-m80H1-exRep-mac1-u.vcf\"\n",
    "subsetSNPs(infile,outfile)"
   ]
  },
  {
   "cell_type": "code",
   "execution_count": 43,
   "metadata": {
    "collapsed": false
   },
   "outputs": [
    {
     "name": "stdout",
     "output_type": "stream",
     "text": [
      "Total SNPS: 165906\n",
      "Unlinked SNPs: 22906\n"
     ]
    }
   ],
   "source": [
    "infile = \"exR1o5k2-m80H1-exRep.recode.vcf\"\n",
    "outfile = \"exR1o5k2-m80H1-exRep-u.vcf\"\n",
    "subsetSNPs(infile,outfile)"
   ]
  },
  {
   "cell_type": "markdown",
   "metadata": {},
   "source": [
    "Make .str format in pgdspider -> exR1-m80H1-exRep-mac1-u.str\n",
    "-> exR1-m80H1-exRep-u.str"
   ]
  },
  {
   "cell_type": "markdown",
   "metadata": {},
   "source": [
    "Excluding replicates, removing nonpolymorohic sites, setting minor allele count minimum to 2"
   ]
  },
  {
   "cell_type": "code",
   "execution_count": 22,
   "metadata": {
    "collapsed": false,
    "scrolled": true
   },
   "outputs": [
    {
     "name": "stderr",
     "output_type": "stream",
     "text": [
      "\n",
      "VCFtools - 0.1.15\n",
      "(C) Adam Auton and Anthony Marcketta 2009\n",
      "\n",
      "Parameters as interpreted:\n",
      "\t--vcf over10k-min75H32_outfiles/over10k-min75H32.vcf\n",
      "\t--exclude ../structure_inputs/over10k_reps.txt\n",
      "\t--recode-INFO-all\n",
      "\t--mac 2\n",
      "\t--min-alleles 2\n",
      "\t--out o10k-min75H32-exRep-mac2\n",
      "\t--recode\n",
      "\n",
      "Excluding individuals in 'exclude' list\n",
      "After filtering, kept 212 out of 229 Individuals\n",
      "Outputting VCF file...\n",
      "After filtering, kept 6232 out of a possible 165944 Sites\n",
      "Run Time = 2.00 seconds\n"
     ]
    }
   ],
   "source": [
    "%%sh\n",
    "vcftools --vcf over10k-min75H32_outfiles/over10k-min75H32.vcf --recode --recode-INFO-all --remove \\\n",
    "../structure_inputs/over10k_reps.txt --min-alleles 2 --mac 2 --out o10k-min75H32-exRep-mac2"
   ]
  },
  {
   "cell_type": "code",
   "execution_count": 23,
   "metadata": {
    "collapsed": false
   },
   "outputs": [
    {
     "name": "stdout",
     "output_type": "stream",
     "text": [
      "Total SNPS: 6243\n",
      "Unlinked SNPs: 1620\n"
     ]
    }
   ],
   "source": [
    "infile = \"o10k-min75H32-exRep-mac2.recode.vcf\"\n",
    "outfile = \"o10k-min75H32-exRepu-mac2.vcf\"\n",
    "\n",
    "subsetSNPs(infile,outfile)"
   ]
  },
  {
   "cell_type": "code",
   "execution_count": 24,
   "metadata": {
    "collapsed": true
   },
   "outputs": [],
   "source": [
    "%%sh\n",
    "sed -i -e \"s#2/2#./.#g\" o10k-min75H32-exRepu-mac2.vcf\n",
    "sed -i -e \"s#3/3#./.#g\" o10k-min75H32-exRepu-mac2.vcf\n",
    "sed -i -e \"s#4/4#./.#g\" o10k-min75H32-exRepu-mac2.vcf"
   ]
  },
  {
   "cell_type": "code",
   "execution_count": 8,
   "metadata": {
    "collapsed": false,
    "scrolled": true
   },
   "outputs": [
    {
     "name": "stderr",
     "output_type": "stream",
     "text": [
      "\n",
      "VCFtools - 0.1.15\n",
      "(C) Adam Auton and Anthony Marcketta 2009\n",
      "\n",
      "Parameters as interpreted:\n",
      "\t--vcf over10k-min75H32_outfiles/over10k-min75H32.vcf\n",
      "\t--exclude ../over10k_norep_COnch.txt\n",
      "\t--recode-INFO-all\n",
      "\t--min-alleles 2\n",
      "\t--out o10k-min75H32-exRepOL\n",
      "\t--recode\n",
      "\n",
      "Excluding individuals in 'exclude' list\n",
      "After filtering, kept 203 out of 229 Individuals\n",
      "Outputting VCF file...\n",
      "After filtering, kept 10982 out of a possible 165944 Sites\n",
      "Run Time = 2.00 seconds\n"
     ]
    }
   ],
   "source": [
    "%%sh\n",
    "vcftools --vcf over10k-min75H32_outfiles/over10k-min75H32.vcf --recode --recode-INFO-all --remove \\\n",
    "../over10k_norep_COnch.txt --min-alleles 2 --out o10k-min75H32-exRepOL"
   ]
  },
  {
   "cell_type": "code",
   "execution_count": 9,
   "metadata": {
    "collapsed": false,
    "scrolled": true
   },
   "outputs": [
    {
     "name": "stdout",
     "output_type": "stream",
     "text": [
      "Total SNPS: 10993\n",
      "Unlinked SNPs: 1791\n"
     ]
    }
   ],
   "source": [
    "infile = \"o10k-min75H32-exRepOL.recode.vcf\"\n",
    "outfile = \"o10k-min75H32-exRepOLu.vcf\"\n",
    "\n",
    "subsetSNPs(infile,outfile)"
   ]
  },
  {
   "cell_type": "code",
   "execution_count": 10,
   "metadata": {
    "collapsed": true
   },
   "outputs": [],
   "source": [
    "%%sh\n",
    "sed -i -e \"s#2/2#./.#g\" o10k-min75H32-exRepOLu.vcf\n",
    "sed -i -e \"s#3/3#./.#g\" o10k-min75H32-exRepOLu.vcf\n",
    "sed -i -e \"s#4/4#./.#g\" o10k-min75H32-exRepOLu.vcf"
   ]
  },
  {
   "cell_type": "code",
   "execution_count": null,
   "metadata": {
    "collapsed": true
   },
   "outputs": [],
   "source": []
  }
 ],
 "metadata": {
  "kernelspec": {
   "display_name": "Python 2",
   "language": "python",
   "name": "python2"
  },
  "language_info": {
   "codemirror_mode": {
    "name": "ipython",
    "version": 2
   },
   "file_extension": ".py",
   "mimetype": "text/x-python",
   "name": "python",
   "nbconvert_exporter": "python",
   "pygments_lexer": "ipython2",
   "version": "2.7.12"
  }
 },
 "nbformat": 4,
 "nbformat_minor": 0
}
