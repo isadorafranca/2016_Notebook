{
 "cells": [
  {
   "cell_type": "markdown",
   "metadata": {},
   "source": [
    "Making a vcf file of unlinked SNPs from c88Am100 vcf"
   ]
  },
  {
   "cell_type": "code",
   "execution_count": 33,
   "metadata": {
    "collapsed": false,
    "scrolled": true
   },
   "outputs": [
    {
     "name": "stdout",
     "output_type": "stream",
     "text": [
      "/home/ksil91/Desktop/FST\n"
     ]
    }
   ],
   "source": [
    "%cd /home/ksil91/Desktop/FST/"
   ]
  },
  {
   "cell_type": "code",
   "execution_count": 35,
   "metadata": {
    "collapsed": false
   },
   "outputs": [
    {
     "name": "stdout",
     "output_type": "stream",
     "text": [
      "3678\t48\t.\tC\tA\t20\tPASS\tNS=103;DP=5\tGT\t./.\t./.\t0|0\t0|0\t./.\t./.\t./.\t0|0\t0|0\t./.\t0|1\t./.\t0|0\t0|0\t0|0\t./.\t./.\t0|0\t./.\t0|0\t./.\t./.\t./.\t./.\t./.\t0|0\t0|0\t./.\t./.\t./.\t0|0\t0|0\t0|1\t./.\t0|0\t./.\t./.\t./.\t0|0\t./.\t0|0\t./.\t./.\t0|0\t./.\t./.\t0|0\t0|0\t0|0\t0|0\t0|0\t./.\t0|0\t./.\t./.\t./.\t./.\t0|0\t0|0\t0|1\t./.\t./.\t./.\t./.\t0|0\t./.\t./.\t./.\t./.\t0|1\t./.\t./.\t0|0\t0|0\t0|0\t./.\t0|0\t0|0\t./.\t0|0\t0|0\t./.\t./.\t./.\t./.\t0|0\t0|0\t./.\t0|0\t0|0\t./.\t0|0\t0|0\t0|1\t./.\t0|1\t0|0\t0|0\t./.\t./.\t0|0\t./.\t0|1\t./.\t0|0\t./.\t./.\t0|0\t0|0\t./.\t./.\t./.\t0|0\t0|0\t0|0\t0|0\t0|0\t0|0\t0|0\t./.\t./.\t0|0\t./.\t0|0\t0|0\t0|0\t./.\t0|0\t0|0\t./.\t./.\t0|0\t0|0\t0|0\t0|0\t0|0\t./.\t1|1\t0|0\t0|0\t0|0\t./.\t./.\t0|0\t0|0\t0|0\t./.\t./.\t./.\t0|0\t0|0\t./.\t0|0\t0|0\t0|0\t0|0\t0|0\t./.\t0|0\t0|0\t0|0\t./.\t0|0\t./.\t./.\t0|0\t./.\t./.\t0|0\t./.\t0|0\t./.\t0|0\t0|0\t0|0\t./.\t0|1\t./.\t0|0\t./.\t./.\t./.\t0|0\t./.\t./.\t0|0\t./.\t0|0\t0|0\t./.\t0|0\t./."
     ]
    }
   ],
   "source": [
    "! tail -1 Am100reg/c88Calm100h20mI20.vcf"
   ]
  },
  {
   "cell_type": "code",
   "execution_count": 37,
   "metadata": {
    "collapsed": false
   },
   "outputs": [],
   "source": [
    "! head -12 Am100reg/c88Calm100h20mI20.vcf > alm100unlinked2.vcf"
   ]
  },
  {
   "cell_type": "code",
   "execution_count": 39,
   "metadata": {
    "collapsed": false
   },
   "outputs": [
    {
     "name": "stderr",
     "output_type": "stream",
     "text": [
      "shuf: write error: Broken pipe\n",
      "shuf: write error\n",
      "shuf: write error: Broken pipe\n",
      "shuf: write error\n"
     ]
    }
   ],
   "source": [
    "%%sh \n",
    "for i in $(seq 1 3678);\n",
    "do grep -P \"^$i\\t\" Am100reg/c88Calm100h20mI20.vcf | shuf | head -1 >> alm100unlinked2.vcf;\n",
    "done"
   ]
  },
  {
   "cell_type": "code",
   "execution_count": 42,
   "metadata": {
    "collapsed": false
   },
   "outputs": [
    {
     "data": {
      "text/plain": [
       "u'/home/ksil91/Desktop/FST'"
      ]
     },
     "execution_count": 42,
     "metadata": {},
     "output_type": "execute_result"
    }
   ],
   "source": [
    "pwd"
   ]
  },
  {
   "cell_type": "code",
   "execution_count": 59,
   "metadata": {
    "collapsed": false,
    "scrolled": false
   },
   "outputs": [
    {
     "name": "stderr",
     "output_type": "stream",
     "text": [
      "\n",
      "VCFtools - v0.1.12b\n",
      "(C) Adam Auton and Anthony Marcketta 2009\n",
      "\n",
      "Parameters as interpreted:\n",
      "\t--vcf alm100ulmaf01.vcf\n",
      "\t--out alm100ulmaf01\n",
      "\t--plink\n",
      "\n",
      "After filtering, kept 192 out of 192 Individuals\n",
      "Writing PLINK PED and MAP files ... \n",
      "\tPLINK: Only outputting biallelic loci.\n",
      "Done.\n",
      "After filtering, kept 2846 out of a possible 2846 Sites\n",
      "Run Time = 0.00 seconds\n"
     ]
    }
   ],
   "source": [
    "%%sh\n",
    "/home/ksil91/Projects/Methods/vcftools/bin/vcftools --vcf alm100ulmaf01.vcf --plink --out alm100ulmaf01"
   ]
  },
  {
   "cell_type": "markdown",
   "metadata": {},
   "source": [
    "Only had 3405 loci -> biallelic?"
   ]
  },
  {
   "cell_type": "code",
   "execution_count": 60,
   "metadata": {
    "collapsed": false
   },
   "outputs": [
    {
     "name": "stdout",
     "output_type": "stream",
     "text": [
      "5558\n"
     ]
    }
   ],
   "source": [
    "run /home/ksil91/Projects/Methods/Scripts/pedbest.py"
   ]
  },
  {
   "cell_type": "code",
   "execution_count": 49,
   "metadata": {
    "collapsed": false,
    "scrolled": true
   },
   "outputs": [],
   "source": [
    "%%sh\n",
    "cd /home/ksil91/Desktop/FST/\n",
    "python ~/Projects/Methods/Scripts/pedEd.py alm100bestulv2.ped alm100ul2.map Am100bestuledv2 notind\n"
   ]
  },
  {
   "cell_type": "code",
   "execution_count": 50,
   "metadata": {
    "collapsed": true
   },
   "outputs": [],
   "source": [
    "%%sh\n",
    "cd /home/ksil91/Desktop/FST/\n",
    "cut -f 2- Am100bestuledv2.ped > Am100bestuled_inputv2.ped"
   ]
  },
  {
   "cell_type": "code",
   "execution_count": 61,
   "metadata": {
    "collapsed": false
   },
   "outputs": [],
   "source": [
    "infile = open(\"/home/ksil91/Desktop/FST/almulmaf01bested.ped\",\"r\")\n",
    "outfile = open(\"/home/ksil91/Desktop/FST/Ambestmaf_input.ped\",\"w\")\n",
    "for line in infile:\n",
    "    stuff = line.split()\n",
    "    outfile.write(stuff[1]+\"\\t\"+stuff[0]+\"\\t\"+\"\\t\".join(i for i in stuff[2:])+\"\\n\")\n",
    "infile.close()\n",
    "outfile.close()"
   ]
  },
  {
   "cell_type": "code",
   "execution_count": 66,
   "metadata": {
    "collapsed": false
   },
   "outputs": [
    {
     "name": "stdout",
     "output_type": "stream",
     "text": [
      "\n",
      "Starting to read in dataset...\n",
      "\tRead in data set of 184 samples and 2779 SNPs.\n",
      "Finished reading in data set.\n",
      "Starting calculating correlations...\n",
      "\r",
      "\t[                                                  ]\r",
      "\t[=                                                 ]\r",
      "\t[==                                                ]\r",
      "\t[===                                               ]\r",
      "\t[====                                              ]\r",
      "\t[=====                                             ]\r",
      "\t[======                                            ]\r",
      "\t[=======                                           ]\r",
      "\t[========                                          ]\r",
      "\t[=========                                         ]\r",
      "\t[==========                                        ]\r",
      "\t[===========                                       ]\r",
      "\t[============                                      ]\r",
      "\t[=============                                     ]\r",
      "\t[==============                                    ]\r",
      "\t[===============                                   ]\r",
      "\t[================                                  ]\r",
      "\t[=================                                 ]\r",
      "\t[==================                                ]\r",
      "\t[===================                               ]\r",
      "\t[====================                              ]\r",
      "\t[=====================                             ]\r",
      "\t[======================                            ]\r",
      "\t[=======================                           ]\r",
      "\t[========================                          ]\r",
      "\t[=========================                         ]\r",
      "\t[==========================                        ]\r",
      "\t[===========================                       ]\r",
      "\t[============================                      ]\r",
      "\t[=============================                     ]\r",
      "\t[==============================                    ]\r",
      "\t[===============================                   ]\r",
      "\t[================================                  ]\r",
      "\t[=================================                 ]\r",
      "\t[==================================                ]\r",
      "\t[===================================               ]\r",
      "\t[====================================              ]\r",
      "\t[=====================================             ]\r",
      "\t[======================================            ]\r",
      "\t[=======================================           ]\r",
      "\t[========================================          ]\r",
      "\t[=========================================         ]\r",
      "\t[==========================================        ]\r",
      "\t[===========================================       ]\r",
      "\t[============================================      ]\r",
      "\t[=============================================     ]\r",
      "\t[==============================================    ]\r",
      "\t[===============================================   ]\r",
      "\t[================================================  ]\r",
      "\t[================================================= ]\r",
      "\t[==================================================]\r",
      "\t[==================================================]\n",
      "Finished calculating correlations.\n",
      "Starting optimizing parameters...\n",
      "\t.....................................................................................\n",
      "\tBest k:\t\t2\n",
      "\tBest l:\t\t24\n",
      "\tAccuracy:\t0.9394\n",
      "Finished optimizing parameters.\n",
      "Starting imputation...\n",
      "\r",
      "\t[                                                  ]\r",
      "\t[=                                                 ]\r",
      "\t[==                                                ]\r",
      "\t[===                                               ]\r",
      "\t[====                                              ]\r",
      "\t[=====                                             ]\r",
      "\t[======                                            ]\r",
      "\t[=======                                           ]\r",
      "\t[========                                          ]\r",
      "\t[=========                                         ]\r",
      "\t[==========                                        ]\r",
      "\t[===========                                       ]\r",
      "\t[============                                      ]\r",
      "\t[=============                                     ]\r",
      "\t[==============                                    ]\r",
      "\t[===============                                   ]\r",
      "\t[================                                  ]\r",
      "\t[=================                                 ]\r",
      "\t[==================                                ]\r",
      "\t[===================                               ]\r",
      "\t[====================                              ]\r",
      "\t[=====================                             ]\r",
      "\t[======================                            ]\r",
      "\t[=======================                           ]\r",
      "\t[========================                          ]\r",
      "\t[=========================                         ]\r",
      "\t[==========================                        ]\r",
      "\t[===========================                       ]\r",
      "\t[============================                      ]\r",
      "\t[=============================                     ]\r",
      "\t[==============================                    ]\r",
      "\t[===============================                   ]\r",
      "\t[================================                  ]\r",
      "\t[=================================                 ]\r",
      "\t[==================================                ]\r",
      "\t[===================================               ]\r",
      "\t[====================================              ]\r",
      "\t[=====================================             ]\r",
      "\t[======================================            ]\r",
      "\t[=======================================           ]\r",
      "\t[========================================          ]\r",
      "\t[=========================================         ]\r",
      "\t[==========================================        ]\r",
      "\t[===========================================       ]\r",
      "\t[============================================      ]\r",
      "\t[=============================================     ]\r",
      "\t[==============================================    ]\r",
      "\t[===============================================   ]\r",
      "\t[================================================  ]\r",
      "\t[================================================= ]\r",
      "\t[==================================================]\r",
      "\t[==================================================]\n",
      "Finished imputation.\n",
      "Writing output...\n",
      "Finished writing output.\n",
      "\n"
     ]
    }
   ],
   "source": [
    "%%sh\n",
    "java -jar /home/ksil91/Projects/Methods/LinkImpute.jar -q /home/ksil91/Desktop/FST/Ambestmaf_input.ped /home/ksil91/Desktop/FST/Ambestmaf01Limp.ped  "
   ]
  },
  {
   "cell_type": "code",
   "execution_count": 67,
   "metadata": {
    "collapsed": true
   },
   "outputs": [],
   "source": [
    "%%sh\n",
    "mv /home/ksil91/Desktop/FST/Ambestmaf01Limp.ped /home/ksil91/Desktop/FST/MAF01/"
   ]
  },
  {
   "cell_type": "code",
   "execution_count": 68,
   "metadata": {
    "collapsed": true
   },
   "outputs": [],
   "source": [
    "infile = open(\"/home/ksil91/Desktop/FST/MAF01/Ambestmaf01Limp.ped\",\"r\")\n",
    "outfile = open(\"/home/ksil91/Desktop/FST/MAF01/Ambestmaf01Limped.ped\",\"w\")\n",
    "for line in infile:\n",
    "    stuff = line.split()\n",
    "    pop = stuff[1]\n",
    "    outfile.write(pop+\"\\t\"+stuff[0]+\"\\t\"+\"\\t\".join(i for i in stuff[2:])+\"\\n\")\n",
    "infile.close()\n",
    "outfile.close()"
   ]
  },
  {
   "cell_type": "code",
   "execution_count": 69,
   "metadata": {
    "collapsed": true
   },
   "outputs": [],
   "source": [
    "%%sh\n",
    "rm /home/ksil91/Desktop/FST/MAF01/Ambestmaf01Limp.ped\n",
    "mv /home/ksil91/Desktop/FST/MAF01/Ambestmaf01Limped.ped /home/ksil91/Desktop/FST/MAF01/Ambestmaf01Limp.ped"
   ]
  },
  {
   "cell_type": "markdown",
   "metadata": {},
   "source": [
    "* Convert AmbestulLimp.ped to .geno in PGDSpider2  \n"
   ]
  },
  {
   "cell_type": "markdown",
   "metadata": {},
   "source": [
    "* Run FST code in R to get mean FST for pairwise pops"
   ]
  },
  {
   "cell_type": "code",
   "execution_count": 42,
   "metadata": {
    "collapsed": false,
    "scrolled": true
   },
   "outputs": [
    {
     "name": "stdout",
     "output_type": "stream",
     "text": [
      "\n",
      "@----------------------------------------------------------@\n",
      "|        PLINK!       |     v1.07      |   10/Aug/2009     |\n",
      "|----------------------------------------------------------|\n",
      "|  (C) 2009 Shaun Purcell, GNU General Public License, v2  |\n",
      "|----------------------------------------------------------|\n",
      "|  For documentation, citation & bug-report instructions:  |\n",
      "|        http://pngu.mgh.harvard.edu/purcell/plink/        |\n",
      "@----------------------------------------------------------@\n",
      "\n",
      "Skipping web check... [ --noweb ] \n",
      "Writing this text to log file [ Am100bestilLimpR.log ]\n",
      "Analysis started: Mon Mar 21 16:08:39 2016\n",
      "\n",
      "Options in effect:\n",
      "\t--noweb\n",
      "\t--file /home/ksil91/Desktop/FST/Am100bestulLimp\n",
      "\t--recodeA\n",
      "\t--out Am100bestilLimpR\n",
      "\n",
      "3404 (of 3404) markers to be included from [ /home/ksil91/Desktop/FST/Am100bestulLimp.map ]\n",
      "Warning, found 184 individuals with ambiguous sex codes\n",
      "Writing list of these individuals to [ Am100bestilLimpR.nosex ]\n",
      "184 individuals read from [ /home/ksil91/Desktop/FST/Am100bestulLimp.ped ] \n",
      "0 individuals with nonmissing phenotypes\n",
      "Assuming a disease phenotype (1=unaff, 2=aff, 0=miss)\n",
      "Missing phenotype value is also -9\n",
      "0 cases, 0 controls and 184 missing\n",
      "0 males, 0 females, and 184 of unspecified sex\n",
      "Before frequency and genotyping pruning, there are 3404 SNPs\n",
      "184 founders and 0 non-founders found\n",
      "184 heterozygous haploid genotypes; set to missing\n",
      "Writing list of heterozygous haploid genotypes to [ Am100bestilLimpR.hh ]\n",
      "1 SNPs with no founder genotypes observed\n",
      "Warning, MAF set to 0 for these SNPs (see --nonfounders)\n",
      "Writing list of these SNPs to [ Am100bestilLimpR.nof ]\n",
      "Total genotyping rate in remaining individuals is nan\n",
      "0 SNPs failed missingness test ( GENO > 1 )\n",
      "0 SNPs failed frequency test ( MAF < 0 )\n",
      "After frequency and genotyping pruning, there are 3404 SNPs\n",
      "After filtering, 0 cases, 0 controls and 184 missing\n",
      "After filtering, 0 males, 0 females, and 184 of unspecified sex\n",
      "Writing recoded file to [ Am100bestilLimpR.raw ] \n",
      "\n",
      "Analysis finished: Mon Mar 21 16:08:39 2016\n",
      "\n"
     ]
    }
   ],
   "source": [
    "! plink --noweb --file ~/Desktop/FST/Am100bestulLimp --recodeA --out Am100bestilLimpR\n"
   ]
  },
  {
   "cell_type": "code",
   "execution_count": null,
   "metadata": {
    "collapsed": true
   },
   "outputs": [],
   "source": []
  }
 ],
 "metadata": {
  "kernelspec": {
   "display_name": "Python 2",
   "language": "python",
   "name": "python2"
  },
  "language_info": {
   "codemirror_mode": {
    "name": "ipython",
    "version": 2
   },
   "file_extension": ".py",
   "mimetype": "text/x-python",
   "name": "python",
   "nbconvert_exporter": "python",
   "pygments_lexer": "ipython2",
   "version": "2.7.12"
  }
 },
 "nbformat": 4,
 "nbformat_minor": 0
}
