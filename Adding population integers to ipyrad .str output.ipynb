{
 "cells": [
  {
   "cell_type": "markdown",
   "metadata": {},
   "source": [
    "## Converting ipyrad .u.str output for adegenet "
   ]
  },
  {
   "cell_type": "markdown",
   "metadata": {},
   "source": [
    "You need 3 files: the .u.str file from ipyrad, a file listing the population of each sample, and a file listing an integer for each population. Based on the format of my sample names (Population_ID), I created the Sample-Population file with a simple python script that takes in any of the stats output from Steps 2-6.You could also just manually make a file with a column of sample ids and a column of corresponding Population IDs."
   ]
  },
  {
   "cell_type": "code",
   "execution_count": null,
   "metadata": {
    "collapsed": false
   },
   "outputs": [],
   "source": [
    "# %load /home/ksil91/Projects/Ostrea/makePopFile.py\n",
    "##create population file for ipyrad. Can be used with ipyrad stats files from steps 2-6.\n",
    "\n",
    "import sys\n",
    "\n",
    "def makePopFile(infile, outfile):\n",
    "    IN = open(infile, \"r\")\n",
    "    OUT = open(outfile, \"w\")\n",
    "    for line in IN:\n",
    "        sampleID = line.split()[0]\n",
    "        popID = sampleID.split(\"_\")[0]\n",
    "        OUT.write(sampleID + \" \"+popID+\"\\n\")\n",
    "    IN.close()\n",
    "    OUT.close()\n",
    "\n",
    "\n",
    "def main(argv):\n",
    "    #get arguments from command line\n",
    "    inf = argv[1]\n",
    "    outf = argv[2]\n",
    "    makePopFile(inf,outf)\n",
    "\n",
    "if __name__ == \"__main__\":\n",
    "    status = main(sys.argv)\n",
    "    sys.exit(status)\n",
    "\n"
   ]
  },
  {
   "cell_type": "markdown",
   "metadata": {},
   "source": [
    "File should look like this, with sample id 1st, a space or tab, then the population id:"
   ]
  },
  {
   "cell_type": "code",
   "execution_count": 11,
   "metadata": {
    "collapsed": false
   },
   "outputs": [
    {
     "name": "stdout",
     "output_type": "stream",
     "text": [
      "clusters_total clusters\n",
      "BC1_1 BC1\n",
      "BC1_10w_6 BC1\n",
      "BC1_11 BC1\n",
      "BC1_12 BC1\n",
      "BC1_19 BC1\n",
      "BC1_2 BC1\n",
      "BC1_20 BC1\n",
      "BC1_22 BC1\n",
      "BC1_5 BC1\n"
     ]
    }
   ],
   "source": [
    "%%sh \n",
    "head /home/ksil91/Projects/Ostrea/over10k_popfile.txt "
   ]
  },
  {
   "cell_type": "markdown",
   "metadata": {},
   "source": [
    "It's ok if you have some extra stuff on there for my subsequent code."
   ]
  },
  {
   "cell_type": "markdown",
   "metadata": {},
   "source": [
    "For .str files, you need to code the population as an integer. For this, I created a file with the Population ID string, the desired integer, and then optional columns of other info, like the full name of the population or GPS coordinates. This file can then be played around with to create different groupings of populations."
   ]
  },
  {
   "cell_type": "code",
   "execution_count": 12,
   "metadata": {
    "collapsed": false
   },
   "outputs": [
    {
     "name": "stdout",
     "output_type": "stream",
     "text": [
      "BC1 4 Victoria\n",
      "BC2 1 Klaskino\n",
      "BC3 2 Barkeley_Sound\n",
      "BC4 3 Ladysmith\n",
      "WA12 5 Discovery_Bay\n",
      "WA11 6 Liberty_Bay\n",
      "WA13 7 North_Bay\n",
      "WA10 8 Triton_Cove\n",
      "WA1 9 North_Willapa\n",
      "WA9 9 South_Willpa\n"
     ]
    }
   ],
   "source": [
    "%%sh\n",
    "head /home/ksil91/Projects/Ostrea/Pop2Int.txt"
   ]
  },
  {
   "cell_type": "markdown",
   "metadata": {},
   "source": [
    "Then I made a script to add a column of integers to the .str ipyrad output corresponding to the population of each sample."
   ]
  },
  {
   "cell_type": "code",
   "execution_count": null,
   "metadata": {
    "collapsed": true
   },
   "outputs": [],
   "source": [
    "# %load /home/ksil91/Projects/Ostrea/AddPopsStr.py\n",
    "import sys\n",
    "\n",
    "def addPops(str_infile, popfile, outfile, pop2int):\n",
    "    IN = open(str_infile, \"r\")\n",
    "    OUT = open(outfile, \"w\")\n",
    "    pops = open(popfile, \"r\")\n",
    "    pop2int = open(pop2int, \"r\")\n",
    "    popdict = {}\n",
    "    pop2intdict = {}\n",
    "    for line in pop2int:\n",
    "        popID = line.split()[0]\n",
    "        intID = line.strip().split()[1]\n",
    "        pop2intdict[popID] = intID\n",
    "    for line in pops:\n",
    "        sampleID = line.split()[0]\n",
    "        popID = line.strip().split()[1]\n",
    "        popdict[sampleID] = popID\n",
    "    for line in IN:\n",
    "        linelist = line.split()\n",
    "        intID = pop2intdict[popdict[linelist[0]]]\n",
    "        linelist.insert(1, intID)\n",
    "        print >> OUT, \"\\t\".join(str(e) for e in linelist)\n",
    "    IN.close()\n",
    "    OUT.close()\n",
    "    pops.close()\n",
    "    pop2int.close()\n",
    "\n",
    "def main(argv):\n",
    "    #get arguments from command line\n",
    "    inf = argv[1]\n",
    "    outf = argv[2]\n",
    "    popf = argv[3]\n",
    "    pop2int = argv[4]\n",
    "    addPops(inf,popf, outf, pop2int)\n",
    "\n",
    "if __name__ == \"__main__\":\n",
    "    status = main(sys.argv)\n",
    "    sys.exit(status)\n",
    "\n"
   ]
  },
  {
   "cell_type": "code",
   "execution_count": 14,
   "metadata": {
    "collapsed": false
   },
   "outputs": [
    {
     "name": "stdout",
     "output_type": "stream",
     "text": [
      "BC1_1\t4\t3\t0\n",
      "BC1_1\t4\t3\t0\n",
      "BC1_10w_6\t4\t3\t0\n",
      "BC1_10w_6\t4\t3\t0\n",
      "BC1_11\t4\t3\t0\n",
      "BC1_11\t4\t3\t0\n",
      "BC1_12\t4\t3\t0\n",
      "BC1_12\t4\t3\t0\n",
      "BC1_19\t4\t-9\t0\n",
      "BC1_19\t4\t-9\t0\n"
     ]
    }
   ],
   "source": [
    "%%sh\n",
    "head /home/ksil91/Projects/Ostrea/over10k-min75H32pops.u.str | cut -f 1-4"
   ]
  },
  {
   "cell_type": "code",
   "execution_count": null,
   "metadata": {
    "collapsed": true
   },
   "outputs": [],
   "source": []
  }
 ],
 "metadata": {
  "kernelspec": {
   "display_name": "Python 2",
   "language": "python",
   "name": "python2"
  },
  "language_info": {
   "codemirror_mode": {
    "name": "ipython",
    "version": 2
   },
   "file_extension": ".py",
   "mimetype": "text/x-python",
   "name": "python",
   "nbconvert_exporter": "python",
   "pygments_lexer": "ipython2",
   "version": "2.7.12"
  }
 },
 "nbformat": 4,
 "nbformat_minor": 0
}
