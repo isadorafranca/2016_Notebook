{
 "cells": [
  {
   "cell_type": "code",
   "execution_count": 8,
   "metadata": {
    "collapsed": false
   },
   "outputs": [
    {
     "name": "stdout",
     "output_type": "stream",
     "text": [
      "Mon Apr 18 12:46:43 CDT 2016\n"
     ]
    }
   ],
   "source": [
    "%%sh \n",
    "date"
   ]
  },
  {
   "cell_type": "code",
   "execution_count": 1,
   "metadata": {
    "collapsed": false
   },
   "outputs": [
    {
     "name": "stdout",
     "output_type": "stream",
     "text": [
      "/home/ksil91/Projects/CommonG\n"
     ]
    }
   ],
   "source": [
    "%cd ~/Projects/CommonG/\n"
   ]
  },
  {
   "cell_type": "code",
   "execution_count": 3,
   "metadata": {
    "collapsed": false
   },
   "outputs": [
    {
     "name": "stderr",
     "output_type": "stream",
     "text": [
      "\n",
      "VCFtools - v0.1.12b\n",
      "(C) Adam Auton and Anthony Marcketta 2009\n",
      "\n",
      "Parameters as interpreted:\n",
      "\t--vcf testfinal.7.recode.vcf\n",
      "\t--weir-fst-pop SS.pop\n",
      "\t--weir-fst-pop HC.pop\n",
      "\n",
      "After filtering, kept 59 out of 59 Individuals\n",
      "Outputting Weir and Cockerham Fst estimates.\n",
      "Weir and Cockerham mean Fst estimate: 0.057906\n",
      "Weir and Cockerham weighted Fst estimate: 0.088177\n",
      "After filtering, kept 882 out of a possible 882 Sites\n",
      "Run Time = 0.00 seconds\n"
     ]
    }
   ],
   "source": [
    "%%sh\n",
    "vcftools --vcf testfinal.7.recode.vcf --weir-fst-pop SS.pop --weir-fst-pop HC.pop\n",
    "\n",
    "mv out.weir.fst SS_HC.fst"
   ]
  },
  {
   "cell_type": "code",
   "execution_count": 4,
   "metadata": {
    "collapsed": false
   },
   "outputs": [
    {
     "name": "stderr",
     "output_type": "stream",
     "text": [
      "\n",
      "VCFtools - v0.1.12b\n",
      "(C) Adam Auton and Anthony Marcketta 2009\n",
      "\n",
      "Parameters as interpreted:\n",
      "\t--vcf testfinal.7.recode.vcf\n",
      "\t--weir-fst-pop SS.pop\n",
      "\t--weir-fst-pop NF.pop\n",
      "\n",
      "After filtering, kept 59 out of 59 Individuals\n",
      "Outputting Weir and Cockerham Fst estimates.\n",
      "Weir and Cockerham mean Fst estimate: 0.038967\n",
      "Weir and Cockerham weighted Fst estimate: 0.05626\n",
      "After filtering, kept 882 out of a possible 882 Sites\n",
      "Run Time = 0.00 seconds\n"
     ]
    }
   ],
   "source": [
    "%%sh\n",
    "vcftools --vcf testfinal.7.recode.vcf --weir-fst-pop SS.pop --weir-fst-pop NF.pop\n",
    "\n",
    "mv out.weir.fst SS_NF.fst"
   ]
  },
  {
   "cell_type": "code",
   "execution_count": 5,
   "metadata": {
    "collapsed": false
   },
   "outputs": [
    {
     "name": "stderr",
     "output_type": "stream",
     "text": [
      "\n",
      "VCFtools - v0.1.12b\n",
      "(C) Adam Auton and Anthony Marcketta 2009\n",
      "\n",
      "Parameters as interpreted:\n",
      "\t--vcf testfinal.7.recode.vcf\n",
      "\t--weir-fst-pop HC.pop\n",
      "\t--weir-fst-pop NF.pop\n",
      "\n",
      "After filtering, kept 59 out of 59 Individuals\n",
      "Outputting Weir and Cockerham Fst estimates.\n",
      "Weir and Cockerham mean Fst estimate: 0.033982\n",
      "Weir and Cockerham weighted Fst estimate: 0.049145\n",
      "After filtering, kept 882 out of a possible 882 Sites\n",
      "Run Time = 0.00 seconds\n"
     ]
    }
   ],
   "source": [
    "%%sh\n",
    "vcftools --vcf testfinal.7.recode.vcf --weir-fst-pop HC.pop --weir-fst-pop NF.pop\n",
    "\n",
    "mv out.weir.fst NF_HC.fst"
   ]
  },
  {
   "cell_type": "code",
   "execution_count": 9,
   "metadata": {
    "collapsed": false
   },
   "outputs": [
    {
     "name": "stderr",
     "output_type": "stream",
     "text": [
      "\n",
      "VCFtools - v0.1.12b\n",
      "(C) Adam Auton and Anthony Marcketta 2009\n",
      "\n",
      "Parameters as interpreted:\n",
      "\t--vcf testfinal.7.recode.vcf\n",
      "\t--weir-fst-pop HC.pop\n",
      "\t--weir-fst-pop NF.pop\n",
      "\t--weir-fst-pop SS.pop\n",
      "\n",
      "After filtering, kept 59 out of 59 Individuals\n",
      "Outputting Weir and Cockerham Fst estimates.\n",
      "Weir and Cockerham mean Fst estimate: 0.047803\n",
      "Weir and Cockerham weighted Fst estimate: 0.064181\n",
      "After filtering, kept 882 out of a possible 882 Sites\n",
      "Run Time = 0.00 seconds\n"
     ]
    }
   ],
   "source": [
    "%%sh\n",
    "vcftools --vcf testfinal.7.recode.vcf --weir-fst-pop HC.pop --weir-fst-pop NF.pop --weir-fst-pop SS.pop\n",
    "\n",
    "mv out.weir.fst All.fst"
   ]
  },
  {
   "cell_type": "code",
   "execution_count": 10,
   "metadata": {
    "collapsed": true
   },
   "outputs": [],
   "source": [
    "%load_ext rpy2.ipython"
   ]
  },
  {
   "cell_type": "code",
   "execution_count": 23,
   "metadata": {
    "collapsed": false
   },
   "outputs": [
    {
     "name": "stdout",
     "output_type": "stream",
     "text": [
      "CHROM\tPOS\tWEIR_AND_COCKERHAM_FST\n",
      "scaffold205\t18516\t0.040877\n",
      "scaffold233\t15148\t-nan\n",
      "scaffold852\t14065\t-nan\n",
      "scaffold1143\t3166\t-0.0258561\n",
      "scaffold1161\t9374\t0.0468277\n",
      "scaffold3380\t9459\t-0.00115113\n",
      "scaffold3441\t407\t-0.0125092\n",
      "scaffold3450\t3014\t0.00732444\n",
      "scaffold3684\t17169\t-nan\n"
     ]
    }
   ],
   "source": [
    "%%sh\n",
    "head All.fst"
   ]
  },
  {
   "cell_type": "markdown",
   "metadata": {},
   "source": [
    "From what I understand, the negative FST values are when variation within a population at that locus is greater than that between populations. I'm not sure what the nan are from. So I removed SNPs with negative of nan values of FST and calculated mean FST. "
   ]
  },
  {
   "cell_type": "code",
   "execution_count": 21,
   "metadata": {
    "collapsed": false
   },
   "outputs": [
    {
     "data": {
      "text/plain": [
       "[1] \"Number of SNPs that have a positive FST value: 528\"\n"
      ]
     },
     "metadata": {},
     "output_type": "display_data"
    }
   ],
   "source": [
    "%%R\n",
    "all_fst <- read.table(\"All.fst\",header = TRUE)\n",
    "all_fst_pos <- all_fst[which(all_fst$WEIR_AND_COCKERHAM_FST > 0),]\n",
    "print(paste(\"Number of SNPs that have a positive FST value:\",dim(all_fst_pos)[1],sep=\" \"))"
   ]
  },
  {
   "cell_type": "code",
   "execution_count": 17,
   "metadata": {
    "collapsed": false
   },
   "outputs": [
    {
     "data": {
      "text/plain": [
       "[1] \"Mean FST across these loci: 0.0808443192746212\"\n"
      ]
     },
     "metadata": {},
     "output_type": "display_data"
    }
   ],
   "source": [
    "%%R\n",
    "print(paste(\"Mean FST across these loci:\",mean(all_fst_pos$WEIR_AND_COCKERHAM_FST,sep=\" \")))"
   ]
  },
  {
   "cell_type": "markdown",
   "metadata": {},
   "source": [
    "FST between just the HC and SS populations:"
   ]
  },
  {
   "cell_type": "code",
   "execution_count": 24,
   "metadata": {
    "collapsed": false
   },
   "outputs": [
    {
     "data": {
      "text/plain": [
       "[1] \"Number of SNPs that have a positive FST value: 453\"\n"
      ]
     },
     "metadata": {},
     "output_type": "display_data"
    }
   ],
   "source": [
    "%%R\n",
    "SH_fst <- read.table(\"SS_HC.fst\",header = TRUE)\n",
    "SH_fst_pos <- SH_fst[which(SH_fst$WEIR_AND_COCKERHAM_FST > 0),]\n",
    "print(paste(\"Number of SNPs that have a positive FST value:\",dim(SH_fst_pos)[1],sep=\" \"))"
   ]
  },
  {
   "cell_type": "code",
   "execution_count": 25,
   "metadata": {
    "collapsed": false
   },
   "outputs": [
    {
     "data": {
      "text/plain": [
       "[1] \"Mean FST across these loci: 0.111851019152318\"\n"
      ]
     },
     "metadata": {},
     "output_type": "display_data"
    }
   ],
   "source": [
    "%%R\n",
    "print(paste(\"Mean FST across these loci:\",mean(SH_fst_pos$WEIR_AND_COCKERHAM_FST,sep=\" \")))"
   ]
  },
  {
   "cell_type": "markdown",
   "metadata": {},
   "source": [
    "Which SNPs have elevated FST (> 0.4)? These can be putative \"outlier loci\"- will run Bayescan later for ore rigorous test of outlier loci. Should have Steven check draft genome to see if these are near coding regions or MDB annotated sites."
   ]
  },
  {
   "cell_type": "code",
   "execution_count": 26,
   "metadata": {
    "collapsed": false
   },
   "outputs": [
    {
     "data": {
      "text/plain": [
       "            CHROM   POS WEIR_AND_COCKERHAM_FST\n",
       "86  scaffold10810  4891               0.400565\n",
       "112 scaffold33670 10572               0.453688\n",
       "136  scaffold4234  9398               0.539805\n",
       "222 scaffold12946 30052               0.416570\n",
       "339 scaffold14842 28263               0.447510\n",
       "414 scaffold19292 26667               0.629388\n",
       "497 scaffold14634  4981               0.436905\n",
       "815  scaffold2703  7137               0.519270\n"
      ]
     },
     "metadata": {},
     "output_type": "display_data"
    }
   ],
   "source": [
    "%%R\n",
    "all_fst_high <-all_fst_pos[which(all_fst_pos$WEIR_AND_COCKERHAM_FST > 0.4),]\n",
    "all_fst_high"
   ]
  },
  {
   "cell_type": "code",
   "execution_count": 27,
   "metadata": {
    "collapsed": false
   },
   "outputs": [
    {
     "data": {
      "text/plain": [
       "            CHROM   POS WEIR_AND_COCKERHAM_FST\n",
       "27   scaffold8737 16447               0.419932\n",
       "112 scaffold33670 10572               0.412348\n",
       "128  scaffold1411 11766               0.405110\n",
       "136  scaffold4234  9398               0.531958\n",
       "137  scaffold4371 10192               0.446041\n",
       "185 scaffold75103    58               0.618404\n",
       "222 scaffold12946 30052               0.414634\n",
       "256  scaffold5227 14780               0.437141\n",
       "257  scaffold6205 13463               0.618268\n",
       "267  scaffold9718  7469               0.492133\n",
       "298 scaffold42270  7774               0.506240\n",
       "339 scaffold14842 28263               0.498399\n",
       "348 scaffold20511   760               0.471938\n",
       "359 scaffold29375 21717               0.469803\n",
       "414 scaffold19292 26667               0.863277\n",
       "426 scaffold23373  8994               0.534889\n",
       "497 scaffold14634  4981               0.685274\n",
       "569 scaffold16099 10072               0.413538\n",
       "603  scaffold7199  9043               0.422794\n",
       "680 scaffold40635 11021               0.403720\n",
       "794 scaffold35314 12656               0.531714\n",
       "812  scaffold2557 36786               0.527947\n",
       "815  scaffold2703  7137               0.598904\n",
       "818  scaffold3543   518               0.476523\n"
      ]
     },
     "metadata": {},
     "output_type": "display_data"
    }
   ],
   "source": [
    "%%R\n",
    "SH_fst_high <-SH_fst_pos[which(SH_fst_pos$WEIR_AND_COCKERHAM_FST > 0.4),]\n",
    "SH_fst_high"
   ]
  },
  {
   "cell_type": "code",
   "execution_count": null,
   "metadata": {
    "collapsed": true
   },
   "outputs": [],
   "source": []
  }
 ],
 "metadata": {
  "kernelspec": {
   "display_name": "Python 2",
   "language": "python",
   "name": "python2"
  },
  "language_info": {
   "codemirror_mode": {
    "name": "ipython",
    "version": 2
   },
   "file_extension": ".py",
   "mimetype": "text/x-python",
   "name": "python",
   "nbconvert_exporter": "python",
   "pygments_lexer": "ipython2",
   "version": "2.7.11"
  }
 },
 "nbformat": 4,
 "nbformat_minor": 0
}
