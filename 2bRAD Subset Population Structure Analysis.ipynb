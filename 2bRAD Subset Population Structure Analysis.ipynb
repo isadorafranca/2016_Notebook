{
 "cells": [
  {
   "cell_type": "code",
   "execution_count": 8,
   "metadata": {
    "collapsed": false
   },
   "outputs": [
    {
     "name": "stdout",
     "output_type": "stream",
     "text": [
      "Mon Apr 18 12:46:43 CDT 2016\n"
     ]
    }
   ],
   "source": [
    "%%sh \n",
    "date"
   ]
  },
  {
   "cell_type": "code",
   "execution_count": 1,
   "metadata": {
    "collapsed": false
   },
   "outputs": [
    {
     "name": "stdout",
     "output_type": "stream",
     "text": [
      "/home/ksil91/Projects/CommonG\n"
     ]
    }
   ],
   "source": [
    "%cd ~/Projects/CommonG/\n"
   ]
  },
  {
   "cell_type": "markdown",
   "metadata": {},
   "source": [
    "## FST"
   ]
  },
  {
   "cell_type": "code",
   "execution_count": 3,
   "metadata": {
    "collapsed": false
   },
   "outputs": [
    {
     "name": "stderr",
     "output_type": "stream",
     "text": [
      "\n",
      "VCFtools - v0.1.12b\n",
      "(C) Adam Auton and Anthony Marcketta 2009\n",
      "\n",
      "Parameters as interpreted:\n",
      "\t--vcf testfinal.7.recode.vcf\n",
      "\t--weir-fst-pop SS.pop\n",
      "\t--weir-fst-pop HC.pop\n",
      "\n",
      "After filtering, kept 59 out of 59 Individuals\n",
      "Outputting Weir and Cockerham Fst estimates.\n",
      "Weir and Cockerham mean Fst estimate: 0.057906\n",
      "Weir and Cockerham weighted Fst estimate: 0.088177\n",
      "After filtering, kept 882 out of a possible 882 Sites\n",
      "Run Time = 0.00 seconds\n"
     ]
    }
   ],
   "source": [
    "%%sh\n",
    "vcftools --vcf testfinal.7.recode.vcf --weir-fst-pop SS.pop --weir-fst-pop HC.pop\n",
    "\n",
    "mv out.weir.fst SS_HC.fst"
   ]
  },
  {
   "cell_type": "code",
   "execution_count": 4,
   "metadata": {
    "collapsed": false
   },
   "outputs": [
    {
     "name": "stderr",
     "output_type": "stream",
     "text": [
      "\n",
      "VCFtools - v0.1.12b\n",
      "(C) Adam Auton and Anthony Marcketta 2009\n",
      "\n",
      "Parameters as interpreted:\n",
      "\t--vcf testfinal.7.recode.vcf\n",
      "\t--weir-fst-pop SS.pop\n",
      "\t--weir-fst-pop NF.pop\n",
      "\n",
      "After filtering, kept 59 out of 59 Individuals\n",
      "Outputting Weir and Cockerham Fst estimates.\n",
      "Weir and Cockerham mean Fst estimate: 0.038967\n",
      "Weir and Cockerham weighted Fst estimate: 0.05626\n",
      "After filtering, kept 882 out of a possible 882 Sites\n",
      "Run Time = 0.00 seconds\n"
     ]
    }
   ],
   "source": [
    "%%sh\n",
    "vcftools --vcf testfinal.7.recode.vcf --weir-fst-pop SS.pop --weir-fst-pop NF.pop\n",
    "\n",
    "mv out.weir.fst SS_NF.fst"
   ]
  },
  {
   "cell_type": "code",
   "execution_count": 5,
   "metadata": {
    "collapsed": false
   },
   "outputs": [
    {
     "name": "stderr",
     "output_type": "stream",
     "text": [
      "\n",
      "VCFtools - v0.1.12b\n",
      "(C) Adam Auton and Anthony Marcketta 2009\n",
      "\n",
      "Parameters as interpreted:\n",
      "\t--vcf testfinal.7.recode.vcf\n",
      "\t--weir-fst-pop HC.pop\n",
      "\t--weir-fst-pop NF.pop\n",
      "\n",
      "After filtering, kept 59 out of 59 Individuals\n",
      "Outputting Weir and Cockerham Fst estimates.\n",
      "Weir and Cockerham mean Fst estimate: 0.033982\n",
      "Weir and Cockerham weighted Fst estimate: 0.049145\n",
      "After filtering, kept 882 out of a possible 882 Sites\n",
      "Run Time = 0.00 seconds\n"
     ]
    }
   ],
   "source": [
    "%%sh\n",
    "vcftools --vcf testfinal.7.recode.vcf --weir-fst-pop HC.pop --weir-fst-pop NF.pop\n",
    "\n",
    "mv out.weir.fst NF_HC.fst"
   ]
  },
  {
   "cell_type": "code",
   "execution_count": 9,
   "metadata": {
    "collapsed": false
   },
   "outputs": [
    {
     "name": "stderr",
     "output_type": "stream",
     "text": [
      "\n",
      "VCFtools - v0.1.12b\n",
      "(C) Adam Auton and Anthony Marcketta 2009\n",
      "\n",
      "Parameters as interpreted:\n",
      "\t--vcf testfinal.7.recode.vcf\n",
      "\t--weir-fst-pop HC.pop\n",
      "\t--weir-fst-pop NF.pop\n",
      "\t--weir-fst-pop SS.pop\n",
      "\n",
      "After filtering, kept 59 out of 59 Individuals\n",
      "Outputting Weir and Cockerham Fst estimates.\n",
      "Weir and Cockerham mean Fst estimate: 0.047803\n",
      "Weir and Cockerham weighted Fst estimate: 0.064181\n",
      "After filtering, kept 882 out of a possible 882 Sites\n",
      "Run Time = 0.00 seconds\n"
     ]
    }
   ],
   "source": [
    "%%sh\n",
    "vcftools --vcf testfinal.7.recode.vcf --weir-fst-pop HC.pop --weir-fst-pop NF.pop --weir-fst-pop SS.pop\n",
    "\n",
    "mv out.weir.fst All.fst"
   ]
  },
  {
   "cell_type": "code",
   "execution_count": 10,
   "metadata": {
    "collapsed": true
   },
   "outputs": [],
   "source": [
    "%load_ext rpy2.ipython"
   ]
  },
  {
   "cell_type": "code",
   "execution_count": 23,
   "metadata": {
    "collapsed": false
   },
   "outputs": [
    {
     "name": "stdout",
     "output_type": "stream",
     "text": [
      "CHROM\tPOS\tWEIR_AND_COCKERHAM_FST\n",
      "scaffold205\t18516\t0.040877\n",
      "scaffold233\t15148\t-nan\n",
      "scaffold852\t14065\t-nan\n",
      "scaffold1143\t3166\t-0.0258561\n",
      "scaffold1161\t9374\t0.0468277\n",
      "scaffold3380\t9459\t-0.00115113\n",
      "scaffold3441\t407\t-0.0125092\n",
      "scaffold3450\t3014\t0.00732444\n",
      "scaffold3684\t17169\t-nan\n"
     ]
    }
   ],
   "source": [
    "%%sh\n",
    "head All.fst"
   ]
  },
  {
   "cell_type": "markdown",
   "metadata": {},
   "source": [
    "From what I understand, the negative FST values are when variation within a population at that locus is greater than that between populations. I'm not sure what the nan are from. So I removed SNPs with negative of nan values of FST and calculated mean FST. "
   ]
  },
  {
   "cell_type": "code",
   "execution_count": 21,
   "metadata": {
    "collapsed": false
   },
   "outputs": [
    {
     "data": {
      "text/plain": [
       "[1] \"Number of SNPs that have a positive FST value: 528\"\n"
      ]
     },
     "metadata": {},
     "output_type": "display_data"
    }
   ],
   "source": [
    "%%R\n",
    "all_fst <- read.table(\"All.fst\",header = TRUE)\n",
    "all_fst_pos <- all_fst[which(all_fst$WEIR_AND_COCKERHAM_FST > 0),]\n",
    "print(paste(\"Number of SNPs that have a positive FST value:\",dim(all_fst_pos)[1],sep=\" \"))"
   ]
  },
  {
   "cell_type": "code",
   "execution_count": 17,
   "metadata": {
    "collapsed": false
   },
   "outputs": [
    {
     "data": {
      "text/plain": [
       "[1] \"Mean FST across these loci: 0.0808443192746212\"\n"
      ]
     },
     "metadata": {},
     "output_type": "display_data"
    }
   ],
   "source": [
    "%%R\n",
    "print(paste(\"Mean FST across these loci:\",mean(all_fst_pos$WEIR_AND_COCKERHAM_FST,sep=\" \")))"
   ]
  },
  {
   "cell_type": "markdown",
   "metadata": {},
   "source": [
    "FST between just the HC and SS populations:"
   ]
  },
  {
   "cell_type": "code",
   "execution_count": 24,
   "metadata": {
    "collapsed": false
   },
   "outputs": [
    {
     "data": {
      "text/plain": [
       "[1] \"Number of SNPs that have a positive FST value: 453\"\n"
      ]
     },
     "metadata": {},
     "output_type": "display_data"
    }
   ],
   "source": [
    "%%R\n",
    "SH_fst <- read.table(\"SS_HC.fst\",header = TRUE)\n",
    "SH_fst_pos <- SH_fst[which(SH_fst$WEIR_AND_COCKERHAM_FST > 0),]\n",
    "print(paste(\"Number of SNPs that have a positive FST value:\",dim(SH_fst_pos)[1],sep=\" \"))"
   ]
  },
  {
   "cell_type": "code",
   "execution_count": 25,
   "metadata": {
    "collapsed": false
   },
   "outputs": [
    {
     "data": {
      "text/plain": [
       "[1] \"Mean FST across these loci: 0.111851019152318\"\n"
      ]
     },
     "metadata": {},
     "output_type": "display_data"
    }
   ],
   "source": [
    "%%R\n",
    "print(paste(\"Mean FST across these loci:\",mean(SH_fst_pos$WEIR_AND_COCKERHAM_FST,sep=\" \")))"
   ]
  },
  {
   "cell_type": "markdown",
   "metadata": {},
   "source": [
    "Which SNPs have elevated FST (> 0.4)? These can be putative \"outlier loci\"- will run Bayescan later for ore rigorous test of outlier loci. Should have Steven check draft genome to see if these are near coding regions or MDB annotated sites."
   ]
  },
  {
   "cell_type": "code",
   "execution_count": 26,
   "metadata": {
    "collapsed": false
   },
   "outputs": [
    {
     "data": {
      "text/plain": [
       "            CHROM   POS WEIR_AND_COCKERHAM_FST\n",
       "86  scaffold10810  4891               0.400565\n",
       "112 scaffold33670 10572               0.453688\n",
       "136  scaffold4234  9398               0.539805\n",
       "222 scaffold12946 30052               0.416570\n",
       "339 scaffold14842 28263               0.447510\n",
       "414 scaffold19292 26667               0.629388\n",
       "497 scaffold14634  4981               0.436905\n",
       "815  scaffold2703  7137               0.519270\n"
      ]
     },
     "metadata": {},
     "output_type": "display_data"
    }
   ],
   "source": [
    "%%R\n",
    "all_fst_high <-all_fst_pos[which(all_fst_pos$WEIR_AND_COCKERHAM_FST > 0.4),]\n",
    "all_fst_high"
   ]
  },
  {
   "cell_type": "code",
   "execution_count": 27,
   "metadata": {
    "collapsed": false
   },
   "outputs": [
    {
     "data": {
      "text/plain": [
       "            CHROM   POS WEIR_AND_COCKERHAM_FST\n",
       "27   scaffold8737 16447               0.419932\n",
       "112 scaffold33670 10572               0.412348\n",
       "128  scaffold1411 11766               0.405110\n",
       "136  scaffold4234  9398               0.531958\n",
       "137  scaffold4371 10192               0.446041\n",
       "185 scaffold75103    58               0.618404\n",
       "222 scaffold12946 30052               0.414634\n",
       "256  scaffold5227 14780               0.437141\n",
       "257  scaffold6205 13463               0.618268\n",
       "267  scaffold9718  7469               0.492133\n",
       "298 scaffold42270  7774               0.506240\n",
       "339 scaffold14842 28263               0.498399\n",
       "348 scaffold20511   760               0.471938\n",
       "359 scaffold29375 21717               0.469803\n",
       "414 scaffold19292 26667               0.863277\n",
       "426 scaffold23373  8994               0.534889\n",
       "497 scaffold14634  4981               0.685274\n",
       "569 scaffold16099 10072               0.413538\n",
       "603  scaffold7199  9043               0.422794\n",
       "680 scaffold40635 11021               0.403720\n",
       "794 scaffold35314 12656               0.531714\n",
       "812  scaffold2557 36786               0.527947\n",
       "815  scaffold2703  7137               0.598904\n",
       "818  scaffold3543   518               0.476523\n"
      ]
     },
     "metadata": {},
     "output_type": "display_data"
    }
   ],
   "source": [
    "%%R\n",
    "SH_fst_high <-SH_fst_pos[which(SH_fst_pos$WEIR_AND_COCKERHAM_FST > 0.4),]\n",
    "SH_fst_high"
   ]
  },
  {
   "cell_type": "markdown",
   "metadata": {},
   "source": [
    "## Admixture"
   ]
  },
  {
   "cell_type": "code",
   "execution_count": 33,
   "metadata": {
    "collapsed": false
   },
   "outputs": [
    {
     "name": "stderr",
     "output_type": "stream",
     "text": [
      "\n",
      "7995 total loci\n",
      "4351 dropped because fraction of missing genotypes exceeded 0.5\n",
      "134 dropped because fraction of heterozygotes exceeded 0.75\n",
      "3510 written\n",
      "\n"
     ]
    }
   ],
   "source": [
    "%%sh\n",
    "/home/ksil91/Projects/Methods/2bRAD_GATK-master/hetfilter.pl vcf=gatk_after_vqsr_matz.vcf > hetfiltRaw.vcf"
   ]
  },
  {
   "cell_type": "code",
   "execution_count": 34,
   "metadata": {
    "collapsed": false
   },
   "outputs": [
    {
     "name": "stderr",
     "output_type": "stream",
     "text": [
      "\n",
      "3510 total loci\n",
      "41 loci skipped because they were closer than 5000\n",
      "1621 loci selected\n",
      "\n"
     ]
    }
   ],
   "source": [
    "%%sh\n",
    "/home/ksil91/Projects/Methods/2bRAD_GATK-master/thinner.pl vcf=hetfiltRaw.vcf interval=5000 | perl -pe 's/chrom/chr/g' >thinchrom.vcf"
   ]
  },
  {
   "cell_type": "code",
   "execution_count": 37,
   "metadata": {
    "collapsed": false
   },
   "outputs": [
    {
     "name": "stderr",
     "output_type": "stream",
     "text": [
      "\n",
      "VCFtools - v0.1.12b\n",
      "(C) Adam Auton and Anthony Marcketta 2009\n",
      "\n",
      "Parameters as interpreted:\n",
      "\t--vcf thinchrom.vcf\n",
      "\t--exclude testreps_del.tab\n",
      "\t--max-alleles 2\n",
      "\t--min-alleles 2\n",
      "\t--minQ 5\n",
      "\t--max-missing 0.7\n",
      "\t--out chrom.7\n",
      "\t--recode\n",
      "\n",
      "Excluding individuals in 'exclude' list\n",
      "After filtering, kept 59 out of 67 Individuals\n",
      "Outputting VCF file...\n",
      "After filtering, kept 825 out of a possible 1621 Sites\n",
      "Run Time = 1.00 seconds\n"
     ]
    }
   ],
   "source": [
    "%%sh\n",
    "vcftools --vcf thinchrom.vcf --remove testreps_del.tab --minQ 5 --max-missing 0.7  --min-alleles 2 --max-alleles 2 --recode --out chrom.7"
   ]
  },
  {
   "cell_type": "code",
   "execution_count": 38,
   "metadata": {
    "collapsed": false
   },
   "outputs": [
    {
     "name": "stdout",
     "output_type": "stream",
     "text": [
      "PLINK v1.90b3.34 64-bit (15 Mar 2016)      https://www.cog-genomics.org/plink2\n",
      "(C) 2005-2016 Shaun Purcell, Christopher Chang   GNU General Public License v3\n",
      "Logging to admix.7.log.\n",
      "Options in effect:\n",
      "  --make-bed\n",
      "  --out admix.7\n",
      "  --vcf chrom.7.recode.vcf\n",
      "\n",
      "7923 MB RAM detected; reserving 3961 MB for main workspace.\n",
      "\r",
      "--vcf: admix.7-temporary.bed + admix.7-temporary.bim + admix.7-temporary.fam\n",
      "written.\n",
      "825 variants loaded from .bim file.\n",
      "59 people (0 males, 0 females, 59 ambiguous) loaded from .fam.\n",
      "Ambiguous sex IDs written to admix.7.nosex .\n",
      "Using 1 thread (no multithreaded calculations invoked).\n",
      "Before main variant filters, 59 founders and 0 nonfounders present.\n",
      "Calculating allele frequencies... 0%\b\b1%\b\b2%\b\b3%\b\b4%\b\b5%\b\b6%\b\b7%\b\b8%\b\b9%\b\b10%\b\b\b11%\b\b\b12%\b\b\b13%\b\b\b14%\b\b\b15%\b\b\b16%\b\b\b17%\b\b\b18%\b\b\b19%\b\b\b20%\b\b\b21%\b\b\b22%\b\b\b23%\b\b\b24%\b\b\b25%\b\b\b26%\b\b\b27%\b\b\b28%\b\b\b29%\b\b\b30%\b\b\b31%\b\b\b32%\b\b\b33%\b\b\b34%\b\b\b35%\b\b\b36%\b\b\b37%\b\b\b38%\b\b\b39%\b\b\b40%\b\b\b41%\b\b\b42%\b\b\b43%\b\b\b44%\b\b\b45%\b\b\b46%\b\b\b47%\b\b\b48%\b\b\b49%\b\b\b50%\b\b\b51%\b\b\b52%\b\b\b53%\b\b\b54%\b\b\b55%\b\b\b56%\b\b\b57%\b\b\b58%\b\b\b59%\b\b\b60%\b\b\b61%\b\b\b62%\b\b\b63%\b\b\b64%\b\b\b65%\b\b\b66%\b\b\b67%\b\b\b68%\b\b\b69%\b\b\b70%\b\b\b71%\b\b\b72%\b\b\b73%\b\b\b74%\b\b\b75%\b\b\b76%\b\b\b77%\b\b\b78%\b\b\b79%\b\b\b80%\b\b\b81%\b\b\b82%\b\b\b83%\b\b\b84%\b\b\b85%\b\b\b86%\b\b\b87%\b\b\b88%\b\b\b89%\b\b\b90%\b\b\b91%\b\b\b92%\b\b\b93%\b\b\b94%\b\b\b95%\b\b\b96%\b\b\b97%\b\b\b98%\b\b\b99%\b\b\b\b done.\n",
      "Total genotyping rate is 0.919877.\n",
      "825 variants and 59 people pass filters and QC.\n",
      "Note: No phenotypes present.\n",
      "--make-bed to admix.7.bed + admix.7.bim + admix.7.fam ... 0%\b\b1%\b\b2%\b\b3%\b\b4%\b\b5%\b\b6%\b\b7%\b\b8%\b\b9%\b\b10%\b\b\b11%\b\b\b12%\b\b\b13%\b\b\b14%\b\b\b15%\b\b\b16%\b\b\b17%\b\b\b18%\b\b\b19%\b\b\b20%\b\b\b21%\b\b\b22%\b\b\b23%\b\b\b24%\b\b\b25%\b\b\b26%\b\b\b27%\b\b\b28%\b\b\b29%\b\b\b30%\b\b\b31%\b\b\b32%\b\b\b33%\b\b\b34%\b\b\b35%\b\b\b36%\b\b\b37%\b\b\b38%\b\b\b39%\b\b\b40%\b\b\b41%\b\b\b42%\b\b\b43%\b\b\b44%\b\b\b45%\b\b\b46%\b\b\b47%\b\b\b48%\b\b\b49%\b\b\b50%\b\b\b51%\b\b\b52%\b\b\b53%\b\b\b54%\b\b\b55%\b\b\b56%\b\b\b57%\b\b\b58%\b\b\b59%\b\b\b60%\b\b\b61%\b\b\b62%\b\b\b63%\b\b\b64%\b\b\b65%\b\b\b66%\b\b\b67%\b\b\b68%\b\b\b69%\b\b\b70%\b\b\b71%\b\b\b72%\b\b\b73%\b\b\b74%\b\b\b75%\b\b\b76%\b\b\b77%\b\b\b78%\b\b\b79%\b\b\b80%\b\b\b81%\b\b\b82%\b\b\b83%\b\b\b84%\b\b\b85%\b\b\b86%\b\b\b87%\b\b\b88%\b\b\b89%\b\b\b90%\b\b\b91%\b\b\b92%\b\b\b93%\b\b\b94%\b\b\b95%\b\b\b96%\b\b\b97%\b\b\b98%\b\b\b99%\b\b\bdone.\n"
     ]
    }
   ],
   "source": [
    "%%sh\n",
    "plink --vcf chrom.7.recode.vcf --make-bed --out admix.7\n"
   ]
  },
  {
   "cell_type": "code",
   "execution_count": 39,
   "metadata": {
    "collapsed": false
   },
   "outputs": [
    {
     "name": "stdout",
     "output_type": "stream",
     "text": [
      "****                   ADMIXTURE Version 1.3.0                  ****\n",
      "****                    Copyright 2008-2015                     ****\n",
      "****           David Alexander, Suyash Shringarpure,            ****\n",
      "****                John  Novembre, Ken Lange                   ****\n",
      "****                                                            ****\n",
      "****                 Please cite our paper!                     ****\n",
      "****   Information at www.genetics.ucla.edu/software/admixture  ****\n",
      "\n",
      "Cross-validation will be performed.  Folds=5.\n",
      "Random seed: 43\n",
      "Point estimation method: Block relaxation algorithm\n",
      "Convergence acceleration algorithm: QuasiNewton, 3 secant conditions\n",
      "Point estimation will terminate when objective function delta < 0.0001\n",
      "Estimation of standard errors disabled; will compute point estimates only.\n",
      "Size of G: 59x825\n",
      "Performing five EM steps to prime main algorithm\n",
      "1 (EM) \tElapsed: 0.001\tLoglikelihood: -33712.7\t(delta): 57784.5\n",
      "2 (EM) \tElapsed: 0.001\tLoglikelihood: -33712.7\t(delta): 0\n",
      "3 (EM) \tElapsed: 0.001\tLoglikelihood: -33712.7\t(delta): 0\n",
      "4 (EM) \tElapsed: 0.001\tLoglikelihood: -33712.7\t(delta): 0\n",
      "5 (EM) \tElapsed: 0.001\tLoglikelihood: -33712.7\t(delta): 0\n",
      "Initial loglikelihood: -33712.7\n",
      "Starting main algorithm\n",
      "1 (QN/Block) \tElapsed: 0.004\tLoglikelihood: -33712.7\t(delta): 0\n",
      "Summary: \n",
      "Converged in 1 iterations (0.012 sec)\n",
      "Loglikelihood: -33712.688321\n",
      "CV error (K=1): 0.51594\n",
      "Writing output files.\n"
     ]
    }
   ],
   "source": [
    "%%sh\n",
    "/home/ksil91/Projects/Methods/admixture_linux-1.3.0/admixture --cv admix.7.bed 1 | tee log1.out"
   ]
  },
  {
   "cell_type": "code",
   "execution_count": 41,
   "metadata": {
    "collapsed": false
   },
   "outputs": [
    {
     "name": "stdout",
     "output_type": "stream",
     "text": [
      "****                   ADMIXTURE Version 1.3.0                  ****\n",
      "****                    Copyright 2008-2015                     ****\n",
      "****           David Alexander, Suyash Shringarpure,            ****\n",
      "****                John  Novembre, Ken Lange                   ****\n",
      "****                                                            ****\n",
      "****                 Please cite our paper!                     ****\n",
      "****   Information at www.genetics.ucla.edu/software/admixture  ****\n",
      "\n",
      "Cross-validation will be performed.  Folds=5.\n",
      "Random seed: 43\n",
      "Point estimation method: Block relaxation algorithm\n",
      "Convergence acceleration algorithm: QuasiNewton, 3 secant conditions\n",
      "Point estimation will terminate when objective function delta < 0.0001\n",
      "Estimation of standard errors disabled; will compute point estimates only.\n",
      "Size of G: 59x825\n",
      "Performing five EM steps to prime main algorithm\n",
      "1 (EM) \tElapsed: 0.002\tLoglikelihood: -35477.8\t(delta): 36793.6\n",
      "2 (EM) \tElapsed: 0.002\tLoglikelihood: -34081.8\t(delta): 1396.02\n",
      "3 (EM) \tElapsed: 0.002\tLoglikelihood: -33689.1\t(delta): 392.709\n",
      "4 (EM) \tElapsed: 0.003\tLoglikelihood: -33459.1\t(delta): 229.985\n",
      "5 (EM) \tElapsed: 0.003\tLoglikelihood: -33305.5\t(delta): 153.537\n",
      "Initial loglikelihood: -33305.5\n",
      "Starting main algorithm\n",
      "1 (QN/Block) \tElapsed: 0.008\tLoglikelihood: -32487.6\t(delta): 817.914\n",
      "2 (QN/Block) \tElapsed: 0.008\tLoglikelihood: -31637.8\t(delta): 849.835\n",
      "3 (QN/Block) \tElapsed: 0.01\tLoglikelihood: -31042.6\t(delta): 595.21\n",
      "4 (QN/Block) \tElapsed: 0.011\tLoglikelihood: -30839.8\t(delta): 202.744\n",
      "5 (QN/Block) \tElapsed: 0.011\tLoglikelihood: -30791.6\t(delta): 48.2712\n",
      "6 (QN/Block) \tElapsed: 0.01\tLoglikelihood: -30774\t(delta): 17.5731\n",
      "7 (QN/Block) \tElapsed: 0.011\tLoglikelihood: -30770.7\t(delta): 3.28683\n",
      "8 (QN/Block) \tElapsed: 0.01\tLoglikelihood: -30769.4\t(delta): 1.27352\n",
      "9 (QN/Block) \tElapsed: 0.011\tLoglikelihood: -30768.5\t(delta): 0.953324\n",
      "10 (QN/Block) \tElapsed: 0.01\tLoglikelihood: -30767.8\t(delta): 0.64692\n",
      "11 (QN/Block) \tElapsed: 0.01\tLoglikelihood: -30767.5\t(delta): 0.353132\n",
      "12 (QN/Block) \tElapsed: 0.01\tLoglikelihood: -30767.1\t(delta): 0.364623\n",
      "13 (QN/Block) \tElapsed: 0.009\tLoglikelihood: -30766.9\t(delta): 0.174344\n",
      "14 (QN/Block) \tElapsed: 0.011\tLoglikelihood: -30766.6\t(delta): 0.37158\n",
      "15 (QN/Block) \tElapsed: 0.01\tLoglikelihood: -30765.9\t(delta): 0.638611\n",
      "16 (QN/Block) \tElapsed: 0.011\tLoglikelihood: -30765.8\t(delta): 0.0801589\n",
      "17 (QN/Block) \tElapsed: 0.01\tLoglikelihood: -30765.8\t(delta): 0.0503297\n",
      "18 (QN/Block) \tElapsed: 0.013\tLoglikelihood: -30765.7\t(delta): 0.0750933\n",
      "19 (QN/Block) \tElapsed: 0.011\tLoglikelihood: -30765.7\t(delta): 0.0465083\n",
      "20 (QN/Block) \tElapsed: 0.013\tLoglikelihood: -30765.6\t(delta): 0.0749241\n",
      "21 (QN/Block) \tElapsed: 0.015\tLoglikelihood: -30765.5\t(delta): 0.0516037\n",
      "22 (QN/Block) \tElapsed: 0.014\tLoglikelihood: -30765.5\t(delta): 0.0674097\n",
      "23 (QN/Block) \tElapsed: 0.011\tLoglikelihood: -30765.5\t(delta): 0.0134151\n",
      "24 (QN/Block) \tElapsed: 0.01\tLoglikelihood: -30765.5\t(delta): 0.00859012\n",
      "25 (QN/Block) \tElapsed: 0.009\tLoglikelihood: -30765.4\t(delta): 0.015824\n",
      "26 (QN/Block) \tElapsed: 0.01\tLoglikelihood: -30765.4\t(delta): 0.00296902\n",
      "27 (QN/Block) \tElapsed: 0.011\tLoglikelihood: -30765.4\t(delta): 0.00258224\n",
      "28 (QN/Block) \tElapsed: 0.012\tLoglikelihood: -30765.4\t(delta): 0.0374532\n",
      "29 (QN/Block) \tElapsed: 0.014\tLoglikelihood: -30765.3\t(delta): 0.0537985\n",
      "30 (QN/Block) \tElapsed: 0.01\tLoglikelihood: -30765.3\t(delta): 0.00796551\n",
      "31 (QN/Block) \tElapsed: 0.009\tLoglikelihood: -30765.3\t(delta): 0.0304766\n",
      "32 (QN/Block) \tElapsed: 0.01\tLoglikelihood: -30765.3\t(delta): 0.00884829\n",
      "33 (QN/Block) \tElapsed: 0.009\tLoglikelihood: -30765.3\t(delta): 0.00476823\n",
      "34 (QN/Block) \tElapsed: 0.009\tLoglikelihood: -30765.3\t(delta): 0.00107794\n",
      "35 (QN/Block) \tElapsed: 0.009\tLoglikelihood: -30765.3\t(delta): 0.00247821\n",
      "36 (QN/Block) \tElapsed: 0.009\tLoglikelihood: -30765.3\t(delta): 0.000858888\n",
      "37 (QN/Block) \tElapsed: 0.01\tLoglikelihood: -30765.3\t(delta): 0.000240052\n",
      "38 (QN/Block) \tElapsed: 0.01\tLoglikelihood: -30765.3\t(delta): 3.66526e-05\n",
      "Summary: \n",
      "Converged in 38 iterations (0.455 sec)\n",
      "Loglikelihood: -30765.284081\n",
      "Fst divergences between estimated populations: \n",
      "\tPop0\tPop1\t\n",
      "Pop0\t\n",
      "Pop1\t0.173\t\n",
      "Pop2\t0.201\t0.164\t\n",
      "CV error (K=3): 0.54287\n",
      "Writing output files.\n"
     ]
    }
   ],
   "source": [
    "%%sh\n",
    "/home/ksil91/Projects/Methods/admixture_linux-1.3.0/admixture --cv admix.7.bed 3 | tee log3.out"
   ]
  },
  {
   "cell_type": "code",
   "execution_count": 42,
   "metadata": {
    "collapsed": false
   },
   "outputs": [
    {
     "name": "stdout",
     "output_type": "stream",
     "text": [
      "****                   ADMIXTURE Version 1.3.0                  ****\n",
      "****                    Copyright 2008-2015                     ****\n",
      "****           David Alexander, Suyash Shringarpure,            ****\n",
      "****                John  Novembre, Ken Lange                   ****\n",
      "****                                                            ****\n",
      "****                 Please cite our paper!                     ****\n",
      "****   Information at www.genetics.ucla.edu/software/admixture  ****\n",
      "\n",
      "Cross-validation will be performed.  Folds=5.\n",
      "Random seed: 43\n",
      "Point estimation method: Block relaxation algorithm\n",
      "Convergence acceleration algorithm: QuasiNewton, 3 secant conditions\n",
      "Point estimation will terminate when objective function delta < 0.0001\n",
      "Estimation of standard errors disabled; will compute point estimates only.\n",
      "Size of G: 59x825\n",
      "Performing five EM steps to prime main algorithm\n",
      "1 (EM) \tElapsed: 0.003\tLoglikelihood: -35404.5\t(delta): 34263.5\n",
      "2 (EM) \tElapsed: 0.003\tLoglikelihood: -33940.1\t(delta): 1464.32\n",
      "3 (EM) \tElapsed: 0.003\tLoglikelihood: -33482.2\t(delta): 457.951\n",
      "4 (EM) \tElapsed: 0.003\tLoglikelihood: -33207.8\t(delta): 274.369\n",
      "5 (EM) \tElapsed: 0.003\tLoglikelihood: -33019.6\t(delta): 188.199\n",
      "Initial loglikelihood: -33019.6\n",
      "Starting main algorithm\n",
      "1 (QN/Block) \tElapsed: 0.011\tLoglikelihood: -31347.1\t(delta): 1672.53\n",
      "2 (QN/Block) \tElapsed: 0.012\tLoglikelihood: -30333\t(delta): 1014.12\n",
      "3 (QN/Block) \tElapsed: 0.013\tLoglikelihood: -29863.6\t(delta): 469.368\n",
      "4 (QN/Block) \tElapsed: 0.014\tLoglikelihood: -29698.9\t(delta): 164.742\n",
      "5 (QN/Block) \tElapsed: 0.012\tLoglikelihood: -29642.8\t(delta): 56.1039\n",
      "6 (QN/Block) \tElapsed: 0.012\tLoglikelihood: -29624.7\t(delta): 18.0689\n",
      "7 (QN/Block) \tElapsed: 0.012\tLoglikelihood: -29615.6\t(delta): 9.07345\n",
      "8 (QN/Block) \tElapsed: 0.012\tLoglikelihood: -29613.3\t(delta): 2.32947\n",
      "9 (QN/Block) \tElapsed: 0.013\tLoglikelihood: -29612.7\t(delta): 0.55808\n",
      "10 (QN/Block) \tElapsed: 0.012\tLoglikelihood: -29612.5\t(delta): 0.208403\n",
      "11 (QN/Block) \tElapsed: 0.012\tLoglikelihood: -29612.5\t(delta): 0.0573472\n",
      "12 (QN/Block) \tElapsed: 0.011\tLoglikelihood: -29612.4\t(delta): 0.0438822\n",
      "13 (QN/Block) \tElapsed: 0.013\tLoglikelihood: -29612.4\t(delta): 0.0228323\n",
      "14 (QN/Block) \tElapsed: 0.013\tLoglikelihood: -29612.4\t(delta): 0.0273545\n",
      "15 (QN/Block) \tElapsed: 0.011\tLoglikelihood: -29612.3\t(delta): 0.0506045\n",
      "16 (QN/Block) \tElapsed: 0.013\tLoglikelihood: -29612.3\t(delta): 0.0307176\n",
      "17 (QN/Block) \tElapsed: 0.012\tLoglikelihood: -29612.3\t(delta): 0.028767\n",
      "18 (QN/Block) \tElapsed: 0.013\tLoglikelihood: -29612.2\t(delta): 0.0220514\n",
      "19 (QN/Block) \tElapsed: 0.011\tLoglikelihood: -29612.2\t(delta): 0.00535092\n",
      "20 (QN/Block) \tElapsed: 0.012\tLoglikelihood: -29612.2\t(delta): 0.00133784\n",
      "21 (QN/Block) \tElapsed: 0.011\tLoglikelihood: -29612.2\t(delta): 2.02008e-05\n",
      "Summary: \n",
      "Converged in 21 iterations (0.297 sec)\n",
      "Loglikelihood: -29612.237879\n",
      "Fst divergences between estimated populations: \n",
      "\tPop0\tPop1\tPop2\t\n",
      "Pop0\t\n",
      "Pop1\t0.218\t\n",
      "Pop2\t0.185\t0.175\t\n",
      "Pop3\t0.248\t0.220\t0.170\t\n",
      "CV error (K=4): 0.54945\n",
      "Writing output files.\n"
     ]
    }
   ],
   "source": [
    "%%sh\n",
    "/home/ksil91/Projects/Methods/admixture_linux-1.3.0/admixture --cv admix.7.bed 4 | tee log4.out"
   ]
  },
  {
   "cell_type": "code",
   "execution_count": 43,
   "metadata": {
    "collapsed": false
   },
   "outputs": [
    {
     "name": "stdout",
     "output_type": "stream",
     "text": [
      "****                   ADMIXTURE Version 1.3.0                  ****\n",
      "****                    Copyright 2008-2015                     ****\n",
      "****           David Alexander, Suyash Shringarpure,            ****\n",
      "****                John  Novembre, Ken Lange                   ****\n",
      "****                                                            ****\n",
      "****                 Please cite our paper!                     ****\n",
      "****   Information at www.genetics.ucla.edu/software/admixture  ****\n",
      "\n",
      "Cross-validation will be performed.  Folds=5.\n",
      "Random seed: 43\n",
      "Point estimation method: Block relaxation algorithm\n",
      "Convergence acceleration algorithm: QuasiNewton, 3 secant conditions\n",
      "Point estimation will terminate when objective function delta < 0.0001\n",
      "Estimation of standard errors disabled; will compute point estimates only.\n",
      "Size of G: 59x825\n",
      "Performing five EM steps to prime main algorithm\n",
      "1 (EM) \tElapsed: 0.004\tLoglikelihood: -35472.2\t(delta): 32725.2\n",
      "2 (EM) \tElapsed: 0.004\tLoglikelihood: -33906.9\t(delta): 1565.32\n",
      "3 (EM) \tElapsed: 0.004\tLoglikelihood: -33427.5\t(delta): 479.413\n",
      "4 (EM) \tElapsed: 0.004\tLoglikelihood: -33138.6\t(delta): 288.839\n",
      "5 (EM) \tElapsed: 0.004\tLoglikelihood: -32927\t(delta): 211.622\n",
      "Initial loglikelihood: -32927\n",
      "Starting main algorithm\n",
      "1 (QN/Block) \tElapsed: 0.014\tLoglikelihood: -30886.5\t(delta): 2040.44\n",
      "2 (QN/Block) \tElapsed: 0.014\tLoglikelihood: -29858.6\t(delta): 1027.9\n",
      "3 (QN/Block) \tElapsed: 0.017\tLoglikelihood: -29334.1\t(delta): 524.542\n",
      "4 (QN/Block) \tElapsed: 0.016\tLoglikelihood: -28823\t(delta): 511.088\n",
      "5 (QN/Block) \tElapsed: 0.017\tLoglikelihood: -28702.3\t(delta): 120.727\n",
      "6 (QN/Block) \tElapsed: 0.014\tLoglikelihood: -28680.6\t(delta): 21.6907\n",
      "7 (QN/Block) \tElapsed: 0.015\tLoglikelihood: -28676.2\t(delta): 4.43539\n",
      "8 (QN/Block) \tElapsed: 0.014\tLoglikelihood: -28674.3\t(delta): 1.88009\n",
      "9 (QN/Block) \tElapsed: 0.015\tLoglikelihood: -28672.2\t(delta): 2.11541\n",
      "10 (QN/Block) \tElapsed: 0.015\tLoglikelihood: -28671.5\t(delta): 0.706961\n",
      "11 (QN/Block) \tElapsed: 0.015\tLoglikelihood: -28670.9\t(delta): 0.583465\n",
      "12 (QN/Block) \tElapsed: 0.015\tLoglikelihood: -28670.5\t(delta): 0.342924\n",
      "13 (QN/Block) \tElapsed: 0.015\tLoglikelihood: -28670.4\t(delta): 0.185188\n",
      "14 (QN/Block) \tElapsed: 0.017\tLoglikelihood: -28670.2\t(delta): 0.124106\n",
      "15 (QN/Block) \tElapsed: 0.014\tLoglikelihood: -28669.9\t(delta): 0.286762\n",
      "16 (QN/Block) \tElapsed: 0.014\tLoglikelihood: -28669.7\t(delta): 0.215572\n",
      "17 (QN/Block) \tElapsed: 0.016\tLoglikelihood: -28668.9\t(delta): 0.874714\n",
      "18 (QN/Block) \tElapsed: 0.015\tLoglikelihood: -28668.4\t(delta): 0.433553\n",
      "19 (QN/Block) \tElapsed: 0.014\tLoglikelihood: -28668.2\t(delta): 0.259094\n",
      "20 (QN/Block) \tElapsed: 0.014\tLoglikelihood: -28667.8\t(delta): 0.313782\n",
      "21 (QN/Block) \tElapsed: 0.016\tLoglikelihood: -28667.6\t(delta): 0.276924\n",
      "22 (QN/Block) \tElapsed: 0.016\tLoglikelihood: -28667.3\t(delta): 0.28255\n",
      "23 (QN/Block) \tElapsed: 0.015\tLoglikelihood: -28667.1\t(delta): 0.234483\n",
      "24 (QN/Block) \tElapsed: 0.016\tLoglikelihood: -28666.8\t(delta): 0.255629\n",
      "25 (QN/Block) \tElapsed: 0.016\tLoglikelihood: -28666.6\t(delta): 0.156879\n",
      "26 (QN/Block) \tElapsed: 0.015\tLoglikelihood: -28666.4\t(delta): 0.280945\n",
      "27 (QN/Block) \tElapsed: 0.016\tLoglikelihood: -28666.2\t(delta): 0.177165\n",
      "28 (QN/Block) \tElapsed: 0.016\tLoglikelihood: -28666.1\t(delta): 0.0616047\n",
      "29 (QN/Block) \tElapsed: 0.016\tLoglikelihood: -28666.1\t(delta): 0.0407222\n",
      "30 (QN/Block) \tElapsed: 0.016\tLoglikelihood: -28666\t(delta): 0.0276552\n",
      "31 (QN/Block) \tElapsed: 0.014\tLoglikelihood: -28666\t(delta): 0.0817024\n",
      "32 (QN/Block) \tElapsed: 0.015\tLoglikelihood: -28665.9\t(delta): 0.0370722\n",
      "33 (QN/Block) \tElapsed: 0.017\tLoglikelihood: -28665.8\t(delta): 0.136216\n",
      "34 (QN/Block) \tElapsed: 0.017\tLoglikelihood: -28665.8\t(delta): 0.0242\n",
      "35 (QN/Block) \tElapsed: 0.016\tLoglikelihood: -28665.8\t(delta): 0.015706\n",
      "36 (QN/Block) \tElapsed: 0.016\tLoglikelihood: -28665.6\t(delta): 0.16013\n",
      "37 (QN/Block) \tElapsed: 0.017\tLoglikelihood: -28665.6\t(delta): 0.0278868\n",
      "38 (QN/Block) \tElapsed: 0.016\tLoglikelihood: -28665.6\t(delta): 0.0100472\n",
      "39 (QN/Block) \tElapsed: 0.017\tLoglikelihood: -28665.5\t(delta): 0.0379173\n",
      "40 (QN/Block) \tElapsed: 0.017\tLoglikelihood: -28665.4\t(delta): 0.111407\n",
      "41 (QN/Block) \tElapsed: 0.015\tLoglikelihood: -28665.4\t(delta): 0.0320051\n",
      "42 (QN/Block) \tElapsed: 0.016\tLoglikelihood: -28665.4\t(delta): 0.0139002\n",
      "43 (QN/Block) \tElapsed: 0.015\tLoglikelihood: -28665.4\t(delta): 0.00538667\n",
      "44 (QN/Block) \tElapsed: 0.017\tLoglikelihood: -28665.4\t(delta): 0.00216477\n",
      "45 (QN/Block) \tElapsed: 0.015\tLoglikelihood: -28665.4\t(delta): 0.000213234\n",
      "46 (QN/Block) \tElapsed: 0.015\tLoglikelihood: -28665.4\t(delta): 6.99161e-05\n",
      "Summary: \n",
      "Converged in 46 iterations (0.787 sec)\n",
      "Loglikelihood: -28665.353739\n",
      "Fst divergences between estimated populations: \n",
      "\tPop0\tPop1\tPop2\tPop3\t\n",
      "Pop0\t\n",
      "Pop1\t0.175\t\n",
      "Pop2\t0.205\t0.217\t\n",
      "Pop3\t0.208\t0.221\t0.268\t\n",
      "Pop4\t0.197\t0.199\t0.241\t0.215\t\n",
      "CV error (K=5): 0.57780\n",
      "Writing output files.\n"
     ]
    }
   ],
   "source": [
    "%%sh\n",
    "/home/ksil91/Projects/Methods/admixture_linux-1.3.0/admixture --cv admix.7.bed 5 | tee log5.out"
   ]
  },
  {
   "cell_type": "code",
   "execution_count": 44,
   "metadata": {
    "collapsed": false
   },
   "outputs": [
    {
     "name": "stdout",
     "output_type": "stream",
     "text": [
      "****                   ADMIXTURE Version 1.3.0                  ****\n",
      "****                    Copyright 2008-2015                     ****\n",
      "****           David Alexander, Suyash Shringarpure,            ****\n",
      "****                John  Novembre, Ken Lange                   ****\n",
      "****                                                            ****\n",
      "****                 Please cite our paper!                     ****\n",
      "****   Information at www.genetics.ucla.edu/software/admixture  ****\n",
      "\n",
      "Cross-validation will be performed.  Folds=5.\n",
      "Random seed: 43\n",
      "Point estimation method: Block relaxation algorithm\n",
      "Convergence acceleration algorithm: QuasiNewton, 3 secant conditions\n",
      "Point estimation will terminate when objective function delta < 0.0001\n",
      "Estimation of standard errors disabled; will compute point estimates only.\n",
      "Size of G: 59x825\n",
      "Performing five EM steps to prime main algorithm\n",
      "1 (EM) \tElapsed: 0.006\tLoglikelihood: -35290.4\t(delta): 32356.8\n",
      "2 (EM) \tElapsed: 0.006\tLoglikelihood: -33758.5\t(delta): 1531.9\n",
      "3 (EM) \tElapsed: 0.006\tLoglikelihood: -33236.4\t(delta): 522.092\n",
      "4 (EM) \tElapsed: 0.006\tLoglikelihood: -32891.7\t(delta): 344.72\n",
      "5 (EM) \tElapsed: 0.006\tLoglikelihood: -32626.4\t(delta): 265.231\n",
      "Initial loglikelihood: -32626.4\n",
      "Starting main algorithm\n",
      "1 (QN/Block) \tElapsed: 0.017\tLoglikelihood: -30056.9\t(delta): 2569.51\n",
      "2 (QN/Block) \tElapsed: 0.017\tLoglikelihood: -29035.2\t(delta): 1021.68\n",
      "3 (QN/Block) \tElapsed: 0.019\tLoglikelihood: -28419.4\t(delta): 615.873\n",
      "4 (QN/Block) \tElapsed: 0.019\tLoglikelihood: -28036.2\t(delta): 383.181\n",
      "5 (QN/Block) \tElapsed: 0.02\tLoglikelihood: -27909.3\t(delta): 126.916\n",
      "6 (QN/Block) \tElapsed: 0.017\tLoglikelihood: -27874.5\t(delta): 34.7359\n",
      "7 (QN/Block) \tElapsed: 0.018\tLoglikelihood: -27857.1\t(delta): 17.4222\n",
      "8 (QN/Block) \tElapsed: 0.018\tLoglikelihood: -27847.8\t(delta): 9.29889\n",
      "9 (QN/Block) \tElapsed: 0.018\tLoglikelihood: -27843.8\t(delta): 4.04222\n",
      "10 (QN/Block) \tElapsed: 0.019\tLoglikelihood: -27842.2\t(delta): 1.60784\n",
      "11 (QN/Block) \tElapsed: 0.02\tLoglikelihood: -27840.6\t(delta): 1.56945\n",
      "12 (QN/Block) \tElapsed: 0.02\tLoglikelihood: -27839.3\t(delta): 1.25763\n",
      "13 (QN/Block) \tElapsed: 0.019\tLoglikelihood: -27838.8\t(delta): 0.584569\n",
      "14 (QN/Block) \tElapsed: 0.019\tLoglikelihood: -27838.5\t(delta): 0.275393\n",
      "15 (QN/Block) \tElapsed: 0.019\tLoglikelihood: -27838.4\t(delta): 0.109338\n",
      "16 (QN/Block) \tElapsed: 0.019\tLoglikelihood: -27838.3\t(delta): 0.0292023\n",
      "17 (QN/Block) \tElapsed: 0.017\tLoglikelihood: -27838.3\t(delta): 0.00336787\n",
      "18 (QN/Block) \tElapsed: 0.017\tLoglikelihood: -27838.3\t(delta): 0.00091225\n",
      "19 (QN/Block) \tElapsed: 0.017\tLoglikelihood: -27838.3\t(delta): 5.64301e-05\n",
      "Summary: \n",
      "Converged in 19 iterations (0.405 sec)\n",
      "Loglikelihood: -27838.340303\n",
      "Fst divergences between estimated populations: \n",
      "\tPop0\tPop1\tPop2\tPop3\tPop4\t\n",
      "Pop0\t\n",
      "Pop1\t0.271\t\n",
      "Pop2\t0.231\t0.217\t\n",
      "Pop3\t0.218\t0.247\t0.204\t\n",
      "Pop4\t0.205\t0.211\t0.169\t0.164\t\n",
      "Pop5\t0.246\t0.244\t0.223\t0.245\t0.199\t\n",
      "CV error (K=6): 0.63483\n",
      "Writing output files.\n"
     ]
    }
   ],
   "source": [
    "%%sh\n",
    "/home/ksil91/Projects/Methods/admixture_linux-1.3.0/admixture --cv admix.7.bed 6 | tee log6.out"
   ]
  },
  {
   "cell_type": "code",
   "execution_count": 46,
   "metadata": {
    "collapsed": false
   },
   "outputs": [
    {
     "name": "stdout",
     "output_type": "stream",
     "text": [
      "CV error (K=1): 0.51594\n",
      "CV error (K=2): 0.52430\n",
      "CV error (K=3): 0.54287\n",
      "CV error (K=4): 0.54945\n",
      "CV error (K=5): 0.57780\n",
      "CV error (K=6): 0.63483\n"
     ]
    }
   ],
   "source": [
    "%%sh\n",
    "grep -h CV log*.out "
   ]
  },
  {
   "cell_type": "markdown",
   "metadata": {},
   "source": [
    "K of 1 has lowest cross validation value, but let's look to see what it looks like at K =2 and K = 3. This is code taken from [Matz's github](https://github.com/z0on/2bRAD_GATK/blob/master/2bRAD_GATK) and adapted or our population names:"
   ]
  },
  {
   "cell_type": "code",
   "execution_count": 50,
   "metadata": {
    "collapsed": false
   },
   "outputs": [],
   "source": [
    "%%R\n",
    "library(RColorBrewer)\n",
    "#----------------------------------------\n",
    "popline=function(poplabels,midpoints) {\t\n",
    "\tp0=poplabels[1];pi=0;popIDpts=c();tline=-0.4\n",
    "\tfor (p in 1:length(poplabels)) {\n",
    "\t\t if (poplabels[p] != p0 ) { \n",
    "\t\t \t\tif (tline==-0.4){tline=-0.1}else{tline=-0.4}\n",
    "\t\t\t \tpopIDpts=append(popIDpts,p-ceiling(pi/2)-1)\n",
    "\t\t\t \tp0=poplabels[p]\n",
    "\t\t\t \tpi=0\n",
    "\t\t } else { pi=pi+1 } \n",
    "\t\t mtext(\"-\",side=1,line=tline,at=midpoints[p])\n",
    "\t}\n",
    "\tpopIDpts=append(popIDpts,p-floor(pi/2))\n",
    "\tfor (p in 1:length(unique(poplabels))){\n",
    "\t\t  mtext(unique(poplabels)[p],side=1,line=0.5,at=midpoints[popIDpts[p]])\n",
    "\t}\n",
    "}"
   ]
  },
  {
   "cell_type": "code",
   "execution_count": 52,
   "metadata": {
    "collapsed": false
   },
   "outputs": [
    {
     "data": {
      "image/png": "[encoded data removed]"
     },
     "metadata": {},
     "output_type": "display_data"
    }
   ],
   "source": [
    "%%R\n",
    "tbl=read.table(\"admix.7.2.Q\")\n",
    "inds=read.table(\"inds.list\")\n",
    "tbl$ind=inds$V1\n",
    "tbl$pop=gsub(\"[0-9]\",\"\",as.character(inds$V1))\n",
    "tbl$pop=gsub(\"-\",\"\",as.character(tbl$pop))\n",
    "tbl$pop=gsub(\"[AB]\",\"\",as.character(tbl$pop))\n",
    "tbl$pop=factor(tbl$pop,levels=c(\"SS\",\"HC\",\"NF\"))\n",
    "npops=2\n",
    "p=levels(tbl$pop)[1]\n",
    "tsort=c()\n",
    "for(p in levels(tbl$pop)){\n",
    "\ts=subset(tbl,pop==p)\n",
    "\tprobs=apply(s[,1:npops],2,sum)\n",
    "\tord=order(probs,decreasing=T)\n",
    "\tif (npops>=5){so=s[order(s[,ord[1]],s[,ord[2]],s[,ord[3]],s[,ord[4]],s[,ord[5]],decreasing=T),]} \n",
    "\tif (npops==4){ so=s[order(s[,ord[1]],s[,ord[2]],s[,ord[3]],s[,ord[4]],decreasing=T),]} \n",
    "\tif (npops==3){ so=s[order(s[,ord[1]],s[,ord[2]],s[,ord[3]],decreasing=T),]} \n",
    "\tif (npops==2) { so=s[order(s[,ord[1]],s[,ord[2]],decreasing=T),] }\n",
    "\ttsort=data.frame(rbind(tsort,so))\n",
    "}\n",
    "\n",
    "cols=brewer.pal(n=5,name=\"Accent\")\n",
    "midpts=barplot(t(as.matrix(tsort[1:npops])), col=cols,xlab=\"population\", space=0,ylab=\"Ancestry\", border=NA, xaxt=\"n\",mgp=c(2.3,1,0))\n",
    "popline(tsort$pop,midpts)"
   ]
  },
  {
   "cell_type": "code",
   "execution_count": 53,
   "metadata": {
    "collapsed": false
   },
   "outputs": [
    {
     "data": {
      "image/png": "[encoded data removed]"
     },
     "metadata": {},
     "output_type": "display_data"
    }
   ],
   "source": [
    "%%R\n",
    "tbl=read.table(\"admix.7.3.Q\")\n",
    "inds=read.table(\"inds.list\")\n",
    "tbl$ind=inds$V1\n",
    "tbl$pop=gsub(\"[0-9]\",\"\",as.character(inds$V1))\n",
    "tbl$pop=gsub(\"-\",\"\",as.character(tbl$pop))\n",
    "tbl$pop=gsub(\"[AB]\",\"\",as.character(tbl$pop))\n",
    "tbl$pop=factor(tbl$pop,levels=c(\"SS\",\"HC\",\"NF\"))\n",
    "npops=3\n",
    "p=levels(tbl$pop)[1]\n",
    "tsort=c()\n",
    "for(p in levels(tbl$pop)){\n",
    "\ts=subset(tbl,pop==p)\n",
    "\tprobs=apply(s[,1:npops],2,sum)\n",
    "\tord=order(probs,decreasing=T)\n",
    "\tif (npops>=5){so=s[order(s[,ord[1]],s[,ord[2]],s[,ord[3]],s[,ord[4]],s[,ord[5]],decreasing=T),]} \n",
    "\tif (npops==4){ so=s[order(s[,ord[1]],s[,ord[2]],s[,ord[3]],s[,ord[4]],decreasing=T),]} \n",
    "\tif (npops==3){ so=s[order(s[,ord[1]],s[,ord[2]],s[,ord[3]],decreasing=T),]} \n",
    "\tif (npops==2) { so=s[order(s[,ord[1]],s[,ord[2]],decreasing=T),] }\n",
    "\ttsort=data.frame(rbind(tsort,so))\n",
    "}\n",
    "\n",
    "cols=brewer.pal(n=5,name=\"Accent\")\n",
    "midpts=barplot(t(as.matrix(tsort[1:npops])), col=cols,xlab=\"population\", space=0,ylab=\"Ancestry\", border=NA, xaxt=\"n\",mgp=c(2.3,1,0))\n",
    "popline(tsort$pop,midpts)"
   ]
  },
  {
   "cell_type": "code",
   "execution_count": null,
   "metadata": {
    "collapsed": true
   },
   "outputs": [],
   "source": []
  }
 ],
 "metadata": {
  "kernelspec": {
   "display_name": "Python 2",
   "language": "python",
   "name": "python2"
  },
  "language_info": {
   "codemirror_mode": {
    "name": "ipython",
    "version": 2
   },
   "file_extension": ".py",
   "mimetype": "text/x-python",
   "name": "python",
   "nbconvert_exporter": "python",
   "pygments_lexer": "ipython2",
   "version": "2.7.11"
  }
 },
 "nbformat": 4,
 "nbformat_minor": 0
}
