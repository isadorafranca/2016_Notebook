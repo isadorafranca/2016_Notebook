{
 "cells": [
  {
   "cell_type": "markdown",
   "metadata": {},
   "source": [
    "##Number of Raw 2bRAD Reads for MBD BSseq samples  "
   ]
  },
  {
   "cell_type": "markdown",
   "metadata": {},
   "source": [
    "This is one of my first attempts at using a jupyter notebook to record and demonstrate a computer analysis, so bear with me. I would've like to do the following analysis in R, but I had issues installing rpy2 and getting R magic to work. In retrospect I should've just made this an R kernel notebook or just made an Rmarkdown file, but I do appreciate how easy it is to make adjustments and immediately see how it affects the output."
   ]
  },
  {
   "cell_type": "code",
   "execution_count": 2,
   "metadata": {
    "collapsed": true
   },
   "outputs": [],
   "source": [
    "import csv"
   ]
  },
  {
   "cell_type": "markdown",
   "metadata": {},
   "source": [
    "I combined the summary sheets produced by Genewiz after demultiplexing into a single spreadsheet and added in the library numbers for each sample. I also changed the \"w\" sample names so they were correct. This was saved as a csv file and can be found [here](...)."
   ]
  },
  {
   "cell_type": "code",
   "execution_count": 22,
   "metadata": {
    "collapsed": false
   },
   "outputs": [],
   "source": [
    "f = open(\"/home/ksil91/Projects/Ostrea/2bradlibrary_201512.csv\", \"r\")\n",
    "reader = csv.reader(f)"
   ]
  },
  {
   "cell_type": "code",
   "execution_count": 23,
   "metadata": {
    "collapsed": true
   },
   "outputs": [],
   "source": [
    "readdata = []\n",
    "for row in reader:\n",
    "    if reader.line_num == 1:\n",
    "        header = row\n",
    "    else:\n",
    "        readdata.append(row)\n",
    "f.close()"
   ]
  },
  {
   "cell_type": "code",
   "execution_count": 24,
   "metadata": {
    "collapsed": false,
    "scrolled": true
   },
   "outputs": [
    {
     "data": {
      "text/plain": [
       "['Sample Name',\n",
       " 'Flowcell',\n",
       " 'Lane',\n",
       " 'Library',\n",
       " 'BC',\n",
       " 'Yield (Mb)',\n",
       " '# Reads',\n",
       " '% Q score >30']"
      ]
     },
     "execution_count": 24,
     "metadata": {},
     "output_type": "execute_result"
    }
   ],
   "source": [
    "header"
   ]
  },
  {
   "cell_type": "code",
   "execution_count": 39,
   "metadata": {
    "collapsed": true
   },
   "outputs": [],
   "source": [
    "failed = []\n",
    "for i in range(0,len(readdata)):\n",
    "    if float(readdata[i][6].replace(',','')) < 300000:\n",
    "          failed.append(readdata[i][0])"
   ]
  },
  {
   "cell_type": "code",
   "execution_count": 40,
   "metadata": {
    "collapsed": false
   },
   "outputs": [
    {
     "data": {
      "text/plain": [
       "60"
      ]
     },
     "execution_count": 40,
     "metadata": {},
     "output_type": "execute_result"
    }
   ],
   "source": [
    "len(failed)"
   ]
  },
  {
   "cell_type": "code",
   "execution_count": 41,
   "metadata": {
    "collapsed": false,
    "scrolled": false
   },
   "outputs": [
    {
     "data": {
      "text/plain": [
       "['HC1-14',\n",
       " 'HC1-2',\n",
       " 'HC2-11',\n",
       " 'HC2-15',\n",
       " 'HC2-17C',\n",
       " 'HC2-17D',\n",
       " 'HC2-5',\n",
       " 'HC2-6',\n",
       " 'HC3-15',\n",
       " 'HC3-5',\n",
       " 'HC4-17',\n",
       " 'HC4-19',\n",
       " 'HC5-2',\n",
       " 'HC5-3',\n",
       " 'HC5-9',\n",
       " 'NF1-21',\n",
       " 'NF1-7',\n",
       " 'NF2-1',\n",
       " 'NF2-10-SS',\n",
       " 'NF2-18B',\n",
       " 'NF2-6D',\n",
       " 'NF3-12',\n",
       " 'NF3-13',\n",
       " 'NF3-14',\n",
       " 'NF3-2',\n",
       " 'NF3-4',\n",
       " 'NF3-7',\n",
       " 'NF4-15',\n",
       " 'NF4-18',\n",
       " 'NF5-1',\n",
       " 'NF5-16',\n",
       " 'NF5-17',\n",
       " 'Oly-RAD-02',\n",
       " 'Oly-RAD-03',\n",
       " 'Oly-RAD-04',\n",
       " 'Oly-RAD-06',\n",
       " 'Oly-RAD-07',\n",
       " 'Oly-RAD-08',\n",
       " 'Oly-RAD-17',\n",
       " 'Oly-RAD-30',\n",
       " 'SS1-10',\n",
       " 'SS1-11',\n",
       " 'SS1-17',\n",
       " 'SS1-20',\n",
       " 'SS1-6',\n",
       " 'SS1-7',\n",
       " 'SS1-9',\n",
       " 'SS2-10',\n",
       " 'SS2-11',\n",
       " 'SS2-14',\n",
       " 'SS2-18',\n",
       " 'SS2-5',\n",
       " 'SS2-9',\n",
       " 'SS3-18',\n",
       " 'SS3-4',\n",
       " 'SS3-5A',\n",
       " 'SS4-5',\n",
       " 'SS5-10',\n",
       " 'SS5-3',\n",
       " 'SS5-8']"
      ]
     },
     "execution_count": 41,
     "metadata": {},
     "output_type": "execute_result"
    }
   ],
   "source": [
    "sorted(failed)"
   ]
  },
  {
   "cell_type": "markdown",
   "metadata": {},
   "source": [
    "So 60 of the 303 samples had fewer than 300,000 reads, meaning we can expect few loci or loci of very low coverage from these samples. 8 of these are samples from Sam's 2bRAD library prep (\"Oly-RAD\"). I will check the gels from the DNA extraction and 2brad library prep of my samples to see if degradation or low pcr amplification might explain why they did poorly."
   ]
  },
  {
   "cell_type": "markdown",
   "metadata": {},
   "source": [
    "Checking for MBD BSSeq samples:"
   ]
  },
  {
   "cell_type": "code",
   "execution_count": 42,
   "metadata": {
    "collapsed": false
   },
   "outputs": [],
   "source": [
    "MBD = ['HC1-2', 'HC1-4','HC2-15','HC2-17A','HC2-17B','HC2-17C','HC2-18','HC3-1','HC3-5','HC3-7','HC3-10','HC3-11','SS2-9','SS2-14','SS2-18','SS3-3','SS3-14','SS3-15','SS3-16','SS3-20','SS5-18']"
   ]
  },
  {
   "cell_type": "markdown",
   "metadata": {},
   "source": [
    "HC2_17 was one of the technical replicates that was run in all 4 libraries, so we have 4 outputs for that sample."
   ]
  },
  {
   "cell_type": "code",
   "execution_count": 43,
   "metadata": {
    "collapsed": false
   },
   "outputs": [
    {
     "data": {
      "text/plain": [
       "['HC1-2', 'HC2-15', 'HC3-5', 'SS2-9', 'SS2-18', 'HC2-17C', 'SS2-14']"
      ]
     },
     "execution_count": 43,
     "metadata": {},
     "output_type": "execute_result"
    }
   ],
   "source": [
    "failed_mbd = []\n",
    "for sample in failed:\n",
    "    if any(m == sample for m in MBD):\n",
    "        failed_mbd.append(sample)\n",
    "failed_mbd"
   ]
  },
  {
   "cell_type": "markdown",
   "metadata": {},
   "source": [
    "Read counts for all MBD samples:"
   ]
  },
  {
   "cell_type": "code",
   "execution_count": 44,
   "metadata": {
    "collapsed": false
   },
   "outputs": [
    {
     "name": "stdout",
     "output_type": "stream",
     "text": [
      "HC1-2: 1521\n",
      "HC2-15: 2498\n",
      "HC2-17A: 2065139\n",
      "HC2-18: 2484661\n",
      "HC3-1: 1863108\n",
      "HC3-10: 4091281\n",
      "HC3-11: 2901608\n",
      "HC3-5: 1915\n",
      "HC3-7: 2438612\n",
      "SS2-9: 749\n",
      "HC2-17B: 2964986\n",
      "SS2-18: 3016\n",
      "SS3-14: 2661152\n",
      "SS3-15: 2816364\n",
      "SS3-16: 2070520\n",
      "SS3-3: 2076769\n",
      "HC2-17C: 3379\n",
      "SS3-20: 1656456\n",
      "HC1-4: 2294290\n",
      "SS2-14: 29745\n",
      "SS5-18: 2358172\n"
     ]
    }
   ],
   "source": [
    "for i in range(0,len(readdata)):\n",
    "    if any(m == readdata[i][0] for m in MBD):\n",
    "            print readdata[i][0] + \": \"+ str(readdata[i][6])\n"
   ]
  },
  {
   "cell_type": "code",
   "execution_count": null,
   "metadata": {
    "collapsed": true
   },
   "outputs": [],
   "source": []
  }
 ],
 "metadata": {
  "kernelspec": {
   "display_name": "Python 2",
   "language": "python",
   "name": "python2"
  },
  "language_info": {
   "codemirror_mode": {
    "name": "ipython",
    "version": 2
   },
   "file_extension": ".py",
   "mimetype": "text/x-python",
   "name": "python",
   "nbconvert_exporter": "python",
   "pygments_lexer": "ipython2",
   "version": "2.7.11"
  }
 },
 "nbformat": 4,
 "nbformat_minor": 0
}
