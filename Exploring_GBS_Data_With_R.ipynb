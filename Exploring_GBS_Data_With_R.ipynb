{
 "cells": [
  {
   "cell_type": "markdown",
   "metadata": {},
   "source": [
    "## Using R to investigate pairwise FST and nucleotide diversity  \n",
    "Code adapted slightly from [Max Winston's scripts](https://github.com/mewinsto/Fst)  \n",
    "This is just exploring one pair of populations. Will write up another notebook with looking at overall Fst and PCA in Adegenet.\n",
    "\n",
    "An R script with this code can be found at my github [GBS_FST_Pi.R](https://raw.githubusercontent.com/ksil91/Scripts/master/FST/GBS_FST_Pi.R)\n",
    "\n",
    "Requires: .geno file and .ind file containing 1 pair of populations. See [GBS_File_Conversions notebook](https://github.com/ksil91/2016_Notebook/blob/master/GBS_File_Conversions.ipynb) for code on how to get these files from a Structure (.str) formatted file."
   ]
  },
  {
   "cell_type": "code",
   "execution_count": 12,
   "metadata": {
    "collapsed": false,
    "scrolled": false
   },
   "outputs": [],
   "source": [
    "setwd(\"~/Projects/Ostrea/over10k-min75H32/genos\")\n",
    "library(\"ggplot2\")\n",
    "library(\"reshape2\")\n",
    "library(\"dplyr\")\n",
    "library(\"repr\")"
   ]
  },
  {
   "cell_type": "markdown",
   "metadata": {},
   "source": [
    "Pairwise Fst is based on a modified Wright's FST estimator from [Chen et al.,2015](http://journals.plos.org/plosone/article?id=10.1371/journal.pone.0135368), where contributions to average FST is weighted by sample size.\n",
    "![alt text](https://github.com/ksil91/2016_Notebook/raw/master/images/mewinso_fst.png \"Fst estimator\")\n",
    "Currently, only SNPs that are genotyped in at least 2 individuals and do not have a MAF of 0 (within those 2 populations) are used to calculate average pairwise FST."
   ]
  },
  {
   "cell_type": "code",
   "execution_count": 7,
   "metadata": {
    "collapsed": true,
    "scrolled": false
   },
   "outputs": [],
   "source": [
    "## Function to read in a .geno file. Returns a list with a matrix of genotypes, \n",
    "## a vector with population assignments for each individual (0 or 1), and\n",
    "## a vector with randomized population assignments for sampling null.\n",
    "makeGenoMatrix <- function(genofile, indfile){\n",
    "    geno_data = scan(genofile,what = \"character\")\n",
    "    L = length(geno_data)\n",
    "    S = nchar(geno_data[[1]])\n",
    "    geno_matrix = matrix(data = NA, nrow = S, ncol = L)\n",
    "    for (i in 1:L){\n",
    "        genostring = strsplit(geno_data[[i]], split=\"\")\n",
    "        for (j in 1:S){\n",
    "        geno_matrix[j,i] = as.numeric(genostring[[1]][j])}\n",
    "    }\n",
    "    geno_matrix[geno_matrix == 9] = NA\n",
    "\n",
    "    ##Read in .ind file in order to get population assignment for genotypes.\n",
    "    testpop = read.table(indfile,header=FALSE)\n",
    "    test_vector = testpop$V2\n",
    "    test_sub = {}\n",
    "    for (i in 1:S){\n",
    "        if (test_vector[i] == 1){\n",
    "            test_sub = c(test_sub,i)}\n",
    "    }\n",
    "    ## Creates a null vector, where individuals are randomly assigned to the 2 populations.\n",
    "    null_vector = sample(c(rep(1,sum(test_vector)),rep(0,S-sum(test_vector))),size=S)\n",
    "    null_sub = {}\n",
    "    for (i in 1:S){\n",
    "        if (null_vector[i] == 1){\n",
    "            null_sub = c(null_sub,i)}\n",
    "    }\n",
    "    return(list(geno_matrix,test_sub,null_sub))\n",
    "}"
   ]
  },
  {
   "cell_type": "code",
   "execution_count": 8,
   "metadata": {
    "collapsed": true,
    "scrolled": false
   },
   "outputs": [],
   "source": [
    "##THIS MODULE CALCULATES PI (NUCLEOTIDE DIVERSITY) FOR EACH LOCUS AND WRITES TO A FILE\n",
    "## Note that this is pi when considering individuals from just 2 populations. Will need to adapt to get pi from \n",
    "## entire dataset.\n",
    "getPi <- function(geno_matrix, suf){\n",
    "    pi = {}\n",
    "    L <- ncol(geno_matrix)\n",
    "    S <- nrow(geno_matrix)\n",
    "    for (i in 1:L){\n",
    "        locus = {}\n",
    "        locus = geno_matrix[,i]\n",
    "        locus = locus[!is.na(locus)]\n",
    "        if(length(locus) >= 2){\n",
    "            locus_sum = 0\n",
    "            for (j in 2:length(locus)){\n",
    "                jcount = j - 1\n",
    "                for (k in 1:jcount){\n",
    "                    diff = 0\n",
    "                    diff = abs(locus[j]-locus[k])\n",
    "                    locus_sum = locus_sum + diff}\n",
    "            }\n",
    "            locus_sum = (2*locus_sum)/(length(locus)^2) \n",
    "            pi[i] = locus_sum}\n",
    "        else{\n",
    "        pi[i] = NA}\n",
    "    }\n",
    "    write(pi,file=paste(suf,\"pi\",sep=\".\"),ncol = 1)\n",
    "    meanPi = mean(pi, na.rm = TRUE)\n",
    "    return(meanPi)\n",
    "}"
   ]
  },
  {
   "cell_type": "code",
   "execution_count": 9,
   "metadata": {
    "collapsed": true,
    "scrolled": false
   },
   "outputs": [],
   "source": [
    "##THIS MODULE CALCULATES FREQUENCIES AND FST FOR TEST\n",
    "#Counts and mean frequencies of alleles\n",
    "getCoverFst <- function(geno_matrix, suf,test_sub,null_sub){\n",
    "    ##THIS MODULE CALCULATES major allele frequency (AF) FOR EACH LOCUS\n",
    "    af = {}\n",
    "    for (i in 1:L){\n",
    "        L_maf = sum(!is.na(geno_matrix[,i]))\n",
    "        L_sum = sum(geno_matrix[,i],na.rm=TRUE)\n",
    "        af[i] = L_sum/(2*L_maf)\n",
    "    }\n",
    "    #Converts AF to minor allele frequency (MAF)\n",
    "    maf = {}\n",
    "    for (i in 1:L){\n",
    "        if (!is.na(af[i])){\n",
    "            if (af[i] > 0.5){\n",
    "                maf[i] = 1 - af[i]} \n",
    "            else{ maf[i] = af[i] }\n",
    "        }\n",
    "    }\n",
    "    #WRITE MAF and AF TO FILE\n",
    "    write(maf,file=paste(suf,\"maf\",sep=\".\"), ncolumns=1)\n",
    "    write(af, file=paste(suf,\"af\",sep=\".\"), ncolumns=1)\n",
    "    #NUMBER OF INDIVIDUALS WITH SNP (FOR REMOVING SINGLETONS)\n",
    "    allele_class = {}\n",
    "    for (i in 1:L){\n",
    "        allele_class[i] = maf[i]*geno_cover[i]}\n",
    "    write(allele_class,file=paste(suf,\"AC\",sep=\".\"),ncolumns=1)\n",
    "    \n",
    "    # FST calculation\n",
    "    L <- ncol(geno_matrix)\n",
    "    S <- nrow(geno_matrix)\n",
    "    geno_means = vector(mode = \"numeric\", length = L)\n",
    "    geno_cover = vector(mode = \"numeric\", length = L)\n",
    "    geno_cover_p1 = vector(mode = \"numeric\", length = length(test_sub))\n",
    "    geno_cover_p2 = vector(mode = \"numeric\", length = L - length(test_sub))\n",
    "    for (i in 1:L){\n",
    "        geno_means[i] = mean(geno_matrix[,i],na.rm=TRUE)/2\n",
    "    }\n",
    "    for (i in 1:L){\n",
    "        geno_cover[i] = sum(!is.na(geno_matrix[,i]))\n",
    "        geno_cover_p1[i] = sum(!is.na(geno_matrix[test_sub,i]))\n",
    "        geno_cover_p2[i] = sum(!is.na(geno_matrix[-test_sub,i]))\n",
    "    }\n",
    "\n",
    "    #Use test_sub to look at Fst values\n",
    "    pop_1 = {}\n",
    "    pop_2 = {}\n",
    "    pop_mean = {}\n",
    "        FST = {}\n",
    "    for (i in 1:L){\n",
    "        if(geno_cover_p1[i] >= 2 && geno_cover_p2[i] >= 2){\n",
    "            if(geno_means[i] != 1 && geno_means[i] != 0){\n",
    "                pop_1[i] = mean(geno_matrix[test_sub,i],na.rm=TRUE)/2\n",
    "                pop_2[i] = mean(geno_matrix[-test_sub,i],na.rm=TRUE)/2\n",
    "                #  pop_mean[i] = (pop_1[i] + pop_2[i])/2\n",
    "                FST[i] = (geno_cover_p1[i]*(abs(geno_means[i] - pop_1[i])^2)+ geno_cover_p2[i]\n",
    "                          *abs(geno_means[i] - pop_2[i])^2)/(geno_cover[i]*geno_means[i]*(1 - geno_means[i]))\n",
    "            }\n",
    "            else{ FST[i] = 0 }\n",
    "        }\n",
    "        else{ FST[i] = NA }\n",
    "    }\n",
    "    FST = abs(FST)\n",
    "    meanFST = mean(FST, na.rm = TRUE)\n",
    "    ##WRITE FST TO FILE\n",
    "    write(FST,file=paste(suf,\"fst\",sep=\".\"),ncolumns=1)\n",
    "    write(geno_cover,file=paste(suf,\"genocover\",sep=\".\"),ncolumns=1)\n",
    "\n",
    "    \n",
    "    #NULL FST\n",
    "    geno_cover_p1_N = vector(mode = \"numeric\", length = length(null_sub))\n",
    "    geno_cover_p2_N = vector(mode = \"numeric\", length = L - length(null_sub))\n",
    "\n",
    "    for (i in 1:L){\n",
    "        geno_cover[i] = sum(!is.na(geno_matrix[,i]))\n",
    "        geno_cover_p1_N[i] = sum(!is.na(geno_matrix[null_sub,i]))\n",
    "        geno_cover_p2_N[i] = sum(!is.na(geno_matrix[-null_sub,i]))\n",
    "    }\n",
    "\n",
    "    #Use null_sub to look at Fst values\n",
    "    pop_1_N = {}\n",
    "    pop_2_N = {}\n",
    "    pop_mean = {}\n",
    "    FST_N = {}\n",
    "    for (i in 1:L){\n",
    "        pop_1_N[i] = mean(geno_matrix[null_sub,i],na.rm=TRUE)/2\n",
    "        pop_2_N[i] = mean(geno_matrix[-null_sub,i],na.rm=TRUE)/2\n",
    "        #  pop_mean[i] = (pop_1[i] + pop_2[i])/2\n",
    "        FST_N[i] = (geno_cover_p1_N[i]*(abs(geno_means[i] - pop_1_N[i])^2) + geno_cover_p2_N[i]*abs(geno_means[i] - pop_2_N[i])^2)/(geno_cover[i]*geno_means[i]*(1 - geno_means[i]))\n",
    "    }\n",
    "    FST_N = abs(FST_N)\n",
    "\n",
    "    #WRITE FST NULL TO FILE\n",
    "    write(FST_N,file=paste(suf,\"null_fst\",sep=\".\"),ncolumns=1)\n",
    "    \n",
    "    return(meanFST)\n",
    "}"
   ]
  },
  {
   "cell_type": "code",
   "execution_count": 10,
   "metadata": {
    "collapsed": true,
    "scrolled": false
   },
   "outputs": [],
   "source": [
    "##THIS MODULE CALCULATES H-W EQUILIBRIUM FOR EACH LOCUS\n",
    "getHW <- function(geno_matrix, suf){\n",
    "    af.table <- read.table(file=paste(suf,\"af\",sep=\".\"), header=FALSE)\n",
    "    af <- as.numeric(af.table$V1)\n",
    "    HW_chi = {}\n",
    "    L <- ncol(geno_matrix)\n",
    "    S <- nrow(geno_matrix)\n",
    "    for (i in 1:L){\n",
    "        L_maf = sum(!is.na(geno_matrix[,i]))\n",
    "        p = af[i]\n",
    "        q = 1 - p\n",
    "        exp_pp = L_maf*(p^2)\n",
    "        exp_pq = L_maf*(2*p*q)\n",
    "        exp_qq = L_maf*(q^2)\n",
    "        act_pp = sum(geno_matrix[,i] == 2,na.rm=TRUE)\n",
    "        act_pq = sum(geno_matrix[,i] == 1,na.rm=TRUE)\n",
    "        act_qq = sum(geno_matrix[,i] == 0,na.rm=TRUE)\n",
    "        HW_chi[i] = ((act_pp - exp_pp)^2/exp_pp) + ((act_pq - exp_pq)^2/exp_pq) + ((act_qq - exp_qq)^2/exp_qq)\n",
    "    }\n",
    "    #WRITE HARDY-WEINBERG CHI-SQUARED STAT (CAN DERIVE p-values FROM THIS)\n",
    "    write(HW_chi,file=paste(suf,\"HW\",sep=\".\"),ncolumns=1)\n",
    "}"
   ]
  },
  {
   "cell_type": "markdown",
   "metadata": {},
   "source": [
    "Iterate through all pairs of populations in given pop file to calculate pi and fst for each locus. Ouputs to \".pi\" and \".fst\" files."
   ]
  },
  {
   "cell_type": "code",
   "execution_count": 43,
   "metadata": {
    "collapsed": false,
    "scrolled": false
   },
   "outputs": [
    {
     "name": "stdout",
     "output_type": "stream",
     "text": [
      " [1] \"Victoria\"       \"Klaskino\"       \"Barkeley_Sound\" \"Ladysmith\"     \n",
      " [5] \"Discovery_Bay\"  \"Liberty_Bay\"    \"North_Bay\"      \"Triton_Cove\"   \n",
      " [9] \"Willapa\"        \"Netarts\"        \"Yaquina\"        \"Coos\"          \n",
      "[13] \"Humboldt\"       \"Tomales\"        \"SF\"             \"Elkhorn_SLough\"\n",
      "[17] \"Mugu_Lagoon\"    \"San_Diego\"      \"Conchaphila\"   \n",
      "[1] \"done\"\n"
     ]
    }
   ],
   "source": [
    "poptable <- read.table(\"../../Pop2Int.txt\", header = FALSE)\n",
    "pops <- unique(as.vector(poptable$V3))\n",
    "suf <- \"over10k-min75H32u\"\n",
    "print(pops)\n",
    "fst.df <- data.frame(matrix(data=NA,nrow=length(pops),ncol=length(pops)))\n",
    "rownames(fst.df) <- pops\n",
    "colnames(fst.df) <- pops\n",
    "\n",
    "pi.df <- data.frame(matrix(data=NA,nrow=length(pops),ncol=length(pops)))\n",
    "rownames(pi.df) <- pops\n",
    "colnames(pi.df) <- pops\n",
    "popcombos <- unlist(combn(pops,2))\n",
    "for(i in seq(1,length(popcombos), by = 2)){\n",
    "    popsuf = paste(suf,popcombos[i],popcombos[i+1],sep=\"_\")\n",
    "    if(!file.exists(paste(popsuf,\"geno\",sep = \".\"))){\n",
    "        popsuf = paste(suf,popcombos[i+1],popcombos[i],sep=\"_\")}\n",
    "    glist = makeGenoMatrix(paste(popsuf,\"geno\",sep = \".\"),paste(popsuf,\"ind\",sep=\".\"))\n",
    "    geno_matrix = glist[[1]]\n",
    "    test_sub = glist[[2]]\n",
    "    null_sub = glist[[3]]\n",
    "    meanPi = getPi(geno_matrix,popsuf)\n",
    "    meanFST = getCoverFst(geno_matrix, popsuf,test_sub, null_sub)\n",
    "    fst.df[rownames(fst.df)==popcombos[i],popcombos[i+1]] <- meanFST\n",
    "    pi.df[rownames(pi.df)==popcombos[i],popcombos[i+1]] <- meanPi\n",
    "    getHW(geno_matrix,popsuf)\n",
    "}\n",
    "print(\"done\")"
   ]
  },
  {
   "cell_type": "code",
   "execution_count": 11,
   "metadata": {
    "collapsed": false,
    "scrolled": false
   },
   "outputs": [
    {
     "ename": "ERROR",
     "evalue": "Error in eval(expr, envir, enclos): object 'fst.df' not found\n",
     "output_type": "error",
     "traceback": [
      "Error in eval(expr, envir, enclos): object 'fst.df' not found\nTraceback:\n"
     ]
    }
   ],
   "source": [
    "# order matrix north to south\n",
    "N_S <- c(\"Klaskino\",\"Barkeley_Sound\",\"Ladysmith\",\"Victoria\",\"Discovery_Bay\",\"Liberty_Bay\",\"Triton_Cove\",\"Willapa\",\"Netarts\",\"Yaquina\",\"Coos\",\n",
    "      \"Humboldt\",\"Tomales\",\"SF\",\"Elkhorn_SLough\",\"Mugu_Lagoon\",\"San_Diego\",\"Conchaphila\")\n",
    "\n",
    "fst.order.df <- fst.df\n",
    "fst.order.df <- fst.order.df[N_S,N_S]\n",
    "fst.order.df[1,\"Victoria\"] <- fst.order.df[\"Victoria\",1]\n",
    "fst.order.df[2,\"Victoria\"] <- fst.order.df[\"Victoria\",2]\n",
    "fst.order.df[3,\"Victoria\"] <- fst.order.df[\"Victoria\",3]\n",
    "fst.order.df[\"Victoria\",1] <- NA\n",
    "fst.order.df[\"Victoria\",2] <- NA\n",
    "fst.order.df[\"Victoria\",3] <- NA\n",
    "write.csv(fst.order.df,file=\"over10k-min75H32u.pwFST\")\n"
   ]
  },
  {
   "cell_type": "code",
   "execution_count": 15,
   "metadata": {
    "collapsed": false,
    "scrolled": false
   },
   "outputs": [],
   "source": [
    "fst.order.df <- read.csv(\"over10k-min75H32u.pwFST\", row.names=1)\n",
    "fst.mat <- data.matrix(fst.order.df)\n",
    "fst.noc.mat <- data.matrix(fst.order.df[c(1:17),c(1:17)])\n",
    "melted <- melt(fst.mat, na.rm =TRUE)\n",
    "melted.noc <- melt(fst.noc.mat, na.rm = TRUE)"
   ]
  },
  {
   "cell_type": "code",
   "execution_count": 35,
   "metadata": {
    "collapsed": false,
    "scrolled": false
   },
   "outputs": [
    {
     "data": {},
     "metadata": {},
     "output_type": "display_data"
    },
    {
     "data": {
      "image/png": "[encoded data removed]",
      "text/plain": [
       "plot without title"
      ]
     },
     "metadata": {},
     "output_type": "display_data"
    }
   ],
   "source": [
    "options(repr.plot.width=6,repr.plot.height=5)\n",
    "ggplot(data = melted, aes(Var2, Var1, fill = value))+\n",
    " geom_tile(color = \"white\")+\n",
    " scale_fill_gradient(low = \"white\", high = \"red\", \n",
    "   name=\"FST\")  + ggtitle(expression(atop(\"Pairwise FST with O.conchaphila\", atop(italic(\"N = 212, L = 1791\"), \"\"))))+\n",
    "labs( x = \"Sampling Site\", y = \"Sampling Site\") +\n",
    " theme(axis.text.x = element_text(angle = 45, vjust = 1, \n",
    "    size = 12, hjust = 1))+ coord_fixed()\n",
    "\n",
    "# Set title to twice the base font size\n",
    "#p + theme(plot.title = element_text(size = rel(2)))"
   ]
  },
  {
   "cell_type": "code",
   "execution_count": 34,
   "metadata": {
    "collapsed": false,
    "scrolled": false
   },
   "outputs": [
    {
     "data": {},
     "metadata": {},
     "output_type": "display_data"
    },
    {
     "data": {
      "image/png": "[encoded data removed]",
      "text/plain": [
       "plot without title"
      ]
     },
     "metadata": {},
     "output_type": "display_data"
    }
   ],
   "source": [
    "options(repr.plot.width=6,repr.plot.height=5)\n",
    "ggplot(data = melted.noc, aes(Var2, Var1, fill = value))+\n",
    " geom_tile(color = \"white\")+\n",
    " scale_fill_gradient(low = \"white\", high = \"red\", \n",
    "   name=\"FST\")  + ggtitle(expression(atop(\"Pairwise FST without O.conchaphila\", atop(italic(\"N = 203, L = 1791\"), \"\"))))+labs( x = \"Sampling Site\", y = \"Sampling Site\")+\n",
    " theme(axis.text.x = element_text(angle = 45, vjust = 1, \n",
    "    size = 12, hjust = 1))+ coord_fixed()"
   ]
  },
  {
   "cell_type": "code",
   "execution_count": 18,
   "metadata": {
    "collapsed": false
   },
   "outputs": [],
   "source": [
    "library(adegenet)\n",
    "library(pegas)\n",
    "library(hierfstat)"
   ]
  },
  {
   "cell_type": "code",
   "execution_count": 56,
   "metadata": {
    "collapsed": false,
    "scrolled": true
   },
   "outputs": [
    {
     "name": "stdout",
     "output_type": "stream",
     "text": [
      "[1] \"North\"       \"South\"       \"Conchaphila\"\n",
      "[1] \"done\"\n"
     ]
    }
   ],
   "source": [
    "setwd(\"~/Projects/Ostrea/over10k-min75H32/north_south/\")\n",
    "pops <- c(\"North\",\"South\",\"Conchaphila\")\n",
    "suf <- \"over10k-min75H32u\"\n",
    "print(pops)\n",
    "fst.nsc.df <- data.frame(matrix(data=NA,nrow=length(pops),ncol=length(pops)))\n",
    "rownames(fst.nsc.df) <- pops\n",
    "colnames(fst.nsc.df) <- pops\n",
    "\n",
    "pi.nsc.df <- data.frame(matrix(data=NA,nrow=length(pops),ncol=length(pops)))\n",
    "rownames(pi.nsc.df) <- pops\n",
    "colnames(pi.nsc.df) <- pops\n",
    "popcombos <- unlist(combn(pops,2))\n",
    "for(i in seq(1,length(popcombos), by = 2)){\n",
    "    popsuf = paste(suf,popcombos[i],popcombos[i+1],sep=\"_\")\n",
    "    if(!file.exists(paste(popsuf,\"geno\",sep = \".\"))){\n",
    "        popsuf = paste(suf,popcombos[i+1],popcombos[i],sep=\"_\")}\n",
    "    glist = makeGenoMatrix(paste(popsuf,\"geno\",sep = \".\"),paste(popsuf,\"ind\",sep=\".\"))\n",
    "    geno_matrix = glist[[1]]\n",
    "    test_sub = glist[[2]]\n",
    "    null_sub = glist[[3]]\n",
    "    meanPi = getPi(geno_matrix,popsuf)\n",
    "    meanFST = getCoverFst(geno_matrix, popsuf,test_sub, null_sub)\n",
    "    fst.nsc.df[rownames(fst.nsc.df)==popcombos[i],popcombos[i+1]] <- meanFST\n",
    "    pi.nsc.df[rownames(pi.nsc.df)==popcombos[i],popcombos[i+1]] <- meanPi\n",
    "    getHW(geno_matrix,popsuf)\n",
    "}\n",
    "print(\"done\")"
   ]
  },
  {
   "cell_type": "code",
   "execution_count": 21,
   "metadata": {
    "collapsed": false,
    "scrolled": true
   },
   "outputs": [
    {
     "data": {
      "text/html": [
       "<table>\n",
       "<thead><tr><th></th><th scope=col>X</th><th scope=col>North</th><th scope=col>South</th><th scope=col>Conchaphila</th></tr></thead>\n",
       "<tbody>\n",
       "\t<tr><th scope=row>1</th><td>North              </td><td>NA                 </td><td>0.00862126910786654</td><td>0.0820934036537975 </td></tr>\n",
       "\t<tr><th scope=row>2</th><td>South            </td><td>NA               </td><td>NA               </td><td>0.062177186969967</td></tr>\n",
       "\t<tr><th scope=row>3</th><td>Conchaphila</td><td>NA         </td><td>NA         </td><td>NA         </td></tr>\n",
       "</tbody>\n",
       "</table>\n"
      ],
      "text/latex": [
       "\\begin{tabular}{r|llll}\n",
       "  & X & North & South & Conchaphila\\\\\n",
       "\\hline\n",
       "\t1 & North               & NA                  & 0.00862126910786654 & 0.0820934036537975 \\\\\n",
       "\t2 & South             & NA                & NA                & 0.062177186969967\\\\\n",
       "\t3 & Conchaphila & NA          & NA          & NA         \\\\\n",
       "\\end{tabular}\n"
      ],
      "text/plain": [
       "            X North       South Conchaphila\n",
       "1       North    NA 0.008621269  0.08209340\n",
       "2       South    NA          NA  0.06217719\n",
       "3 Conchaphila    NA          NA          NA"
      ]
     },
     "metadata": {},
     "output_type": "display_data"
    }
   ],
   "source": [
    "#write.csv(fst.nsc.df,file=\"over10k-min75H32u_NSC.pwFST\")\n",
    "setwd(\"~/Projects/Ostrea/over10k-min75H32/north_south/\")\n",
    "fst.nsc.df <- read.csv(\"over10k-min75H32u_NSC.pwFST\")\n",
    "fst.nsc.df"
   ]
  },
  {
   "cell_type": "markdown",
   "metadata": {},
   "source": [
    "## Plotting Results\n",
    "Lets take a look at the North and South as populations."
   ]
  },
  {
   "cell_type": "code",
   "execution_count": 22,
   "metadata": {
    "collapsed": false,
    "scrolled": false
   },
   "outputs": [],
   "source": [
    "## Create matricx with all data\n",
    "pi = read.table(\"over10k-min75H32u_North_South.pi\")\n",
    "f_null = read.table(\"over10k-min75H32u_North_South.null_fst\")\n",
    "f_test = read.table(\"over10k-min75H32u_North_South.fst\")\n",
    "cover_test = read.table(\"over10k-min75H32u_North_South.genocover\") \n",
    "af = read.table(\"over10k-min75H32u_North_South.af\")\n",
    "HW_chi = read.table(\"over10k-min75H32u_North_South.HW\")\n",
    "allele_class = read.table(\"over10k-min75H32u_North_South.AC\")\n",
    "\n",
    "FST_data = cbind(f_null,f_test,cover_test,pi,af,HW_chi,allele_class)\n",
    "names(FST_data) = c(\"F_null\",\"F_test\",\"Cover\",\"Pi\",\"AF\",\"HW\",\"AC\")\n",
    "#names(FST_data) = c(\"F_null\",\"F_test\",\"Cover\",\"Pi\",\"AF\",\"AC\")"
   ]
  },
  {
   "cell_type": "code",
   "execution_count": 23,
   "metadata": {
    "collapsed": true,
    "scrolled": false
   },
   "outputs": [],
   "source": [
    "##SUBSETS FST DATA INTO COVERAGE GROUPS\n",
    "for (i in min(cover_test):max(cover_test)){\n",
    "    name = paste(\"FST_data_cover_\",i, sep = \"\")\n",
    "    assign(name,subset(FST_data, cover_test == i))\n",
    "}\n",
    "#SUBSETS FST DATA INTO GROUPS WITH FST > 0.1\n",
    "FST_data_HT = subset(FST_data, F_test >= 0.1)\n",
    "FST_data_HN = subset(FST_data, F_null >= 0.1)\n",
    "\n",
    "#SUBSETS FST DATA INTO GROUPS WITH FST < 0.1\n",
    "FST_data_LT = subset(FST_data, F_test < 0.1)\n",
    "FST_data_LN = subset(FST_data, F_null < 0.1)\n",
    "\n",
    "#SUBSETS FST DATA INTO GROUPS WITH Pi > 0.8 or < 0.2\n",
    "Hi_Pi = subset(FST_data, Pi >= 0.8)\n",
    "Lo_Pi = subset(FST_data, Pi < 0.2)\n",
    "\n",
    "Pi_cat = cut(FST_data$Pi,breaks=10)\n",
    "\n",
    "#SUBSETS FST DATA TO EXCLUDE SINGLETONS (AC == 1)\n",
    "FST_data_AC = subset(FST_data, allele_class > 1)\n",
    "FST_data_AC_HT = subset(FST_data_AC, F_test >0.1)\n",
    "Hi_Pi_AC = subset(FST_data_AC, Pi >=0.8)\n",
    "Lo_Pi_AC = subset(FST_data_AC, Pi <0.2)"
   ]
  },
  {
   "cell_type": "code",
   "execution_count": 33,
   "metadata": {
    "collapsed": false,
    "scrolled": false
   },
   "outputs": [
    {
     "data": {
      "image/png": "[encoded data removed]",
      "text/plain": [
       "Plot with title “Distribution of Pi across Loci”"
      ]
     },
     "metadata": {},
     "output_type": "display_data"
    },
    {
     "data": {
      "image/png": "[encoded data removed]",
      "text/plain": [
       "Plot with title “Density Distribution of Individuals per Locus ”"
      ]
     },
     "metadata": {},
     "output_type": "display_data"
    }
   ],
   "source": [
    "options(repr.plot.width=5,repr.plot.height=4)\n",
    "#Plot densities of these values\n",
    "plot(density(FST_data$Pi,bw=0.01, na.rm=TRUE),xlim=c(0,1),main=\"Distribution of Pi across Loci\", xlab=\"Pi\", sub=\"North - South\")\n",
    "plot(density(FST_data$Cover,bw=0.5),xlim=c(100,205),main=\"Density Distribution of Individuals per Locus \", xlab=\"Number of Individuals (Max = 203)\",sub=\"North - South, bw = 0.5\")\n"
   ]
  },
  {
   "cell_type": "code",
   "execution_count": 31,
   "metadata": {
    "collapsed": false,
    "scrolled": false
   },
   "outputs": [
    {
     "data": {
      "image/png": "[encoded data removed]",
      "text/plain": [
       "Plot with title “Density Distribution for Fst Values”"
      ]
     },
     "metadata": {},
     "output_type": "display_data"
    },
    {
     "data": {
      "image/png": "[encoded data removed]",
      "text/plain": [
       "Plot with title “Fst for all Loci by Number of Samples”"
      ]
     },
     "metadata": {},
     "output_type": "display_data"
    },
    {
     "data": {
      "image/png": "[encoded data removed]",
      "text/plain": [
       "Plot with title “Density Distribution for Fst Values\n",
       "Excluding Singletons”"
      ]
     },
     "metadata": {},
     "output_type": "display_data"
    },
    {
     "data": {
      "image/png": "[encoded data removed]",
      "text/plain": [
       "Plot with title “Fst for all Loci by Number of Samples\n",
       "Excluding Singletons”"
      ]
     },
     "metadata": {},
     "output_type": "display_data"
    }
   ],
   "source": [
    "options(repr.plot.width=5,repr.plot.height=4)\n",
    "##PLOT FST AGAINST GENO_COVER\n",
    "plot(density(FST_data$F_test,na.rm=TRUE,bw=.004), col=2,ylim=c(0,80),main=\"Density Distribution for Fst Values\",xlab=\"Fst Values\", sub = \"Black = Null, Red = North - South  bw = 0.004\")\n",
    "lines(density(FST_data$F_null,na.rm=TRUE,bw=.004))\n",
    "\n",
    "plot(FST_data$F_test,FST_data$Cover,col=2,main=\"Fst for all Loci by Number of Samples\",xlab=\"Fst\",ylab=\"Number of Individuals with Locus \",sub=\"Black = Null, Red = North - South\")\n",
    "points(FST_data$F_null,FST_data$Cover)\n",
    "\n",
    "plot(density(FST_data_AC$F_test,na.rm=TRUE,bw=.004),ylim=c(0,80),main=\"Density Distribution for Fst Values\\nExcluding Singletons\",xlab=\"Fst Values\", sub = \"North - South  bw = 0.004\")\n",
    "lines(density(FST_data_AC$F_null,na.rm=TRUE,bw=.004),col=2)\n",
    "\n",
    "plot(FST_data_AC$F_test,FST_data_AC$Cover,col=2,main=\"Fst for all Loci by Number of Samples\\nExcluding Singletons\",xlab=\"Fst\",ylab=\"Number of Individuals with Locus \",sub=\"Black = Null, Red = North - South\")\n",
    "points(FST_data_AC$F_null,FST_data_AC$Cover)"
   ]
  },
  {
   "cell_type": "code",
   "execution_count": 32,
   "metadata": {
    "collapsed": false,
    "scrolled": false
   },
   "outputs": [
    {
     "data": {
      "image/png": "[encoded data removed]",
      "text/plain": [
       "Plot with title “High vs. Low Fst Loci - Nucleotide Diversity Distributions”"
      ]
     },
     "metadata": {},
     "output_type": "display_data"
    },
    {
     "data": {
      "image/png": "[encoded data removed]",
      "text/plain": [
       "Plot with title “High vs. Low Fst Loci - Nucleotide Diversity Distributions: Null”"
      ]
     },
     "metadata": {},
     "output_type": "display_data"
    }
   ],
   "source": [
    "options(repr.plot.width=5,repr.plot.height=4)\n",
    "#PLOTS NUCLEOTIDE DIVERSITY FOR HIGH VS. LOW FST LOCI\n",
    "plot(density(FST_data_LT$Pi),main=\"High vs. Low Fst Loci - Nucleotide Diversity Distributions\",xlim = c(0,1), \n",
    "     xlab=\"Pi\",sub=\"Black = Low (Fst < 0.1) [N = ?] -- Red = High (Fst > 0.1) [N = ?]\")\n",
    "lines(density(FST_data_HT$Pi),col=2)\n",
    "\n",
    "plot(density(FST_data_LN$Pi),main=\"High vs. Low Fst Loci - Nucleotide Diversity Distributions: Null\",xlim = c(0,1), \n",
    "     xlab=\"Pi\",sub=\"Black = Low (Fst < 0.1) [N = ?] -- Red = High (Fst > 0.1) [N = ?]\")\n",
    "lines(density(FST_data_HN$Pi),col=2)\n",
    "#plot(density(FST_data_HN$Cover,bw=1),xlim=c(0,1))\n",
    "#lines(density(FST_data_HT$Cover),col=2)"
   ]
  },
  {
   "cell_type": "code",
   "execution_count": 30,
   "metadata": {
    "collapsed": false,
    "scrolled": false
   },
   "outputs": [
    {
     "name": "stderr",
     "output_type": "stream",
     "text": [
      "Warning message:\n",
      "“Removed 5 rows containing missing values (geom_point).”"
     ]
    },
    {
     "data": {},
     "metadata": {},
     "output_type": "display_data"
    },
    {
     "data": {},
     "metadata": {},
     "output_type": "display_data"
    },
    {
     "data": {
      "image/png": "[encoded data removed]",
      "text/plain": [
       "plot without title"
      ]
     },
     "metadata": {},
     "output_type": "display_data"
    },
    {
     "data": {},
     "metadata": {},
     "output_type": "display_data"
    },
    {
     "data": {
      "image/png": "[encoded data removed]",
      "text/plain": [
       "plot without title"
      ]
     },
     "metadata": {},
     "output_type": "display_data"
    }
   ],
   "source": [
    "options(repr.plot.width=5,repr.plot.height=4)\n",
    "##Plots LOW DIVERSITY AND HIGH DIVERSITY LOCI\n",
    "\n",
    "HP = ggplot(Hi_Pi, aes(x = Cover, y = F_test))\n",
    "HP + geom_point(alpha = 1) + ggtitle(expression(atop(\"Fst and Coverage for High Nucleotide Diversity Loci (>0.8)\", atop(italic(\"North - South (N = , L = )\", \"\")))))\n",
    "\n",
    "HPAC = ggplot(Hi_Pi_AC, aes(x = Cover, y = F_test, color = variable))\n",
    "HPAC + geom_point(alpha = 1) + ggtitle(expression(atop(\"Fst and Coverage for High Nucleotide Diversity Loci (>0.8)\", atop(italic(\"AC > 1, North - South (N = , L = )\", \"\")))))\n",
    "\n",
    "HPlow = ggplot(Lo_Pi, aes(x = Cover, y = F_test))\n",
    "HPlow + geom_point(alpha = 1) + ggtitle(expression(atop(\"Fst and Coverage for Low Nucleotide Diversity Loci (<0.2)\", atop(italic(\"North - South (N = , L = )\", \"\")))))\n",
    "\n"
   ]
  },
  {
   "cell_type": "code",
   "execution_count": 106,
   "metadata": {
    "collapsed": false,
    "scrolled": false
   },
   "outputs": [
    {
     "data": {},
     "metadata": {},
     "output_type": "display_data"
    },
    {
     "data": {
      "image/png": "[encoded data removed]",
      "text/plain": [
       "plot without title"
      ]
     },
     "metadata": {},
     "output_type": "display_data"
    }
   ],
   "source": [
    "##PLOTS DENSITY DISTRIBUTION OF NUCLEOTIDE DIVERSITY FOR FST > 0.1\n",
    "TOP_DENS = ggplot(FST_data_HT, aes(x = Pi))\n",
    "TOP_DENS + geom_density(fill = \"black\") + ggtitle(expression(atop(\"Fst Distributions for Nucleotide Diversity Classes\", atop(italic(\"North - South (N = , L = )\", \"\"))))) + labs(x = \"Nucleotide Diversity\", y = \"Density\")\n"
   ]
  },
  {
   "cell_type": "code",
   "execution_count": 109,
   "metadata": {
    "collapsed": false,
    "scrolled": false
   },
   "outputs": [
    {
     "name": "stderr",
     "output_type": "stream",
     "text": [
      "Warning message:\n",
      "“Removed 399 rows containing non-finite values (stat_boxplot).”"
     ]
    },
    {
     "data": {},
     "metadata": {},
     "output_type": "display_data"
    },
    {
     "data": {
      "image/png": "[encoded data removed]",
      "text/plain": [
       "plot without title"
      ]
     },
     "metadata": {},
     "output_type": "display_data"
    }
   ],
   "source": [
    "##GGPLOT NUCLEOTIDE DIVERSITY CLASSES AGAINST FST FOR NULL AND TEST\n",
    "p = ggplot(FST_data, aes(factor(Pi_cat), F_null))\n",
    "\n",
    "#p + geom_violin() + ggtitle(expression(atop(\"Fst Distributions for Nucleotide Diversity Classes\",\n",
    "#atop(italic(\"E. burchellii (N = 75, L = 168,518)\", \"\"))))) + \n",
    "#labs(x = \"Nucleotide Diversity Class\", y = \"Fst Value\")\n",
    "\n",
    "p + geom_boxplot() + ggtitle(expression(atop(\"Fst Distributions for Nucleotide Diversity Classes: Null Hypothesis\", \n",
    "atop(italic(\"E. lucanoides (N = , L = \", \"\"))))) + labs(x = \"Nucleotide Diversity Class\", y = \"Fst Value\")\n"
   ]
  },
  {
   "cell_type": "markdown",
   "metadata": {
    "collapsed": false,
    "scrolled": true
   },
   "source": [
    "## North and Conchaphila"
   ]
  },
  {
   "cell_type": "code",
   "execution_count": 27,
   "metadata": {
    "collapsed": false,
    "scrolled": false
   },
   "outputs": [],
   "source": [
    "pi_nc = read.table(\"over10k-min75H32u_North_Conchaphila.pi\")\n",
    "f_null_nc = read.table(\"over10k-min75H32u_North_Conchaphila.null_fst\")\n",
    "f_test_nc = read.table(\"over10k-min75H32u_North_Conchaphila.fst\")\n",
    "cover_test_nc = read.table(\"over10k-min75H32u_North_Conchaphila.genocover\") \n",
    "af_nc = read.table(\"over10k-min75H32u_North_Conchaphila.af\")\n",
    "HW_chi_nc = read.table(\"over10k-min75H32u_North_Conchaphila.HW\")\n",
    "allele_class_nc = read.table(\"over10k-min75H32u_North_Conchaphila.AC\")\n",
    "\n",
    "FST_data_NC = cbind(f_null_nc,f_test_nc,cover_test_nc,pi_nc,af_nc,HW_chi_nc,allele_class_nc)\n",
    "names(FST_data_NC) = c(\"F_null\",\"F_test\",\"Cover\",\"Pi\",\"AF\",\"HW\",\"AC\")\n",
    "\n",
    "##SUBSETS FST DATA INTO COVERAGE GROUPS\n",
    "for (i in min(cover_test_nc):max(cover_test_nc)){\n",
    "    name = paste(\"FST_data_cover_\",i, sep = \"\")\n",
    "    assign(name,subset(FST_data_NC, cover_test_nc == i))\n",
    "}\n",
    "#SUBSETS FST DATA INTO GROUPS WITH FST > 0.1\n",
    "FST_data_HT_NC = subset(FST_data_NC, F_test >= 0.1)\n",
    "FST_data_HN_NC = subset(FST_data_NC, F_null >= 0.1)\n",
    "\n",
    "#SUBSETS FST DATA INTO GROUPS WITH FST < 0.1\n",
    "FST_data_LT_NC = subset(FST_data_NC, F_test < 0.1)\n",
    "FST_data_LN_NC = subset(FST_data_NC, F_null < 0.1)\n",
    "\n",
    "#SUBSETS FST DATA INTO GROUPS WITH Pi > 0.8 or < 0.2\n",
    "Hi_Pi_NC = subset(FST_data_NC, Pi >= 0.8)\n",
    "Lo_Pi_NC = subset(FST_data_NC, Pi < 0.2)\n",
    "\n",
    "Pi_cat_NC = cut(FST_data_NC$Pi,breaks=10)\n",
    "\n",
    "#SUBSETS FST DATA TO EXCLUDE SINGLETONS (AC == 1)\n",
    "FST_data_AC_NC = subset(FST_data_NC, allele_class > 1)\n",
    "FST_data_AC_HT_NC = subset(FST_data_AC_NC, F_test == 1)"
   ]
  },
  {
   "cell_type": "code",
   "execution_count": 29,
   "metadata": {
    "collapsed": false,
    "scrolled": false
   },
   "outputs": [
    {
     "data": {
      "image/png": "[encoded data removed]",
      "text/plain": [
       "Plot with title “Density Distribution for Fst Values”"
      ]
     },
     "metadata": {},
     "output_type": "display_data"
    },
    {
     "data": {
      "image/png": "[encoded data removed]",
      "text/plain": [
       "Plot with title “Fst for all Loci by Number of Samples”"
      ]
     },
     "metadata": {},
     "output_type": "display_data"
    },
    {
     "data": {
      "image/png": "[encoded data removed]",
      "text/plain": [
       "Plot with title “Distribution of Pi across Loci”"
      ]
     },
     "metadata": {},
     "output_type": "display_data"
    },
    {
     "data": {
      "image/png": "[encoded data removed]",
      "text/plain": [
       "Plot with title “Density Distribution of Individuals per Locus ”"
      ]
     },
     "metadata": {},
     "output_type": "display_data"
    },
    {
     "data": {
      "image/png": "[encoded data removed]",
      "text/plain": [
       "Plot with title “High vs. Low Fst Loci - Nucleotide Diversity Distributions”"
      ]
     },
     "metadata": {},
     "output_type": "display_data"
    },
    {
     "name": "stderr",
     "output_type": "stream",
     "text": [
      "Warning message:\n",
      "“Removed 595 rows containing non-finite values (stat_boxplot).”"
     ]
    },
    {
     "data": {},
     "metadata": {},
     "output_type": "display_data"
    },
    {
     "data": {
      "image/png": "[encoded data removed]",
      "text/plain": [
       "Plot with title “High vs. Low Fst Loci - Nucleotide Diversity Dist: Null”"
      ]
     },
     "metadata": {},
     "output_type": "display_data"
    },
    {
     "data": {
      "image/png": "[encoded data removed]",
      "text/plain": [
       "plot without title"
      ]
     },
     "metadata": {},
     "output_type": "display_data"
    }
   ],
   "source": [
    "options(repr.plot.width=5,repr.plot.height=4)\n",
    "##PLOT FST AGAINST GENO_COVER\n",
    "plot(density(FST_data_NC$F_null,na.rm=TRUE,bw=.004),ylim=c(0,80),main=\"Density Distribution for Fst Values\",xlab=\"Fst Values\", sub = \"Black = Null, Red = North - Conchaphila  bw = 0.004\")\n",
    "lines(density(FST_data_NC$F_test,na.rm=TRUE,bw=.004),col=2)\n",
    "\n",
    "plot(FST_data_NC$F_test,FST_data_NC$Cover,col=2,main=\"Fst for all Loci by Number of Samples\",xlab=\"Fst\",ylab=\"Number of Individuals with Locus \",sub=\"Black = Null, Red = North - South\")\n",
    "points(FST_data_NC$F_null,FST_data_NC$Cover)\n",
    "\n",
    "plot(density(FST_data_NC$Pi,bw=0.01, na.rm=TRUE),xlim=c(0,1),main=\"Distribution of Pi across Loci\", xlab=\"Pi\", sub=\"North - Conchaphila\")\n",
    "plot(density(FST_data_NC$Cover,bw=0.5),xlim=c(10,100),main=\"Density Distribution of Individuals per Locus \", xlab=\"Number of Individuals (Max = 117)\",sub=\"North - Conchaphila, bw = 0.5\")\n",
    "\n",
    "plot(density(FST_data_LT_NC$Pi),main=\"High vs. Low Fst Loci - Nucleotide Diversity Distributions\",xlim = c(0,1), \n",
    "     xlab=\"Pi\",sub=\"Black = Low (Fst < 0.1) [N = ?] -- Red = High (Fst > 0.1) [N = ?]\")\n",
    "lines(density(FST_data_HT_NC$Pi),col=2)\n",
    "\n",
    "plot(density(FST_data_LN_NC$Pi),main=\"High vs. Low Fst Loci - Nucleotide Diversity Dist: Null\",xlim = c(0,1), \n",
    "     xlab=\"Pi\",sub=\"Black = Low (Fst < 0.1) [N = ?] -- Red = High (Fst > 0.1) [N = ?]\")\n",
    "lines(density(FST_data_HN_NC$Pi),col=2)\n",
    "\n",
    "p = ggplot(FST_data_NC, aes(factor(Pi_cat), F_null))\n",
    "\n",
    "#p + geom_violin() + ggtitle(expression(atop(\"Fst Distributions for Nucleotide Diversity Classes\",\n",
    "#atop(italic(\"E. burchellii (N = 75, L = 168,518)\", \"\"))))) + \n",
    "#labs(x = \"Nucleotide Diversity Class\", y = \"Fst Value\")\n",
    "\n",
    "p + geom_boxplot() + ggtitle(expression(atop(\"Fst Distributions for Nucleotide Diversity Classes: Null Hypothesis\", \n",
    "atop(italic(\"North - Conchaphila (N = , L = \", \"\"))))) + labs(x = \"Nucleotide Diversity Class\", y = \"Fst Value\")"
   ]
  },
  {
   "cell_type": "code",
   "execution_count": null,
   "metadata": {
    "collapsed": true
   },
   "outputs": [],
   "source": []
  }
 ],
 "metadata": {
  "kernelspec": {
   "display_name": "R",
   "language": "R",
   "name": "ir"
  },
  "language_info": {
   "codemirror_mode": "r",
   "file_extension": ".r",
   "mimetype": "text/x-r-source",
   "name": "R",
   "pygments_lexer": "r",
   "version": "3.3.1"
  }
 },
 "nbformat": 4,
 "nbformat_minor": 0
}
